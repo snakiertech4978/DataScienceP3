{
 "nbformat": 4,
 "nbformat_minor": 0,
 "metadata": {
  "kernelspec": {
   "display_name": "Python 3",
   "language": "python",
   "name": "python3"
  },
  "language_info": {
   "codemirror_mode": {
    "name": "ipython",
    "version": 2
   },
   "file_extension": ".py",
   "mimetype": "text/x-python",
   "name": "python",
   "nbconvert_exporter": "python",
   "pygments_lexer": "ipython2",
   "version": "2.7.6"
  },
  "colab": {
   "name": "Oefenboek op Numpy - oplossingen.ipynb",
   "provenance": [],
   "collapsed_sections": [
    "SEz-NszwHpn9",
    "jTqjbaLYHuNU",
    "TmeLygtbH3pz",
    "2ZqZPPkLH7rH"
   ]
  }
 },
 "cells": [
  {
   "cell_type": "markdown",
   "metadata": {
    "collapsed": true,
    "pycharm": {
     "name": "#%% md\n"
    },
    "id": "cTK3Qq0P2VR-"
   },
   "source": [
    "# Oefenboek op het gebruik van Numpy\n",
    "\n",
    "Deze oefenboekjes bevatten oefeningen om te leren (leeroefeningen). We gaan er dus vanuit dat je op dit punt nog niet veel kennis hebt over de deze topic. Ze zijn bedoeld om de leerstof nog te leren begrijpen en **niet** om te testen of je de leerstof al onder de knie hebt. Daarvoor hebben we een ander soort oefeningen."
   ]
  },
  {
   "cell_type": "markdown",
   "metadata": {
    "id": "c2s2OP3hHnBd"
   },
   "source": [
    "## Oefeningen op Numpy arrays\n",
    "\n",
    "Maak eerst de oefenboekjes op Python alvorens je hier aan begint. Importeer nu eerst de juiste libraries zodat je aan de slag kan.\n",
    "\n",
    "\n",
    "```python\n",
    "import numpy as np\n",
    "```"
   ]
  },
  {
   "cell_type": "code",
   "metadata": {
    "pycharm": {
     "name": "#%%\n"
    },
    "id": "JTVZqTVa2VRy",
    "executionInfo": {
     "status": "ok",
     "timestamp": 1612339309441,
     "user_tz": -60,
     "elapsed": 2098,
     "user": {
      "displayName": "Wouter Deketelaere",
      "photoUrl": "https://lh3.googleusercontent.com/a-/AOh14GhHHpY95MV-w_kTeKBvDonZxvhYJdpFjC9jc1Cx=s64",
      "userId": "15699152107722970519"
     }
    }
   },
   "source": [
    "import numpy as np"
   ],
   "execution_count": 1,
   "outputs": []
  },
  {
   "cell_type": "markdown",
   "metadata": {
    "id": "SEz-NszwHpn9"
   },
   "source": [
    "### Oefening 1 - Eenvoudige Numpy arrays aanmaken"
   ]
  },
  {
   "cell_type": "markdown",
   "metadata": {
    "id": "ilpq7gH32b7Q"
   },
   "source": [
    "De eenvoudigste manier om een Numpy `array` aan te maken is om te vertrekken van Python `list`. Dat kan bv. zo:\n",
    "\n",
    "```python\n",
    "import numpy as np     # Niet vergeten om Numpy te importeren met alias np.\n",
    "\n",
    "lijst = [1,2,3,4,5,6]\n",
    "data = np.array(lijst)\n",
    "```\n",
    "Je kan nu afvragen wat het nut is van een Numpy `array` t.o.v. een klassieke Python `list`. Ze hebben beide hun voor -en nadelen. Zo zijn Python lists flexibeler als het aankomt op datatypes en uitbreiding (ze kunnen verschillende datatypes bevatten, en je kan ze makkelijker groter of kleiner maken). Numpy arrays daarentegen kunnen dat niet. De gegevens in een Numpy array moeten altijd van hetzelfde datatype zijn (bv. allemaal `int`), en ze zijn immutable waardoor je ze niet groter of kleiner kan maken. Toch hebben Numpy arrays enkele troeven in huis waarvan de belangrijkste hun **broadcasting** eigenschap is. Wat dat is, leer je hier.\n",
    "\n",
    "Maak nu bovenstaand Numpy-array object aan met de naam *data* met daarin deze Python `list` van waarden `[1,2,3,4,5,6]`. Je mag ook een `range` gebruiken."
   ]
  },
  {
   "cell_type": "code",
   "metadata": {
    "pycharm": {
     "name": "#%%\n"
    },
    "colab": {
     "base_uri": "https://localhost:8080/"
    },
    "id": "ml7UPetB2VR_",
    "executionInfo": {
     "status": "ok",
     "timestamp": 1612339309443,
     "user_tz": -60,
     "elapsed": 2082,
     "user": {
      "displayName": "Wouter Deketelaere",
      "photoUrl": "https://lh3.googleusercontent.com/a-/AOh14GhHHpY95MV-w_kTeKBvDonZxvhYJdpFjC9jc1Cx=s64",
      "userId": "15699152107722970519"
     }
    },
    "outputId": "87eab6cc-9e39-4601-839e-24425b72c6ea"
   },
   "source": [
    "data = np.array(range(1,7))\n",
    "data"
   ],
   "execution_count": 2,
   "outputs": [
    {
     "data": {
      "text/plain": "array([1, 2, 3, 4, 5, 6])"
     },
     "execution_count": 2,
     "metadata": {},
     "output_type": "execute_result"
    }
   ]
  },
  {
   "cell_type": "markdown",
   "metadata": {
    "collapsed": false,
    "id": "A92-9Hr-2VSC"
   },
   "source": [
    "Een Numpy array is een tabel met zoveel dimensies als je maar wil.Je kan de dimensieinformatie opvragen met de eigenschap `.shape`. \n",
    "\n",
    "Een shape is een Python <a href=\"https://realpython.com/python-lists-tuples/#python-tuples\">tuple</a>. Je zal tuples nog heel vaak tegenkomen.\n",
    "\n",
    "Wat is de shape van je zonet gemaakte Numpy array?\n",
    "\n",
    "*Nota: Je zal merken dat de `tuple` er een beetje vreemd uit ziet. Dat komt omdat deze array maar 1 dimensie heeft en tuple minstens twee waarden moet bevatten*"
   ]
  },
  {
   "cell_type": "code",
   "metadata": {
    "pycharm": {
     "name": "#%%\n"
    },
    "colab": {
     "base_uri": "https://localhost:8080/"
    },
    "id": "go6Zcjzg2VSC",
    "executionInfo": {
     "status": "ok",
     "timestamp": 1612339309444,
     "user_tz": -60,
     "elapsed": 2074,
     "user": {
      "displayName": "Wouter Deketelaere",
      "photoUrl": "https://lh3.googleusercontent.com/a-/AOh14GhHHpY95MV-w_kTeKBvDonZxvhYJdpFjC9jc1Cx=s64",
      "userId": "15699152107722970519"
     }
    },
    "outputId": "8915c7f1-ff87-424e-d203-c2319996653f"
   },
   "source": [
    "data.shape"
   ],
   "execution_count": 3,
   "outputs": [
    {
     "data": {
      "text/plain": "(6,)"
     },
     "execution_count": 3,
     "metadata": {},
     "output_type": "execute_result"
    }
   ]
  },
  {
   "cell_type": "markdown",
   "metadata": {
    "collapsed": false,
    "id": "_YKY3Z552VSD"
   },
   "source": [
    "Zoals hierboven al aangehaald heeft een array altijd één bepaald datatype. Het datatype van een array kan je opvragen met de `.dtype`-eigenschap.\n",
    "\n",
    "Vraag nu het datatype op van je array?"
   ]
  },
  {
   "cell_type": "code",
   "metadata": {
    "pycharm": {
     "name": "#%%\n"
    },
    "colab": {
     "base_uri": "https://localhost:8080/"
    },
    "id": "L0ZSiKsM2VSD",
    "executionInfo": {
     "status": "ok",
     "timestamp": 1612339309445,
     "user_tz": -60,
     "elapsed": 2065,
     "user": {
      "displayName": "Wouter Deketelaere",
      "photoUrl": "https://lh3.googleusercontent.com/a-/AOh14GhHHpY95MV-w_kTeKBvDonZxvhYJdpFjC9jc1Cx=s64",
      "userId": "15699152107722970519"
     }
    },
    "outputId": "5188e3f1-d94a-47c0-9c00-00afea46c6ff"
   },
   "source": [
    "data.dtype"
   ],
   "execution_count": 4,
   "outputs": [
    {
     "data": {
      "text/plain": "dtype('int32')"
     },
     "execution_count": 4,
     "metadata": {},
     "output_type": "execute_result"
    }
   ]
  },
  {
   "cell_type": "markdown",
   "source": [
    "Maak nu een nieuwe array aan met de volgende commando's:\n",
    "* `np.array([1.0,2.0,3.0,4.0])`\n",
    "* `np.array([1.0,2.0,3.0,4.0], dtype=int)`\n",
    "\n",
    "Wat is het verschil?"
   ],
   "metadata": {
    "collapsed": false,
    "pycharm": {
     "name": "#%% md\n"
    }
   }
  },
  {
   "cell_type": "code",
   "execution_count": 5,
   "outputs": [
    {
     "data": {
      "text/plain": "array([1., 2., 3., 4.])"
     },
     "execution_count": 5,
     "metadata": {},
     "output_type": "execute_result"
    },
    {
     "data": {
      "text/plain": "array([1, 2, 3, 4])"
     },
     "execution_count": 5,
     "metadata": {},
     "output_type": "execute_result"
    }
   ],
   "source": [
    "np.array([1.0,2.0,3.0,4.0])\n",
    "np.array([1.0,2.0,3.0,4.0], dtype=int)\n",
    "\n",
    "# Het dtype legt het datatype vast."
   ],
   "metadata": {
    "collapsed": false,
    "pycharm": {
     "name": "#%%\n"
    }
   }
  },
  {
   "cell_type": "markdown",
   "metadata": {
    "collapsed": false,
    "id": "HVGpOs4J2VSH"
   },
   "source": [
    "Je kan elementen uit de array selecteren m.b.v. vierkante haakjes `[]` met daartussen een of meerdere indexen. Je mag daarbij ook gebruikmaken van Python <a href=\"https://realpython.com/lessons/indexing-and-slicing/\">`slices`</a>. Met slices kan je ook per twee tellen of achteruit tellen bv. \n",
    "\n",
    "Hieronder zie je enkele tips van hoe je commando kan gebruiken. \n",
    "\n",
    "```python\n",
    "a[1]\n",
    "a[1:3]\n",
    "a[[1,3,5]] \n",
    "``` \n",
    "\n",
    "Haal het tweede element en het tweede t.e.m. het derde element. Dit kan op heel wat verschillende manieren gerealiseerd worden. Probeer zoveel mogelijk zaken uit."
   ]
  },
  {
   "cell_type": "code",
   "metadata": {
    "pycharm": {
     "name": "#%%\n"
    },
    "colab": {
     "base_uri": "https://localhost:8080/"
    },
    "id": "BXgF90bc2VSI",
    "executionInfo": {
     "status": "ok",
     "timestamp": 1612339309446,
     "user_tz": -60,
     "elapsed": 2057,
     "user": {
      "displayName": "Wouter Deketelaere",
      "photoUrl": "https://lh3.googleusercontent.com/a-/AOh14GhHHpY95MV-w_kTeKBvDonZxvhYJdpFjC9jc1Cx=s64",
      "userId": "15699152107722970519"
     }
    },
    "outputId": "6b3dca5a-1142-4043-c21a-d184d669f2d3"
   },
   "source": [
    "print(\"Dit kan op verschillende manieren...\\n\")\n",
    "\n",
    "print(data[1])\n",
    "print(data[1:3])\n",
    "print(data[[1,2]])"
   ],
   "execution_count": 6,
   "outputs": [
    {
     "name": "stdout",
     "output_type": "stream",
     "text": [
      "Dit kan op verschillende manieren...\n",
      "\n",
      "2\n",
      "[2 3]\n",
      "[2 3]\n"
     ]
    }
   ]
  },
  {
   "cell_type": "markdown",
   "metadata": {
    "id": "jTqjbaLYHuNU"
   },
   "source": [
    "### Oefening 2 - Twee dimensionele Numpy arrays"
   ]
  },
  {
   "cell_type": "markdown",
   "metadata": {
    "collapsed": false,
    "id": "44FqTBJl2VSK"
   },
   "source": [
    "Een 2D array bestaat uit een `list` van een `list` van elementen.\n",
    "\n",
    "```python\n",
    "matrix = [\n",
    "  [],\n",
    "  [],\n",
    "  []\n",
    "]\n",
    "a = np.array(matrix)\n",
    "```\n",
    "\n",
    "Maak een Numpy `array` object aan, genaamd `data`, met drie rijen waavan de waarden gelijk zijn aan:\n",
    "\n",
    "* rij 1: `[1, 1, 0.83, 1.3]`,\n",
    "* rij 2: `[2, 4, 0.75, 1.0]`,\n",
    "* rij 3: `[3, 2, 4.75, 0.2]`"
   ]
  },
  {
   "cell_type": "code",
   "metadata": {
    "pycharm": {
     "name": "#%%\n"
    },
    "colab": {
     "base_uri": "https://localhost:8080/"
    },
    "id": "1wCLKamo2VSL",
    "executionInfo": {
     "status": "ok",
     "timestamp": 1612339309447,
     "user_tz": -60,
     "elapsed": 2048,
     "user": {
      "displayName": "Wouter Deketelaere",
      "photoUrl": "https://lh3.googleusercontent.com/a-/AOh14GhHHpY95MV-w_kTeKBvDonZxvhYJdpFjC9jc1Cx=s64",
      "userId": "15699152107722970519"
     }
    },
    "outputId": "6994d737-23da-44be-ccfe-03a2f62568f1"
   },
   "source": [
    "data = np.array(\n",
    "        [\n",
    "            [1, 1, 0.83, 1.3],\n",
    "            [2, 4, 0.75, 1.0],\n",
    "            [3, 2, 4.75, 0.2]\n",
    "        ]\n",
    "      )\n",
    "data"
   ],
   "execution_count": 7,
   "outputs": [
    {
     "data": {
      "text/plain": "array([[1.  , 1.  , 0.83, 1.3 ],\n       [2.  , 4.  , 0.75, 1.  ],\n       [3.  , 2.  , 4.75, 0.2 ]])"
     },
     "execution_count": 7,
     "metadata": {},
     "output_type": "execute_result"
    }
   ]
  },
  {
   "cell_type": "markdown",
   "metadata": {
    "collapsed": false,
    "id": "XnjN6EGN2VSL"
   },
   "source": [
    "\n",
    "Wat is de shape van dit `DataFrame`?"
   ]
  },
  {
   "cell_type": "code",
   "metadata": {
    "pycharm": {
     "name": "#%%\n"
    },
    "colab": {
     "base_uri": "https://localhost:8080/"
    },
    "id": "FQrCc_gR2VSM",
    "executionInfo": {
     "status": "ok",
     "timestamp": 1612339309447,
     "user_tz": -60,
     "elapsed": 2039,
     "user": {
      "displayName": "Wouter Deketelaere",
      "photoUrl": "https://lh3.googleusercontent.com/a-/AOh14GhHHpY95MV-w_kTeKBvDonZxvhYJdpFjC9jc1Cx=s64",
      "userId": "15699152107722970519"
     }
    },
    "outputId": "a2c68879-55d5-48d6-da50-6b7e43a7cc2b"
   },
   "source": [
    "data.shape # 3 rijen, en 4 kolommen"
   ],
   "execution_count": 8,
   "outputs": [
    {
     "data": {
      "text/plain": "(3, 4)"
     },
     "execution_count": 8,
     "metadata": {},
     "output_type": "execute_result"
    }
   ]
  },
  {
   "cell_type": "markdown",
   "metadata": {
    "collapsed": false,
    "id": "mr9A5TxC2VSM"
   },
   "source": [
    "Wat is het datatype van deze array? "
   ]
  },
  {
   "cell_type": "code",
   "metadata": {
    "pycharm": {
     "name": "#%%\n"
    },
    "colab": {
     "base_uri": "https://localhost:8080/"
    },
    "id": "uPdnLazD2VSN",
    "executionInfo": {
     "status": "ok",
     "timestamp": 1612339309448,
     "user_tz": -60,
     "elapsed": 2030,
     "user": {
      "displayName": "Wouter Deketelaere",
      "photoUrl": "https://lh3.googleusercontent.com/a-/AOh14GhHHpY95MV-w_kTeKBvDonZxvhYJdpFjC9jc1Cx=s64",
      "userId": "15699152107722970519"
     }
    },
    "outputId": "84bbc789-976b-4052-f182-509f1fd9987c"
   },
   "source": [
    "data.dtype "
   ],
   "execution_count": 9,
   "outputs": [
    {
     "data": {
      "text/plain": "dtype('float64')"
     },
     "execution_count": 9,
     "metadata": {},
     "output_type": "execute_result"
    }
   ]
  },
  {
   "cell_type": "markdown",
   "metadata": {
    "collapsed": false,
    "id": "yGxXMLJbQ1jy"
   },
   "source": [
    "Natuurlijk kan je ook uit 2D arrays elementen selecteren m.b.v. vierkante haakjes `[]` met daartussen een of meerdere indexen. \n",
    "\n",
    "Hieronder zie je enkele tips van hoe je commando kan gebruiken. \n",
    "\n",
    "```python\n",
    "a[1,1]\n",
    "a[1:3,3]\n",
    "a[[1,3,5],[2:4] \n",
    "``` \n",
    "\n",
    "Haal het 2e element op van de 3e rij.\n",
    "Haal nu het tweede t.e.m. het derde element op van rijen 1 en 4. Dit kan op heel wat verschillende manieren gerealiseerd worden. Probeer weer zoveel mogelijk zaken uit."
   ]
  },
  {
   "cell_type": "code",
   "metadata": {
    "colab": {
     "base_uri": "https://localhost:8080/"
    },
    "id": "Xku5YdJORggW",
    "executionInfo": {
     "status": "ok",
     "timestamp": 1612339309449,
     "user_tz": -60,
     "elapsed": 2021,
     "user": {
      "displayName": "Wouter Deketelaere",
      "photoUrl": "https://lh3.googleusercontent.com/a-/AOh14GhHHpY95MV-w_kTeKBvDonZxvhYJdpFjC9jc1Cx=s64",
      "userId": "15699152107722970519"
     }
    },
    "outputId": "824ae773-4cd2-45e8-b4ed-2c381ca90318"
   },
   "source": [
    "print(data[1,2]) # opletten is zero-based natuurlijk\n",
    "print(data[[0,2],1:3])\n",
    "\n",
    "print(data)"
   ],
   "execution_count": 10,
   "outputs": [
    {
     "name": "stdout",
     "output_type": "stream",
     "text": [
      "0.75\n",
      "[[1.   0.83]\n",
      " [2.   4.75]]\n",
      "[[1.   1.   0.83 1.3 ]\n",
      " [2.   4.   0.75 1.  ]\n",
      " [3.   2.   4.75 0.2 ]]\n"
     ]
    }
   ]
  },
  {
   "cell_type": "markdown",
   "metadata": {
    "id": "TmeLygtbH3pz"
   },
   "source": [
    "### Oefening 3 - Broadcasting begrijpen"
   ]
  },
  {
   "cell_type": "markdown",
   "metadata": {
    "collapsed": false,
    "pycharm": {
     "name": "#%% md\n"
    },
    "id": "LE4j0MEN2VSW"
   },
   "source": [
    "Maak twee Numpy arrays, `enen` en `vijven` aan met onderstaande code, en tel ze bij elkaar op.\n",
    "\n",
    "```python\n",
    "enen = np.ones(10)            # shape = (10,)\n",
    "vijven = np.tile(5,10)        # shape = (10,)\n",
    "enen + vijven                 # shape = (10,)\n",
    "```\n",
    "Merk op dat de dimensie van deze arrays gelijk zijn. Het zijn 1D arrays met lengte 10.\n",
    "Print de gemaakte arrays uit evenals hun shapes."
   ]
  },
  {
   "cell_type": "code",
   "metadata": {
    "colab": {
     "base_uri": "https://localhost:8080/"
    },
    "id": "T7XEBW5XSbFE",
    "executionInfo": {
     "status": "ok",
     "timestamp": 1612339309449,
     "user_tz": -60,
     "elapsed": 2012,
     "user": {
      "displayName": "Wouter Deketelaere",
      "photoUrl": "https://lh3.googleusercontent.com/a-/AOh14GhHHpY95MV-w_kTeKBvDonZxvhYJdpFjC9jc1Cx=s64",
      "userId": "15699152107722970519"
     }
    },
    "outputId": "4348f2b3-1c85-41da-9aa5-ebf997da0a0a"
   },
   "source": [
    "enen = np.ones(10)            # shape = (10,)\n",
    "vijven = np.tile(5,10)        # shape = (10,)\n",
    "enen\n",
    "vijven\n",
    "enen + vijven                 # shape = (10,)\n",
    "enen.shape\n",
    "vijven.shape\n",
    "(enen + vijven).shape"
   ],
   "execution_count": 11,
   "outputs": [
    {
     "data": {
      "text/plain": "array([1., 1., 1., 1., 1., 1., 1., 1., 1., 1.])"
     },
     "execution_count": 11,
     "metadata": {},
     "output_type": "execute_result"
    },
    {
     "data": {
      "text/plain": "array([5, 5, 5, 5, 5, 5, 5, 5, 5, 5])"
     },
     "execution_count": 11,
     "metadata": {},
     "output_type": "execute_result"
    },
    {
     "data": {
      "text/plain": "array([6., 6., 6., 6., 6., 6., 6., 6., 6., 6.])"
     },
     "execution_count": 11,
     "metadata": {},
     "output_type": "execute_result"
    },
    {
     "data": {
      "text/plain": "(10,)"
     },
     "execution_count": 11,
     "metadata": {},
     "output_type": "execute_result"
    },
    {
     "data": {
      "text/plain": "(10,)"
     },
     "execution_count": 11,
     "metadata": {},
     "output_type": "execute_result"
    },
    {
     "data": {
      "text/plain": "(10,)"
     },
     "execution_count": 11,
     "metadata": {},
     "output_type": "execute_result"
    }
   ]
  },
  {
   "cell_type": "markdown",
   "metadata": {
    "collapsed": false,
    "pycharm": {
     "name": "#%% md\n"
    },
    "id": "Xt4JkwAHl5ac"
   },
   "source": [
    "Maak nu twee arrays met onderstaande code\n",
    "\n",
    "```python\n",
    "a = np.array([[1,2], \n",
    "              [3,4],\n",
    "              [5,6]])\n",
    "b = np.array([\n",
    "              [10,100]\n",
    "              ])\n",
    "```\n",
    "\n",
    "Merk op dat de dimensie van deze arrays **niet meer gelijk** zijn, maar het *laatste deel* van hun shapes zijn wel hetzelfde en dat één van de dimensie ook gelijk is aan 1. Controleer dit door de shapes van deze arrays uit te printen."
   ]
  },
  {
   "cell_type": "code",
   "metadata": {
    "colab": {
     "base_uri": "https://localhost:8080/"
    },
    "id": "jYHKllTUl-xz",
    "executionInfo": {
     "status": "ok",
     "timestamp": 1612339309450,
     "user_tz": -60,
     "elapsed": 2004,
     "user": {
      "displayName": "Wouter Deketelaere",
      "photoUrl": "https://lh3.googleusercontent.com/a-/AOh14GhHHpY95MV-w_kTeKBvDonZxvhYJdpFjC9jc1Cx=s64",
      "userId": "15699152107722970519"
     }
    },
    "outputId": "eb372791-ce50-47cd-adfd-71c7bb888521"
   },
   "source": [
    "a = np.array([[1,2], \n",
    "              [3,4],\n",
    "              [5,6]])\n",
    "b = np.array([\n",
    "              [10,100]\n",
    "              ])\n",
    "print(a.shape)\n",
    "print(b.shape)"
   ],
   "execution_count": 12,
   "outputs": [
    {
     "name": "stdout",
     "output_type": "stream",
     "text": [
      "(3, 2)\n",
      "(1, 2)\n"
     ]
    }
   ]
  },
  {
   "cell_type": "markdown",
   "metadata": {
    "id": "npZ0D1PBnod-"
   },
   "source": [
    "Tel nu de arrays `a` en `b` bij elkaar op en stop het resultaat in variabele `c` en print het resultaat uit. Wat is de shape van nieuwe array? Verklaar in woorden wat er volgens jou gebeurd is."
   ]
  },
  {
   "cell_type": "code",
   "metadata": {
    "colab": {
     "base_uri": "https://localhost:8080/"
    },
    "id": "wLh9OF-9n8hh",
    "executionInfo": {
     "status": "ok",
     "timestamp": 1612339309450,
     "user_tz": -60,
     "elapsed": 1994,
     "user": {
      "displayName": "Wouter Deketelaere",
      "photoUrl": "https://lh3.googleusercontent.com/a-/AOh14GhHHpY95MV-w_kTeKBvDonZxvhYJdpFjC9jc1Cx=s64",
      "userId": "15699152107722970519"
     }
    },
    "outputId": "e96fb4b9-ffd2-46a5-8647-f15e97b2fe8f"
   },
   "source": [
    "c = a + b\n",
    "print(c)\n",
    "c.shape"
   ],
   "execution_count": 13,
   "outputs": [
    {
     "name": "stdout",
     "output_type": "stream",
     "text": [
      "[[ 11 102]\n",
      " [ 13 104]\n",
      " [ 15 106]]\n"
     ]
    },
    {
     "data": {
      "text/plain": "(3, 2)"
     },
     "execution_count": 13,
     "metadata": {},
     "output_type": "execute_result"
    }
   ]
  },
  {
   "cell_type": "markdown",
   "metadata": {
    "id": "WzYpIYUtq3V4"
   },
   "source": [
    "Eens kijken of vermenigvuldigen ook werkt?\n",
    "\n",
    "Vermenigvuldig `a` met `b`."
   ]
  },
  {
   "cell_type": "code",
   "metadata": {
    "colab": {
     "base_uri": "https://localhost:8080/"
    },
    "id": "qoyaDpS6q-6l",
    "executionInfo": {
     "status": "ok",
     "timestamp": 1612339309451,
     "user_tz": -60,
     "elapsed": 1986,
     "user": {
      "displayName": "Wouter Deketelaere",
      "photoUrl": "https://lh3.googleusercontent.com/a-/AOh14GhHHpY95MV-w_kTeKBvDonZxvhYJdpFjC9jc1Cx=s64",
      "userId": "15699152107722970519"
     }
    },
    "outputId": "ccbaaf2c-3b0d-4514-981b-004382ad111d"
   },
   "source": [
    "a * b"
   ],
   "execution_count": 14,
   "outputs": [
    {
     "data": {
      "text/plain": "array([[ 10, 200],\n       [ 30, 400],\n       [ 50, 600]])"
     },
     "execution_count": 14,
     "metadata": {},
     "output_type": "execute_result"
    }
   ]
  },
  {
   "cell_type": "markdown",
   "metadata": {
    "id": "XB3qJChYoOMM"
   },
   "source": [
    "In de vorige voorbeelden wordt de dimensie van `b` tijdelijk 'opgerekt' tot die van `a` langs de as met dimensie 1, zodat de dimensies overeenkomen. Dit oprekken kan je zelf ook nabootsen met de `repeat`-functie uit Numpy. \n",
    "\n",
    "```python\n",
    "temp = np.repeat(b,3,axis=0)    # wat zou axis=1 doen?\n",
    "print(temp)\n",
    "temp.shape\n",
    "```\n",
    "*Nota: de `repeat`-functie lijkt op de `tile`-functie maar werkt net iets anders. Probeer zelf de verschillen te vinden door te experimenteren met het herhalen van een volledige Numpy array*\n",
    "\n"
   ]
  },
  {
   "cell_type": "code",
   "metadata": {
    "colab": {
     "base_uri": "https://localhost:8080/"
    },
    "id": "bmlH4WrXobJb",
    "executionInfo": {
     "status": "ok",
     "timestamp": 1612339309452,
     "user_tz": -60,
     "elapsed": 1978,
     "user": {
      "displayName": "Wouter Deketelaere",
      "photoUrl": "https://lh3.googleusercontent.com/a-/AOh14GhHHpY95MV-w_kTeKBvDonZxvhYJdpFjC9jc1Cx=s64",
      "userId": "15699152107722970519"
     }
    },
    "outputId": "5a70fcf6-af0f-479e-d2a7-bc2b05d9a43e"
   },
   "source": [
    "temp = np.repeat(b,3,axis=0)    # wat zou axis=1 doen?\n",
    "print(temp)\n",
    "temp.shape"
   ],
   "execution_count": 15,
   "outputs": [
    {
     "name": "stdout",
     "output_type": "stream",
     "text": [
      "[[ 10 100]\n",
      " [ 10 100]\n",
      " [ 10 100]]\n"
     ]
    },
    {
     "data": {
      "text/plain": "(3, 2)"
     },
     "execution_count": 15,
     "metadata": {},
     "output_type": "execute_result"
    }
   ]
  },
  {
   "cell_type": "markdown",
   "metadata": {
    "id": "oNa7ih8JrBUF"
   },
   "source": [
    "Nu onderzoeken wanneer **broadcasting** niet werkt, zodat je beter kan begrijpen hoe het wel werkt, en tegelijkertijd leren we nog enkele handige functies bij uit de Numpy library (die wel goed werken).\n",
    "\n",
    "```\n",
    "a = np.full(shape=(2,4), fill_value=np.pi)       # 2D array met getal pi\n",
    "b = np.full(shape=(3,1), fill_value=np.exp(1))  # 2D array met getal van Euler\n",
    "print(a)\n",
    "print(b)\n",
    "a+b   \n",
    "```\n",
    "\n",
    "Probeer deze code uit en je zal een <font color=\"red\">_Value Error: operands could not be broadcast together</font>_ krijgen.\n",
    "\n",
    "Zet de foute regel in commentaar en controleer de shapes van `a` en `b`."
   ]
  },
  {
   "cell_type": "code",
   "metadata": {
    "colab": {
     "base_uri": "https://localhost:8080/"
    },
    "id": "xY7w_Cwir4Dm",
    "executionInfo": {
     "status": "ok",
     "timestamp": 1612339309453,
     "user_tz": -60,
     "elapsed": 1970,
     "user": {
      "displayName": "Wouter Deketelaere",
      "photoUrl": "https://lh3.googleusercontent.com/a-/AOh14GhHHpY95MV-w_kTeKBvDonZxvhYJdpFjC9jc1Cx=s64",
      "userId": "15699152107722970519"
     }
    },
    "outputId": "e12228de-3c59-4e9f-8b98-5abde9e53c3f"
   },
   "source": [
    "a = np.full(shape=(2,4), fill_value=np.pi)       # 2D array met getal pi\n",
    "b = np.full(shape=(3,1), fill_value=np.exp(1))  # 2D array met getal van Euler\n",
    "print(a)\n",
    "print(b)\n",
    "# a+b       \n",
    "# ValueError: operands could not be broadcast together with shapes (2,4) (3,1) \n",
    "print(a.shape)\n",
    "print(b.shape)"
   ],
   "execution_count": 16,
   "outputs": [
    {
     "name": "stdout",
     "output_type": "stream",
     "text": [
      "[[3.14159265 3.14159265 3.14159265 3.14159265]\n",
      " [3.14159265 3.14159265 3.14159265 3.14159265]]\n",
      "[[2.71828183]\n",
      " [2.71828183]\n",
      " [2.71828183]]\n",
      "(2, 4)\n",
      "(3, 1)\n"
     ]
    }
   ]
  },
  {
   "cell_type": "markdown",
   "metadata": {
    "id": "MWIz7_nqVQzf"
   },
   "source": [
    "Lees de [uitleg](https://numpy.org/doc/stable/user/basics.broadcasting.html) over wanneer broadcasting wel kan werken op de officiële website van de Numpy library. Broadcasting kan alleen werken indien:\n",
    "\n",
    "* de laatste dimensie gelijk is\n",
    "* alle niet-overeenstemmende dimensies gelijk zijn aan de dimensie 1 in de andere array.\n",
    "\n",
    "Enkele voorbeelden van dimensies waar broadcasting zal **werken** (van bovenstaande link):\n",
    "\n",
    "```\n",
    "256 x 256 x 3      # shape van array a\n",
    "          x 3      # shape van array b\n",
    "-------------\n",
    "256 x 256 x 3      # shape van array c\n",
    "```\n",
    "```\n",
    "8 x 1 x 6 x 1      # shape van array a\n",
    "    7 x 1 x 5      # shape van array b\n",
    "-------------\n",
    "8 x 7 x 6 x 5      # shape van array c\n",
    "```\n",
    "```\n",
    "1                  # shape van array a\n",
    "4                  # shape van array b\n",
    "-\n",
    "4                  # shape van array c\n",
    "```\n",
    "\n",
    "Voorbeelden waar broadcasting **niet zal werken**:\n",
    "\n",
    "```\n",
    "3                  # shape van array a\n",
    "4                  # shape van array b\n",
    "-\n",
    "?                 \n",
    "```\n",
    "\n",
    "```\n",
    "2 x 4              # shape van array a\n",
    "3 x 1              # shape van array b\n",
    "-----\n",
    "?????\n",
    "```\n",
    "```\n",
    "    2 x 1          # shape van array a\n",
    "8 x 4 x 3          # shape van array b\n",
    "---------\n",
    "?????????\n",
    "```"
   ]
  },
  {
   "cell_type": "markdown",
   "metadata": {
    "id": "2ZqZPPkLH7rH"
   },
   "source": [
    "### Oefening 4 - Numpy arrays vervormen"
   ]
  },
  {
   "cell_type": "markdown",
   "metadata": {
    "id": "lg91XVaT_MYP"
   },
   "source": [
    "Een vaak gebruikte functie om arrays te vervormen is `np.reshape`.  Veel algoritmen verwachten namelijk dat de inputdata in een bepaalde vorm staat. Wanneer we neurale netwerken willen trainen die afbeeldingen leren herkennen, zullen we eerst vierkante 2D-matrix van pixels moeten omzetten naar één lange 1D-array.\n",
    "\n",
    "Zoals de naam al laat vermoeden, kun je met `np.reshape` de **dimensies** van een array **aanpassen**. Uiteraard moeten deze dimensie wijzigingen gebeuren binnen *de mate van het mogelijke*, d.w.z.: alle elementen uit de originele array moeten een nieuwe plaats kunnen krijgen in de nieuwe vorm. Na de hervorming moeten er dus evenveel plaatsen zijn voor alle originele elementen.\n",
    "\n",
    "**Voorbeelden**\n",
    "\n",
    "* 1D-array van 10 kun je omzetten naar een 2D-array van 5 x 2\n",
    "* 2D-array van 5 x 4 kun je omzetten naar een 2D-array van 4 x 5\n",
    "* 2D-array van 5 x 4 kun je omzetten naar een 1D-array van 20\n",
    "* 2D-array van 5 x 4 kun je omzetten naar een 2D-array van 10 x 2\n",
    "* 3D-array van 28 x 28 x 3 kun je omzetten naar een array van 2352\n",
    "* ...\n",
    "\n",
    "Naast de **functie** `np.reshape` kan je ook gebruikmaken van de **methode** `.reshape()`. Ze doet hetzelfde, maar je roept ze gewoon op vanaf de array zelf.  Een laatste nuttige tip is dat je altijd **één dimensie minder** hoeft op te geven van de nieuwe vorm. Als je van 2D naar een andere 2D wil gaan, kan je één dimensie op geven en de andere op -1 zetten. Numpy vindt dan zelf de juiste waarde voor die ontbrekende dimensie. Het maakt ook niet uit welke dimensie je achterwege laat.\n",
    "\n",
    "**Voorbeeld**\n",
    "\n",
    "* Een 1D-array van 6 kun je omzetten naar een 2D-array van 3 x 2 door mee te geven dat er 3 rijen moeten zijn. Numpy berekent zelf dat er dan 2 kolommen zullen zijn.\n",
    "* Een 1D-array van 5 x 4 kun je omzetten naar een 2D-array van 4 x 5 door mee te geven dat er 4 kolommen moeten zijn. Numpy berekent zelf dat er dan 5 rijen zullen zijn.\n",
    "\n",
    "```\n",
    "a = np.array([1,2,3,4,5,6])\n",
    "a.reshape(3,2)                # met de methode, en expliciet \n",
    "a.reshape(3,-1)               # met de methode en Numpy zoekt het zelf wel uit\n",
    "np.reshape(a,(3,-1))          # kan ook met de functie, nieuwe dimensie is tuple\n",
    "\n",
    "# Let op: hierboven a is hier nog steeds hetzelfde, want je hebt niets toegekend aan a\n",
    "\n",
    "a = a.reshape(3,-1)           # nu is a wel aangepast\n",
    "a = np.reshape(a,(3,-1))      # of kan ook met de functie\n",
    "```\n",
    "\n",
    "Maak een array `a` van getallen met de functie met 100 oplopende getallen van 1 t.e.m. 100 (gebruik een `range`). Transformeer deze naar een matrix `b` van 10 x 10, transformeer deze vervolgens naar een 3D-array `c` met dimensies 10 x 5 x 2.\n"
   ]
  },
  {
   "cell_type": "code",
   "metadata": {
    "id": "rKbBIl2oEWZC"
   },
   "source": [
    "a = np.array(range(1,101))\n",
    "b = a.reshape(10,-1)\n",
    "c = b.reshape(-1,5,2)\n",
    "c"
   ],
   "execution_count": 17,
   "outputs": [
    {
     "data": {
      "text/plain": "array([[[  1,   2],\n        [  3,   4],\n        [  5,   6],\n        [  7,   8],\n        [  9,  10]],\n\n       [[ 11,  12],\n        [ 13,  14],\n        [ 15,  16],\n        [ 17,  18],\n        [ 19,  20]],\n\n       [[ 21,  22],\n        [ 23,  24],\n        [ 25,  26],\n        [ 27,  28],\n        [ 29,  30]],\n\n       [[ 31,  32],\n        [ 33,  34],\n        [ 35,  36],\n        [ 37,  38],\n        [ 39,  40]],\n\n       [[ 41,  42],\n        [ 43,  44],\n        [ 45,  46],\n        [ 47,  48],\n        [ 49,  50]],\n\n       [[ 51,  52],\n        [ 53,  54],\n        [ 55,  56],\n        [ 57,  58],\n        [ 59,  60]],\n\n       [[ 61,  62],\n        [ 63,  64],\n        [ 65,  66],\n        [ 67,  68],\n        [ 69,  70]],\n\n       [[ 71,  72],\n        [ 73,  74],\n        [ 75,  76],\n        [ 77,  78],\n        [ 79,  80]],\n\n       [[ 81,  82],\n        [ 83,  84],\n        [ 85,  86],\n        [ 87,  88],\n        [ 89,  90]],\n\n       [[ 91,  92],\n        [ 93,  94],\n        [ 95,  96],\n        [ 97,  98],\n        [ 99, 100]]])"
     },
     "execution_count": 17,
     "metadata": {},
     "output_type": "execute_result"
    }
   ]
  },
  {
   "cell_type": "markdown",
   "source": [
    "Maak een array `x` met met de functie `np.arange(1,5)`. Maak een array `y` met `np.ones(5)`.\n",
    "Probeer beide arrays bij elkaar op te tellen, zodat je een array krijgt van `(4,5)`."
   ],
   "metadata": {
    "collapsed": false
   }
  },
  {
   "cell_type": "code",
   "execution_count": 18,
   "outputs": [
    {
     "data": {
      "text/plain": "array([[2., 2., 2., 2., 2.],\n       [3., 3., 3., 3., 3.],\n       [4., 4., 4., 4., 4.],\n       [5., 5., 5., 5., 5.]])"
     },
     "execution_count": 18,
     "metadata": {},
     "output_type": "execute_result"
    }
   ],
   "source": [
    "x = np.arange(1,5)\n",
    "y = np.ones(5)\n",
    "\n",
    "x.reshape(4,1) + y"
   ],
   "metadata": {
    "collapsed": false,
    "pycharm": {
     "name": "#%%\n"
    }
   }
  },
  {
   "cell_type": "markdown",
   "metadata": {
    "id": "L1qx40SC7Xbc"
   },
   "source": [
    "Zoals eerder vermeld kunnen we arrays niet zomaar groter of kleiner maken, maar er zijn we functies waarmee we dit kunnen doen: we kunnen arrays aan elkaar **kleven**. Je kan dit ook realiseren met basis Python code en met de Pandas library (zie andere oefenboekjes), maar soms is het gewoon veel handiger om dit gewoon met Numpy te doen en daarna pas met Pandas aan te slag te gaan (zoals je zal leren is Pandas gebouwd op Numpy arrays).\n",
    "\n",
    "De belangrijkste Numpy functies zijn:\n",
    "\n",
    "```\n",
    "np.stack(lijst van arrays, richting waarin we stapelen)       # algemene functie\n",
    "np.hstack(lijst van arrays)                                   # horizontaal stapelen\n",
    "np.vstack(lijst van arrays)                                   # verticaal stapelen\n",
    "np.concatenate(lijst van arrays, richting waarin we plakken)  # algemene functie\n",
    "```\n",
    "\n",
    "Al deze functie nemen de originele arrays als input en bouwen voor jou een volledig nieuwe array met de juiste vorm.\n",
    "\n",
    "\n",
    "Maak met de functie `np.zeros` een array `a` van 10 nullen en een variabele `b=1`. Maak een array `c` die de som is van `a + b + 1` (hier wordt broadcasting gebruikt natuurlijk).\n",
    "\n",
    "Plak `a`, `b` en `c` achter elkaar en boven elkaar. \n",
    "\n",
    "*Let op: voor `b` ga je nog wel iets extra moeten ondernemen (zie Numpy-functie hierboven om `b` langer te maken)* "
   ]
  },
  {
   "cell_type": "code",
   "metadata": {
    "colab": {
     "base_uri": "https://localhost:8080/"
    },
    "id": "nPbb0Y1B6gMz",
    "executionInfo": {
     "status": "ok",
     "timestamp": 1612343014612,
     "user_tz": -60,
     "elapsed": 931,
     "user": {
      "displayName": "Wouter Deketelaere",
      "photoUrl": "https://lh3.googleusercontent.com/a-/AOh14GhHHpY95MV-w_kTeKBvDonZxvhYJdpFjC9jc1Cx=s64",
      "userId": "15699152107722970519"
     }
    },
    "outputId": "74655840-5532-4908-b59b-3fe18ed0bba6"
   },
   "source": [
    "a = np.zeros(10)\n",
    "b = 1\n",
    "c = a + b + 1\n",
    "c\n",
    "np.stack([a,np.repeat(b,10,axis=0),c])\n",
    "np.concatenate([a,np.repeat(b,10,axis=0),c], axis=0)"
   ],
   "execution_count": 19,
   "outputs": [
    {
     "data": {
      "text/plain": "array([2., 2., 2., 2., 2., 2., 2., 2., 2., 2.])"
     },
     "execution_count": 19,
     "metadata": {},
     "output_type": "execute_result"
    },
    {
     "data": {
      "text/plain": "array([[0., 0., 0., 0., 0., 0., 0., 0., 0., 0.],\n       [1., 1., 1., 1., 1., 1., 1., 1., 1., 1.],\n       [2., 2., 2., 2., 2., 2., 2., 2., 2., 2.]])"
     },
     "execution_count": 19,
     "metadata": {},
     "output_type": "execute_result"
    },
    {
     "data": {
      "text/plain": "array([0., 0., 0., 0., 0., 0., 0., 0., 0., 0., 1., 1., 1., 1., 1., 1., 1.,\n       1., 1., 1., 2., 2., 2., 2., 2., 2., 2., 2., 2., 2.])"
     },
     "execution_count": 19,
     "metadata": {},
     "output_type": "execute_result"
    }
   ]
  },
  {
   "cell_type": "markdown",
   "metadata": {
    "id": "YGxDicdPAh8h"
   },
   "source": [
    "### Oefening 5 - Nog enkele nuttige truukjes"
   ]
  },
  {
   "cell_type": "markdown",
   "metadata": {
    "id": "k9cXs1A6Jo08"
   },
   "source": [
    "Het kan gebeuren dat je twee arrays elementgewijs moet **vermenigvuldigen** en dan de **som** moet maken van die producten. In spreadsheet software heet deze functie vaak SUMPRODUCT of iets dergelijks.\n",
    "\n",
    "**Voorbeeld**\n",
    "Voor Programmeren 1 zijn gewichten van de vakken als volgt verdeeld:\n",
    "* OO - Concepten 1: 0.17 (17%)\n",
    "* OO - Concepten 1: 0.38 (38%)\n",
    "* Java FX: 0.45 (45%)\n",
    "\n",
    "Student Milan haalt volgende scores: `[13,8,10]`. \n",
    "\n",
    "Op dit punt ken je voldende Numpy functie om dit op te lossen met enkele regels code.\n",
    "\n",
    "```\n",
    "gewichten = np.array([0.17,0.38,0.45])\n",
    "milan = np.array([13,9,10])                          \n",
    "np.sum(gewichten * milan)                   # broadcasting + np.sum functie gebruiken\n",
    "(gewichten * milan).sum()                   # kan ook met broadcasting + sum-methode gebruiken \n",
    "```\n",
    "\n",
    "Is hij geslaagd voor Programmeren 1?\n"
   ]
  },
  {
   "cell_type": "code",
   "metadata": {
    "colab": {
     "base_uri": "https://localhost:8080/"
    },
    "id": "rLHqmUd8L9Ra",
    "executionInfo": {
     "status": "ok",
     "timestamp": 1612344761975,
     "user_tz": -60,
     "elapsed": 650,
     "user": {
      "displayName": "Wouter Deketelaere",
      "photoUrl": "https://lh3.googleusercontent.com/a-/AOh14GhHHpY95MV-w_kTeKBvDonZxvhYJdpFjC9jc1Cx=s64",
      "userId": "15699152107722970519"
     }
    },
    "outputId": "2b72973b-f6bd-4d83-f6ea-db0bd464b83c"
   },
   "source": [
    "gewichten = np.array([0.17,0.38,0.45])\n",
    "milan = np.array([13,9,10])                          \n",
    "np.sum(gewichten * milan)                   # broadcasting + np.sum functie gebruiken\n",
    "(gewichten * milan).sum()                   # kan ook met broadcasting + sum-methode gebruiken "
   ],
   "execution_count": 20,
   "outputs": [
    {
     "data": {
      "text/plain": "10.129999999999999"
     },
     "execution_count": 20,
     "metadata": {},
     "output_type": "execute_result"
    },
    {
     "data": {
      "text/plain": "10.129999999999999"
     },
     "execution_count": 20,
     "metadata": {},
     "output_type": "execute_result"
    }
   ]
  },
  {
   "cell_type": "markdown",
   "metadata": {
    "id": "BdktVn2JPUuF"
   },
   "source": [
    "De functie `np.dot` kan dit in één keer berekenen. Het vermenigvuldigt en telt op. Het werkt ook gewoon op Python lists, de omzetting naar Numpy arrays gebeurt achter de schermen.\n",
    "\n",
    "```\n",
    "np.dot([0.17,0.38,0.45],[13,9,10])\n",
    "```\n",
    "\n",
    "Dat lijkt misschien niet meteen mega specatulair maar meestal doen er wel meer studenten mee aan een examen. Veronderstel dat we nu alle punten van de studenten hebben in een Python lijst van een lijst of 2D Numpy array.\n",
    "\n",
    "```\n",
    "gewichten = np.array([0.17,0.38,0.45])\n",
    "punten = np.array([\n",
    "                   [13,9,10],\n",
    "                   [12,10,10],\n",
    "                   [9,7,np.NaN],         # deze student heeft JavaFX niet afgelegd, np.NaN (Not A Number)\n",
    "                   [10,7,12],\n",
    "                   [8,9,10]]\n",
    "                  )              \n",
    "np.dot(punten, gewichten)                # bereken alle totaalpunten\n",
    "np.dot(gewichten,punten.transpose())     # idem, maar punten moeten getransponeerd worden\n",
    "```\n",
    "\n",
    "Met de `transpose` methode (en functie) kun je de rijen in kolommen veranderen en vice versa. Deze heb je ook zo nu en dan eens nodig. Hier is het nodig als je de argumenten verwisselt van plaats, omdat `np.dot` eigenlijk een matrix-operatie is uit de wiskunde. Sommige studenten zullen deze leerstof in het middelbaar zeker gekregen hebben. "
   ]
  },
  {
   "cell_type": "code",
   "metadata": {
    "colab": {
     "base_uri": "https://localhost:8080/"
    },
    "id": "m8t4B5gnPjza",
    "executionInfo": {
     "status": "ok",
     "timestamp": 1612345567055,
     "user_tz": -60,
     "elapsed": 801,
     "user": {
      "displayName": "Wouter Deketelaere",
      "photoUrl": "https://lh3.googleusercontent.com/a-/AOh14GhHHpY95MV-w_kTeKBvDonZxvhYJdpFjC9jc1Cx=s64",
      "userId": "15699152107722970519"
     }
    },
    "outputId": "0e325d1c-d6d2-4140-ec51-7d5d27d3c693"
   },
   "source": [
    "gewichten = np.array([0.17,0.38,0.45])\n",
    "punten = np.array([\n",
    "                   [13,9,10],\n",
    "                   [12,10,10],\n",
    "                   [9,7,np.NaN],\n",
    "                   [10,7,12],\n",
    "                   [8,9,10]]\n",
    "                  )               \n",
    "\n",
    "np.dot(gewichten,punten.transpose())\n",
    "np.dot(punten, gewichten)"
   ],
   "execution_count": 21,
   "outputs": [
    {
     "data": {
      "text/plain": "array([10.13, 10.34,   nan,  9.76,  9.28])"
     },
     "execution_count": 21,
     "metadata": {},
     "output_type": "execute_result"
    },
    {
     "data": {
      "text/plain": "array([10.13, 10.34,   nan,  9.76,  9.28])"
     },
     "execution_count": 21,
     "metadata": {},
     "output_type": "execute_result"
    }
   ]
  },
  {
   "cell_type": "markdown",
   "metadata": {
    "id": "qXlOSSo0VO5F"
   },
   "source": [
    "De kans dat je met een dobbelsteen een bepaald aantal ogen gooit, is gelijk aan $\\frac{1}{6}$\n",
    "\n",
    "Hoeveel ga je gemiddeld gooien als je heel veel dobbelstenen zou opwerpen?"
   ]
  },
  {
   "cell_type": "code",
   "metadata": {
    "colab": {
     "base_uri": "https://localhost:8080/"
    },
    "id": "DELWrHcjVr0R",
    "executionInfo": {
     "status": "ok",
     "timestamp": 1612346503726,
     "user_tz": -60,
     "elapsed": 805,
     "user": {
      "displayName": "Wouter Deketelaere",
      "photoUrl": "https://lh3.googleusercontent.com/a-/AOh14GhHHpY95MV-w_kTeKBvDonZxvhYJdpFjC9jc1Cx=s64",
      "userId": "15699152107722970519"
     }
    },
    "outputId": "5fc685e1-5fa0-4ba5-c819-30b0562f5d99"
   },
   "source": [
    "kansen = np.repeat(1/6,6)\n",
    "ogen = range(1,7)\n",
    "np.dot(kansen,ogen)"
   ],
   "execution_count": 22,
   "outputs": [
    {
     "data": {
      "text/plain": "3.5"
     },
     "execution_count": 22,
     "metadata": {},
     "output_type": "execute_result"
    }
   ]
  },
  {
   "cell_type": "markdown",
   "metadata": {
    "id": "U9YhJ9VsV4DN"
   },
   "source": [
    "Numpy bevat nog vele andere functies en methoden die je kan gebruiken. We lijsten er hier nog enkele voor je op. Probeer ze zelf uit op enkele arrays, meestal zegt de naam al voldoende. Soms bestaan ze als functie, soms als methode, en soms als beide.\n",
    "\n",
    "* `mean()`\n",
    "* `nansum()` , som zonder NaN-waarden \n",
    "* `prod()`\n",
    "* `max()`\n",
    "* `min()`\n",
    "* `cumsum()`\n",
    "* `sin()`, `cos()`, ... `exp()`\n",
    "* ...\n",
    "\n",
    "De lijst is veel te lang om hier op te sommen, maar je kan er quasi zeker vanuit gaan dat jouw probleem al door iemand anders is opgelost.Dus probeer het warmwater niet opnieuw uit te vinden, maar raadpleeg de documentatie. \n",
    "\n",
    "Hier is een mooie lijst van functies: https://numpy.org/doc/stable/reference/routines.html.  We zullen gaandeweg nog veel meer functies en truukjes leren."
   ]
  },
  {
   "cell_type": "markdown",
   "source": [
    "### Oefening 6 - Numpy arrays uit bestanden"
   ],
   "metadata": {
    "collapsed": false,
    "pycharm": {
     "name": "#%% md\n"
    }
   }
  },
  {
   "cell_type": "markdown",
   "source": [
    "Je kan ook Numpy arrays maken op basis van gegevens uit tekstbestanden. Hieronder zie je een voorbeeld van hoe dit werkt op de dataset `tabel.csv`.\n",
    "```python\n",
    "data = np.genfromtxt('../datasets/tabel.csv',\n",
    "                     delimiter=',',                             # delimiter teken kiezen\n",
    "                     usecols=range(1,5),                        # welke kolommen willen inlezen\n",
    "                     skip_header=1)                             # eerste kolom is header dus skippen\n",
    "data\n",
    "```\n",
    "Probeer dit een keertje uit en bekijk het resultaat. Wat zijn de datatypes? Bekijk de shape.\n",
    "Wat is het type van de variabele `data`?"
   ],
   "metadata": {
    "collapsed": false,
    "pycharm": {
     "name": "#%% md\n"
    }
   }
  },
  {
   "cell_type": "code",
   "execution_count": 44,
   "outputs": [
    {
     "data": {
      "text/plain": "array([[ 1.        , 15.        , 54.        , 36.5       ],\n       [ 2.        , 18.        , 68.        , 37.09999847],\n       [ 3.        , 11.        , 41.        , 36.40000153],\n       [ 4.        , 17.        , 59.        , 37.20000076],\n       [ 5.        , 20.        , 65.        , 36.90000153]])"
     },
     "execution_count": 44,
     "metadata": {},
     "output_type": "execute_result"
    },
    {
     "data": {
      "text/plain": "(5, 4)"
     },
     "execution_count": 44,
     "metadata": {},
     "output_type": "execute_result"
    },
    {
     "data": {
      "text/plain": "numpy.ndarray"
     },
     "execution_count": 44,
     "metadata": {},
     "output_type": "execute_result"
    },
    {
     "data": {
      "text/plain": "dtype('float64')"
     },
     "execution_count": 44,
     "metadata": {},
     "output_type": "execute_result"
    }
   ],
   "source": [
    "data = np.genfromtxt('../datasets/tabel.csv',\n",
    "                     delimiter=',',                             # delimiter teken kiezen\n",
    "                     usecols=range(1,5),                        # welke kolommen willen inlezen\n",
    "                     skip_header=1)                             # eerste kolom is header dus skippen\n",
    "data                                                            # het is een 2D array (array van list van list)\n",
    "data.shape                                                      # (5,4)\n",
    "type(data)                                                      # numpy.ndarray\n",
    "data.dtype                                                      # float64 (homogeen)"
   ],
   "metadata": {
    "collapsed": false,
    "pycharm": {
     "name": "#%%\n"
    }
   }
  },
  {
   "cell_type": "markdown",
   "source": [
    "Een andere manier om de gegevens in te lezen, is de volgende waarbij je ook namen van kolommen opgeeft, en optioneel ook enkele datatypes.\n",
    "\n",
    "```python\n",
    "import numpy as np\n",
    "data = np.genfromtxt('../datasets/tabel.csv',\n",
    "                     delimiter=',',                             # delimiter teken kiezen\n",
    "                     usecols=range(1,5),                        # welke kolommen willen inlezen\n",
    "                     skip_header=1,                             # eerste kolom is header dus skippen\n",
    "                     names=['id','leeftijd','gewicht','temp'],  # we kunnen namen geven aan de kolommen\n",
    "                     dtype=[int, int, float, float])            # we kunnen data types meegeven\n",
    "```\n",
    "\n",
    "Probeer dit ook een keertje uit. Bekijk het resultaat. Wat zijn de datatypes? Bekijk de shape.\n",
    "\n",
    "Wat is het type van de variabele `data`?\n",
    "Welke verschillen zijn er met de vorige manier van inlezen? Kijk goed."
   ],
   "metadata": {
    "collapsed": false,
    "pycharm": {
     "name": "#%% md\n"
    }
   }
  },
  {
   "cell_type": "code",
   "source": [
    "data = np.genfromtxt('../datasets/tabel.csv',\n",
    "                     delimiter=',',                             # delimiter teken kiezen\n",
    "                     usecols=range(1,5),                        # welke kolommen willen inlezen\n",
    "                     skip_header=1,                             # eerste kolom is header dus skippen\n",
    "                     names=['id','leeftijd','gewicht','temp'],  # we kunnen namen geven aan de kolommen\n",
    "                     dtype=[int, int, float, float])            # we kunnen data types meegeven\n",
    "data                                                            # het is een 1D array van tuples\n",
    "data.shape                                                      # (5,)\n",
    "type(data)                                                      # numpy.ndarray\n",
    "data.dtype                                                      # float64 (homogeen)"
   ],
   "metadata": {
    "collapsed": false,
    "pycharm": {
     "name": "#%%\n"
    }
   },
   "execution_count": 46,
   "outputs": [
    {
     "data": {
      "text/plain": "array([(1, 15, 54., 36.5       ), (2, 18, 68., 37.09999847),\n       (3, 11, 41., 36.40000153), (4, 17, 59., 37.20000076),\n       (5, 20, 65., 36.90000153)],\n      dtype=[('id', '<i4'), ('leeftijd', '<i4'), ('gewicht', '<f8'), ('temp', '<f8')])"
     },
     "execution_count": 46,
     "metadata": {},
     "output_type": "execute_result"
    },
    {
     "data": {
      "text/plain": "(5,)"
     },
     "execution_count": 46,
     "metadata": {},
     "output_type": "execute_result"
    },
    {
     "data": {
      "text/plain": "numpy.ndarray"
     },
     "execution_count": 46,
     "metadata": {},
     "output_type": "execute_result"
    },
    {
     "data": {
      "text/plain": "dtype([('id', '<i4'), ('leeftijd', '<i4'), ('gewicht', '<f8'), ('temp', '<f8')])"
     },
     "execution_count": 46,
     "metadata": {},
     "output_type": "execute_result"
    }
   ]
  },
  {
   "cell_type": "markdown",
   "source": [
    "De tweede manier van inlezen levert een heterogene Numpy array -ook wel structured array genoemd-, die nu bestaat uit een lijst van tuples i.p.v. een lijst van een lijst. Daardoor kan je nu ook werken met de kolomnamen om te indexeren.\n",
    "\n",
    "```python\n",
    "data['id']\n",
    "```\n",
    "Test uit."
   ],
   "metadata": {
    "collapsed": false,
    "pycharm": {
     "name": "#%% md\n"
    }
   }
  },
  {
   "cell_type": "code",
   "execution_count": 47,
   "outputs": [
    {
     "data": {
      "text/plain": "array([1, 2, 3, 4, 5])"
     },
     "execution_count": 47,
     "metadata": {},
     "output_type": "execute_result"
    }
   ],
   "source": [
    "data['id']\n"
   ],
   "metadata": {
    "collapsed": false,
    "pycharm": {
     "name": "#%%\n"
    }
   }
  }
 ]
}