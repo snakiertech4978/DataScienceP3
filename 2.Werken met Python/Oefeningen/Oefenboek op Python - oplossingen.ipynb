{
 "nbformat": 4,
 "nbformat_minor": 0,
 "metadata": {
  "kernelspec": {
   "display_name": "Python 3",
   "language": "python",
   "name": "python3"
  },
  "language_info": {
   "codemirror_mode": {
    "name": "ipython",
    "version": 2
   },
   "file_extension": ".py",
   "mimetype": "text/x-python",
   "name": "python",
   "nbconvert_exporter": "python",
   "pygments_lexer": "ipython2",
   "version": "2.7.6"
  },
  "colab": {
   "provenance": [],
   "toc_visible": true
  }
 },
 "cells": [
  {
   "cell_type": "markdown",
   "metadata": {
    "collapsed": false,
    "id": "vwYphyGpXy_C"
   },
   "source": [
    "# Oefenboek op het gebruik van Python\n",
    "\n",
    "Deze oefenboekjes bevatten oefeningen om te leren (leeroefeningen). We gaan er dus vanuit dat je op dit punt nog niet veel kennis hebt over de deze topic. Ze zijn bedoeld om de leerstof nog te leren begrijpen en **niet** om te testen of je de leerstof al onder de knie hebt. Daarvoor hebben we een ander soort oefeningen."
   ]
  },
  {
   "cell_type": "markdown",
   "metadata": {
    "collapsed": false,
    "id": "N-u69E01Xy_G"
   },
   "source": [
    "## Oefeningen op Python basics"
   ]
  },
  {
   "cell_type": "markdown",
   "metadata": {
    "collapsed": false,
    "id": "vda2HWQbXy_I"
   },
   "source": [
    "### Oefening 1 - Basis Python vaardigheden"
   ]
  },
  {
   "cell_type": "markdown",
   "metadata": {
    "collapsed": false,
    "id": "lVX7m2f0Xy_I"
   },
   "source": [
    "Print *Hello World* uit op scherm met de `print()`-functie."
   ]
  },
  {
   "cell_type": "code",
   "metadata": {
    "pycharm": {
     "name": "#%%\n"
    },
    "id": "HapN8zXWRUch",
    "colab": {
     "base_uri": "https://localhost:8080/"
    },
    "executionInfo": {
     "status": "ok",
     "timestamp": 1614255491946,
     "user_tz": -60,
     "elapsed": 470,
     "user": {
      "displayName": "Maarten Heylen",
      "photoUrl": "",
      "userId": "01598807576603538646"
     }
    },
    "outputId": "9bd363be-7ce8-413b-93b5-c5efe33db244"
   },
   "source": [
    "print('Hello World')"
   ],
   "execution_count": null,
   "outputs": [
    {
     "output_type": "stream",
     "text": [
      "Hello World\n"
     ],
     "name": "stdout"
    }
   ]
  },
  {
   "cell_type": "markdown",
   "metadata": {
    "collapsed": false,
    "pycharm": {
     "name": "#%% md\n"
    },
    "id": "YTeZ6DUrRUci"
   },
   "source": [
    "Maak nu een variabele `naam` aan waarin je je eigen naam stopt en print dan *Hello jouw_naam* uit. Gebruik hiervoor de `.format()`-methode van de string-klasse om er een geformateerde string te maken, zoals `String.format()` in Java dat doet.\n",
    "\n",
    "Hier zie je voorbeeld van het gebruik van een `.format()`.\n",
    "\n",
    "```\n",
    "print('Dit is een string met {} {} {} erin'.format(3,'format','specifiers'))\n",
    "```"
   ]
  },
  {
   "cell_type": "code",
   "metadata": {
    "pycharm": {
     "name": "#%%\n"
    },
    "colab": {
     "base_uri": "https://localhost:8080/"
    },
    "id": "3HtFcQyQXy_J",
    "executionInfo": {
     "status": "ok",
     "timestamp": 1614255492587,
     "user_tz": -60,
     "elapsed": 1104,
     "user": {
      "displayName": "Maarten Heylen",
      "photoUrl": "",
      "userId": "01598807576603538646"
     }
    },
    "outputId": "4a3b7c91-f26c-4bd1-b709-1ea366b6a9e7"
   },
   "source": [
    "naam = 'Wouter'\n",
    "print('Hello {}'.format(naam))"
   ],
   "execution_count": null,
   "outputs": [
    {
     "output_type": "stream",
     "text": [
      "Hello Wouter\n"
     ],
     "name": "stdout"
    }
   ]
  },
  {
   "cell_type": "code",
   "metadata": {
    "id": "2rOWzV86mtpb"
   },
   "source": [],
   "execution_count": null,
   "outputs": []
  },
  {
   "cell_type": "markdown",
   "metadata": {
    "collapsed": false,
    "id": "uYeGUu0EXy_L"
   },
   "source": [
    "Bereken volgende zaken in de code cell hieronder en print ze uit.\n",
    "Print ze ook een keer uit m.b.v. `.format()` waarbij je maar 2 cijfers na de komma uitprint.\n",
    "* $25 \\cdot 10$\n",
    "* $e^4$\n",
    "* $3 \\cdot \\pi$\n",
    "* $sin(\\pi)$\n",
    "\n",
    "Door tussen de format-specifiers `:.2f` te plaatsen kan je de output beperken tot 2 cijfers na de komma. Zoek <a href=\"https://lmgtfy.app/?q=python+format+specifiers+best+practices\">online</a> op welke andere mogelijkheden er zijn."
   ]
  },
  {
   "cell_type": "code",
   "metadata": {
    "pycharm": {
     "name": "#%%\n"
    },
    "id": "BBzBL6C0Xy_M",
    "colab": {
     "base_uri": "https://localhost:8080/"
    },
    "executionInfo": {
     "status": "ok",
     "timestamp": 1614255492588,
     "user_tz": -60,
     "elapsed": 1098,
     "user": {
      "displayName": "Maarten Heylen",
      "photoUrl": "",
      "userId": "01598807576603538646"
     }
    },
    "outputId": "c3a63cc0-9c19-450d-de7d-a26cf524212a"
   },
   "source": [
    "import math\n",
    "print('{:.2f}'.format(25 * 10))\n",
    "print('{:.2f}'.format(math.exp(4)))\n",
    "print('{:.2f}'.format(3 * math.pi))\n",
    "print('{:.2f}'.format(math.sin(math.pi)))"
   ],
   "execution_count": null,
   "outputs": [
    {
     "output_type": "stream",
     "text": [
      "250.00\n",
      "54.60\n",
      "9.42\n",
      "0.00\n"
     ],
     "name": "stdout"
    }
   ]
  },
  {
   "cell_type": "markdown",
   "metadata": {
    "collapsed": false,
    "id": "VRwTWVfDXy_N"
   },
   "source": [
    "Maak aparte variabelen aan voor volgende gegevens. Gebruik dan de `type`-functie om de datatypes van alle variabelen uit te printen.\n",
    "\n",
    "* 1\n",
    "* 1.23456\n",
    "* 'Hello World'\n",
    "* \"Hello World\"\n",
    "* 2 > 5\n",
    "* True\n",
    "* NaN (Not a Number)\n",
    "* oneindig"
   ]
  },
  {
   "cell_type": "code",
   "metadata": {
    "pycharm": {
     "name": "#%%\n"
    },
    "id": "UH8gFYp-Xy_O",
    "colab": {
     "base_uri": "https://localhost:8080/"
    },
    "executionInfo": {
     "status": "ok",
     "timestamp": 1614255492842,
     "user_tz": -60,
     "elapsed": 1348,
     "user": {
      "displayName": "Maarten Heylen",
      "photoUrl": "",
      "userId": "01598807576603538646"
     }
    },
    "outputId": "a46e06f9-dcbf-43da-da23-4f5c202d6b8a"
   },
   "source": [
    "a = 1\n",
    "b = 1.23456\n",
    "c = 'Hello World'\n",
    "d = \"Hello World\"\n",
    "e = 2 > 5\n",
    "f = True\n",
    "g = math.nan\n",
    "h = math.inf\n",
    "print(type(a),type(b),type(c),type(d),type(e),type(f),type(g),type(h), sep='\\n')"
   ],
   "execution_count": null,
   "outputs": [
    {
     "output_type": "stream",
     "text": [
      "<class 'int'>\n",
      "<class 'float'>\n",
      "<class 'str'>\n",
      "<class 'str'>\n",
      "<class 'bool'>\n",
      "<class 'bool'>\n",
      "<class 'float'>\n",
      "<class 'float'>\n"
     ],
     "name": "stdout"
    }
   ]
  },
  {
   "cell_type": "markdown",
   "metadata": {
    "collapsed": false,
    "pycharm": {
     "name": "#%% md\n"
    },
    "id": "so4UKFowRUck"
   },
   "source": [
    "Probeer volgende basisoperaties uit op strings:\n",
    "* concatenatie: met de `+`-operator: `'Hello' + ' World'`\n",
    "* `.lower()`, `.upper()`, `.capitalize()`\n",
    "* `.replace( , )`\n",
    "* `in`-operator: `'He' in 'Hello'`\n",
    "* `str(28)`: string object maken van `int`"
   ]
  },
  {
   "cell_type": "code",
   "metadata": {
    "pycharm": {
     "name": "#%%\n"
    },
    "id": "LnkM4I1vRUck",
    "colab": {
     "base_uri": "https://localhost:8080/",
     "height": 90
    },
    "executionInfo": {
     "status": "ok",
     "timestamp": 1614601167347,
     "user_tz": -60,
     "elapsed": 2288,
     "user": {
      "displayName": "Maarten Heylen",
      "photoUrl": "",
      "userId": "01598807576603538646"
     }
    },
    "outputId": "1897d668-487a-4c5e-a1f9-a8c4e80378f9"
   },
   "source": [
    "s = 'Hello' + ' World'\n",
    "print(s.lower())\n",
    "print(s.upper())\n",
    "print(s.capitalize())\n",
    "s.replace('e','a')\n",
    "'He' in s\n",
    "str(28)"
   ],
   "execution_count": null,
   "outputs": [
    {
     "output_type": "stream",
     "text": [
      "hello world\n",
      "HELLO WORLD\n",
      "Hello world\n"
     ],
     "name": "stdout"
    },
    {
     "output_type": "execute_result",
     "data": {
      "application/vnd.google.colaboratory.intrinsic+json": {
       "type": "string"
      },
      "text/plain": [
       "'28'"
      ]
     },
     "metadata": {
      "tags": []
     },
     "execution_count": 3
    }
   ]
  },
  {
   "cell_type": "markdown",
   "metadata": {
    "collapsed": false,
    "pycharm": {
     "name": "#%% md\n"
    },
    "id": "gmoD7ByjRUck"
   },
   "source": [
    "### Oefening 2 - Datastructuren in Python"
   ]
  },
  {
   "cell_type": "markdown",
   "metadata": {
    "collapsed": false,
    "id": "nKurA73XXy_P"
   },
   "source": [
    "We maken om te beginnen een lege Python **lijst** `a` aan.\n",
    "\n",
    "Een lege lijst kan je maken met de `[]`-operator, dus zo:\n",
    "\n",
    "```python\n",
    "a=[]\n",
    "```\n",
    "Je kan een lijst ook maken met de `list()`-functie, maar meestal gebruik je de vierkante haken waar het kan (zie verder voor een voorbeeld van het gebruik van de `list()`-functie). Maak hieronder je lege lijst aan. Probeer beide manieren uit."
   ]
  },
  {
   "cell_type": "code",
   "metadata": {
    "pycharm": {
     "name": "#%%\n"
    },
    "id": "2UoFuQ2uXy_Q"
   },
   "source": [
    "a=list()\n",
    "a=[]"
   ],
   "execution_count": null,
   "outputs": []
  },
  {
   "cell_type": "markdown",
   "metadata": {
    "collapsed": false,
    "id": "bQpNgC7FXy_Q"
   },
   "source": [
    "Breid lijst `a` nu uit met de elementen `True` en `10`. Lukt dit? Zou dit ook in Java kunnen?\n",
    "Gebruik de `append()`-methode."
   ]
  },
  {
   "cell_type": "code",
   "metadata": {
    "pycharm": {
     "name": "#%%\n"
    },
    "id": "q8T35VeyXy_R",
    "colab": {
     "base_uri": "https://localhost:8080/"
    },
    "executionInfo": {
     "status": "ok",
     "timestamp": 1614255492844,
     "user_tz": -60,
     "elapsed": 1342,
     "user": {
      "displayName": "Maarten Heylen",
      "photoUrl": "",
      "userId": "01598807576603538646"
     }
    },
    "outputId": "234b15d8-decb-469f-9fd6-30fe53b098f4"
   },
   "source": [
    "a.append(True)\n",
    "a.append(10)\n",
    "a\n",
    "# in Java moet de element van hetzelfde type zijn. Dus alleen als ze een gemeenschappelijk supertype hebben kan dit.\n",
    "# Aangezien alle klassen erven van Object kan dit als List<Object> a = new ArrayList<>(); maar dit heeft wel serieuze beperkingen qua gebruik van de elementen. Tenzij je instanceof en casts gaat gebruiken."
   ],
   "execution_count": null,
   "outputs": [
    {
     "output_type": "execute_result",
     "data": {
      "text/plain": [
       "[True, 10]"
      ]
     },
     "metadata": {
      "tags": []
     },
     "execution_count": 8
    }
   ]
  },
  {
   "cell_type": "markdown",
   "metadata": {
    "collapsed": false,
    "id": "4nHLgsVDXy_R"
   },
   "source": [
    "Voeg tussen `True`, en `10 ` volgende lijst toe `['Hello', 10.3]` m.b.v. de `insert`-methode. Je gaat dus een lijst toevoegen aan een lijst."
   ]
  },
  {
   "cell_type": "code",
   "metadata": {
    "pycharm": {
     "name": "#%%\n"
    },
    "id": "KEzBQRl_Xy_R",
    "colab": {
     "base_uri": "https://localhost:8080/"
    },
    "executionInfo": {
     "status": "ok",
     "timestamp": 1614255492844,
     "user_tz": -60,
     "elapsed": 1337,
     "user": {
      "displayName": "Maarten Heylen",
      "photoUrl": "",
      "userId": "01598807576603538646"
     }
    },
    "outputId": "980eedda-b5ad-456d-9a36-c29c9b8eab9e"
   },
   "source": [
    "a.insert(1,['Hello', 10.3])\n",
    "a"
   ],
   "execution_count": null,
   "outputs": [
    {
     "output_type": "execute_result",
     "data": {
      "text/plain": [
       "[True, ['Hello', 10.3], 10]"
      ]
     },
     "metadata": {
      "tags": []
     },
     "execution_count": 9
    }
   ]
  },
  {
   "cell_type": "markdown",
   "metadata": {
    "collapsed": false,
    "id": "xAAJSP8uXy_R"
   },
   "source": [
    "Een **dictionary** kan je aanmaken met de `{}`-operator. Het is qua werking gelijk aan een `Map` uit Java.\n",
    "\n",
    "```python\n",
    "d = {\n",
    "    # hier komen de sleutel : waarde combinaties.\n",
    "    # sleutels zijn vaak strings\n",
    "}\n",
    "```\n",
    "Maak nu een dictionary aan `d` met twee sleutels:\n",
    "\n",
    "* 'a' : range(1,10,2)\n",
    "* 'b' : ['a','b']\n",
    "\n",
    "en voeg deze toe aan de lijst `a`. Bekijk je lijst."
   ]
  },
  {
   "cell_type": "code",
   "metadata": {
    "pycharm": {
     "name": "#%%\n"
    },
    "id": "j6R2Tn_eXy_S",
    "colab": {
     "base_uri": "https://localhost:8080/"
    },
    "executionInfo": {
     "status": "ok",
     "timestamp": 1614255492844,
     "user_tz": -60,
     "elapsed": 1332,
     "user": {
      "displayName": "Maarten Heylen",
      "photoUrl": "",
      "userId": "01598807576603538646"
     }
    },
    "outputId": "dfba0eb3-e184-461e-c399-196d8c3b03ef"
   },
   "source": [
    "d = {\n",
    "    'a' : range(1,10,2),\n",
    "    'b' : ['a','b']\n",
    "}\n",
    "a.append(d)\n",
    "a"
   ],
   "execution_count": null,
   "outputs": [
    {
     "output_type": "execute_result",
     "data": {
      "text/plain": [
       "[True, ['Hello', 10.3], 10, {'a': range(1, 10, 2), 'b': ['a', 'b']}]"
      ]
     },
     "metadata": {
      "tags": []
     },
     "execution_count": 10
    }
   ]
  },
  {
   "cell_type": "markdown",
   "metadata": {
    "collapsed": false,
    "pycharm": {
     "name": "#%% md\n"
    },
    "id": "XIw9hPikRUcm"
   },
   "source": [
    "Print lengte van de lijst met de `len()`-functie."
   ]
  },
  {
   "cell_type": "code",
   "metadata": {
    "pycharm": {
     "name": "#%%\n"
    },
    "id": "VexcDl4oRUcn",
    "colab": {
     "base_uri": "https://localhost:8080/"
    },
    "executionInfo": {
     "status": "ok",
     "timestamp": 1614255492846,
     "user_tz": -60,
     "elapsed": 1330,
     "user": {
      "displayName": "Maarten Heylen",
      "photoUrl": "",
      "userId": "01598807576603538646"
     }
    },
    "outputId": "13dc61ca-c96d-426a-984e-6f0915134c39"
   },
   "source": [
    "len(a)"
   ],
   "execution_count": null,
   "outputs": [
    {
     "output_type": "execute_result",
     "data": {
      "text/plain": [
       "4"
      ]
     },
     "metadata": {
      "tags": []
     },
     "execution_count": 11
    }
   ]
  },
  {
   "cell_type": "markdown",
   "metadata": {
    "collapsed": false,
    "pycharm": {
     "name": "#%% md\n"
    },
    "id": "xBXaCMrnRUcn"
   },
   "source": [
    "Controleer of een element in een lijst zit met de `in`-operator: `e in [...]`\n",
    "Test dit uit op lijst `a`."
   ]
  },
  {
   "cell_type": "code",
   "metadata": {
    "pycharm": {
     "name": "#%%\n"
    },
    "id": "euxDiB7PRUcn",
    "colab": {
     "base_uri": "https://localhost:8080/"
    },
    "executionInfo": {
     "status": "ok",
     "timestamp": 1614255492846,
     "user_tz": -60,
     "elapsed": 1326,
     "user": {
      "displayName": "Maarten Heylen",
      "photoUrl": "",
      "userId": "01598807576603538646"
     }
    },
    "outputId": "88ab0b7c-3a91-4c94-c7d8-fa92d661cb42"
   },
   "source": [
    "[1,2,3,4] in a"
   ],
   "execution_count": null,
   "outputs": [
    {
     "output_type": "execute_result",
     "data": {
      "text/plain": [
       "False"
      ]
     },
     "metadata": {
      "tags": []
     },
     "execution_count": 12
    }
   ]
  },
  {
   "cell_type": "markdown",
   "metadata": {
    "collapsed": false,
    "pycharm": {
     "name": "#%% md\n"
    },
    "id": "EUm_CEYpRUcn"
   },
   "source": [
    "Maak een lijst `b` met het statement `b=a`. Verander het eerst element van `b` naar 10.\n",
    "Print nu `a` uit. Wat merk je?"
   ]
  },
  {
   "cell_type": "code",
   "metadata": {
    "pycharm": {
     "name": "#%%\n"
    },
    "id": "IYesP4FcRUco",
    "colab": {
     "base_uri": "https://localhost:8080/"
    },
    "executionInfo": {
     "status": "ok",
     "timestamp": 1614255492846,
     "user_tz": -60,
     "elapsed": 1322,
     "user": {
      "displayName": "Maarten Heylen",
      "photoUrl": "",
      "userId": "01598807576603538646"
     }
    },
    "outputId": "a61aeed7-5f72-4405-9054-4df5e3769c68"
   },
   "source": [
    "b = a\n",
    "b[0] = 10\n",
    "a"
   ],
   "execution_count": null,
   "outputs": [
    {
     "output_type": "execute_result",
     "data": {
      "text/plain": [
       "[10, ['Hello', 10.3], 10, {'a': range(1, 10, 2), 'b': ['a', 'b']}]"
      ]
     },
     "metadata": {
      "tags": []
     },
     "execution_count": 13
    }
   ]
  },
  {
   "cell_type": "markdown",
   "metadata": {
    "collapsed": false,
    "pycharm": {
     "name": "#%% md\n"
    },
    "id": "3hTNOovMRUco"
   },
   "source": [
    "Test volgende methodes uit op lijst `a`:\n",
    "* `.copy()`\n",
    "* `.remove()`\n",
    "* `.pop()`"
   ]
  },
  {
   "cell_type": "code",
   "metadata": {
    "pycharm": {
     "name": "#%%\n"
    },
    "id": "P2H6j-ToRUco",
    "colab": {
     "base_uri": "https://localhost:8080/"
    },
    "executionInfo": {
     "status": "ok",
     "timestamp": 1614255492846,
     "user_tz": -60,
     "elapsed": 1319,
     "user": {
      "displayName": "Maarten Heylen",
      "photoUrl": "",
      "userId": "01598807576603538646"
     }
    },
    "outputId": "25d2e6a8-b7a1-4894-dabf-a1e7f4be2a28"
   },
   "source": [
    "b = a.copy()\n",
    "b.remove(10)\n",
    "b.pop()\n",
    "b"
   ],
   "execution_count": null,
   "outputs": [
    {
     "output_type": "execute_result",
     "data": {
      "text/plain": [
       "[['Hello', 10.3], 10]"
      ]
     },
     "metadata": {
      "tags": []
     },
     "execution_count": 14
    }
   ]
  },
  {
   "cell_type": "markdown",
   "metadata": {
    "collapsed": false,
    "id": "vqgFSU5mXy_S"
   },
   "source": [
    "Maak een nieuwe lijst een overloop deze met een for-loop. Dat kan je als volgt doen:\n",
    "\n",
    "```python\n",
    "a = je_lijst\n",
    "\n",
    "for element in a:\n",
    "    # doe iets met het element\n",
    "```\n",
    "\n",
    "Je kan ook de indexen van de element van lijst gebruiken als extra gegeven. Dat doe je zo:\n",
    "```python\n",
    "a = je_lijst\n",
    "\n",
    "for i, element in enumerate(a):\n",
    "    # doe iets met element of zijn index i\n",
    "```\n",
    "\n",
    "De `enumerate`-functie geeft een zogenaamd `tuple` terug en dus moet je twee variabelen (`i` en `element`) hebben om de waarden ervan op te vangen. Tuples komen verder nog aan bod.\n",
    "\n",
    "Overloop de lijst van de letters van het alfabet en print ze uit met hun index. De lijst van letters van het alfabet zijn beschikbaar in de `string` library. Print alleen de kleine letters uit.\n",
    "\n",
    "```python\n",
    "import string\n",
    "string.ascii_letters  # dit is de lijst van lettters.\n",
    "```"
   ]
  },
  {
   "cell_type": "code",
   "metadata": {
    "pycharm": {
     "name": "#%%\n"
    },
    "id": "7qBtQ26sXy_T",
    "colab": {
     "base_uri": "https://localhost:8080/"
    },
    "executionInfo": {
     "status": "ok",
     "timestamp": 1614255492846,
     "user_tz": -60,
     "elapsed": 1315,
     "user": {
      "displayName": "Maarten Heylen",
      "photoUrl": "",
      "userId": "01598807576603538646"
     }
    },
    "outputId": "00ba878c-ab79-4f13-99f0-8d9c829f22ee"
   },
   "source": [
    "import string\n",
    "for i, letter in enumerate(string.ascii_letters):\n",
    "    if letter.islower():\n",
    "        print(i,letter)"
   ],
   "execution_count": null,
   "outputs": [
    {
     "output_type": "stream",
     "text": [
      "0 a\n",
      "1 b\n",
      "2 c\n",
      "3 d\n",
      "4 e\n",
      "5 f\n",
      "6 g\n",
      "7 h\n",
      "8 i\n",
      "9 j\n",
      "10 k\n",
      "11 l\n",
      "12 m\n",
      "13 n\n",
      "14 o\n",
      "15 p\n",
      "16 q\n",
      "17 r\n",
      "18 s\n",
      "19 t\n",
      "20 u\n",
      "21 v\n",
      "22 w\n",
      "23 x\n",
      "24 y\n",
      "25 z\n"
     ],
     "name": "stdout"
    }
   ]
  },
  {
   "cell_type": "markdown",
   "metadata": {
    "collapsed": false,
    "id": "fL5tlfUmXy_T"
   },
   "source": [
    "Een handige manier om een lijst te **maken** is door gebruik te maken van een **list comprehension**. Een eenvoudige list comprehension zie je hieronder. Het is niet meer dan een for-loop die binnen vierkante (`[]`) staat.\n",
    "\n",
    "```python\n",
    "[doe_iets_met(x) for x in lijst]\n",
    "```\n",
    "Onderstaand voorbeeld maakt een lijst van strings met een volgnummer. Daarbij wordt gebruik gemaakt van een formateerstring.\n",
    "\n",
    "```python\n",
    "['vraag {}'.format(i) for i in range(1,21)]\n",
    "```\n",
    "Maak nu een lijst van kwadraten, genaamd `kwadraten`, van alle **even getallen** tussen 0 en 50 (inbegrepen)."
   ]
  },
  {
   "cell_type": "code",
   "metadata": {
    "pycharm": {
     "name": "#%%\n"
    },
    "id": "Y4atNpxkXy_U",
    "colab": {
     "base_uri": "https://localhost:8080/"
    },
    "executionInfo": {
     "status": "ok",
     "timestamp": 1614255492847,
     "user_tz": -60,
     "elapsed": 1313,
     "user": {
      "displayName": "Maarten Heylen",
      "photoUrl": "",
      "userId": "01598807576603538646"
     }
    },
    "outputId": "2f715d9b-2dd0-435b-ecd9-3785c01a7be5"
   },
   "source": [
    "kwadraten = [math.pow(i,2) for i in range(0,51,2)]\n",
    "kwadraten"
   ],
   "execution_count": null,
   "outputs": [
    {
     "output_type": "execute_result",
     "data": {
      "text/plain": [
       "[0.0,\n",
       " 4.0,\n",
       " 16.0,\n",
       " 36.0,\n",
       " 64.0,\n",
       " 100.0,\n",
       " 144.0,\n",
       " 196.0,\n",
       " 256.0,\n",
       " 324.0,\n",
       " 400.0,\n",
       " 484.0,\n",
       " 576.0,\n",
       " 676.0,\n",
       " 784.0,\n",
       " 900.0,\n",
       " 1024.0,\n",
       " 1156.0,\n",
       " 1296.0,\n",
       " 1444.0,\n",
       " 1600.0,\n",
       " 1764.0,\n",
       " 1936.0,\n",
       " 2116.0,\n",
       " 2304.0,\n",
       " 2500.0]"
      ]
     },
     "metadata": {
      "tags": []
     },
     "execution_count": 16
    }
   ]
  },
  {
   "cell_type": "markdown",
   "metadata": {
    "collapsed": false,
    "id": "JMWs5jLlXy_U"
   },
   "source": [
    "Ander handige functies zijn `zip` en `map`. Hieronder vind je een korte toelichten over wat ze doen en hoe je ermee kan werken. Ze komen verderop in de cursus nog terug aan bod.\n",
    "\n",
    "* `zip`: kan 2 of meerdere lijsten elementgewijs aan elkaar rijgen (zoals een rits). Het maakt een `zip`-object aan. Om er een lijst van te maken moet je er nog de `list`-functie op loslaten: `list(zip(lijst1, lijst2, lijst3,...))`.\n",
    "* `map`: kan een functie toepassen op alle elementen van een lijst. Het produceert een `map`-object. Gebruik weer de `list`-functie om er een lijst van te maken.\n",
    "\n",
    "Pas zip toe op je de lijst van **even getallen** en de bijhorende `kwadraten` uit de vorige opdracht, zodat je een lijst krijgt die er als volgt uit ziet:\n",
    "\n",
    "```python\n",
    "[(0, 0.0), (2, 4.0), (4, 16.0), ..., (50, 2500.0)]\n",
    "```\n",
    "Gebruik `map` om de functie `str.islower` (zonder haakjes) toe te passen op de letters van het alfabet."
   ]
  },
  {
   "cell_type": "code",
   "metadata": {
    "pycharm": {
     "name": "#%%\n"
    },
    "id": "pSs1EH-5Xy_U",
    "colab": {
     "base_uri": "https://localhost:8080/"
    },
    "executionInfo": {
     "status": "ok",
     "timestamp": 1614255492848,
     "user_tz": -60,
     "elapsed": 1311,
     "user": {
      "displayName": "Maarten Heylen",
      "photoUrl": "",
      "userId": "01598807576603538646"
     }
    },
    "outputId": "2b1c1142-b7b1-4292-c132-9653fba3401b"
   },
   "source": [
    "list(zip(range(0,51,2), kwadraten))\n",
    "list(map(str.islower, string.ascii_letters))"
   ],
   "execution_count": null,
   "outputs": [
    {
     "output_type": "execute_result",
     "data": {
      "text/plain": [
       "[True,\n",
       " True,\n",
       " True,\n",
       " True,\n",
       " True,\n",
       " True,\n",
       " True,\n",
       " True,\n",
       " True,\n",
       " True,\n",
       " True,\n",
       " True,\n",
       " True,\n",
       " True,\n",
       " True,\n",
       " True,\n",
       " True,\n",
       " True,\n",
       " True,\n",
       " True,\n",
       " True,\n",
       " True,\n",
       " True,\n",
       " True,\n",
       " True,\n",
       " True,\n",
       " False,\n",
       " False,\n",
       " False,\n",
       " False,\n",
       " False,\n",
       " False,\n",
       " False,\n",
       " False,\n",
       " False,\n",
       " False,\n",
       " False,\n",
       " False,\n",
       " False,\n",
       " False,\n",
       " False,\n",
       " False,\n",
       " False,\n",
       " False,\n",
       " False,\n",
       " False,\n",
       " False,\n",
       " False,\n",
       " False,\n",
       " False,\n",
       " False,\n",
       " False]"
      ]
     },
     "metadata": {
      "tags": []
     },
     "execution_count": 17
    }
   ]
  },
  {
   "cell_type": "markdown",
   "metadata": {
    "collapsed": false,
    "id": "NzB9CKihRUcq"
   },
   "source": [
    "### Oefening 3 - Meer dimensionele lijsten"
   ]
  },
  {
   "cell_type": "markdown",
   "metadata": {
    "collapsed": false,
    "pycharm": {
     "name": "#%% md\n"
    },
    "id": "VKUCgJYJRUcq"
   },
   "source": [
    "Maak een nieuwe Python lijst `a` die op zichzelf bestaat uit twee lijsten. Dit kan je doen door tweemaal de vierkante haken te gebruiken.\n",
    "\n",
    "```python\n",
    "a = [\n",
    "        [1,2,3],\n",
    "        [4,5,6],\n",
    "        ...\n",
    "    ]\n",
    "```\n",
    "Maak een twee dimensionele lijst aan met 3 rijen en 4 kolommen met de getallen 1 t.e.m. 12. Doe dit op drie manieren:\n",
    "* door alle waarden zelf uit te schrijven\n",
    "* door gebruik te maken van de range()-functie\n",
    "* door gebruikt te maken van een dubbele list comprehension (dit is wat moeilijker)."
   ]
  },
  {
   "cell_type": "code",
   "metadata": {
    "pycharm": {
     "name": "#%%\n"
    },
    "id": "ecvABmFaRUcq",
    "colab": {
     "base_uri": "https://localhost:8080/"
    },
    "executionInfo": {
     "status": "ok",
     "timestamp": 1614255492848,
     "user_tz": -60,
     "elapsed": 1305,
     "user": {
      "displayName": "Maarten Heylen",
      "photoUrl": "",
      "userId": "01598807576603538646"
     }
    },
    "outputId": "d66a6419-9d31-485a-efb8-83b6860024f3"
   },
   "source": [
    "a = [[1,2,3,4],[5,6,7,8],[9,10,11,12]]\n",
    "a = [list(range(1,5)), list(range(5,9)), list(range(9,13))]\n",
    "a = [[e + i for e in range(0,4)] for i in range(1,10,4)]\n",
    "\n",
    "print(a)"
   ],
   "execution_count": null,
   "outputs": [
    {
     "output_type": "stream",
     "text": [
      "[[1, 2, 3, 4], [5, 6, 7, 8], [9, 10, 11, 12]]\n"
     ],
     "name": "stdout"
    }
   ]
  },
  {
   "cell_type": "markdown",
   "metadata": {
    "collapsed": false,
    "pycharm": {
     "name": "#%% md\n"
    },
    "id": "oIAerhtURUcq"
   },
   "source": [
    "Print de lengtes van de verschillende dimensies van je twee dimensionele lijst. Pas de `len()`-functie toe op je totale lijst en op de rijen van je lijst. Kan je de dimensies (3 x 4) achterhalen?"
   ]
  },
  {
   "cell_type": "code",
   "metadata": {
    "pycharm": {
     "name": "#%%\n"
    },
    "id": "W1ovPHhWRUcr",
    "colab": {
     "base_uri": "https://localhost:8080/"
    },
    "executionInfo": {
     "status": "ok",
     "timestamp": 1614255493153,
     "user_tz": -60,
     "elapsed": 1607,
     "user": {
      "displayName": "Maarten Heylen",
      "photoUrl": "",
      "userId": "01598807576603538646"
     }
    },
    "outputId": "a1a2a398-374e-4c9c-96e6-7a5c59d24a5b"
   },
   "source": [
    "print(len(a))\n",
    "print(len(a[0]))"
   ],
   "execution_count": null,
   "outputs": [
    {
     "output_type": "stream",
     "text": [
      "3\n",
      "4\n"
     ],
     "name": "stdout"
    }
   ]
  },
  {
   "cell_type": "markdown",
   "metadata": {
    "collapsed": false,
    "id": "b5pvzs_MXy_V"
   },
   "source": [
    "### Oefening 4 - Python functies en anonieme functies"
   ]
  },
  {
   "cell_type": "markdown",
   "source": [
    "# Nieuwe sectie"
   ],
   "metadata": {
    "id": "EhpubQoWgMos"
   }
  },
  {
   "cell_type": "markdown",
   "metadata": {
    "collapsed": false,
    "pycharm": {
     "name": "#%% md\n"
    },
    "id": "t49--hSMXy_V"
   },
   "source": [
    "Zoals je ondertussen wel weet, is Python een complete object oriented programmeertaal, en daar horen natuurlijk ook **zelfgeschreven functies** bij. Dit is een voorbeeld van een functiedefinitie:\n",
    "\n",
    "```python\n",
    "def mijn_functie( , arg2, ..., argn):\n",
    "    # hier kan je vanalles berekenen\n",
    "    # en eventueel een of meerdere waarde(n) terugggeven met\n",
    "    return a,b,c,d      # we geven 4 waarden terug in één keer terug (dit is eigenlijk een 4-tuple)\n",
    "\n",
    "a,b,c,d = mijn_functie(1, 2,..., 3)       # voorbeeld van een aanroep\n",
    "```\n",
    "Python is een *dynamically typed language* wat zoveel betekent als dat het datatype van variabelen pas tijdens de uitvoer van het programma gekend is. Dat maakt het programmeren wat lastiger omdat je makkelijker fouten zal schrijven (in tegenstelling tot Java).  Je kunt dit wat verbeteren door zelf *type hints* te schrijven.  Dat doe je zo, toegepast op bovenstaand voorbeeld:\n",
    "\n",
    "```python\n",
    "def mijn_functie(arg1 : int,arg2 : bool, ... ,argn: float):\n",
    "    # hier kan je vanalles berekenen\n",
    "    # en eventueel een of meerdere waarde(n) terugggeven met\n",
    "    return a,b,c,d      # we geven 4 waarden terug\n",
    "\n",
    "a,b,c,d = mijn_functie(1, True,..., 3.3)       # voorbeeld van een aanroep\n",
    "```\n",
    "PyCharm kan hier rekening mee houden en daarmee jou voorzien van betere code completion geven.\n",
    "\n",
    "Schrijf nu zelf een functie die de BMI berekent van een persoon o.b.v. van zijn lengte (in meter,`float`), en zijn gewicht (in kg, `float`)."
   ]
  },
  {
   "cell_type": "code",
   "metadata": {
    "pycharm": {
     "name": "#%%\n"
    },
    "id": "dIAUx4QnXy_V",
    "colab": {
     "base_uri": "https://localhost:8080/"
    },
    "executionInfo": {
     "status": "ok",
     "timestamp": 1614255493156,
     "user_tz": -60,
     "elapsed": 1606,
     "user": {
      "displayName": "Maarten Heylen",
      "photoUrl": "",
      "userId": "01598807576603538646"
     }
    },
    "outputId": "6a5ed737-6dd0-49f6-ccbc-9e337e97cd48"
   },
   "source": [
    "def bmi(lengte: float, gewicht: float):\n",
    "    return gewicht/ math.pow(lengte,2)\n",
    "\n",
    "bmi(1.75,72.4)"
   ],
   "execution_count": null,
   "outputs": [
    {
     "output_type": "execute_result",
     "data": {
      "text/plain": [
       "23.640816326530615"
      ]
     },
     "metadata": {
      "tags": []
     },
     "execution_count": 20
    }
   ]
  },
  {
   "cell_type": "markdown",
   "metadata": {
    "collapsed": false,
    "pycharm": {
     "name": "#%% md\n"
    },
    "id": "44qRZfiRXy_X"
   },
   "source": [
    "We maken nu twee lijsten aan met lengtes en gewichten van personen.\n",
    "\n",
    "```python\n",
    "lengten =   [1.75, 1.81, 1.65, 1.93]\n",
    "gewichten = [72.5, 83, 57.4, 103]\n",
    "```\n",
    "Pas nu jouw bmi-functie toe op zowel `lengten` als `gewichten` m.b.v. de `map`-functie. Geef daarbij de twee lijsten mee als argumenten. Zoals je al weet is het resultaat van de `map`-functie een `map`-object en geen lijst waardoor je het resultaat niet kan 'zien'. Je kan het `map`-object wel omzetten naar een list door gebruik te maken van de `list()`-functie, dus zoiets:\n",
    "\n",
    "```python\n",
    "m = map(....)\n",
    "list(m)\n",
    "```\n",
    "\n",
    "Hiermee zou je dan dit resultaat moeten bekomen.\n",
    "```python\n",
    "[23.6734693877551, 25.33500198406642, 21.08356290174472, 27.65174904024269]\n",
    "```"
   ]
  },
  {
   "cell_type": "code",
   "metadata": {
    "pycharm": {
     "name": "#%%\n"
    },
    "id": "qgvKVy7DXy_X",
    "colab": {
     "base_uri": "https://localhost:8080/"
    },
    "executionInfo": {
     "status": "ok",
     "timestamp": 1614255493157,
     "user_tz": -60,
     "elapsed": 1604,
     "user": {
      "displayName": "Maarten Heylen",
      "photoUrl": "",
      "userId": "01598807576603538646"
     }
    },
    "outputId": "c4be7d3a-b489-46ab-925f-a6b28c815a12"
   },
   "source": [
    "lengten =   [1.75, 1.81, 1.65, 1.93]\n",
    "gewichten = [72.5, 83, 57.4, 103]\n",
    "list(map(bmi,lengten, gewichten))"
   ],
   "execution_count": null,
   "outputs": [
    {
     "output_type": "execute_result",
     "data": {
      "text/plain": [
       "[23.6734693877551, 25.33500198406642, 21.08356290174472, 27.65174904024269]"
      ]
     },
     "metadata": {
      "tags": []
     },
     "execution_count": 21
    }
   ]
  },
  {
   "cell_type": "markdown",
   "metadata": {
    "collapsed": false,
    "pycharm": {
     "name": "#%% md\n"
    },
    "id": "7KK4aXPhXy_X"
   },
   "source": [
    "Soms ga je maar hele kleine functies schrijven waarvoor geen volledige functiedefinitie nodig is. Vaak worden ze **anonieme functies** genoemd. In Python herken je ze aan het keyword `lambda`.\n",
    "\n",
    "```python\n",
    "lambda x,y,z: # doe iets met x,y en z\n",
    "```\n",
    "Deze functie heeft 3 argumenten (x,y en z) en wordt meestal op één regel geschreven.\n",
    "\n",
    "Een `lambda`-functie wordt meestal gecombineerd met `map` (of `apply`, die zie je later bij Pandas). Dit voorbeeld overloopt twee lijsten en berekent de elementgewijse som van de elementen.\n",
    "\n",
    "```python\n",
    "list(map(lambda x, y: x + y, [1,2,3],[4,5,6]))\n",
    "```\n",
    "Bereken de **vierkantswortel** van de elementen uit de volgende lijst: `[0,1,2]`. Je zou deze waarden `[0.0, 1.0, 1.4142135623730951]` moeten bekomen."
   ]
  },
  {
   "cell_type": "code",
   "metadata": {
    "pycharm": {
     "name": "#%%\n"
    },
    "id": "2Ve_iQ0eXy_Y",
    "colab": {
     "base_uri": "https://localhost:8080/"
    },
    "executionInfo": {
     "status": "ok",
     "timestamp": 1614255493158,
     "user_tz": -60,
     "elapsed": 1602,
     "user": {
      "displayName": "Maarten Heylen",
      "photoUrl": "",
      "userId": "01598807576603538646"
     }
    },
    "outputId": "7344494f-b04f-4a0f-aa7e-ee49e0c74ca9"
   },
   "source": [
    "list(map(lambda x : math.sqrt(x), [0,1,2]))"
   ],
   "execution_count": null,
   "outputs": [
    {
     "output_type": "execute_result",
     "data": {
      "text/plain": [
       "[0.0, 1.0, 1.4142135623730951]"
      ]
     },
     "metadata": {
      "tags": []
     },
     "execution_count": 22
    }
   ]
  },
  {
   "cell_type": "markdown",
   "metadata": {
    "collapsed": false,
    "id": "GqJpFAlJXy_Y"
   },
   "source": []
  }
 ]
}
