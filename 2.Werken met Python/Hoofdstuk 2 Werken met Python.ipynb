{
 "cells": [
  {
   "cell_type": "markdown",
   "source": [
    "# Python Introductie"
   ],
   "metadata": {
    "collapsed": false,
    "id": "QmIrJBiWUv5W"
   }
  },
  {
   "cell_type": "markdown",
   "source": [
    "## Python basics"
   ],
   "metadata": {
    "collapsed": false,
    "id": "ZIlvJvvKUv5Y"
   }
  },
  {
   "cell_type": "markdown",
   "source": [
    "### Codeblokken\n",
    "\n",
    "Python gebruikt spaties om blokken code te definiëren. Hieronder zie je een voorbeeld van een if-statement. De code die onder de if-statement valt is ingesprongen. Dit is een vereiste in Python. Als je de code niet inspringt, dan krijg je een foutmelding.\n",
    "\n",
    "```python\n",
    "if 5 > 2:\n",
    "    print(\"Five is greater than two!\")\n",
    "```\n",
    "Merk op dat je ook **geen haakjes** hoeft te gebruiken. Dit is een groot verschil met andere programmeertalen zoals Java en C#."
   ],
   "metadata": {
    "collapsed": false,
    "id": "LYwq3or_Uv5Z"
   }
  },
  {
   "cell_type": "markdown",
   "source": [
    "Hieronder zie je een if-statement die kijkt of 10 groter is dan 5. Als dit zo is, dan print je \"10 is groter dan 5\". Voeg ook een else-statement toe die \"10 is niet groter dan 5\" print als de if-statement niet waar is."
   ],
   "metadata": {
    "collapsed": false,
    "id": "R2v4EqtWUv5a"
   }
  },
  {
   "cell_type": "code",
   "execution_count": 1,
   "metadata": {
    "collapsed": true,
    "id": "7uVWXHWQUv5b",
    "outputId": "562bd662-c2e9-4e20-82a7-f8eaba09e2ce",
    "colab": {
     "base_uri": "https://localhost:8080/"
    },
    "executionInfo": {
     "status": "ok",
     "timestamp": 1676534372719,
     "user_tz": -60,
     "elapsed": 7,
     "user": {
      "displayName": "Rony Baekeland",
      "userId": "01731985152349302060"
     }
    }
   },
   "outputs": [
    {
     "name": "stdout",
     "output_type": "stream",
     "text": [
      "10 is groter dan 5\n"
     ]
    }
   ],
   "source": [
    "if 10 > 5:\n",
    "    print(\"10 is groter dan 5\")\n",
    "else:\n",
    "    print(\"10 is niet groter dan 5\")"
   ]
  },
  {
   "cell_type": "markdown",
   "source": [
    "\n",
    "Je merkt dat we geen **puntkomma's** gebruiken om statements te beëindigen. Dit is een ander groot verschil met andere programmeertalen. In Python is het niet nodig om statements te beëindigen met een semicolon. Python weet zelf wanneer een statement eindigt.\n",
    "\n",
    "Commentaar kan je schrijven met een hashtag (#). Python zal deze regels negeren.\n",
    "\n",
    "```python\n",
    "# Dit is een commentaar\n",
    "print(\"Hello World\") # Dit is ook een commentaar\n",
    "```"
   ],
   "metadata": {
    "collapsed": false,
    "id": "_JOg1vHPUv5c"
   }
  },
  {
   "cell_type": "code",
   "execution_count": null,
   "outputs": [
    {
     "data": {
      "text/plain": "'\\nDit is een commentaar\\nop meerdere regels\\n'"
     },
     "execution_count": 5,
     "metadata": {},
     "output_type": "execute_result"
    }
   ],
   "source": [
    "'''\n",
    "Dit is een commentaar\n",
    "op meerdere regels\n",
    "'''"
   ],
   "metadata": {
    "id": "SQB7xNdqUv5d",
    "outputId": "a75f9015-1f29-4bd4-e8aa-9ec13ec8accf"
   }
  },
  {
   "cell_type": "markdown",
   "source": [
    "### Variabelen\n",
    "\n",
    "Variabelen hebben een datatype. Dit kan een integer, float, string, boolean of een andere variabele zijn. Je kan variabelen declareren door een naam te geven aan een waarde. Je kan de waarde van een variabele later nog veranderen. Het datatype van een variabele kan je opvragen met de functie `type()`. Het datatype kan veranderen door een andere waarde aan de variabele toe te kennen. Python is een **dynamisch getypeerde** taal. Dit betekent dat je niet expliciet hoeft aan te geven welk datatype een variabele heeft. Python bepaalt dit zelf in tegenstelling tot bijvoorbeeld Java en C#."
   ],
   "metadata": {
    "collapsed": false,
    "id": "6haumFC5Uv5e"
   }
  },
  {
   "cell_type": "code",
   "execution_count": null,
   "outputs": [],
   "source": [
    "een_int = 5\n",
    "een_float = 5.0\n",
    "een_string = 'Een string kan je schrijven met enkele quotes of dubbele quotes'\n",
    "een_string_met_een_string = \"Soms heb je dubbele quotes nodig voor 'string' in een string bv.\"\n",
    "een_boolean = False\n",
    "een_andere_int = een_int"
   ],
   "metadata": {
    "id": "qdPtbJu5Uv5f"
   }
  },
  {
   "cell_type": "code",
   "execution_count": null,
   "outputs": [
    {
     "output_type": "stream",
     "name": "stdout",
     "text": [
      "<class 'int'>\n",
      "<class 'float'>\n",
      "<class 'str'>\n",
      "<class 'bool'>\n",
      "<class 'int'>\n"
     ]
    }
   ],
   "source": [
    "print(type(een_int))\n",
    "print(type(een_float))\n",
    "print(type(een_string))\n",
    "print(type(een_boolean))\n",
    "print(type(een_andere_int))"
   ],
   "metadata": {
    "id": "0jeqpTAVUv5g",
    "outputId": "c556127b-1885-4419-d0d9-0a08be57f3b4",
    "colab": {
     "base_uri": "https://localhost:8080/"
    },
    "executionInfo": {
     "status": "ok",
     "timestamp": 1676534407653,
     "user_tz": -60,
     "elapsed": 242,
     "user": {
      "displayName": "Rony Baekeland",
      "userId": "01731985152349302060"
     }
    }
   }
  },
  {
   "cell_type": "markdown",
   "source": [
    "### Operatoren\n",
    "\n",
    "Python heeft een aantal basis operatoren. Je kan een overzicht van deze operatoren vinden op de [Python website](https://docs.python.org/3/library/stdtypes.html#numeric-types-int-float-complex). Hieronder zie je een aantal voorbeelden van operatoren."
   ],
   "metadata": {
    "collapsed": false,
    "id": "Avu64uobUv5i"
   }
  },
  {
   "cell_type": "code",
   "execution_count": 1,
   "outputs": [
    {
     "output_type": "stream",
     "name": "stdout",
     "text": [
      "10\n",
      "0\n",
      "25\n",
      "1.0\n",
      "3125\n",
      "2\n",
      "1\n"
     ]
    }
   ],
   "source": [
    "print(5 + 5)\n",
    "print(5 - 5)\n",
    "print(5 * 5)\n",
    "print(5 / 5)\n",
    "print(5 ** 5)\n",
    "print(12 % 5)\n",
    "print(5 // 5)"
   ],
   "metadata": {
    "id": "bBCBQwXcUv5i",
    "outputId": "7cad10d7-f134-40f4-c212-a35af845300e",
    "colab": {
     "base_uri": "https://localhost:8080/"
    },
    "executionInfo": {
     "status": "ok",
     "timestamp": 1676550428471,
     "user_tz": -60,
     "elapsed": 8,
     "user": {
      "displayName": "Rony Baekeland",
      "userId": "01731985152349302060"
     }
    }
   }
  },
  {
   "cell_type": "markdown",
   "source": [
    "Er zijn natuurlijk ook toekenningsoperatoren. Deze operatoren worden gebruikt om een waarde aan een variabele toe te kennen. De meest gebruikte toekenning operatoren zijn `=`, `+=`, `-=`, `*=`, `/=` en `**=`. Hieronder zie je een voorbeeld van deze operatoren. Enkele voorbeelden van toekenning operatoren:"
   ],
   "metadata": {
    "collapsed": false,
    "id": "AAYx9_69Uv5j"
   }
  },
  {
   "cell_type": "code",
   "execution_count": 2,
   "outputs": [
    {
     "output_type": "stream",
     "name": "stdout",
     "text": [
      "5\n",
      "10\n",
      "5\n",
      "25\n",
      "5.0\n",
      "3125.0\n"
     ]
    }
   ],
   "source": [
    "een_int = 5\n",
    "print(een_int)\n",
    "een_int += 5\n",
    "print(een_int)\n",
    "een_int -= 5 #een_int=een_int-5\n",
    "print(een_int)\n",
    "een_int *= 5 #een_int=een_int*5\n",
    "print(een_int)\n",
    "een_int /= 5# een_int=een_int/5\n",
    "print(een_int)\n",
    "een_int **= 5 # een_int=een_int**5\n",
    "print(een_int)"
   ],
   "metadata": {
    "id": "uMryZzWoUv5j",
    "colab": {
     "base_uri": "https://localhost:8080/"
    },
    "executionInfo": {
     "status": "ok",
     "timestamp": 1676550477715,
     "user_tz": -60,
     "elapsed": 246,
     "user": {
      "displayName": "Rony Baekeland",
      "userId": "01731985152349302060"
     }
    },
    "outputId": "6f96bb76-7d57-485b-ff21-f9d3ca67a16e"
   }
  },
  {
   "cell_type": "markdown",
   "source": [
    "Andere operatoren zijn `==`, `!=`, `>`, `<`, `>=` en `<=`. Deze operatoren worden gebruikt om te vergelijken of twee waarden gelijk zijn, niet gelijk zijn, groter zijn, kleiner zijn, groter of gelijk zijn of kleiner of gelijk zijn. Deze operatoren geven een boolean terug. Een boolean is een waarde die `True` of `False` kan zijn.\n",
    "\n",
    "\n",
    "```\n",
    "Tip: in DataSpell kan je ligaturen gebruiken om de operatoren te schrijven. Zo kan je `>=` schrijven als `≥` en `<=` als `≤`.\n",
    "Je vindt deze instelling in de settings van DataSpell. Zoek naar **ligatures** in de zoekbalk.\n",
    "```\n",
    "\n",
    "Enkele voorbeelden van vergelijkingsoperatoren:"
   ],
   "metadata": {
    "collapsed": false,
    "id": "Qf9l-Y-yUv5k"
   }
  },
  {
   "cell_type": "code",
   "execution_count": null,
   "outputs": [
    {
     "name": "stdout",
     "output_type": "stream",
     "text": [
      "True\n",
      "False\n",
      "False\n",
      "False\n",
      "True\n",
      "True\n"
     ]
    }
   ],
   "source": [
    "print(5 == 5)\n",
    "print(5 != 5)\n",
    "print(5 > 5)\n",
    "print(5 < 5)\n",
    "print(5 >= 5)\n",
    "print(5 <= 5)"
   ],
   "metadata": {
    "id": "5VqKM1oBUv5l",
    "outputId": "73eedb3f-75ca-48b1-f6d0-3015b4e5e013"
   }
  },
  {
   "cell_type": "markdown",
   "source": [
    "## Controlestructuren\n",
    "\n",
    "### If-statement\n",
    "\n",
    "Een if-statement is een controlestructuur die je kan gebruiken om een stuk code uit te voeren als een bepaalde conditie waar is. Je kan een if-statement schrijven met de volgende syntax:\n",
    "\n",
    "```python\n",
    "if conditie:\n",
    "    # code die uitgevoerd wordt als de conditie waar is\n",
    "```\n",
    "\n",
    "Je kan ook een else-statement toevoegen aan een if-statement. Een else-statement wordt uitgevoerd als de conditie van het if-statement niet waar is.\n",
    "\n",
    "```python\n",
    "if conditie:\n",
    "    # code die uitgevoerd wordt als de conditie waar is\n",
    "else:\n",
    "    # code die uitgevoerd wordt als de conditie niet waar is\n",
    "```\n",
    "\n",
    "Je kan ook een elif-statement toevoegen aan een if-statement. Een elif-statement is een else-if-statement. Een elif-statement wordt uitgevoerd als de conditie van het if-statement niet waar is en de conditie van het elif-statement wel waar is.\n",
    "\n",
    "```python\n",
    "if conditie:\n",
    "    # code die uitgevoerd wordt als de conditie waar is\n",
    "elif conditie:\n",
    "    # code die uitgevoerd wordt als de conditie van het if-statement niet waar is en de conditie van het elif-statement wel waar is\n",
    "else:\n",
    "    # code die uitgevoerd wordt als de conditie van het if-statement niet waar is en de conditie van het elif-statement niet waar is\n",
    "```\n",
    "\n",
    "Enkele voorbeelden van if-statements:"
   ],
   "metadata": {
    "collapsed": false,
    "id": "Z-HqhDHYUv5l"
   }
  },
  {
   "cell_type": "code",
   "execution_count": null,
   "outputs": [
    {
     "name": "stdout",
     "output_type": "stream",
     "text": [
      "5 is gelijk aan 5\n",
      "5 is gelijk aan 5\n",
      "5 is gelijk aan 5\n"
     ]
    }
   ],
   "source": [
    "if 5 == 5:\n",
    "    print('5 is gelijk aan 5')\n",
    "\n",
    "if 5 != 5:\n",
    "    print('5 is niet gelijk aan 5')\n",
    "else:\n",
    "    print('5 is gelijk aan 5')\n",
    "\n",
    "if 5 > 5:\n",
    "    print('5 is groter dan 5')\n",
    "elif 5 < 5:\n",
    "    print('5 is kleiner dan 5')\n",
    "else:\n",
    "    print('5 is gelijk aan 5')"
   ],
   "metadata": {
    "id": "l4hnsZIxUv5m",
    "outputId": "276aca5d-4b2c-4c3c-919c-fd50a3ff4839"
   }
  },
  {
   "cell_type": "markdown",
   "source": [
    "### For-loop\n",
    "\n",
    "Een for-loop is een controlestructuur die je kan gebruiken om een stuk code een bepaald aantal keer uit te voeren. Je kan een for-loop schrijven met de volgende syntax:\n",
    "\n",
    "```python\n",
    "for variabele in iterable:\n",
    "    # code die uitgevoerd wordt\n",
    "```\n"
   ],
   "metadata": {
    "collapsed": false,
    "id": "YhGfhuHwUv5m"
   }
  },
  {
   "cell_type": "code",
   "execution_count": null,
   "outputs": [
    {
     "name": "stdout",
     "output_type": "stream",
     "text": [
      "a b c \n",
      "0 1 2 3 4 \n",
      "5 6 7 8 9 \n",
      "5 7 9 \n",
      "10 9 8 7 6 "
     ]
    }
   ],
   "source": [
    "# [a, b, c] is een list. Een list is een iterable zoals in Java.\n",
    "for i in ['a', 'b', 'c']:\n",
    "    print(i, end=' ')\n",
    "\n",
    "print()\n",
    "for i in range(5):\n",
    "    print(i, end=' ')\n",
    "\n",
    "print()\n",
    "for i in range(5, 10):\n",
    "    print(i, end=' ')\n",
    "\n",
    "print()\n",
    "for i in range(5, 10, 2):\n",
    "    print(i, end=' ')\n",
    "\n",
    "print()\n",
    "for i in range(10, 5, -1):\n",
    "    print(i, end=' ')\n"
   ],
   "metadata": {
    "id": "Ii7YS1_4Uv5m",
    "outputId": "5650ba4c-363c-4ebf-8bb8-214f60e8db5e"
   }
  },
  {
   "cell_type": "markdown",
   "source": [
    "## Strings\n",
    "\n",
    "We kennen strings natuurlijk al uit Java. Ook in Python zijn string een reeks van karakters. Je kan strings declareren met enkele quotes of dubbele quotes. Je kan strings ook declareren met triple quotes. Dit is handig als je een string wil declareren die meerdere regels bevat. Je kan strings ook aan elkaar plakken (concateren) met de `+` operator. Je kan ook een string vermenigvuldigen met een integer. Dit is handig als je een string wil herhalen.\n"
   ],
   "metadata": {
    "collapsed": false,
    "id": "84YkDqdxUv5n"
   }
  },
  {
   "cell_type": "code",
   "execution_count": null,
   "outputs": [],
   "source": [
    "een_string = 'Hello World'\n",
    "een_andere_string = \"Hello World\"\n",
    "een_string_met_meerdere_regels = \"\"\"Hello\n",
    "World, dit is een string\n",
    "met meerdere regels\"\"\""
   ],
   "metadata": {
    "id": "T3cJOI4AUv5o"
   }
  },
  {
   "cell_type": "code",
   "execution_count": null,
   "outputs": [
    {
     "name": "stdout",
     "output_type": "stream",
     "text": [
      "Hello World\n",
      "Hello World\n",
      "Hello\n",
      "World, dit is een string\n",
      "met meerdere regels\n"
     ]
    }
   ],
   "source": [
    "print(een_string)\n",
    "print(een_andere_string)\n",
    "print(een_string_met_meerdere_regels)"
   ],
   "metadata": {
    "id": "NaKagKdoUv5o",
    "outputId": "79b29344-7de7-4d88-c69a-1ce3603c69ec"
   }
  },
  {
   "cell_type": "code",
   "execution_count": null,
   "outputs": [
    {
     "name": "stdout",
     "output_type": "stream",
     "text": [
      "Hello WorldHello World\n",
      "Hello WorldHello WorldHello WorldHello WorldHello World\n",
      "True\n"
     ]
    }
   ],
   "source": [
    "print(een_string + een_andere_string)\n",
    "print(een_string * 5)\n",
    "print(een_string == een_andere_string)  # strings vergelijken doe je met =="
   ],
   "metadata": {
    "id": "hCuN24c2Uv5o",
    "outputId": "96a95095-9bc1-4124-c99f-d846cdf5b2b6"
   }
  },
  {
   "cell_type": "markdown",
   "source": [
    "### Geformatteerde strings\n",
    "\n",
    "Je kan ook een variabele in een string plaatsen door de naam van de variabele te plaatsen tussen accolades en een `f` voor de string te plaatsen. Dit noemen we zoals in Java en andere talen een geformatteerde string."
   ],
   "metadata": {
    "collapsed": false,
    "id": "zLpXX4xyUv5p"
   }
  },
  {
   "cell_type": "code",
   "execution_count": null,
   "outputs": [
    {
     "output_type": "stream",
     "name": "stdout",
     "text": [
      "We printen 1.23 en Hello World uit\n",
      "We printen 5 en Hello World uit\n",
      "Een geformatteerde string printen kan ook met de format-functie: We printen 5 en Hello World uit \n"
     ]
    }
   ],
   "source": [
    "een_int = 5\n",
    "een_float = 1.23456789\n",
    "een_string = 'Hello World'\n",
    "een_geformatteerde_string = f'We printen {een_float:.2f} en {een_string} uit'\n",
    "print(een_geformatteerde_string)\n",
    "# kan ook in een keer\n",
    "print(f'We printen {een_int} en {een_string} uit')\n",
    "print(\"Een geformatteerde string printen kan ook met de format-functie: We printen {} en {} uit \".format(een_int,\n",
    "                                                                                                         een_string))"
   ],
   "metadata": {
    "id": "8V5BdvZvUv5p",
    "outputId": "420c10ad-361e-4838-81c0-6469e197ddf9",
    "colab": {
     "base_uri": "https://localhost:8080/"
    },
    "executionInfo": {
     "status": "ok",
     "timestamp": 1676534761526,
     "user_tz": -60,
     "elapsed": 246,
     "user": {
      "displayName": "Rony Baekeland",
      "userId": "01731985152349302060"
     }
    }
   }
  },
  {
   "cell_type": "markdown",
   "source": [
    "### String methodes\n",
    "\n",
    "Python heeft een aantal methodes die je kan gebruiken op strings. Je kan een overzicht van deze methodes vinden op de [Python website](https://docs.python.org/3/library/stdtypes.html#string-methods). Hieronder zie je een aantal voorbeelden van string methodes.\n"
   ],
   "metadata": {
    "collapsed": false,
    "id": "tNAbU_kXUv5p"
   }
  },
  {
   "cell_type": "code",
   "execution_count": null,
   "outputs": [
    {
     "name": "stdout",
     "output_type": "stream",
     "text": [
      "HELLO WORLD\n",
      "hello world\n",
      "Hello world\n",
      "Goodbye World\n",
      "3\n",
      "['Hello', 'World']\n",
      "['Hell', ' W', 'rld']\n",
      "Hello World\n",
      "4\n",
      "11\n"
     ]
    }
   ],
   "source": [
    "een_string = 'Hello World'\n",
    "print(een_string.upper())\n",
    "print(een_string.lower())\n",
    "print(een_string.capitalize())\n",
    "print(een_string.replace('Hello', 'Goodbye'))\n",
    "print(een_string.count('l'))\n",
    "print(een_string.split(' '))\n",
    "print(een_string.split('o'))\n",
    "print(een_string.strip())\n",
    "print(een_string.index('o'))\n",
    "print(len(een_string))\n",
    "# en nog veel meer ..."
   ],
   "metadata": {
    "id": "9grp27S5Uv5p",
    "outputId": "c5d580e7-0668-43d4-fc96-e24c0a3d2530"
   }
  },
  {
   "cell_type": "markdown",
   "source": [
    "## Functies\n"
   ],
   "metadata": {
    "collapsed": false,
    "id": "XbyTfr9mUv5q"
   }
  },
  {
   "cell_type": "markdown",
   "source": [
    "### Definieren van een functie\n",
    "\n",
    "Een functie is een stuk code dat je kan hergebruiken. Je kan een functie declareren met de volgende syntax:\n",
    "\n",
    "```python\n",
    "def functienaam(parameter1, parameter2, ...):\n",
    "    # code die uitgevoerd wordt\n",
    "    return waarde\n",
    "```\n",
    "\n",
    "**Type hinting**\n",
    "Type hinting is een manier om aan te geven welk type een parameter of returnwaarde is. Dit is handig voor de leesbaarheid van je code. Je kan type hinting gebruiken door na de naam van de parameter of returnwaarde een dubbele punt te plaatsen en het type te plaatsen. Bijvoorbeeld:\n",
    "\n",
    "```python\n",
    "def functienaam(parameter1: int, parameter2: str) -> int:\n",
    "    # code die uitgevoerd wordt\n",
    "    return waarde\n",
    "```\n",
    "\n",
    "Je kan type hinting ook gebruiken bij een variabele. Bijvoorbeeld:\n",
    "\n",
    "```python\n",
    "een_int: int = 5\n",
    "een_string: str = 'Hello World'\n",
    "```\n",
    "Het zijn geen verplichte elementen, maar het is wel een goede gewoonte om type hinting te gebruiken."
   ],
   "metadata": {
    "collapsed": false,
    "id": "ceyye25dUv5q"
   }
  },
  {
   "cell_type": "code",
   "execution_count": null,
   "outputs": [
    {
     "name": "stdout",
     "output_type": "stream",
     "text": [
      "Dit is een functie\n",
      "\n",
      "Dit is een functie met parameters\n",
      "parameter1: 5\n",
      "parameter2: 10\n"
     ]
    },
    {
     "data": {
      "text/plain": "15"
     },
     "execution_count": 7,
     "metadata": {},
     "output_type": "execute_result"
    }
   ],
   "source": [
    "def een_functie():\n",
    "    print('Dit is een functie')\n",
    "\n",
    "\n",
    "def een_functie_met_parameters(parameter1: int, parameter2: str) -> int:\n",
    "    print('Dit is een functie met parameters')\n",
    "    print(f'parameter1: {parameter1}')\n",
    "    print(f'parameter2: {parameter2}')\n",
    "    return parameter1 + int(parameter2)\n",
    "\n",
    "\n",
    "een_functie()\n",
    "print()\n",
    "een_functie_met_parameters(5, '10')"
   ],
   "metadata": {
    "id": "In2R179iUv5q",
    "outputId": "5c8d0787-2f21-4000-c99d-6ee53501947d",
    "colab": {
     "base_uri": "https://localhost:8080/"
    },
    "executionInfo": {
     "status": "ok",
     "timestamp": 1676535142710,
     "user_tz": -60,
     "elapsed": 230,
     "user": {
      "displayName": "Rony Baekeland",
      "userId": "01731985152349302060"
     }
    }
   }
  },
  {
   "cell_type": "markdown",
   "source": [
    "### Anonieme functies of lambda functies\n",
    "\n",
    "Een lambda functie is een functie die je kan declareren zonder een naam. Je kan een lambda functie declareren met de volgende syntax:\n",
    "\n",
    "```python\n",
    "lambda parameter1, parameter2, ...: waarde\n",
    "```\n",
    "\n",
    "Meestal gebruik je een lambda functie in combinatie met een andere functie. Bijvoorbeeld de `map` functie. De `map` functie is een functie die je kan gebruiken om een functie toe te passen op alle elementen van een iterable. Je kan een lambda functie gebruiken als parameter van de `map` functie.\n"
   ],
   "metadata": {
    "collapsed": false,
    "id": "KSEA19FdUv5r"
   }
  },
  {
   "cell_type": "code",
   "execution_count": null,
   "outputs": [
    {
     "output_type": "execute_result",
     "data": {
      "text/plain": [
       "8"
      ]
     },
     "metadata": {},
     "execution_count": 9
    }
   ],
   "source": [
    "een_lambda_functie = lambda x, y: x + y\n",
    "\n",
    "een_lambda_functie(3, 5)"
   ],
   "metadata": {
    "id": "qseo_TuQUv5r",
    "outputId": "74bff2e9-725b-449d-8f82-351a17edaf9c",
    "colab": {
     "base_uri": "https://localhost:8080/"
    },
    "executionInfo": {
     "status": "ok",
     "timestamp": 1676535186285,
     "user_tz": -60,
     "elapsed": 202,
     "user": {
      "displayName": "Rony Baekeland",
      "userId": "01731985152349302060"
     }
    }
   }
  },
  {
   "cell_type": "markdown",
   "source": [
    "### Hogereordefuncties\n",
    "Een hogereordefunctie is een functie die een andere functie als parameter of returnwaarde heeft.\n",
    "\n",
    "We tonen een voorbeeld van een functie die een functie als parameter heeft. We maken een functie die een andere functie als parameter heeft. Deze functie zal de functie die als parameter wordt meegegeven uitvoeren met de parameters 5 en 10. We geven de functie die we meegeven als parameter de naam `functie`.\n",
    "\n",
    "```python\n",
    "def een_functie_met_een_functie(functie):\n",
    "    print('Ik voer de functie uit die je als parameter hebt meegegeven')\n",
    "    functie(5, 10)\n",
    "```\n",
    "\n",
    "We maken een functie die twee getallen optelt en print.\n",
    "\n",
    "```python\n",
    "def optellen(x, y):\n",
    "    print(x + y)\n",
    "```\n",
    "\n",
    "We roepen de functie `een_functie_met_een_functie` aan en geven de functie `optellen` mee als parameter.\n",
    "\n",
    "```python\n",
    "een_functie_met_een_functie(optellen)\n",
    "```"
   ],
   "metadata": {
    "collapsed": false,
    "id": "CRxcZ8Q2Uv5r"
   }
  },
  {
   "cell_type": "code",
   "execution_count": null,
   "outputs": [
    {
     "name": "stdout",
     "output_type": "stream",
     "text": [
      "Ik voer optellen uit die je als parameter hebt meegegeven\n",
      "15\n",
      "Ik voer bmi uit die je als parameter hebt meegegeven\n",
      "24.691358024691358\n",
      "Ik voer <lambda> uit die je als parameter hebt meegegeven\n",
      "24.691358024691358\n"
     ]
    }
   ],
   "source": [
    "def optellen(x, y):\n",
    "    return x + y\n",
    "\n",
    "\n",
    "def bmi(gewicht: float, lengte: float) -> float:\n",
    "    return gewicht / (lengte ** 2)\n",
    "\n",
    "\n",
    "def bereken_iets(functie, gewicht, lengte):\n",
    "    print(f'Ik voer {functie.__name__} uit die je als parameter hebt meegegeven')\n",
    "    return functie(gewicht, lengte)\n",
    "\n",
    "\n",
    "print(bereken_iets(optellen, 5, 10))\n",
    "print(bereken_iets(bmi, 80, 1.80))\n",
    "print(bereken_iets(lambda x, y: x / (y ** 2), 80, 1.80))"
   ],
   "metadata": {
    "id": "lu7GorRlMLKJ",
    "outputId": "8997f4da-5545-40b4-863f-8486e8a40347"
   }
  },
  {
   "cell_type": "markdown",
   "source": [
    "## Datastructuren"
   ],
   "metadata": {
    "collapsed": false,
    "id": "REBhdK9YUv5s"
   }
  },
  {
   "cell_type": "markdown",
   "source": [
    "\n",
    "### Lists\n",
    "\n",
    "Een list is een lijst van waarden. Je kan een list declareren met vierkante haken. Je kan een list declareren met verschillende waarden. Je kan ook een list declareren met een andere list. Je kan een list declareren met een list van lists."
   ],
   "metadata": {
    "collapsed": false,
    "id": "9ng3tmWrUv5s"
   }
  },
  {
   "cell_type": "code",
   "execution_count": null,
   "outputs": [],
   "source": [
    "een_list = [1, 2, 3, 4, 5]\n",
    "een_andere_list = [1, 'Hello', 3.14, True]\n",
    "een_list_met_een_list = [1, 2, 3, [4, 5, 6]]"
   ],
   "metadata": {
    "id": "y8RTduluUv5s"
   }
  },
  {
   "cell_type": "code",
   "execution_count": null,
   "outputs": [
    {
     "name": "stdout",
     "output_type": "stream",
     "text": [
      "[1, 2, 3, 4, 5]\n",
      "[1, 'Hello', 3.14, True]\n",
      "[1, 2, 3, [4, 5, 6]]\n"
     ]
    }
   ],
   "source": [
    "print(een_list)\n",
    "print(een_andere_list)\n",
    "print(een_list_met_een_list)"
   ],
   "metadata": {
    "id": "ztCpvwrvUv5s",
    "outputId": "47c07c5c-e5be-4fa6-c6f5-076f19d9bdbd"
   }
  },
  {
   "cell_type": "markdown",
   "source": [
    "Merk op dat een lijst verschillende datatypes kan bevatten. Dit is een verschil met een array in Java. Een array of een `ArrayList` in Java kan enkel een lijst van een bepaald datatype bevatten. Een lijst kan dus een lijst van integers, strings, floats en booleans bevatten. Een lijst kan ook een lijst van lijsten bevatten. Een lijst kan ook een lijst van lijsten van lijsten bevatten. Enzovoort.\n",
    "\n",
    "Nota: eigenlijk kan het wel in Java, maar dan moet je een `List` van `Object`en maken. Dit is niet de bedoeling. Een lijst in Python kan verschillende datatypes bevatten. Dit is een voordeel van Python."
   ],
   "metadata": {
    "collapsed": false,
    "id": "DSPTgR6oUv5t"
   }
  },
  {
   "cell_type": "markdown",
   "source": [
    "#### List indexering\n",
    "\n",
    "Je kan een waarde uit een lijst halen door de naam van de lijst te gebruiken en tussen vierkante haken (`[]`) de index van de waarde te plaatsen. De index van een lijst begint bij 0. De eerste waarde in een lijst heeft dus index 0. De tweede waarde in een lijst heeft index 1. Enzovoort."
   ],
   "metadata": {
    "collapsed": false,
    "id": "5k0CVgDgUv5t"
   }
  },
  {
   "cell_type": "code",
   "execution_count": null,
   "outputs": [
    {
     "name": "stdout",
     "output_type": "stream",
     "text": [
      "1\n",
      "2\n",
      "[1, 2, 10, 4, 5]\n",
      "5\n",
      "4\n"
     ]
    }
   ],
   "source": [
    "print(een_list[0])\n",
    "print(een_list[1])\n",
    "een_list[2] = 10\n",
    "print(een_list)\n",
    "# je kan ook negatieve indexen gebruiken\n",
    "print(een_list[-1])\n",
    "print(een_list[-2])"
   ],
   "metadata": {
    "id": "iv7pzipCUv5u",
    "outputId": "be031d4e-9d39-45bb-86ce-ba35e9acc1ef"
   }
  },
  {
   "cell_type": "markdown",
   "source": [
    "#### List slicing\n",
    "\n",
    "Je kan ook een deel van een lijst halen door een slice te gebruiken. Een slice is een stuk van een lijst. Je kan een slice maken door tussen vierkante haken (`[]`) de index van de eerste waarde te plaatsen, een dubbele punt (`:`) en de index van de laatste waarde te plaatsen. De laatste waarde in de slice wordt niet mee genomen. De eerste waarde in de slice wordt wel mee genomen.\n",
    "\n",
    "Je kan ook negatieve indexen gebruiken in een slice. Als je een negatieve index gebruikt, ga je van achter naar voor. De laatste waarde in de lijst heeft index -1. De voorlaatste waarde in de lijst heeft index -2. Enzovoort.\n",
    "\n",
    "Je kan ook een stapgrootte meegeven in een slice. De stapgrootte geeft aan hoeveel waarden je over slaat. Als je een stapgrootte van 2 gebruikt, sla je elke tweede waarde over. Als je een stapgrootte van 3 gebruikt, sla je elke derde waarde over. Enzovoort. Bij negatieve stapgrootte ga je van achter naar voor."
   ],
   "metadata": {
    "collapsed": false,
    "id": "CcIMErCqUv5u"
   }
  },
  {
   "cell_type": "code",
   "execution_count": null,
   "outputs": [
    {
     "name": "stdout",
     "output_type": "stream",
     "text": [
      "[1, 2, 10, 4, 5]\n",
      "Slice van de eerste twee waarden\n",
      "[1, 2]\n",
      "Slice van de tweede en derde waarden\n",
      "[2, 10]\n",
      "Slice van de derde en vierde waarden\n",
      "[10, 4]\n",
      "Slice van de derde laatste tot voorlaatste waarde\n",
      "[10, 4]\n",
      "Slice van de laatste twee waarden\n",
      "[4, 5]\n",
      "Slice van de eerste twee waarden met stapgrootte 2\n",
      "[1, 10, 5]\n",
      "[5, 2]\n",
      "[10, 20, 10, 4, 5]\n"
     ]
    }
   ],
   "source": [
    "print(een_list)\n",
    "print('Slice van de eerste twee waarden')\n",
    "print(een_list[0:2])\n",
    "print('Slice van de tweede en derde waarden')\n",
    "print(een_list[1:3])\n",
    "print('Slice van de derde en vierde waarden')\n",
    "print(een_list[2:4])\n",
    "# je kan ook negatieve slice gebruiken\n",
    "print('Slice van de derde laatste tot voorlaatste waarde')\n",
    "print(een_list[-3:-1])\n",
    "print('Slice van de laatste twee waarden')\n",
    "print(een_list[-2:])\n",
    "# of met een stapgrootte\n",
    "print('Slice van de eerste twee waarden met stapgrootte 2')\n",
    "print(een_list[0:5:2])\n",
    "print(een_list[5:0:-3])\n",
    "# je kan ook een slice gebruiken om een waarde te veranderen\n",
    "een_list[0:2] = [10, 20]\n",
    "print(een_list)"
   ],
   "metadata": {
    "id": "vpVoi5APUv5u",
    "outputId": "af7eeaad-55fd-4c96-ab41-307e44446e21"
   }
  },
  {
   "cell_type": "markdown",
   "source": [
    "#### List methodes\n",
    "\n",
    "Python heeft een aantal methodes die je kan gebruiken op lists. Je kan een overzicht van deze methodes vinden op de [Python website](https://docs.python.org/3/tutorial/datastructures.html#more-on-lists). Hieronder zie je een aantal voorbeelden van list methodes.\n",
    "\n",
    "`append` voegt een waarde toe aan het einde van de lijst.\n",
    "`insert` voegt een waarde toe op een bepaalde index.\n",
    "`pop` haalt de laatste waarde uit de lijst.\n",
    "`remove` haalt een bepaalde waarde uit de lijst.\n",
    "`sort` sorteert de lijst.\n",
    "`reverse` keert de lijst om.\n",
    "`index` geeft de index van een bepaalde waarde in de lijst.\n",
    "`count` geeft het aantal keer dat een bepaalde waarde in de lijst voorkomt.\n",
    "`clear` verwijdert alle waarden uit de lijst."
   ],
   "metadata": {
    "collapsed": false,
    "id": "0TTVVP5gUv5v"
   }
  },
  {
   "cell_type": "code",
   "execution_count": null,
   "outputs": [
    {
     "name": "stdout",
     "output_type": "stream",
     "text": [
      "[1, 2, 3, 4, 5, 6]\n",
      "[0, 1, 2, 3, 4, 5, 6]\n",
      "[0, 1, 2, 3, 4, 5]\n",
      "[0, 1, 2, 4, 5]\n",
      "[0, 1, 2, 4, 5]\n",
      "[5, 4, 2, 1, 0]\n",
      "1\n",
      "1\n",
      "[]\n"
     ]
    }
   ],
   "source": [
    "een_list = [1, 2, 3, 4, 5]\n",
    "een_list.append(6)\n",
    "print(een_list)\n",
    "een_list.insert(0, 0)\n",
    "print(een_list)\n",
    "een_list.pop()\n",
    "print(een_list)\n",
    "een_list.remove(3)\n",
    "print(een_list)\n",
    "een_list.sort()\n",
    "print(een_list)\n",
    "een_list.reverse()\n",
    "print(een_list)\n",
    "print(een_list.index(4))\n",
    "print(een_list.count(4))\n",
    "een_list.clear()\n",
    "print(een_list)"
   ],
   "metadata": {
    "id": "2VcLl4hoUv5v",
    "executionInfo": {
     "status": "ok",
     "timestamp": 1676486290104,
     "user_tz": -60,
     "elapsed": 4,
     "user": {
      "displayName": "Rony Baekeland",
      "userId": "01731985152349302060"
     }
    },
    "outputId": "d73d47c7-d488-4930-edfb-a344f8965655",
    "colab": {
     "base_uri": "https://localhost:8080/"
    }
   }
  },
  {
   "cell_type": "markdown",
   "source": [
    "#### List comprehension\n",
    "\n",
    "List comprehension is een manier om een lijst te maken. Je kan een lijst maken door een for-loop te gebruiken. Je kan ook een lijst maken door een list comprehension te gebruiken. Een list comprehension is een compactere manier om een lijst te maken. Een list comprehension bestaat uit vier delen:\n",
    "\n",
    "- Een lijst met een naam.\n",
    "- Een for-loop.\n",
    "- Een if-statement.\n",
    "- Een expressie."
   ],
   "metadata": {
    "collapsed": false,
    "id": "e6U2QGEoUv5w"
   }
  },
  {
   "cell_type": "code",
   "execution_count": null,
   "outputs": [
    {
     "name": "stdout",
     "output_type": "stream",
     "text": [
      "[0, 1, 2, 3, 4, 5, 6, 7, 8, 9]\n",
      "[0, 2, 4, 6, 8]\n",
      "[0, 2, 4, 6, 8, 10, 12, 14, 16, 18]\n",
      "[0, 4, 8, 12, 16]\n",
      "[0, 0, 0, 0, 1, 2, 0, 2, 4, 0, 0, 0, 0, 0, 0, 0, 0, 0, 0, 0, 1, 2, 3, 4, 5, 6, 7, 8, 9, 0, 2, 4, 6, 8, 10, 12, 14, 16, 18, 0, 3, 6, 9, 12, 15, 18, 21, 24, 27, 0, 4, 8, 12, 16, 20, 24, 28, 32, 36, 0, 5, 10, 15, 20, 25, 30, 35, 40, 45, 0, 6, 12, 18, 24, 30, 36, 42, 48, 54, 0, 7, 14, 21, 28, 35, 42, 49, 56, 63, 0, 8, 16, 24, 32, 40, 48, 56, 64, 72, 0, 9, 18, 27, 36, 45, 54, 63, 72, 81]\n",
      "[0, 0, 0, 0, 0, 0, 0, 0, 0, 0, 0, 2, 4, 6, 8, 10, 12, 14, 16, 18, 0, 4, 8, 12, 16, 20, 24, 28, 32, 36, 0, 6, 12, 18, 24, 30, 36, 42, 48, 54, 0, 8, 16, 24, 32, 40, 48, 56, 64, 72]\n"
     ]
    }
   ],
   "source": [
    "een_list = [x for x in range(10)]\n",
    "print(een_list)\n",
    "een_list = [x for x in range(10) if x % 2 == 0]\n",
    "print(een_list)\n",
    "een_list = [x * 2 for x in range(10)]\n",
    "print(een_list)\n",
    "een_list = [x * 2 for x in range(10) if x % 2 == 0]\n",
    "print(een_list)\n",
    "een_list = [x * y for x in range(3) for y in range(3)]\n",
    "for x in range(10):\n",
    "    for y in range(10):\n",
    "        een_list.append(x * y)\n",
    "\n",
    "print(een_list)\n",
    "een_list = [x * y for x in range(10) for y in range(10) if x % 2 == 0]\n",
    "print(een_list)\n"
   ],
   "metadata": {
    "id": "FPi0J0KsUv5w",
    "outputId": "3b18c99f-ae2a-4d40-8f49-8ba12bb813ab",
    "colab": {
     "base_uri": "https://localhost:8080/"
    },
    "executionInfo": {
     "status": "ok",
     "timestamp": 1676535663198,
     "user_tz": -60,
     "elapsed": 237,
     "user": {
      "displayName": "Rony Baekeland",
      "userId": "01731985152349302060"
     }
    }
   }
  },
  {
   "cell_type": "markdown",
   "source": [
    "#### List comprehension met functies\n",
    "\n",
    "Je kan ook een list comprehension gebruiken met functies. In de volgende voorbeelden zie je hoe je een list comprehension kan gebruiken met de functies `map`, `filter` en `reduce`.\n",
    "\n",
    "`map` is een functie die een functie en een lijst als argumenten neemt. `map` voert de functie uit op elke waarde in de lijst. `map` geeft een map object terug. Je kan een map object omzetten naar een lijst door de functie `list` te gebruiken.\n",
    "\n",
    "`filter` is een functie die een functie en een lijst als argumenten neemt. `filter` voert de functie uit op elke waarde in de lijst. `filter` geeft een filter object terug. Je kan een filter object omzetten naar een lijst door de functie `list` te gebruiken.\n"
   ],
   "metadata": {
    "collapsed": false,
    "id": "20jai96bUv5x"
   }
  },
  {
   "cell_type": "code",
   "execution_count": null,
   "outputs": [
    {
     "name": "stdout",
     "output_type": "stream",
     "text": [
      "[3, 6, 9, 12, 15]\n",
      "[6, 12]\n"
     ]
    }
   ],
   "source": [
    "een_list = [1, 2, 3, 4, 5]\n",
    "een_list = list(map(lambda x: x * 3, een_list))\n",
    "print(een_list)\n",
    "een_list = list(filter(lambda x: x % 2 == 0, een_list))\n",
    "print(een_list)"
   ],
   "metadata": {
    "id": "OqC1DHKpUv5x",
    "outputId": "b2e2fed6-fa57-4032-9ac4-13e00d448e90"
   }
  },
  {
   "cell_type": "code",
   "execution_count": null,
   "outputs": [
    {
     "data": {
      "text/plain": "[6, 12]"
     },
     "execution_count": 29,
     "metadata": {},
     "output_type": "execute_result"
    }
   ],
   "source": [
    "# alles in 1 lijn\n",
    "list(filter(lambda x: x % 2 == 0, map(lambda x: x * 3, [1, 2, 3, 4, 5])))"
   ],
   "metadata": {
    "id": "DckQ3T1oMLKT",
    "outputId": "2fd71ff7-133d-4c50-9427-922be39cd92a"
   }
  },
  {
   "cell_type": "markdown",
   "source": [
    "### Sets\n",
    "\n",
    "Een set is een datastructuur waarbij je unieke waarden kan opslaan. Een set is een soort lijst, maar in een set kan je geen dubbele waarden opslaan. Een set wordt aangeduid met accolades `{}`. Je kan een set maken door een lijst van waarden te maken. De waarden worden gescheiden door een komma `,`.\n",
    "\n",
    "Je kan een set ook maken met de functie `set`. Hiermee kan je een set maken van een lijst en zo dubbele waarden verwijderen.\n",
    "\n",
    "Je kan een set vergelijken met de `Set`-interface in Java."
   ],
   "metadata": {
    "collapsed": false,
    "id": "SQsugABKUv5x"
   }
  },
  {
   "cell_type": "code",
   "execution_count": null,
   "outputs": [
    {
     "name": "stdout",
     "output_type": "stream",
     "text": [
      "{1, 2, 3, 4, 5}\n",
      "{1, 2, 3, 4, 5}\n"
     ]
    }
   ],
   "source": [
    "een_set = {1, 2, 3, 4, 5}\n",
    "print(een_set)\n",
    "\n",
    "een_set = set([1, 2, 3, 4, 5, 5, 5, 5, 5])\n",
    "print(een_set)\n"
   ],
   "metadata": {
    "id": "-RfxITX-Uv5x",
    "outputId": "f597f522-4cda-4bc7-ba61-95393186138f"
   }
  },
  {
   "cell_type": "markdown",
   "source": [
    "### Dictionaries\n",
    "\n",
    "Een dictionary is een datastructuur waarbij je sleutels en waarden kan opslaan. Een dictionary is een soort lijst, maar in plaats van een index, gebruik je een sleutel om een waarde op te halen. Een dictionary wordt aangeduid met accolades `{}`. Je kan een dictionary maken door een lijst van sleutels en waarden te maken. De sleutels en waarden worden gescheiden door een dubbele punt `:`. De sleutels en waarden worden gescheiden door een komma `,`.\n",
    "\n",
    "Je kan een dictionary vergelijke met de `Map`-interface in Java."
   ],
   "metadata": {
    "collapsed": false,
    "id": "PMcOPC7FUv5x"
   }
  },
  {
   "cell_type": "code",
   "execution_count": null,
   "outputs": [
    {
     "name": "stdout",
     "output_type": "stream",
     "text": [
      "{'a': 1, 'b': 2, 'c': 3}\n",
      "{0: 0, 1: 2, 2: 4, 3: 6, 4: 8, 5: 10, 6: 12, 7: 14, 8: 16, 9: 18}\n"
     ]
    }
   ],
   "source": [
    "een_dict = {'a': 1,\n",
    "            'b': 2,\n",
    "            'c': 3}\n",
    "print(een_dict)\n",
    "een_dict = {x: x * 2 for x in range(10)}\n",
    "print(een_dict)"
   ],
   "metadata": {
    "id": "yFHhkqDWUv5x",
    "outputId": "97513409-2bbc-4c68-883c-19a28cf31d17"
   }
  },
  {
   "cell_type": "markdown",
   "source": [
    "#### Dictionary indexeren\n",
    "\n",
    "Je kan een waarde uit een dictionary halen door de sleutel te gebruiken. Je kan een waarde toevoegen aan een dictionary door een sleutel en waarde toe te voegen. Je kan een waarde verwijderen uit een dictionary door de sleutel te gebruiken.\n"
   ],
   "metadata": {
    "collapsed": false,
    "id": "MpoYpuUaUv5z"
   }
  },
  {
   "cell_type": "code",
   "execution_count": null,
   "outputs": [
    {
     "name": "stdout",
     "output_type": "stream",
     "text": [
      "1\n",
      "{'a': 1, 'b': 2, 'c': 3, 'd': 4}\n",
      "1\n"
     ]
    }
   ],
   "source": [
    "een_dict = {'a': 1, 'b': 2, 'c': 3}\n",
    "print(een_dict['a'])\n",
    "een_dict['d'] = 4\n",
    "print(een_dict)\n",
    "\n",
    "# controleren of een sleutel in de dictionary zit\n",
    "if 'a' in een_dict:\n",
    "    print(een_dict['a'])\n"
   ],
   "metadata": {
    "id": "xl2xtZBPUv5z",
    "outputId": "6b909fa7-a057-4ebb-b488-f93cd632d15c"
   }
  },
  {
   "cell_type": "markdown",
   "source": [
    "#### Dictionary methodes\n",
    "\n",
    "Python heeft een aantal methodes die je kan gebruiken op dictionaries. Je kan een overzicht van deze methodes vinden op de [Python website](https://docs.python.org/3/tutorial/datastructures.html#dictionaries). Hieronder zie je een aantal voorbeelden van dictionary methodes.\n",
    "\n",
    "`keys` geeft een lijst met alle sleutels in de dictionary.\n",
    "`values` geeft een lijst met alle waarden in de dictionary.\n",
    "`items` geeft een lijst met alle sleutels en waarden in de dictionary.\n",
    "`get` geeft de waarde van een bepaalde sleutel in de dictionary.\n",
    "`pop` haalt een bepaalde sleutel en waarde uit de dictionary.\n",
    "`clear` verwijdert alle sleutels en waarden uit de dictionary.\n"
   ],
   "metadata": {
    "collapsed": false,
    "id": "g03fd-gaUv5z"
   }
  },
  {
   "cell_type": "code",
   "execution_count": null,
   "outputs": [
    {
     "name": "stdout",
     "output_type": "stream",
     "text": [
      "dict_keys(['a', 'b', 'c'])\n",
      "dict_values([1, 2, 3])\n",
      "dict_items([('a', 1), ('b', 2), ('c', 3)])\n",
      "1\n",
      "{'b': 2, 'c': 3}\n",
      "{}\n"
     ]
    }
   ],
   "source": [
    "een_dict = {'a': 1, 'b': 2, 'c': 3}\n",
    "print(een_dict.keys())\n",
    "print(een_dict.values())\n",
    "print(een_dict.items())\n",
    "print(een_dict.get('a'))\n",
    "een_dict.pop('a')\n",
    "print(een_dict)\n",
    "een_dict.clear()\n",
    "print(een_dict)"
   ],
   "metadata": {
    "id": "0H_gQg9MUv5z",
    "outputId": "9a223565-545f-4824-ef2f-54210400ff14"
   }
  },
  {
   "cell_type": "code",
   "execution_count": null,
   "outputs": [
    {
     "name": "stdout",
     "output_type": "stream",
     "text": [
      "a: 1\n",
      "b: 2\n",
      "c: 3\n"
     ]
    }
   ],
   "source": [
    "een_dict = {'a': 1, 'b': 2, 'c': 3}\n",
    "for key, value in een_dict.items():\n",
    "    print(key, value, sep=': ')"
   ],
   "metadata": {
    "id": "PE3Rwju5Uv5z",
    "outputId": "35d07a47-ef91-471a-f065-b87743c5f8e9"
   }
  },
  {
   "cell_type": "markdown",
   "source": [
    "### Tuples\n",
    "\n",
    "Een tuple is een datastructuur waarbij je waarden kan opslaan. Een tuple is vergelijkbaar met een lijst, maar een tuple kan niet worden aangepast. Een tuple wordt aangeduid met ronde haken `()`. Je kan een tuple maken door een lijst van waarden te maken. De waarden worden gescheiden door een komma `,`.\n",
    "\n",
    "Er is geen vergelijkbare datastructuur in Java. Tuples worden veel gebruikt in Python. Je kan een tuple gebruiken om meerdere waarden terug te geven van een functie. Je kan een tuple gebruiken om meerdere waarden te gebruiken in een for-loop."
   ],
   "metadata": {
    "collapsed": false,
    "id": "pZBZ7BzrUv5z"
   }
  },
  {
   "cell_type": "code",
   "execution_count": null,
   "outputs": [
    {
     "name": "stdout",
     "output_type": "stream",
     "text": [
      "(1, 2, 3)\n",
      "(0, 1, 2, 3, 4, 5, 6, 7, 8, 9)\n"
     ]
    }
   ],
   "source": [
    "een_tuple = (1, 2, 3)\n",
    "print(een_tuple)\n",
    "een_tuple = tuple(range(10))\n",
    "print(een_tuple)\n"
   ],
   "metadata": {
    "id": "jnBqr1pkUv5z",
    "outputId": "d50e1233-e090-465d-e45d-e8987eaf9d10"
   }
  },
  {
   "cell_type": "markdown",
   "source": [
    "#### Tuples indexeren\n",
    "\n",
    "Je kan een waarde uit een tuple halen door de index te gebruiken. Je kan een waarde toevoegen aan een tuple door een nieuwe tuple te maken. Je kan een waarde verwijderen uit een tuple door een nieuwe tuple te maken.\n"
   ],
   "metadata": {
    "collapsed": false,
    "id": "kXnfQFnbUv50"
   }
  },
  {
   "cell_type": "code",
   "execution_count": null,
   "outputs": [
    {
     "name": "stdout",
     "output_type": "stream",
     "text": [
      "1\n",
      "(1, 2, 3, 4)\n"
     ]
    }
   ],
   "source": [
    "een_tuple = (1, 2, 3)\n",
    "print(een_tuple[0])\n",
    "een_tuple = een_tuple + (4,)\n",
    "print(een_tuple)"
   ],
   "metadata": {
    "id": "NAfCGTT8Uv50",
    "outputId": "b7b32954-9e35-4575-c2b3-f9e48b92d53e"
   }
  },
  {
   "cell_type": "markdown",
   "source": [
    "#### Tuples en functies\n",
    "\n",
    "Je kan een tuple gebruiken in een for-loop. In de volgende voorbeelden zie je hoe je een tuple kan gebruiken in een for-loop.\n",
    "\n",
    "`zip` is een functie die twee lijsten als argumenten neemt. `zip` combineert de twee lijsten in een lijst van tuples."
   ],
   "metadata": {
    "collapsed": false,
    "id": "j0HwmnBVUv50"
   }
  },
  {
   "cell_type": "code",
   "execution_count": null,
   "outputs": [],
   "source": [
    "een_tuple = (1, 2, 3)\n",
    "for x in een_tuple:\n",
    "    print(x)"
   ],
   "metadata": {
    "id": "Hi2GJTAtUv52"
   }
  },
  {
   "cell_type": "code",
   "execution_count": null,
   "outputs": [
    {
     "name": "stdout",
     "output_type": "stream",
     "text": [
      "<zip object at 0x000002D0D4444640>\n",
      "[(1, 4), (2, 5), (3, 6)]\n"
     ]
    },
    {
     "data": {
      "text/plain": "[5, 7, 9]"
     },
     "execution_count": 87,
     "metadata": {},
     "output_type": "execute_result"
    }
   ],
   "source": [
    "\n",
    "# gebruik van zip om twee lijsten te combineren\n",
    "een_list = [1, 2, 3]\n",
    "een_andere_list = [4, 5, 6]\n",
    "een_zip = zip(een_list, een_andere_list)\n",
    "\n",
    "# een zip is een object\n",
    "print(een_zip)\n",
    "print(list(een_zip))\n",
    "\n",
    "[x + y for x, y in zip(een_list, een_andere_list)]"
   ],
   "metadata": {
    "id": "X4VvQ7o7Uv52",
    "outputId": "3a3f23e6-56d7-4403-82e9-6c51bbcdec58"
   }
  },
  {
   "cell_type": "code",
   "execution_count": null,
   "outputs": [
    {
     "data": {
      "text/plain": "['20.76', '21.60', '22.16', '22.50']"
     },
     "execution_count": 37,
     "metadata": {},
     "output_type": "execute_result"
    }
   ],
   "source": [
    "gewichten = [60, 70, 80, 90]\n",
    "lengtes = [1.70, 1.80, 1.90, 2.00]\n",
    "bmis = [bmi(gewicht,lengte) for gewicht, lengte in zip(gewichten, lengtes)]\n",
    "list(map(lambda x: f'{x:.2f}', bmis))"
   ],
   "metadata": {
    "id": "zsjCG7LHMLKd",
    "outputId": "c3ab2419-bd2f-4f6b-ae2f-f3f5f4e04178"
   }
  }
 ],
 "metadata": {
  "kernelspec": {
   "display_name": "Python 3",
   "language": "python",
   "name": "python3"
  },
  "language_info": {
   "codemirror_mode": {
    "name": "ipython",
    "version": 2
   },
   "file_extension": ".py",
   "mimetype": "text/x-python",
   "name": "python",
   "nbconvert_exporter": "python",
   "pygments_lexer": "ipython2",
   "version": "2.7.6"
  },
  "colab": {
   "provenance": []
  }
 },
 "nbformat": 4,
 "nbformat_minor": 0
}
