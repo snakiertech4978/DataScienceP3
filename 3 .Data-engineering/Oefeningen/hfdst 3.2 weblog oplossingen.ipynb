{
 "cells": [
  {
   "cell_type": "markdown",
   "metadata": {
    "id": "XX7WxJhL50UM"
   },
   "source": [
    "# Oplossingen Weblog\n",
    "\n",
    "We willen analyses kunnen uitvoeren op de logs van een webserver (\"UofS_access_log.small\"). Om dit te kunnen doen, moet je de relevante gegevens in een dataframe krijgen. Dit moet een automatisch proces zijn zodat ook andere logfiles ingeladen kan worden.\n",
    "\n",
    "Volgende zaken dienen te gebeuren. Het originele dataframe moet herwerkt worden zodat enkel deze kolommen overblijven:\n",
    "\n",
    "- domain: bevat de adressen van de clients die een request stuurden\n",
    "- timestamp: is een datetime veld (POSIXct) dat het tijdstip van de request weergeeft\n",
    "- resource: toont de resource die werd opgevraagd\n",
    "- repsponse_code: geeft de HTTP response code die werd terug gegeven door de server\n",
    "- response_length: geeft de lengte aan van de HTTP response\n",
    "\n",
    "We gaan dit stap voor stap opbouwen."
   ]
  },
  {
   "cell_type": "markdown",
   "source": [
    "Importeer hier alle nodige bibliotheken:"
   ],
   "metadata": {
    "collapsed": false
   }
  },
  {
   "cell_type": "code",
   "execution_count": null,
   "outputs": [],
   "source": [
    "# hier komt jouw code\n",
    "import pandas as pd"
   ],
   "metadata": {
    "collapsed": false
   }
  },
  {
   "cell_type": "markdown",
   "metadata": {
    "id": "DiLdG3sF50U3"
   },
   "source": [
    "## Inlezen van de gegevens\n",
    "Lees het dataframe in.  Kijk zelf na wat de seperator is.  Foutieve rijen mag je skippen.  Er is geen header! Het bestand gebruikt de \"latin\" encodering voor karakters."
   ]
  },
  {
   "cell_type": "code",
   "execution_count": null,
   "metadata": {},
   "outputs": [],
   "source": [
    "# hier komt jouw code\n",
    "log = pd.read_csv(\"UofS_access_log.small\", sep=\" \", encoding=\"latin\", header=None, on_bad_lines='skip')\n",
    "log.head()"
   ]
  },
  {
   "cell_type": "markdown",
   "source": [
    "Hoeveel lijnen staan er in dit data frame?"
   ],
   "metadata": {
    "collapsed": false
   }
  },
  {
   "cell_type": "code",
   "execution_count": null,
   "outputs": [],
   "source": [
    "# hier komt jouw code\n",
    "len(log)"
   ],
   "metadata": {
    "collapsed": false
   }
  },
  {
   "cell_type": "markdown",
   "source": [
    "Kopieer alle waarden uit de eerste kolom in een variabele \"domain\".\n",
    "Kopieer alle waarden uit de zevende kolom in een variabele \"response_code\"\n",
    "Kopieer alle waarden uit de achtste kolom in een variabele \"response_length\""
   ],
   "metadata": {
    "collapsed": false
   }
  },
  {
   "cell_type": "code",
   "execution_count": null,
   "outputs": [],
   "source": [
    "# hier komt jouw code\n",
    "domain = log[0]\n",
    "response_code = log[6]\n",
    "response_length = log[7]"
   ],
   "metadata": {
    "collapsed": false
   }
  },
  {
   "cell_type": "markdown",
   "source": [
    "Kijk na of de datatypes van \"domain\", \"response_code\" en \"response_length\" juist zijn.  We verwachten respectievelijk: strings, getallen en getallen.  Converteer de variabelen indien nodig.  Als er ongeldige waarden zijn, zouden deze omgezet moeten worden naar NaN."
   ],
   "metadata": {
    "collapsed": false
   }
  },
  {
   "cell_type": "code",
   "execution_count": null,
   "outputs": [],
   "source": [
    "# hier komt jouw code\n",
    "response_length = pd.to_numeric(response_length, errors='coerce')"
   ],
   "metadata": {
    "collapsed": false
   }
  },
  {
   "cell_type": "markdown",
   "source": [
    "Hoeveel NaN waarden zitten er in response_length?"
   ],
   "metadata": {
    "collapsed": false
   }
  },
  {
   "cell_type": "code",
   "execution_count": null,
   "outputs": [],
   "source": [
    "# hint: je zou 897 moeten uitkomen\n",
    "# hier komt jouw code\n",
    "response_length.isna().sum()"
   ],
   "metadata": {
    "collapsed": false
   }
  },
  {
   "cell_type": "markdown",
   "source": [
    "Hoeveel procent is dat van alle rijen?"
   ],
   "metadata": {
    "collapsed": false
   }
  },
  {
   "cell_type": "code",
   "execution_count": null,
   "outputs": [],
   "source": [
    "# hier komt jouw code\n",
    "response_length.isna().sum() / len(response_length) * 100"
   ],
   "metadata": {
    "collapsed": false
   }
  },
  {
   "cell_type": "markdown",
   "source": [
    "De timestamp staat verspreid in kolommen 3 (datum en uur) en 4 (timezone). Voeg deze samen tot één string.  Plaats het resultaat in een variabele \"timestamp\"."
   ],
   "metadata": {
    "collapsed": false
   }
  },
  {
   "cell_type": "code",
   "execution_count": null,
   "outputs": [],
   "source": [
    "# hier komt jouw code\n",
    "timestamp = log[3] + log[4]\n",
    "timestamp.head()"
   ],
   "metadata": {
    "collapsed": false
   }
  },
  {
   "cell_type": "markdown",
   "source": [
    "\n",
    "Maak een variabele \"resource\" die alle resources bevat (in de 6e kolom).  Verwijder de 'GET' en 'HTTP/1.0' die soms in het begin en op het einde staan."
   ],
   "metadata": {
    "collapsed": false
   }
  },
  {
   "cell_type": "code",
   "execution_count": null,
   "metadata": {},
   "outputs": [],
   "source": [
    "# hier komt jouw code\n",
    "resource = log[5].str.replace(\"GET \", \"\", regex=False).str.replace(\"HTTP/1.0\", \"\", regex=False)\n",
    "resource"
   ]
  },
  {
   "cell_type": "markdown",
   "source": [
    "Maak nu een dataframe met naam \"log\" waarin de kolommen \"domain\", \"timestamp\", \"resource\", \"response_code\" en \"response_length\" staan.  De waarden kan je uit de gemaakte variabelen halen."
   ],
   "metadata": {
    "collapsed": false
   }
  },
  {
   "cell_type": "code",
   "execution_count": null,
   "outputs": [],
   "source": [
    "# hier komt jouw code\n",
    "log = pd.DataFrame({'domain':domain, 'timestamp':timestamp, 'resource':resource, 'response_code':response_code, 'response_length':response_length})\n",
    "log.info()"
   ],
   "metadata": {
    "collapsed": false
   }
  },
  {
   "cell_type": "markdown",
   "source": [
    "Verwijder nu alle rijen uit je dataframe waar een ontbrekende waarde in voorkomt."
   ],
   "metadata": {
    "collapsed": false
   }
  },
  {
   "cell_type": "code",
   "execution_count": null,
   "outputs": [],
   "source": [
    "# hier komt jouw code\n",
    "log.dropna(inplace=True)\n",
    "log.head()"
   ],
   "metadata": {
    "collapsed": false
   }
  },
  {
   "cell_type": "markdown",
   "source": [
    "Zoek de rij(en) met de grootste response_length"
   ],
   "metadata": {
    "collapsed": false
   }
  },
  {
   "cell_type": "code",
   "execution_count": null,
   "outputs": [],
   "source": [
    "# hier komt jouw code\n",
    "rijen = log.response_length == log.response_length.max()\n",
    "log.loc[rijen]"
   ],
   "metadata": {
    "collapsed": false
   }
  },
  {
   "cell_type": "markdown",
   "source": [
    "Bewaar het resultaat in een CSV-bestand \"log_resultaat.csv\".  Gebruik ',' als separator en \".\" voor decimale getallen."
   ],
   "metadata": {
    "collapsed": false
   }
  },
  {
   "cell_type": "code",
   "execution_count": null,
   "outputs": [],
   "source": [
    "# hier komt jouw code\n",
    "log.to_csv(\"log_resultaat.csv\", sep=\",\", decimal=\".\", index=False)"
   ],
   "metadata": {
    "collapsed": false
   }
  },
  {
   "cell_type": "markdown",
   "source": [
    "Probeer het bestand in een spreadsheet te importeren."
   ],
   "metadata": {
    "collapsed": false
   }
  }
 ],
 "metadata": {
  "colab": {
   "name": "Opgaveboek - weblog - oplossingen.ipynb",
   "provenance": []
  },
  "kernelspec": {
   "display_name": "Python 3",
   "language": "python",
   "name": "python3"
  },
  "language_info": {
   "codemirror_mode": {
    "name": "ipython",
    "version": 3
   },
   "file_extension": ".py",
   "mimetype": "text/x-python",
   "name": "python",
   "nbconvert_exporter": "python",
   "pygments_lexer": "ipython3",
   "version": "3.8.7-final"
  }
 },
 "nbformat": 4,
 "nbformat_minor": 0
}
