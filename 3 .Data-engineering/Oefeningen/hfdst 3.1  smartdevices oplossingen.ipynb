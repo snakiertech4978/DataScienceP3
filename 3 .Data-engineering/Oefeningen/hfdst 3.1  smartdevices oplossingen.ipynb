{
 "cells": [
  {
   "cell_type": "markdown",
   "metadata": {
    "collapsed": true
   },
   "source": [
    "# Oplossingen Smart Devices\n",
    "\n",
    "De buurman heeft in zijn huis een aantal sensoren geplaatst. De sensoren meten het verbruik van bepaalde toestellen en ook de temperatuur.  De gegevens worden in een logbestand bewaard. In het bestand “smartDevices.csv” zie je de data van een aantal dagen staan. De buur heeft aan jou gevraagd om een script te schrijven waarmee hij maandelijks een nieuwe CSV kan aanmaken die een aantal gegevens op dagbasis wegschrijft. Om dit te doen moet je gegevens groeperen per dag.\n",
    "\n",
    "Hij wil volgende zaken in het bestand zien staan:\n",
    "- Datum\n",
    "- Totaal verbruik in kWh voor die dag (enkel gegevens waarvan de eenheid kWh is)\n",
    "- Gemiddelde temperatuur in de woonkamer (enkel metingen voor WOONKAMER)"
   ]
  },
  {
   "cell_type": "markdown",
   "source": [
    "Importeer hier alle nodige bibliotheken:"
   ],
   "metadata": {
    "collapsed": false
   }
  },
  {
   "cell_type": "code",
   "execution_count": null,
   "metadata": {},
   "outputs": [],
   "source": [
    "# hier komt jouw code\n",
    "import pandas as pd\n",
    "import numpy as np"
   ]
  },
  {
   "cell_type": "markdown",
   "metadata": {
    "collapsed": false
   },
   "source": [
    "### Inlezen van de gegevens\n",
    "Lees de dataset in.  Het CSV-bestand begint met enkele informatieregels, die moet je overslaan.\n",
    "Je zal zien dat kommagetallen met een ',' geschreven zijn.  Lees dit juist in.\n",
    "\n",
    "Bekijk de kolommen en hun datatypes."
   ]
  },
  {
   "cell_type": "code",
   "execution_count": null,
   "metadata": {},
   "outputs": [],
   "source": [
    "# hier komt jouw code\n",
    "smart = pd.read_csv(\"smartDevices.csv\", sep=\";\", header=0, skiprows=4, decimal=',')\n",
    "print(smart.info())"
   ]
  },
  {
   "cell_type": "markdown",
   "source": [
    "Er zijn 3 kolommen zonder naam (unnamed).  Verwijder deze"
   ],
   "metadata": {
    "collapsed": false
   }
  },
  {
   "cell_type": "code",
   "execution_count": null,
   "outputs": [],
   "source": [
    "# hier komt jouw code\n",
    "smart.drop(columns=['Unnamed: 17', 'Unnamed: 18', 'Unnamed: 19'], inplace=True)\n",
    "smart.info()"
   ],
   "metadata": {
    "collapsed": false
   }
  },
  {
   "cell_type": "markdown",
   "metadata": {},
   "source": [
    "### Numeriek maken\n",
    "Wat is het type van de elementen in de kolom \"Meetwaarde\"?\n",
    "Als dit float is, dan is alles OK en heb je het bestand juist ingelezen.\n",
    "Als dat niet het geval is, heb je een fout gemaakt bij het inlezen van het bestand.  Kan je zien welke?\n",
    "Zet in dit geval de kolom \"Meetwaarde\" om naar decimale waarden."
   ]
  },
  {
   "cell_type": "code",
   "execution_count": null,
   "metadata": {},
   "outputs": [],
   "source": [
    "# hier komt jouw code\n",
    "# het type is \"object\" (eigenlijk zijn het strings, dat kan je zien als je het eerste element afdrukt)\n",
    "print(smart.info())\n",
    "print(smart.Meetwaarde[0])\n",
    "# dit komt omdat er ',' gebruikt werd om kommagetallen te noteren.  Bij het inlezen kan je de optie 'decimal' gebruiken om dit juist te zetten.  Je kan de data echter ook op dit moment als volgt omzetten:\n",
    "# smart.Meetwaarde = smart.Meetwaarde.str.replace(',', '.', regex=False)\n",
    "# smart.Meetwaarde = pd.to_numeric(smart.Meetwaarde, errors='coerce')\n",
    "# print(smart.info())"
   ]
  },
  {
   "cell_type": "markdown",
   "source": [
    "### Categorical"
   ],
   "metadata": {
    "collapsed": false
   }
  },
  {
   "cell_type": "markdown",
   "source": [
    "Verwijder alle kolommen die maar 1 waarde of enkel ontbrekende waarden bevatten.  Deze zijn toch maar constanten en hoeven niet bijgehouden te worden."
   ],
   "metadata": {
    "collapsed": false
   }
  },
  {
   "cell_type": "code",
   "execution_count": null,
   "outputs": [],
   "source": [
    "# hier komt jouw code\n",
    "# we zoeken eerst alle unieke waarden per kolom\n",
    "for kolomnaam in smart.columns:\n",
    "    print(\"kolom \", kolomnaam, \": \", smart[kolomnaam].unique())\n",
    "# nu kunnen we de juiste kolommen weghalen\n",
    "smart.drop(columns=['Login Naam', 'Gateway Mac Address', 'CO2 (kg)', 'Consument / Producent', 'Hoofd / deelmeter', 'Kamer', 'Groep-Ids', 'Groepen'], inplace=True)\n",
    "smart.info()"
   ],
   "metadata": {
    "collapsed": false
   }
  },
  {
   "cell_type": "markdown",
   "source": [
    "Zet de kolommen met nominale of ordinale gegevens (strings) om naar een Categorical.  De datums en tijdstippen mag je negeren."
   ],
   "metadata": {
    "collapsed": false
   }
  },
  {
   "cell_type": "code",
   "execution_count": null,
   "outputs": [],
   "source": [
    "# hier komt jouw code\n",
    "smart['Apparaat-ID'] = pd.Categorical(smart['Apparaat-ID'])\n",
    "smart['Apparaat'] = pd.Categorical(smart['Apparaat'])\n",
    "smart['Eenheid'] = pd.Categorical(smart['Eenheid'])\n",
    "smart['Meettype'] = pd.Categorical(smart['Meettype'])\n",
    "smart['Type apparaat'] = pd.Categorical(smart['Type apparaat'])\n",
    "print(smart.info())"
   ],
   "metadata": {
    "collapsed": false
   }
  },
  {
   "cell_type": "markdown",
   "source": [
    "Geef een lijst van alle kolomnamen die ontbrekende waarden bevatten.  Geef het resultaat als een pandas Series van strings (de namen van de kolommen met ontbrekende waarden)."
   ],
   "metadata": {
    "collapsed": false
   }
  },
  {
   "cell_type": "code",
   "execution_count": null,
   "outputs": [],
   "source": [
    "# hier komt jouw code\n",
    "kolommen = smart.isna().any()\n",
    "pd.Series(kolommen.index[kolommen])"
   ],
   "metadata": {
    "collapsed": false
   }
  },
  {
   "cell_type": "markdown",
   "source": [
    "Schrijf de gegevens nu weg naar een bestand \"smartDevices_resultaat.csv\".  Gebruik een \".\" voor decimale getallen en een tab als deliminator."
   ],
   "metadata": {
    "collapsed": false
   }
  },
  {
   "cell_type": "code",
   "execution_count": null,
   "outputs": [],
   "source": [
    "# hier komt jouw code\n",
    "smart.to_csv(\"smartDevices_resultaat.csv\", sep=\"\\t\", decimal=\".\", index=False)"
   ],
   "metadata": {
    "collapsed": false
   }
  },
  {
   "cell_type": "markdown",
   "source": [
    "Kijk na of het bestand juist bewaard werd.  Probeer het eventueel te importeren in een spreadsheet programma."
   ],
   "metadata": {
    "collapsed": false
   }
  }
 ],
 "metadata": {
  "kernelspec": {
   "display_name": "Python 3",
   "language": "python",
   "name": "python3"
  },
  "language_info": {
   "codemirror_mode": {
    "name": "ipython",
    "version": 2
   },
   "file_extension": ".py",
   "mimetype": "text/x-python",
   "name": "python",
   "nbconvert_exporter": "python",
   "pygments_lexer": "ipython2",
   "version": "3.8.7-final"
  }
 },
 "nbformat": 4,
 "nbformat_minor": 0
}
