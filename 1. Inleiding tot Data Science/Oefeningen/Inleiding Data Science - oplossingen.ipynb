{
 "nbformat": 4,
 "nbformat_minor": 0,
 "metadata": {
  "kernelspec": {
   "display_name": "Python 3",
   "language": "python",
   "name": "python3"
  },
  "language_info": {
   "codemirror_mode": {
    "name": "ipython",
    "version": 2
   },
   "file_extension": ".py",
   "mimetype": "text/x-python",
   "name": "python",
   "nbconvert_exporter": "python",
   "pygments_lexer": "ipython2",
   "version": "2.7.6"
  },
  "colab": {
   "provenance": []
  }
 },
 "cells": [
  {
   "cell_type": "markdown",
   "metadata": {
    "collapsed": false,
    "pycharm": {
     "name": "#%% md\n"
    },
    "id": "UsSHWaQmt8O1"
   },
   "source": [
    "# Inleiding Data Science"
   ]
  },
  {
   "cell_type": "markdown",
   "metadata": {
    "collapsed": false,
    "pycharm": {
     "name": "#%% md\n"
    },
    "id": "uq8wwWpXt8O7"
   },
   "source": [
    "## Vraag 1\n",
    "\n",
    "Leerlingen die opdrachten maken in groepjes, halen hogere scores op de geschiedenistoets dan leerlingen die alleen frontaal les krijgen."
   ]
  },
  {
   "cell_type": "markdown",
   "metadata": {
    "collapsed": false,
    "pycharm": {
     "name": "#%% md\n"
    },
    "id": "TUGBMkCPt8O8"
   },
   "source": [
    "a) wat zijn de variabelen in deze hypothese?"
   ]
  },
  {
   "cell_type": "code",
   "metadata": {
    "pycharm": {
     "name": "#%%\n"
    },
    "id": "2wMOU-yXt8O8"
   },
   "source": [
    "# score op de geschiedenistoets (afhankelijk)\n",
    "# soort les (in groepjes of frontale les) (onafhankelijk)"
   ],
   "execution_count": null,
   "outputs": []
  },
  {
   "cell_type": "markdown",
   "metadata": {
    "collapsed": false,
    "pycharm": {
     "name": "#%% md\n"
    },
    "id": "bwn8rNRjt8O9"
   },
   "source": [
    "b) wat is de populatie?"
   ]
  },
  {
   "cell_type": "code",
   "metadata": {
    "pycharm": {
     "name": "#%%\n"
    },
    "id": "9936y72rt8O-"
   },
   "source": [
    "# alle leerlingen die opdrachten maken"
   ],
   "execution_count": null,
   "outputs": []
  },
  {
   "cell_type": "markdown",
   "metadata": {
    "collapsed": false,
    "id": "gsuyRlKPt8O-"
   },
   "source": [
    "c) Wat is in deze hypothese de afhankelijke variabele?"
   ]
  },
  {
   "cell_type": "code",
   "metadata": {
    "pycharm": {
     "name": "#%%\n"
    },
    "id": "gWprXR8-t8O-"
   },
   "source": [
    "# de score op de geschiedenistoets"
   ],
   "execution_count": null,
   "outputs": []
  },
  {
   "cell_type": "markdown",
   "metadata": {
    "collapsed": false,
    "pycharm": {
     "name": "#%% md\n"
    },
    "id": "_bFIh_81t8O_"
   },
   "source": [
    "## Vraag 2\n",
    "\n",
    "Een hypothese luidt:\n",
    "\n",
    "*Het hoogste opleidingsniveau van ouders van gezinnen met vijf of meer kinderen is over het algemeen lager dan dat van ouders met vier of minder kinderen. We onderzoeken of het aantal kinderen invloed heeft op het opleidingsniveau.* \n",
    "\n",
    "Wat is in deze hypothese de:\n",
    "\n",
    "* afhankelijke variabele?\n",
    "* onafhankelijke variabele?\n",
    "* onderzoekseenheid (het ding dat je gaat onderzoeken)?\n",
    "* steekproef (dit is verzameling van al uw onderzoekseenheden. De dingen die je onderwerpt aan het onderzoek)?\n",
    "\n",
    "*Kies uit:* de onderzochte gezinnen, aantal kinderen per gezin, hoogste opleidingsniveau van de ouders, ouders van een gezin"
   ]
  },
  {
   "cell_type": "code",
   "metadata": {
    "pycharm": {
     "name": "#%%\n"
    },
    "id": "3q-fSR9It8O_"
   },
   "source": [
    "# -   afhankelijke variabele: hoogste opleidingsniveau van de ouders\n",
    "# -   onafhankelijke variabele: aantal kinderen per gezin\n",
    "# -   onderzoekseenheid: ouders van een gezin\n",
    "# -   steekproef: de onderzochte gezinnen"
   ],
   "execution_count": null,
   "outputs": []
  },
  {
   "cell_type": "markdown",
   "metadata": {
    "collapsed": false,
    "pycharm": {
     "name": "#%% md\n"
    },
    "id": "uiIJG0lCt8O_"
   },
   "source": [
    "## Vraag 3\n",
    "\n",
    "Een hypothese luidt:\n",
    "\n",
    "    \"Ouders met een hoger opleidingsniveau hebben minder kinderen dan ouders met een lager opleidingsniveau.\"\n",
    "\n",
    "Wat is in deze hypothese de:\n",
    "\n",
    "* afhankelijke variabele?\n",
    "* onafhankelijke variabele?\n",
    "* onderzoekseenheid?\n",
    "* steekproef?\n",
    "\n",
    "*Kies uit:* ouders van een gezin, aantal kinderen per gezin, de onderzochte gezinnen, opleidingsniveau van de ouders"
   ]
  },
  {
   "cell_type": "code",
   "metadata": {
    "pycharm": {
     "name": "#%%\n"
    },
    "id": "Ep5YCyl0t8PA"
   },
   "source": [
    "# -   afhankelijke variabele: aantal kinderen per gezin\n",
    "# -   onafhankelijke variabele: opleidingsniveau van de ouders\n",
    "# -   onderzoekseenheid: ouders van een gezin\n",
    "# -   steekproef: de onderzochte gezinnen"
   ],
   "execution_count": null,
   "outputs": []
  },
  {
   "cell_type": "markdown",
   "metadata": {
    "collapsed": false,
    "pycharm": {
     "name": "#%% md\n"
    },
    "id": "dcrxX541t8PA"
   },
   "source": [
    "## Vraag 4\n",
    "\n",
    "Is het mogelijk dat een variabele, die in de ene hypothese als een onafhankelijke variabele functioneert, in een andere hypothese als een afhankelijke variabele wordt gebruikt?"
   ]
  },
  {
   "cell_type": "code",
   "metadata": {
    "pycharm": {
     "name": "#%%\n"
    },
    "id": "AfMN6__Nt8PA"
   },
   "source": [
    "# Ja, dat kan. Zie vraag 2 en 3"
   ],
   "execution_count": null,
   "outputs": []
  },
  {
   "cell_type": "markdown",
   "metadata": {
    "collapsed": false,
    "pycharm": {
     "name": "#%% md\n"
    },
    "id": "4dyeGXk3t8PB"
   },
   "source": [
    "## Vraag 5\n",
    "\n",
    "In welke fase van een onderzoek hoort het verwerpen van een hypothese thuis?\n",
    "\n",
    "* dataverzameling\n",
    "* beschrijven van gegevens\n",
    "* statische conclusies\n",
    "* verband tussen resultaten en theorie (interpretatie)"
   ]
  },
  {
   "cell_type": "code",
   "metadata": {
    "pycharm": {
     "name": "#%%\n"
    },
    "id": "HiRh1ouzt8PB"
   },
   "source": [
    "# statische conclusies\n",
    "# In fase 7 wordt u rapport gemaakt, maar dan is uw conclusie al getrokken"
   ],
   "execution_count": null,
   "outputs": []
  },
  {
   "cell_type": "markdown",
   "metadata": {
    "collapsed": false,
    "pycharm": {
     "name": "#%% md\n"
    },
    "id": "YsBxsjDvt8PB"
   },
   "source": [
    "## Vraag 6\n",
    "\n",
    "Twee beweringen luiden als volgt:\n",
    "\n",
    "    I Intelligentie is de mate waarin een persoon \"denkmethoden\" beheerst.\n",
    "\n",
    "    II Intelligentie is de score op de Wechsler Adult Intelligence Scale. (Een IQ test)\n",
    "\n",
    "Welke bewering(en) zijn een operationele definitie?"
   ]
  },
  {
   "cell_type": "code",
   "metadata": {
    "pycharm": {
     "name": "#%%\n"
    },
    "id": "JfXnRHnbt8PB"
   },
   "source": [
    "# alleen bewering II is een operationele definitie, want dat kan je meten"
   ],
   "execution_count": null,
   "outputs": []
  },
  {
   "cell_type": "markdown",
   "metadata": {
    "collapsed": false,
    "pycharm": {
     "name": "#%% md\n"
    },
    "id": "myUr9Fumt8PB"
   },
   "source": [
    "## Vraag 7\n",
    "\n",
    "Na het afronden van een onderzoeksproject rapporteren de onderzoekers dat een bepaalde meststof de groei van tomaten doet toenemen.\n",
    "\n",
    "Waarop heeft deze mededeling betrekking?\n",
    "\n",
    "1.  Een beschrijvende bewering die alleen van toepassing is op de tomatenplanten die bestudeerd zijn in het onderzoek.\n",
    "2.  Een conclusie die gebaseerd is op de bestudering van een steekproef\n",
    "3.  De onderzoekers hebben *de *oplossing gevonden voor alle kleine tomaten...\n",
    "4.  Een conclusie die gebaseerd is op onderzoek van de populatie"
   ]
  },
  {
   "cell_type": "code",
   "metadata": {
    "pycharm": {
     "name": "#%%\n"
    },
    "id": "6qzL1xVSt8PC"
   },
   "source": [
    "# Een conclusie die gebaseerd is op de bestudering van een steekproef"
   ],
   "execution_count": null,
   "outputs": []
  },
  {
   "cell_type": "markdown",
   "metadata": {
    "collapsed": false,
    "pycharm": {
     "name": "#%% md\n"
    },
    "id": "z20faLB9t8PC"
   },
   "source": [
    "## Vraag 8\n",
    "\n",
    "Plaats de fasen van het onderzoek bij onderstaande concrete voorbeelden.\n",
    "\n",
    "<br/>A) We verwerpen de hypothese uit de analyse blijkt dat het verschil berust op toeval.\n",
    "<br/>B) Wiskundeaanleg gaan we meten door de gemiddelde uitslag van 4 toetsen te nemen. De leerlingen nemen we die van het eerste jaar.\n",
    "    Voor sekse nemen we voor jongens=1 en meisjes=2\n",
    "<br/>C) Uit het onderzoek blijkt dat de theorie voor wiskunde voor de leerlingen van het eerste jaar niet geldt maar verder onderzoek naar andere onafhankelijke variabelen is noodzakelijk.\n",
    "<br/>D) Hypothese: Jongens hebben meer aanleg voor wiskunde dan meisjes\n",
    "<br/>E) We nemen de toetsen af bij de leerlingen van de gekozen scholen en\n",
    "    plaatsen de resultaten in een datamatrix.\n",
    "<br/>F) Uit de frequentietabel blijkt dat er 299 jongens en 207 meisjes deelnemen. De gemiddelde cijfers voor het totale jaar zijn voor jongens 6.5 en voor meisjes 6.0. De mediaan ligt respectievelijk op 6.0 en 6.0\n",
    "<br/>G) We nemen uit elke provincie de leerlingen uit 1 willekeurig getrokken school van de richting moderne wetenschappen en zullen hen onderleggen aan eenzelfde toets 4x op het jaar."
   ]
  },
  {
   "cell_type": "code",
   "metadata": {
    "pycharm": {
     "name": "#%%\n"
    },
    "id": "htT7_-Qkt8PC"
   },
   "source": [
    "# A: fase 6\n",
    "# B: fase 2\n",
    "# C: fase 7\n",
    "# D: fase 1\n",
    "# E: fase 4\n",
    "# F: fase 5\n",
    "# G: fase 3"
   ],
   "execution_count": null,
   "outputs": []
  },
  {
   "cell_type": "markdown",
   "metadata": {
    "collapsed": false,
    "id": "K0gHnNg1t8PD"
   },
   "source": [
    "# Soorten variabelen\n",
    "\n",
    "Geef het meetniveau van volgende variabelen:\n",
    "\n",
    "1. De leeftijd van de eendagsvlieg.\n",
    "2. De uitslag van een voetbalwedstrĳd, zonder op het aantal doelpunten\n",
    "    te letten.\n",
    "3. Vervoermiddel.\n",
    "4. Het gevolgde onderwijs door dertig jarigen.\n",
    "5. Het plaatsingsnummer bij een tennistoernooi.\n",
    "6. Score op een schoolvorderingentoets."
   ]
  },
  {
   "cell_type": "code",
   "metadata": {
    "pycharm": {
     "name": "#%%\n"
    },
    "id": "YPsHiJPnt8PD"
   },
   "source": [
    "# 1.  ratio\n",
    "# 2.  ordinaal\n",
    "# 3.  nominaal\n",
    "# 4.  ordinaal (lager, secundair, bachelor, master, doctor)\\\n",
    "#     nominaal (KSO, BSO, TSO, ASO)\n",
    "# 5.  ordinaal\n",
    "# 6.  interval"
   ],
   "execution_count": null,
   "outputs": []
  },
  {
   "cell_type": "markdown",
   "metadata": {
    "collapsed": false,
    "pycharm": {
     "name": "#%% md\n"
    },
    "id": "L4HhqWfSt8PE"
   },
   "source": [
    "# Operationaliseren en meten"
   ]
  },
  {
   "cell_type": "markdown",
   "metadata": {
    "collapsed": false,
    "pycharm": {
     "name": "#%% md\n"
    },
    "id": "Y9O-CgOlt8PE"
   },
   "source": [
    "## Vraag 1\n",
    "\n",
    "Geef telkens aan of het gaat om een variabele, een constante, beide of geen van beide.\n",
    "\n",
    "1.  Het intelligentieniveau van persoon A bij de aanvang van zijn 30-ste levensjaar.\n",
    "2.  Het intelligentieniveau van persoon A in de loop van zijn leven.\n",
    "3.  Het gemiddelde intelligentieniveau van eerstejaars     informaticastudenten bij de aanvang van de cursus 2020-2021.\n",
    "4.  Het intelligentieniveau van eerstejaars informaticastudenten bij de aanvang van de cursus 2020-2021.\n",
    "5.  Het intelligentieniveau van eerstejaars informaticastudenten aan de KdG sinds 2000."
   ]
  },
  {
   "cell_type": "code",
   "metadata": {
    "pycharm": {
     "name": "#%%\n"
    },
    "id": "7EDc9gtBt8PE"
   },
   "source": [
    "# We kunnen hier opverschillende niveaus iets over zeggen: Het intelligentieniveau, de leeftijd en de\n",
    " gehele stelling. Bekijken hier de gehele stelling\n",
    "# 1.  constante (op dat moment in de tijd, voor die enkele persoon)\n",
    "# 2.  variabele (over een tijdsduur, voor die enkele persoon)\n",
    "# 3.  constante (voor die groep studenten, op dat tijdstip => het gemiddelde zal niet varieren)\n",
    "# 4.  variabele (Binnen de populatie zal het varieren op dat tijdsttip)\n",
    "# 5.  variabele (Binnen die populiatie zal dat zeker variereen over die periode)"
   ],
   "execution_count": null,
   "outputs": []
  },
  {
   "cell_type": "markdown",
   "metadata": {
    "collapsed": false,
    "pycharm": {
     "name": "#%% md\n"
    },
    "id": "1vw-QvYht8PF"
   },
   "source": [
    "## Vraag 2\n",
    "\n",
    "Het aantal zelfdodingen per jaar in een land is...\n",
    "\n",
    "1.  een continue variabele, omdat doorlopend gevallen van zelfdoding plaatsvinden\n",
    "2.  een continue variabele, omdat het aantal per jaar varieert.\n",
    "3.  een discrete variabele, omdat het een aantal betreft\n",
    "4.  een discrete variabele, omdat bij een zelfdoding vaak niet vermeld wordt dat het zelfdoding betreft"
   ]
  },
  {
   "cell_type": "code",
   "metadata": {
    "pycharm": {
     "name": "#%%\n"
    },
    "id": "WTMj3C40t8PF"
   },
   "source": [
    "# een discrete variabele, omdat het een aantal betreft"
   ],
   "execution_count": null,
   "outputs": []
  },
  {
   "cell_type": "markdown",
   "metadata": {
    "collapsed": false,
    "pycharm": {
     "name": "#%% md\n"
    },
    "id": "E5ZGsDcTt8PG"
   },
   "source": [
    "## Vraag 3\n",
    "\n",
    "Welke van de volgende variabelen is het meest waarschijnlijk een ordinale variabele?\n",
    "\n",
    "1.  de sekse van leerlingen in een schoolklas.\n",
    "2.  de temperatuur in graden Celsius op een bepaald moment.\n",
    "3.  leeftijd van kinderen die lijden aan ondervoeding in een bepaald land.\n",
    "4.  beoordelingen van leiderschapskwaliteiten.\n",
    "5.  het aantal grammen goud dat op een bepaald moment op de beurs wordt verhandeld."
   ]
  },
  {
   "cell_type": "code",
   "metadata": {
    "pycharm": {
     "name": "#%%\n"
    },
    "id": "yN2SQnUet8PG"
   },
   "source": [
    "# beoordelingen van leiderschapskwaliteiten"
   ],
   "execution_count": null,
   "outputs": []
  },
  {
   "cell_type": "markdown",
   "metadata": {
    "collapsed": false,
    "pycharm": {
     "name": "#%% md\n"
    },
    "id": "vmYyLfirt8PH"
   },
   "source": [
    "## Vraag 4\n",
    "\n",
    "Bij populaire televisie-uitzendingen is vaak publiek aanwezig. Bij een bepaalde uitzending kreeg elk individu in het publiek een lotnummer toegekend voor deelname aan een loterij.\n",
    "\n",
    "Deze nummers vormen een ...\n",
    "\n",
    "1.  nominale schaal\n",
    "2.  ordinale schaal\n",
    "3.  intervalschaal\n",
    "4.  ratioschaal"
   ]
  },
  {
   "cell_type": "code",
   "metadata": {
    "pycharm": {
     "name": "#%%\n"
    },
    "id": "HRzb5Brct8PH"
   },
   "source": [
    "# nominale schaal"
   ],
   "execution_count": null,
   "outputs": []
  },
  {
   "cell_type": "markdown",
   "metadata": {
    "collapsed": false,
    "pycharm": {
     "name": "#%% md\n"
    },
    "id": "3QjTq7jFt8PH"
   },
   "source": [
    "## Vraag 5\n",
    "\n",
    "Een motivatietest is erg valide, omdat\n",
    "\n",
    "    1. alle toevallige factoren zijn uitgeschakeld.\n",
    "\n",
    "    2. van alle testitems meerkeuzevragen zijn gemaakt.\n",
    "\n",
    "1.  beide zijn juist\n",
    "2.  1 is juist en 2 is onjuist\n",
    "3.  1 is onjuist en 2 is juist\n",
    "4.  beide zijn onjuist"
   ]
  },
  {
   "cell_type": "code",
   "metadata": {
    "pycharm": {
     "name": "#%%\n"
    },
    "id": "AbGC2E74t8PH"
   },
   "source": [
    "# beide zijn onjuist"
   ],
   "execution_count": null,
   "outputs": []
  },
  {
   "cell_type": "markdown",
   "metadata": {
    "collapsed": false,
    "pycharm": {
     "name": "#%% md\n"
    },
    "id": "Te6IYYUHt8PH"
   },
   "source": [
    "## Vraag 6\n",
    "\n",
    "Er bestaat een verband tussen de betrouwbaarheid van het meetinstrument en de validiteit van een uitspraak.\n",
    "\n",
    "Welke van de volgende uitspraken brengt dat het best tot uiting?\n",
    "\n",
    "1.  Met een onbetrouwbaar instrument kun je meestal valide uitspraken doen.\n",
    "2.  Een niet-valide uitspraak is altijd het gevolg van het gebruik van\n",
    "    een onbetrouwbaar meetinstrument.\n",
    "3.  Naarmate een meetinstrument minder betrouwbaar is, is de kans op een valide uitspraak, die gebaseerd is op metingen met dat instrument, geringer.\n",
    "4.  Dieven liegen altijd."
   ]
  },
  {
   "cell_type": "code",
   "metadata": {
    "pycharm": {
     "name": "#%%\n"
    },
    "id": "sFXZBVBdt8PI"
   },
   "source": [
    "# Naarmate een meetinstrument minder betrouwbaar is. is de kans op een valide uitspraak, die gebaseerd is op metingen met dat instrument,geringer."
   ],
   "execution_count": null,
   "outputs": []
  },
  {
   "cell_type": "markdown",
   "metadata": {
    "collapsed": false,
    "pycharm": {
     "name": "#%% md\n"
    },
    "id": "2QPaP3Yvt8PI"
   },
   "source": [
    "## Vraag 7\n",
    "\n",
    "Als je drie keer dezelfde koffer weegt met een ouderwetse balans waarvan de gewichten zijn afgesleten en drie keer tot hetzelfde gewicht komt, dan heb je in deze situatie te maken met ...\n",
    "\n",
    "1.  een betrouwbare en valide meting van het gewicht.\n",
    "2.  een betrouwbare, maar niet-valide meting van het gewicht.\n",
    "3.  een valide, maar niet-betrouwbare meting van het gewicht.\n",
    "4.  geen betrouwbare, maar ook geen valide meting van het gewicht."
   ]
  },
  {
   "cell_type": "code",
   "metadata": {
    "pycharm": {
     "name": "#%%\n"
    },
    "id": "GWBYWlyot8PI"
   },
   "source": [
    "# een betrouwbare, maar niet-valide meting van het gewicht"
   ],
   "execution_count": null,
   "outputs": []
  }
 ]
}
