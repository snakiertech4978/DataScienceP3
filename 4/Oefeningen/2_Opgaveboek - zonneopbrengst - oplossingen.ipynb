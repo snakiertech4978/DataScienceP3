{
 "cells": [
  {
   "cell_type": "markdown",
   "metadata": {
    "pycharm": {
     "name": "#%% md\n"
    }
   },
   "source": [
    "# Opgaveboek - zonneopbrengst\n",
    "\n",
    "Bekijk het bijgeleverde bestand: \"zonneopbrengst.txt\".  Hierin staat de opbrengst van zonnepannelen in KWh.  Iedere dag is er een meting gedaan.\n",
    "We willen hiervan een frequentieverdeling van maken (om antwoord te kunnen geven op vragen als: hoeveel dagen is er een opbrengst geweest van 1 KWh?).\n",
    "\n",
    "- lees het bestand in\n",
    "- Je maakt best eerst klassen aan (de variabele is continu).  Gebruik een klassenbreedte van 1KWh en zorg dat de linker-grens steeds bij het interval hoort\n",
    "\n",
    "\n"
   ]
  },
  {
   "cell_type": "markdown",
   "metadata": {
    "pycharm": {
     "name": "#%% md\n"
    }
   },
   "source": [
    "### Import van de libraries en inlezen van zonneopbrengst.txt\n",
    "\n",
    "- lees het bestand zonneopbrengst.txt in in een dataframe\n",
    "- Geef de kolom de naam 'metingen'\n",
    "- Ouput de eerste 5 rijen van het dataframe"
   ]
  },
  {
   "cell_type": "code",
   "execution_count": 1,
   "metadata": {
    "pycharm": {
     "name": "#%%\n"
    }
   },
   "outputs": [
    {
     "data": {
      "text/html": [
       "<div>\n",
       "<style scoped>\n",
       "    .dataframe tbody tr th:only-of-type {\n",
       "        vertical-align: middle;\n",
       "    }\n",
       "\n",
       "    .dataframe tbody tr th {\n",
       "        vertical-align: top;\n",
       "    }\n",
       "\n",
       "    .dataframe thead th {\n",
       "        text-align: right;\n",
       "    }\n",
       "</style>\n",
       "<table border=\"1\" class=\"dataframe\">\n",
       "  <thead>\n",
       "    <tr style=\"text-align: right;\">\n",
       "      <th></th>\n",
       "      <th>metingen</th>\n",
       "    </tr>\n",
       "  </thead>\n",
       "  <tbody>\n",
       "    <tr>\n",
       "      <th>0</th>\n",
       "      <td>1.86</td>\n",
       "    </tr>\n",
       "    <tr>\n",
       "      <th>1</th>\n",
       "      <td>4.50</td>\n",
       "    </tr>\n",
       "    <tr>\n",
       "      <th>2</th>\n",
       "      <td>7.41</td>\n",
       "    </tr>\n",
       "    <tr>\n",
       "      <th>3</th>\n",
       "      <td>5.66</td>\n",
       "    </tr>\n",
       "    <tr>\n",
       "      <th>4</th>\n",
       "      <td>6.85</td>\n",
       "    </tr>\n",
       "  </tbody>\n",
       "</table>\n",
       "</div>"
      ],
      "text/plain": [
       "   metingen\n",
       "0      1.86\n",
       "1      4.50\n",
       "2      7.41\n",
       "3      5.66\n",
       "4      6.85"
      ]
     },
     "execution_count": 1,
     "metadata": {},
     "output_type": "execute_result"
    }
   ],
   "source": [
    "# hier komt jouw code\n",
    "import pandas as pd\n",
    "\n",
    "zonnedata = pd.read_csv('../datasets/zonneopbrengst.txt', header=None, sep='delimiter', engine='python')\n",
    "\n",
    "zonnedata.columns = ['metingen']\n",
    "zonnedata.head()"
   ]
  },
  {
   "cell_type": "markdown",
   "metadata": {
    "pycharm": {
     "name": "#%% md\n"
    }
   },
   "source": [
    "### Deel de kolom metingen op in klassen\n",
    "- Bepaal het maximum van alle metingen. We willen immers dat alle metingen in een \n",
    "klasse terechtkomen.\n",
    "- Maak nu klassen aan met een breedte van 1kWh.\n",
    "- Zorg ervoor dat de linkergrens hoort er telkens bijhoort."
   ]
  },
  {
   "cell_type": "code",
   "execution_count": 2,
   "metadata": {
    "pycharm": {
     "name": "#%%\n"
    }
   },
   "outputs": [
    {
     "name": "stdout",
     "output_type": "stream",
     "text": [
      "15.97\n"
     ]
    }
   ],
   "source": [
    "print(zonnedata.metingen.max()) # bepaal de maximum waarde van de metingen\n",
    "cutpoints = range(0,17,1)\n",
    "klassen = pd.cut(zonnedata.metingen, bins=cutpoints, right = False) #linkergrens hoort erbij!"
   ]
  },
  {
   "cell_type": "markdown",
   "metadata": {
    "pycharm": {
     "name": "#%% md\n"
    }
   },
   "source": [
    "### Vraag 1  \n",
    "\n",
    "- Bepaal de frequentie per klasse en toon dit in een tabel.\n",
    "\n"
   ]
  },
  {
   "cell_type": "code",
   "execution_count": 10,
   "metadata": {
    "pycharm": {
     "name": "#%%\n"
    }
   },
   "outputs": [
    {
     "data": {
      "text/plain": [
       "[0, 1)      254\n",
       "[1, 2)      149\n",
       "[2, 3)      116\n",
       "[3, 4)       94\n",
       "[4, 5)       83\n",
       "[5, 6)       95\n",
       "[6, 7)      100\n",
       "[7, 8)      114\n",
       "[8, 9)       80\n",
       "[9, 10)      55\n",
       "[10, 11)     42\n",
       "[11, 12)     30\n",
       "[12, 13)      3\n",
       "[13, 14)      0\n",
       "[14, 15)      0\n",
       "[15, 16)      1\n",
       "Name: metingen, dtype: int64"
      ]
     },
     "execution_count": 10,
     "metadata": {},
     "output_type": "execute_result"
    }
   ],
   "source": [
    "# hier komt jouw code\n",
    "klassen.value_counts().sort_index()"
   ]
  },
  {
   "cell_type": "markdown",
   "metadata": {
    "pycharm": {
     "name": "#%% md\n"
    }
   },
   "source": [
    "###  Vraag 2  \n",
    "\n",
    "Plot de frequenties in een diagram (welk soort diagram is hier op zijn plaats?)\n",
    "\n"
   ]
  },
  {
   "cell_type": "code",
   "execution_count": 14,
   "metadata": {
    "pycharm": {
     "name": "#%%\n"
    }
   },
   "outputs": [
    {
     "data": {
      "image/png": "[encoded data removed]",
      "text/plain": [
       "<Figure size 720x576 with 1 Axes>"
      ]
     },
     "metadata": {
      "needs_background": "light"
     },
     "output_type": "display_data"
    }
   ],
   "source": [
    "# hier komt jouw code\n",
    "\n",
    "import matplotlib.pyplot as plt\n",
    "\n",
    "x = klassen.value_counts().sort_index().to_numpy()\n",
    "\n",
    "l = ['['+str(i)+','+ str(i+1)+']' for i in range(0,16,1)] #labels voor de x-as\n",
    "\n",
    "fig, ax = plt.subplots(figsize = (10,8))\n",
    "ax.bar(l, x)\n",
    "ax.set_title(\"Histogram van de zon\")\n",
    "ax.set_ylabel(\"Frequentie\")\n",
    "ax.grid(True)"
   ]
  },
  {
   "cell_type": "markdown",
   "metadata": {
    "pycharm": {
     "name": "#%% md\n"
    }
   },
   "source": [
    "### Vraag 3  \n",
    "\n",
    "Geef nu antwoord op de volgende vragen:\n",
    "\n",
    "- op de meeste dagen van het jaar ligt de dagopbrengst in de klasse ...\n",
    "- er waren ... dagen met een opbrengst tussen 3 en 4 KWh\n",
    "- er waren ... dagen met een opbrengst tussen 2 en 4 KWh\n",
    "\n",
    "Je voelt intuïtief misschien al aan dat de antwoorden op de laatste twee vragen niet echt veel informatie geven.  Dat aantal hangt nl. ook af van het aantal metingen.  We zijn meer geïnteresseerd in het percentage van de dagen waarin de opbrengst tussen 3 en 4 KWh ligt.  Dit kunnen we echter perfect berekenen a.d.h. van relatieve frequenties.  Geef antwoord op de volgende vragen:\n",
    "\n",
    "- ...% van de dagen lag de opbrengst tussen 3 en 4 KWh\n",
    "-  ...% van de dagen lag de opbrengst tussen 2 en 4 KWh\n",
    "\n",
    "-  Stel dat ik op een bepaalde dag een opbrengst van 3 KWh meet.  Welke percentielscore komt hiermee overeen?  Is dat een grote opbrengst?\n",
    "Merk hierbij op: uit de frequentietabel zou je kunnen afleiden dat een opbrengst tussen 0 en 1 zoveel voorkomt dat 3KWh enorm veel is.  Maar er zijn ook heel veel dagen met meer opbrengst, maar die zijn meer verspreid.  Een cumulatief percentage kan dit laten zien."
   ]
  },
  {
   "cell_type": "code",
   "execution_count": 18,
   "metadata": {
    "pycharm": {
     "name": "#%%\n"
    }
   },
   "outputs": [
    {
     "data": {
      "text/plain": [
       "[0, 1)      254\n",
       "[1, 2)      149\n",
       "[2, 3)      116\n",
       "[3, 4)       94\n",
       "[4, 5)       83\n",
       "[5, 6)       95\n",
       "[6, 7)      100\n",
       "[7, 8)      114\n",
       "[8, 9)       80\n",
       "[9, 10)      55\n",
       "[10, 11)     42\n",
       "[11, 12)     30\n",
       "[12, 13)      3\n",
       "[13, 14)      0\n",
       "[14, 15)      0\n",
       "[15, 16)      1\n",
       "Name: metingen, dtype: int64"
      ]
     },
     "execution_count": 18,
     "metadata": {},
     "output_type": "execute_result"
    }
   ],
   "source": [
    "#absolute frequenties\n",
    "klassen.value_counts().sort_index()"
   ]
  },
  {
   "cell_type": "code",
   "execution_count": 19,
   "metadata": {
    "pycharm": {
     "name": "#%%\n"
    }
   },
   "outputs": [
    {
     "data": {
      "text/plain": [
       "[0, 1)      20.89\n",
       "[1, 2)      12.25\n",
       "[2, 3)       9.54\n",
       "[3, 4)       7.73\n",
       "[4, 5)       6.83\n",
       "[5, 6)       7.81\n",
       "[6, 7)       8.22\n",
       "[7, 8)       9.38\n",
       "[8, 9)       6.58\n",
       "[9, 10)      4.52\n",
       "[10, 11)     3.45\n",
       "[11, 12)     2.47\n",
       "[12, 13)     0.25\n",
       "[13, 14)     0.00\n",
       "[14, 15)     0.00\n",
       "[15, 16)     0.08\n",
       "Name: metingen, dtype: float64"
      ]
     },
     "execution_count": 19,
     "metadata": {},
     "output_type": "execute_result"
    }
   ],
   "source": [
    "# relatieve frequenties\n",
    "(klassen.value_counts(normalize=True)*100).round(2).sort_index()"
   ]
  },
  {
   "cell_type": "code",
   "execution_count": 60,
   "metadata": {
    "id": "15wSfIjs2FdE",
    "pycharm": {
     "name": "#%%\n"
    }
   },
   "outputs": [
    {
     "data": {
      "text/plain": [
       "[0, 1)       254\n",
       "[1, 2)       403\n",
       "[2, 3)       519\n",
       "[3, 4)       613\n",
       "[4, 5)       696\n",
       "[5, 6)       791\n",
       "[6, 7)       891\n",
       "[7, 8)      1005\n",
       "[8, 9)      1085\n",
       "[9, 10)     1140\n",
       "[10, 11)    1182\n",
       "[11, 12)    1212\n",
       "[12, 13)    1215\n",
       "[13, 14)    1215\n",
       "[14, 15)    1215\n",
       "[15, 16)    1216\n",
       "Name: metingen, dtype: int64"
      ]
     },
     "execution_count": 60,
     "metadata": {},
     "output_type": "execute_result"
    }
   ],
   "source": [
    "# cumulatieve absolute frequenties\n",
    "klassen.value_counts().sort_index().cumsum()"
   ]
  },
  {
   "cell_type": "code",
   "execution_count": 20,
   "metadata": {
    "pycharm": {
     "name": "#%%\n"
    }
   },
   "outputs": [
    {
     "data": {
      "text/plain": [
       "[0, 1)       20.89\n",
       "[1, 2)       33.14\n",
       "[2, 3)       42.68\n",
       "[3, 4)       50.41\n",
       "[4, 5)       57.24\n",
       "[5, 6)       65.05\n",
       "[6, 7)       73.27\n",
       "[7, 8)       82.65\n",
       "[8, 9)       89.23\n",
       "[9, 10)      93.75\n",
       "[10, 11)     97.20\n",
       "[11, 12)     99.67\n",
       "[12, 13)     99.92\n",
       "[13, 14)     99.92\n",
       "[14, 15)     99.92\n",
       "[15, 16)    100.00\n",
       "Name: metingen, dtype: float64"
      ]
     },
     "execution_count": 20,
     "metadata": {},
     "output_type": "execute_result"
    }
   ],
   "source": [
    "#cumulatieve relatieve frequenties\n",
    "(klassen.value_counts(normalize=True).sort_index()\n",
    "       .cumsum()*100).round(2)"
   ]
  },
  {
   "cell_type": "code",
   "execution_count": 22,
   "metadata": {
    "pycharm": {
     "name": "#%%\n"
    }
   },
   "outputs": [],
   "source": [
    "#a) op de meeste dagen van het jaar ligt de dagopbrengst in de klasse ]0,1]\n",
    "#b) er waren 94 dagen met een opbrengst tussen 3 en 4 KWh (kijk naar de absolute frequenties)\n",
    "#c) er waren 210 dagen met een opbrengst tussen 2 en 4 KWh (kijk naar de absolute frequenties)\n",
    "#d) 7,73% van de dagen lag de opbrengst tussen 3 en 4 KWh (kijk naar relatieve frequenties)\n",
    "#e) 17,3% van de dagen lag de opbrengst tussen 2 en 4 KWh (kijk naar relatieve frequenties)\n",
    "#f) percentielscore = 50.41% omdat het 3 inclusief is in de klasse [3,4). We dienen wel op te merken dat 42.68% van de opbrengsten kleiner zijn dan 3. 3 ligt helemaal aan de ondergrens van de klasse. Het percentage zal dus in werkgelijkheid waarschijnlijk dichter bij 42.68% liggen dan bij 50.41% Waarschijnlijk ligt het merendeel van de opbrengsten dus hoger dan 3 KWh\n",
    "#De grootste opbrengst (57,3%) zit nog altijd in de klassen hoger dan 3 KWh"
   ]
  },
  {
   "cell_type": "code",
   "execution_count": null,
   "metadata": {
    "pycharm": {
     "name": "#%%\n"
    }
   },
   "outputs": [],
   "source": []
  }
 ],
 "metadata": {
  "colab": {
   "authorship_tag": "ABX9TyNg6aRit7BREhWjeFuuQ0WE",
   "name": "zonneopbrengst_freq.ipynb",
   "provenance": []
  },
  "kernelspec": {
   "display_name": "Python 3",
   "language": "python",
   "name": "python3"
  },
  "language_info": {
   "codemirror_mode": {
    "name": "ipython",
    "version": 3
   },
   "file_extension": ".py",
   "mimetype": "text/x-python",
   "name": "python",
   "nbconvert_exporter": "python",
   "pygments_lexer": "ipython3",
   "version": "3.8.7"
  }
 },
 "nbformat": 4,
 "nbformat_minor": 1
}
