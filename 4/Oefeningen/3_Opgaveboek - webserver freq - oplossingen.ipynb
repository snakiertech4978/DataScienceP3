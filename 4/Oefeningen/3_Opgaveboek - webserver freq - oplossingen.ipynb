{
 "cells": [
  {
   "cell_type": "markdown",
   "metadata": {
    "id": "dZDv_fvzaVxZ",
    "pycharm": {
     "name": "#%% md\n"
    }
   },
   "source": [
    "---\n",
    "## Webserver\n",
    "---\n",
    "\n",
    "Bekijk het bijgeleverde bestand: \"UofS_access_log\".  Hierin staat een log van een webserver.  Iedere lijn bevat informatie over een request dat naar de server werd gestuurd.  Je vindt per request volgende informatie terug:\n",
    "\n",
    "- de naam of ip-adres van de client\n",
    "- het tijdstip\n",
    "- de HTTP request die gebeurde\n",
    "- de HTTP response code\n",
    "- het aantal bytes in de response\n",
    "\n",
    "---\n",
    "\n",
    "- Lees het bestand in Python.\n",
    "\n",
    "  - Zorg ervoor dat je slechts 5 kolommen overhoudt met de namen: \"client\", \"date\", \"request\", \"response_code\", \"response_length\".  \n",
    "  - Vervang '-' in de response.length door 0\n",
    "\n",
    "Gebruik 3 beduidende cijfers in je antwoorden.\n",
    "\n"
   ]
  },
  {
   "cell_type": "code",
   "execution_count": 7,
   "metadata": {
    "executionInfo": {
     "elapsed": 381,
     "status": "error",
     "timestamp": 1679518752476,
     "user": {
      "displayName": "Rony Baekeland",
      "userId": "01731985152349302060"
     },
     "user_tz": -60
    },
    "id": "-t6EYijrpqUI",
    "pycharm": {
     "name": "#%%\n"
    },
    "colab": {
     "base_uri": "https://localhost:8080/",
     "height": 397
    },
    "outputId": "41954351-c5d5-4fa2-b018-8ec83e7a74f0"
   },
   "outputs": [
    {
     "output_type": "error",
     "ename": "FileNotFoundError",
     "evalue": "ignored",
     "traceback": [
      "\u001B[0;31m---------------------------------------------------------------------------\u001B[0m",
      "\u001B[0;31mFileNotFoundError\u001B[0m                         Traceback (most recent call last)",
      "\u001B[0;32m<ipython-input-7-ec67b3729f39>\u001B[0m in \u001B[0;36m<module>\u001B[0;34m\u001B[0m\n\u001B[1;32m      3\u001B[0m \u001B[0;32mimport\u001B[0m \u001B[0mpandas\u001B[0m \u001B[0;32mas\u001B[0m \u001B[0mpd\u001B[0m\u001B[0;34m\u001B[0m\u001B[0;34m\u001B[0m\u001B[0m\n\u001B[1;32m      4\u001B[0m \u001B[0;31m#,993113]\u001B[0m\u001B[0;34m\u001B[0m\u001B[0;34m\u001B[0m\u001B[0m\n\u001B[0;32m----> 5\u001B[0;31m \u001B[0mweb\u001B[0m \u001B[0;34m=\u001B[0m \u001B[0mpd\u001B[0m\u001B[0;34m.\u001B[0m\u001B[0mread_csv\u001B[0m\u001B[0;34m(\u001B[0m\u001B[0;34m'datasets/Uofs_access_log'\u001B[0m\u001B[0;34m,\u001B[0m \u001B[0msep\u001B[0m\u001B[0;34m=\u001B[0m\u001B[0;34m\" \"\u001B[0m\u001B[0;34m,\u001B[0m \u001B[0mheader\u001B[0m\u001B[0;34m=\u001B[0m\u001B[0;32mNone\u001B[0m\u001B[0;34m,\u001B[0m \u001B[0mskiprows\u001B[0m\u001B[0;34m=\u001B[0m\u001B[0;34m[\u001B[0m\u001B[0;36m990899\u001B[0m\u001B[0;34m,\u001B[0m\u001B[0;36m993112\u001B[0m\u001B[0;34m]\u001B[0m\u001B[0;34m,\u001B[0m \u001B[0mencoding\u001B[0m \u001B[0;34m=\u001B[0m \u001B[0;34m\"ISO-8859-1\"\u001B[0m\u001B[0;34m)\u001B[0m\u001B[0;34m\u001B[0m\u001B[0;34m\u001B[0m\u001B[0m\n\u001B[0m\u001B[1;32m      6\u001B[0m \u001B[0mweb\u001B[0m\u001B[0;34m.\u001B[0m\u001B[0mhead\u001B[0m\u001B[0;34m(\u001B[0m\u001B[0;34m)\u001B[0m\u001B[0;34m\u001B[0m\u001B[0;34m\u001B[0m\u001B[0m\n\u001B[1;32m      7\u001B[0m \u001B[0mtimestamp\u001B[0m \u001B[0;34m=\u001B[0m \u001B[0mpd\u001B[0m\u001B[0;34m.\u001B[0m\u001B[0mSeries\u001B[0m\u001B[0;34m(\u001B[0m\u001B[0mpd\u001B[0m\u001B[0;34m.\u001B[0m\u001B[0mto_datetime\u001B[0m\u001B[0;34m(\u001B[0m\u001B[0mweb\u001B[0m\u001B[0;34m[\u001B[0m\u001B[0;34m[\u001B[0m\u001B[0;36m3\u001B[0m\u001B[0;34m,\u001B[0m\u001B[0;36m4\u001B[0m\u001B[0;34m]\u001B[0m\u001B[0;34m]\u001B[0m\u001B[0;34m.\u001B[0m\u001B[0mapply\u001B[0m\u001B[0;34m(\u001B[0m\u001B[0;34m''\u001B[0m\u001B[0;34m.\u001B[0m\u001B[0mjoin\u001B[0m\u001B[0;34m,\u001B[0m \u001B[0maxis\u001B[0m\u001B[0;34m=\u001B[0m\u001B[0;36m1\u001B[0m\u001B[0;34m)\u001B[0m\u001B[0;34m,\u001B[0m \u001B[0mformat\u001B[0m\u001B[0;34m=\u001B[0m\u001B[0;34m'[%d/%b/%Y:%H:%M:%S%z]'\u001B[0m\u001B[0;34m)\u001B[0m\u001B[0;34m,\u001B[0m \u001B[0mname\u001B[0m\u001B[0;34m=\u001B[0m\u001B[0;34m'timestamp'\u001B[0m\u001B[0;34m)\u001B[0m\u001B[0;34m\u001B[0m\u001B[0;34m\u001B[0m\u001B[0m\n",
      "\u001B[0;32m/usr/local/lib/python3.9/dist-packages/pandas/util/_decorators.py\u001B[0m in \u001B[0;36mwrapper\u001B[0;34m(*args, **kwargs)\u001B[0m\n\u001B[1;32m    309\u001B[0m                     \u001B[0mstacklevel\u001B[0m\u001B[0;34m=\u001B[0m\u001B[0mstacklevel\u001B[0m\u001B[0;34m,\u001B[0m\u001B[0;34m\u001B[0m\u001B[0;34m\u001B[0m\u001B[0m\n\u001B[1;32m    310\u001B[0m                 )\n\u001B[0;32m--> 311\u001B[0;31m             \u001B[0;32mreturn\u001B[0m \u001B[0mfunc\u001B[0m\u001B[0;34m(\u001B[0m\u001B[0;34m*\u001B[0m\u001B[0margs\u001B[0m\u001B[0;34m,\u001B[0m \u001B[0;34m**\u001B[0m\u001B[0mkwargs\u001B[0m\u001B[0;34m)\u001B[0m\u001B[0;34m\u001B[0m\u001B[0;34m\u001B[0m\u001B[0m\n\u001B[0m\u001B[1;32m    312\u001B[0m \u001B[0;34m\u001B[0m\u001B[0m\n\u001B[1;32m    313\u001B[0m         \u001B[0;32mreturn\u001B[0m \u001B[0mwrapper\u001B[0m\u001B[0;34m\u001B[0m\u001B[0;34m\u001B[0m\u001B[0m\n",
      "\u001B[0;32m/usr/local/lib/python3.9/dist-packages/pandas/io/parsers/readers.py\u001B[0m in \u001B[0;36mread_csv\u001B[0;34m(filepath_or_buffer, sep, delimiter, header, names, index_col, usecols, squeeze, prefix, mangle_dupe_cols, dtype, engine, converters, true_values, false_values, skipinitialspace, skiprows, skipfooter, nrows, na_values, keep_default_na, na_filter, verbose, skip_blank_lines, parse_dates, infer_datetime_format, keep_date_col, date_parser, dayfirst, cache_dates, iterator, chunksize, compression, thousands, decimal, lineterminator, quotechar, quoting, doublequote, escapechar, comment, encoding, encoding_errors, dialect, error_bad_lines, warn_bad_lines, on_bad_lines, delim_whitespace, low_memory, memory_map, float_precision, storage_options)\u001B[0m\n\u001B[1;32m    676\u001B[0m     \u001B[0mkwds\u001B[0m\u001B[0;34m.\u001B[0m\u001B[0mupdate\u001B[0m\u001B[0;34m(\u001B[0m\u001B[0mkwds_defaults\u001B[0m\u001B[0;34m)\u001B[0m\u001B[0;34m\u001B[0m\u001B[0;34m\u001B[0m\u001B[0m\n\u001B[1;32m    677\u001B[0m \u001B[0;34m\u001B[0m\u001B[0m\n\u001B[0;32m--> 678\u001B[0;31m     \u001B[0;32mreturn\u001B[0m \u001B[0m_read\u001B[0m\u001B[0;34m(\u001B[0m\u001B[0mfilepath_or_buffer\u001B[0m\u001B[0;34m,\u001B[0m \u001B[0mkwds\u001B[0m\u001B[0;34m)\u001B[0m\u001B[0;34m\u001B[0m\u001B[0;34m\u001B[0m\u001B[0m\n\u001B[0m\u001B[1;32m    679\u001B[0m \u001B[0;34m\u001B[0m\u001B[0m\n\u001B[1;32m    680\u001B[0m \u001B[0;34m\u001B[0m\u001B[0m\n",
      "\u001B[0;32m/usr/local/lib/python3.9/dist-packages/pandas/io/parsers/readers.py\u001B[0m in \u001B[0;36m_read\u001B[0;34m(filepath_or_buffer, kwds)\u001B[0m\n\u001B[1;32m    573\u001B[0m \u001B[0;34m\u001B[0m\u001B[0m\n\u001B[1;32m    574\u001B[0m     \u001B[0;31m# Create the parser.\u001B[0m\u001B[0;34m\u001B[0m\u001B[0;34m\u001B[0m\u001B[0m\n\u001B[0;32m--> 575\u001B[0;31m     \u001B[0mparser\u001B[0m \u001B[0;34m=\u001B[0m \u001B[0mTextFileReader\u001B[0m\u001B[0;34m(\u001B[0m\u001B[0mfilepath_or_buffer\u001B[0m\u001B[0;34m,\u001B[0m \u001B[0;34m**\u001B[0m\u001B[0mkwds\u001B[0m\u001B[0;34m)\u001B[0m\u001B[0;34m\u001B[0m\u001B[0;34m\u001B[0m\u001B[0m\n\u001B[0m\u001B[1;32m    576\u001B[0m \u001B[0;34m\u001B[0m\u001B[0m\n\u001B[1;32m    577\u001B[0m     \u001B[0;32mif\u001B[0m \u001B[0mchunksize\u001B[0m \u001B[0;32mor\u001B[0m \u001B[0miterator\u001B[0m\u001B[0;34m:\u001B[0m\u001B[0;34m\u001B[0m\u001B[0;34m\u001B[0m\u001B[0m\n",
      "\u001B[0;32m/usr/local/lib/python3.9/dist-packages/pandas/io/parsers/readers.py\u001B[0m in \u001B[0;36m__init__\u001B[0;34m(self, f, engine, **kwds)\u001B[0m\n\u001B[1;32m    930\u001B[0m \u001B[0;34m\u001B[0m\u001B[0m\n\u001B[1;32m    931\u001B[0m         \u001B[0mself\u001B[0m\u001B[0;34m.\u001B[0m\u001B[0mhandles\u001B[0m\u001B[0;34m:\u001B[0m \u001B[0mIOHandles\u001B[0m \u001B[0;34m|\u001B[0m \u001B[0;32mNone\u001B[0m \u001B[0;34m=\u001B[0m \u001B[0;32mNone\u001B[0m\u001B[0;34m\u001B[0m\u001B[0;34m\u001B[0m\u001B[0m\n\u001B[0;32m--> 932\u001B[0;31m         \u001B[0mself\u001B[0m\u001B[0;34m.\u001B[0m\u001B[0m_engine\u001B[0m \u001B[0;34m=\u001B[0m \u001B[0mself\u001B[0m\u001B[0;34m.\u001B[0m\u001B[0m_make_engine\u001B[0m\u001B[0;34m(\u001B[0m\u001B[0mf\u001B[0m\u001B[0;34m,\u001B[0m \u001B[0mself\u001B[0m\u001B[0;34m.\u001B[0m\u001B[0mengine\u001B[0m\u001B[0;34m)\u001B[0m\u001B[0;34m\u001B[0m\u001B[0;34m\u001B[0m\u001B[0m\n\u001B[0m\u001B[1;32m    933\u001B[0m \u001B[0;34m\u001B[0m\u001B[0m\n\u001B[1;32m    934\u001B[0m     \u001B[0;32mdef\u001B[0m \u001B[0mclose\u001B[0m\u001B[0;34m(\u001B[0m\u001B[0mself\u001B[0m\u001B[0;34m)\u001B[0m\u001B[0;34m:\u001B[0m\u001B[0;34m\u001B[0m\u001B[0;34m\u001B[0m\u001B[0m\n",
      "\u001B[0;32m/usr/local/lib/python3.9/dist-packages/pandas/io/parsers/readers.py\u001B[0m in \u001B[0;36m_make_engine\u001B[0;34m(self, f, engine)\u001B[0m\n\u001B[1;32m   1214\u001B[0m             \u001B[0;31m# \"Union[str, PathLike[str], ReadCsvBuffer[bytes], ReadCsvBuffer[str]]\"\u001B[0m\u001B[0;34m\u001B[0m\u001B[0;34m\u001B[0m\u001B[0m\n\u001B[1;32m   1215\u001B[0m             \u001B[0;31m# , \"str\", \"bool\", \"Any\", \"Any\", \"Any\", \"Any\", \"Any\"\u001B[0m\u001B[0;34m\u001B[0m\u001B[0;34m\u001B[0m\u001B[0m\n\u001B[0;32m-> 1216\u001B[0;31m             self.handles = get_handle(  # type: ignore[call-overload]\n\u001B[0m\u001B[1;32m   1217\u001B[0m                 \u001B[0mf\u001B[0m\u001B[0;34m,\u001B[0m\u001B[0;34m\u001B[0m\u001B[0;34m\u001B[0m\u001B[0m\n\u001B[1;32m   1218\u001B[0m                 \u001B[0mmode\u001B[0m\u001B[0;34m,\u001B[0m\u001B[0;34m\u001B[0m\u001B[0;34m\u001B[0m\u001B[0m\n",
      "\u001B[0;32m/usr/local/lib/python3.9/dist-packages/pandas/io/common.py\u001B[0m in \u001B[0;36mget_handle\u001B[0;34m(path_or_buf, mode, encoding, compression, memory_map, is_text, errors, storage_options)\u001B[0m\n\u001B[1;32m    784\u001B[0m         \u001B[0;32mif\u001B[0m \u001B[0mioargs\u001B[0m\u001B[0;34m.\u001B[0m\u001B[0mencoding\u001B[0m \u001B[0;32mand\u001B[0m \u001B[0;34m\"b\"\u001B[0m \u001B[0;32mnot\u001B[0m \u001B[0;32min\u001B[0m \u001B[0mioargs\u001B[0m\u001B[0;34m.\u001B[0m\u001B[0mmode\u001B[0m\u001B[0;34m:\u001B[0m\u001B[0;34m\u001B[0m\u001B[0;34m\u001B[0m\u001B[0m\n\u001B[1;32m    785\u001B[0m             \u001B[0;31m# Encoding\u001B[0m\u001B[0;34m\u001B[0m\u001B[0;34m\u001B[0m\u001B[0m\n\u001B[0;32m--> 786\u001B[0;31m             handle = open(\n\u001B[0m\u001B[1;32m    787\u001B[0m                 \u001B[0mhandle\u001B[0m\u001B[0;34m,\u001B[0m\u001B[0;34m\u001B[0m\u001B[0;34m\u001B[0m\u001B[0m\n\u001B[1;32m    788\u001B[0m                 \u001B[0mioargs\u001B[0m\u001B[0;34m.\u001B[0m\u001B[0mmode\u001B[0m\u001B[0;34m,\u001B[0m\u001B[0;34m\u001B[0m\u001B[0;34m\u001B[0m\u001B[0m\n",
      "\u001B[0;31mFileNotFoundError\u001B[0m: [Errno 2] No such file or directory: 'datasets/Uofs_access_log'"
     ]
    }
   ],
   "source": [
    "import matplotlib.pyplot as plt\n",
    "\n",
    "import pandas as pd\n",
    "#,993113]\n",
    "web = pd.read_csv('datasets/Uofs_access_log', sep=\" \", header=None, skiprows=[990899,993112], encoding = \"ISO-8859-1\")\n",
    "web.head()\n",
    "timestamp = pd.Series(pd.to_datetime(web[[3,4]].apply(''.join, axis=1), format='[%d/%b/%Y:%H:%M:%S%z]'), name='timestamp')\n",
    "\n",
    "web = web.drop(columns=[1,2,3,4])\n",
    "web.columns=['client', 'request', 'response_code', 'response_length']\n",
    "timestamp.dt.date\n",
    "date = pd.Series(pd.to_datetime(timestamp.dt.date, format='%Y-%m-%d'), name = 'date')\n",
    "web = web.join(date)\n",
    "web['response_length'] = web.response_length.apply(lambda row: pd.to_numeric(row, errors='coerce'))\n",
    "web.head()\n",
    "web.info()"
   ]
  },
  {
   "cell_type": "markdown",
   "metadata": {
    "id": "UFr6FpWmajji",
    "pycharm": {
     "name": "#%% md\n"
    }
   },
   "source": [
    "### Oefening 1\n",
    "Welke response code komt het meest voor?  Aan de hand van welke frequenties kan je dit zien?\n"
   ]
  },
  {
   "cell_type": "code",
   "execution_count": null,
   "metadata": {
    "id": "QC6ZRPP6bCyW",
    "pycharm": {
     "name": "#%%\n"
    }
   },
   "outputs": [],
   "source": [
    "# schrijf hier je code\n",
    "web.response_code.value_counts()\n",
    "\n",
    "# met behulp van absolute frequenties\n",
    "# de response code \"200\" komt het meest voor"
   ]
  },
  {
   "cell_type": "markdown",
   "metadata": {
    "id": "Na577uB7anV5",
    "pycharm": {
     "name": "#%% md\n"
    }
   },
   "source": [
    "### Oefening 2\n",
    "Hoeveel procent van de requests bevat een response code die groter is dan 200?  Aan de hand van welke frequenties kan je dit berekenen?\n"
   ]
  },
  {
   "cell_type": "code",
   "execution_count": null,
   "metadata": {
    "colab": {
     "base_uri": "https://localhost:8080/"
    },
    "executionInfo": {
     "elapsed": 461,
     "status": "ok",
     "timestamp": 1613687078105,
     "user": {
      "displayName": "katrien van meulder",
      "photoUrl": "",
      "userId": "07051660409659315107"
     },
     "user_tz": -60
    },
    "id": "QexrGXDrbKOX",
    "outputId": "ebb5daa9-391a-4ba2-9b05-589804a8165c",
    "pycharm": {
     "name": "#%%\n"
    }
   },
   "outputs": [
    {
     "data": {
      "text/plain": "200     91.1\n302     92.8\n304     99.1\n400     99.1\n401     99.1\n403     99.1\n404    100.0\n500    100.0\n501    100.0\nName: response_code, dtype: float64"
     },
     "execution_count": 5,
     "metadata": {},
     "output_type": "execute_result"
    }
   ],
   "source": [
    "# schrijf hier je code\n",
    "(web.response_code.value_counts(normalize=True)*100).round(1).sort_index().cumsum()\n",
    "\n",
    "# aan de hand van cumulatieve frequentie van 200\n",
    "# 8.9 % van de respons cod"
   ]
  },
  {
   "cell_type": "markdown",
   "metadata": {
    "id": "XEcDvnCpanSx",
    "pycharm": {
     "name": "#%% md\n"
    }
   },
   "source": [
    "### Oefening 3  \n",
    "\n",
    "Hoeveel keer komt een response code 401 voor?  Aan de hand van welke frequenties kan je dit zien?  Wat betekent deze response code?\n"
   ]
  },
  {
   "cell_type": "code",
   "execution_count": null,
   "metadata": {
    "id": "24v7gWu5bRwM",
    "pycharm": {
     "name": "#%%\n"
    }
   },
   "outputs": [],
   "source": [
    "#schrijf hier je code\n",
    "web.response_code.value_counts().sort_index()\n",
    "\n",
    "# response code komt 98 keer voor\n",
    "# 401 is \"Unauthorized\" en wil zeggen dat iemand probeerde in te loggen \n",
    "# met verkeerde gegevens (https://en.wikipedia.org/wiki/List_of_HTTP_status_codes)"
   ]
  },
  {
   "cell_type": "markdown",
   "metadata": {
    "id": "O3sbq8MKanQH",
    "pycharm": {
     "name": "#%% md\n"
    }
   },
   "source": [
    "### Oefening 4  \n",
    "\n",
    "Welke documenten werden opgevraagd bij een response code 401?\n"
   ]
  },
  {
   "cell_type": "code",
   "execution_count": null,
   "metadata": {
    "colab": {
     "base_uri": "https://localhost:8080/"
    },
    "executionInfo": {
     "elapsed": 492,
     "status": "ok",
     "timestamp": 1613687122666,
     "user": {
      "displayName": "katrien van meulder",
      "photoUrl": "",
      "userId": "07051660409659315107"
     },
     "user_tz": -60
    },
    "id": "WVuzU8gLbbdk",
    "outputId": "4e30079c-7a94-4f0b-e676-b57ae1afd449",
    "pycharm": {
     "name": "#%%\n"
    }
   },
   "outputs": [
    {
     "data": {
      "text/plain": "1802463                    GET /dcs/pts/record.html HTTP/1.0\n2099472    GET /dcs/courses/cai/html/glossary/strong.html...\n2099474    GET /dcs/courses/cai/html/introduction_lesson/...\n2099478    GET /dcs/courses/cai/html/activities/edit_acti...\n2099484    GET /dcs/courses/cai/html/glossary/strong.html...\n2099500    GET /dcs/courses/cai/html/glossary/b.html HTTP...\n2099502    GET /dcs/courses/cai/html/tools_lesson/lynx_ed...\n2099512    GET /dcs/courses/cai/html/glossary/strong.html...\n2099516    GET /dcs/courses/cai/html/examples/a_image.htm...\n2099527    GET /dcs/courses/cai/html/tools_lesson/other_t...\n2099531    GET /dcs/courses/cai/html/graphics_lesson/inde...\n2099556        GET /dcs/courses/cai/html/index.html HTTP/1.0\n2099573                  GET /dcs/courses/cai/html/ HTTP/1.0\n2099650                  GET /dcs/courses/cai/html/ HTTP/1.0\n2099666                         GET /dcs/index.html HTTP/1.0\n2099792                  GET /dcs/courses/cai/html/ HTTP/1.0\n2099859                    GET /dcs/pts/record.html HTTP/1.0\n2112303                    GET /dcs/pts/record.html HTTP/1.0\n2112747    GET /dcs/pts/variables.html?KEVIN_TEST=HELLO H...\n2112765    GET /dcs/pts/variables.html?KEVIN_TEST=HELLO H...\n2112777    GET /dcs/pts/variables.html?KEVIN_TEST=HELLO H...\n2112844    GET /dcs/pts/variables.html?KEVIN_TEST=HELLO H...\n2119782    GET /dcs/pts/variables.html?KEVIN_TEST=HELLO H...\n2131874                     GET /dcs/pts/index.html HTTP/1.0\n2137685                     GET /dcs/pts/index.html HTTP/1.0\n2137686                     GET /dcs/pts/index.html HTTP/1.0\n2137687                 GET /dcs/pts/variables.html HTTP/1.0\n2137688                 GET /dcs/pts/variables.html HTTP/1.0\n2154537    GET /dcs/pts/variables.html?KEVIN_TEST=Hello H...\n2154668    GET /dcs/pts/variables.html?KEVIN_TEST=Hello H...\n2154686    GET /dcs/pts/variables.html?REPLYTO=Hello HTTP...\n2216220            GET /dcs/pts/cgi-bin/record.html HTTP/1.0\n2216297            GET /dcs/pts/cgi-bin/record.html HTTP/1.0\nName: request, dtype: object"
     },
     "execution_count": 6,
     "metadata": {},
     "output_type": "execute_result"
    }
   ],
   "source": [
    "# schrijf hier je code\n",
    "df_401 = pd.DataFrame(web[web.response_code == 401].request)\n",
    "\n",
    "df_401.query('request.str.contains(\".html\")', engine='python').request\n"
   ]
  },
  {
   "cell_type": "markdown",
   "metadata": {
    "id": "MnCT0eSmanNz",
    "pycharm": {
     "name": "#%% md\n"
    }
   },
   "source": [
    "### Oefening 5  \n",
    "\n",
    "Welke clients probeerden ongeautoriseerd een document te raadplegen?\n"
   ]
  },
  {
   "cell_type": "code",
   "execution_count": null,
   "metadata": {
    "colab": {
     "base_uri": "https://localhost:8080/"
    },
    "executionInfo": {
     "elapsed": 454,
     "status": "ok",
     "timestamp": 1613687131753,
     "user": {
      "displayName": "katrien van meulder",
      "photoUrl": "",
      "userId": "07051660409659315107"
     },
     "user_tz": -60
    },
    "id": "tR5j58KIboMM",
    "outputId": "ec64b631-88fd-41a2-9d2a-ac585e981e1a",
    "pycharm": {
     "name": "#%%\n"
    }
   },
   "outputs": [
    {
     "data": {
      "text/plain": "array(['suncap.usask.ca', 'cwis.usask.ca', 'skynet.usask.ca',\n       'mercury115.terraport.net', 'ppp-4.pbmo.net', 's066n213.csun.edu',\n       'louie.csun.edu', 'lithos.usask.ca', 'heidelberg.cle.ab.com',\n       'sask.usask.ca', 'oa-c212-1.sheridanc.on.ca', 'duke.usask.ca',\n       'andora.usask.ca', '198.169.132.92', 'pe4480.usask.ca',\n       'piglet.usask.ca', 'dcs3017.usask.ca', 'manitou1_5.usask.ca',\n       'humulus_lupulus.usask.ca'], dtype=object)"
     },
     "execution_count": 7,
     "metadata": {},
     "output_type": "execute_result"
    }
   ],
   "source": [
    "# schrijf hier je code\n",
    "\n",
    "web[web.response_code == 401].client.unique()"
   ]
  },
  {
   "cell_type": "markdown",
   "metadata": {
    "id": "qA-kMLtaanK3",
    "pycharm": {
     "name": "#%% md\n"
    }
   },
   "source": [
    "### Oefening 6  \n",
    "\n",
    "Welke client probeerde het meest een ongeautoriseerd een document te raadplegen?\n"
   ]
  },
  {
   "cell_type": "code",
   "execution_count": null,
   "metadata": {
    "id": "7lyEVmFNb3bP",
    "pycharm": {
     "name": "#%%\n"
    },
    "outputId": "c5bb8288-4bb3-425c-9ee7-14081b95e8ba"
   },
   "outputs": [
    {
     "data": {
      "text/plain": "skynet.usask.ca              25\ncwis.usask.ca                20\nduke.usask.ca                17\nmercury115.terraport.net      6\nandora.usask.ca               6\nsuncap.usask.ca               5\nmanitou1_5.usask.ca           3\ndcs3017.usask.ca              2\npiglet.usask.ca               2\nppp-4.pbmo.net                2\ns066n213.csun.edu             2\n198.169.132.92                1\nsask.usask.ca                 1\npe4480.usask.ca               1\noa-c212-1.sheridanc.on.ca     1\nlouie.csun.edu                1\nlithos.usask.ca               1\nheidelberg.cle.ab.com         1\nhumulus_lupulus.usask.ca      1\nName: client, dtype: int64"
     },
     "execution_count": 8,
     "metadata": {},
     "output_type": "execute_result"
    }
   ],
   "source": [
    "# schrijf hier je code\n",
    "web[web.response_code == 401].client.value_counts()\n",
    "\n",
    "\n",
    "# skynet.usask.ca (25 keer)"
   ]
  },
  {
   "cell_type": "markdown",
   "metadata": {
    "id": "0QHf8o38anIG",
    "pycharm": {
     "name": "#%% md\n"
    }
   },
   "source": [
    "### Oefening 7\n",
    "\n",
    "Maak een taartdiagram van de response codes die niet gelijk zijn aan 200.\n"
   ]
  },
  {
   "cell_type": "code",
   "execution_count": null,
   "metadata": {
    "colab": {
     "base_uri": "https://localhost:8080/",
     "height": 264
    },
    "executionInfo": {
     "elapsed": 577,
     "status": "ok",
     "timestamp": 1613687331174,
     "user": {
      "displayName": "katrien van meulder",
      "photoUrl": "",
      "userId": "07051660409659315107"
     },
     "user_tz": -60
    },
    "id": "OwpxJVGEcDO6",
    "outputId": "12c643f1-84f6-463b-ae7b-62666eeae208",
    "pycharm": {
     "name": "#%%\n"
    }
   },
   "outputs": [
    {
     "data": {
      "text/plain": "<Figure size 576x576 with 1 Axes>",
      "image/png": "[encoded data removed]"
     },
     "metadata": {},
     "output_type": "display_data"
    }
   ],
   "source": [
    "# schrijf hier je code\n",
    "series1 = web[web.response_code != 200].response_code.value_counts().sort_index()\n",
    "\n",
    "\n",
    "fig, ax = plt.subplots(figsize=(8,8))\n",
    "_ = ax.pie(series1.values, labels=series1.index)\n",
    "_ = ax.set_title(\"Response codes verschillend van 200\")\n",
    "\n",
    "\n"
   ]
  },
  {
   "cell_type": "markdown",
   "metadata": {
    "id": "TGs3OLD-anCj",
    "pycharm": {
     "name": "#%% md\n"
    }
   },
   "source": [
    "### Oefening 8  \n",
    "\n",
    "Maak een staafdiagram van dezelfde response codes.  Merk het verschil op in leesbaarheid tussen deze en de vorige afbeelding\n"
   ]
  },
  {
   "cell_type": "code",
   "execution_count": null,
   "metadata": {
    "pycharm": {
     "name": "#%%\n"
    },
    "id": "ZmntTcx6CGyD"
   },
   "outputs": [],
   "source": [
    "series1"
   ]
  },
  {
   "cell_type": "code",
   "execution_count": null,
   "metadata": {
    "colab": {
     "base_uri": "https://localhost:8080/",
     "height": 499
    },
    "executionInfo": {
     "elapsed": 749,
     "status": "ok",
     "timestamp": 1613687484660,
     "user": {
      "displayName": "katrien van meulder",
      "photoUrl": "",
      "userId": "07051660409659315107"
     },
     "user_tz": -60
    },
    "id": "Eadh2YK1cK4s",
    "outputId": "9c3db885-e6b3-492c-c641-9de7167f0cd6",
    "pycharm": {
     "name": "#%%\n"
    }
   },
   "outputs": [
    {
     "data": {
      "text/plain": "<Figure size 720x576 with 1 Axes>",
      "image/png": "[encoded data removed]"
     },
     "metadata": {
      "needs_background": "light"
     },
     "output_type": "display_data"
    }
   ],
   "source": [
    "# schrijf hier je code\n",
    "\n",
    "fig, ax = plt.subplots(figsize=(10,8))\n",
    "l = [\"302\", \"304\", \"400\", \"401\", \"403\", \"404\", \"500\", \"501\"]\n",
    "_ = ax.bar(l, series1.values)\n",
    "_ = ax.set_title(\"Response codes verschillend van 200\")\n",
    "ax.grid(True)"
   ]
  },
  {
   "cell_type": "markdown",
   "metadata": {
    "id": "nwJ_1UoFbtXi",
    "pycharm": {
     "name": "#%% md\n"
    }
   },
   "source": [
    "### Oefening 9  \n",
    "\n",
    "Welke response code komt hier het meest voor?  Wat betekent deze response code?\n"
   ]
  },
  {
   "cell_type": "code",
   "execution_count": null,
   "metadata": {
    "id": "2ZMjNSkLcZRX",
    "pycharm": {
     "name": "#%%\n"
    }
   },
   "outputs": [],
   "source": [
    "# schrijf hier je code\n",
    "\n",
    "\n",
    "#code 304\n",
    "\n",
    "#Dit zijn requests van browsers die vorige versies van pagina's bijhouden.\n",
    "\n"
   ]
  },
  {
   "cell_type": "markdown",
   "metadata": {
    "id": "wk8lO5B1btUX",
    "pycharm": {
     "name": "#%% md\n"
    }
   },
   "source": [
    "### Oefening 10  \n",
    "\n",
    "Hoe groot is de langste response die gestuurd werd?  Welk bestand werd hier doorgestuurd?\n"
   ]
  },
  {
   "cell_type": "code",
   "execution_count": null,
   "metadata": {
    "colab": {
     "base_uri": "https://localhost:8080/",
     "height": 80
    },
    "executionInfo": {
     "elapsed": 468,
     "status": "ok",
     "timestamp": 1613688270884,
     "user": {
      "displayName": "katrien van meulder",
      "photoUrl": "",
      "userId": "07051660409659315107"
     },
     "user_tz": -60
    },
    "id": "tj6AgpBackcM",
    "outputId": "eedba262-84d0-4f96-98b6-c2fd83c4a7e4",
    "pycharm": {
     "name": "#%%\n"
    }
   },
   "outputs": [
    {
     "data": {
      "text/plain": "                    client                             request  response_code  \\\n127004   mac40199.usask.ca  GET /uofs/ivany_movie.mov HTTP/1.0            200   \n127629       duke.usask.ca  GET /uofs/ivany_movie.mov HTTP/1.0            200   \n131615   agora.carleton.ca  GET /uofs/ivany_movie.mov HTTP/1.0            200   \n144938     krause.usask.ca  GET /uofs/ivany_movie.mov HTTP/1.0            200   \n161552     grapes.usask.ca  GET /uofs/ivany_movie.mov HTTP/1.0            200   \n164035  palona1.cns.hp.com  GET /uofs/ivany_movie.mov HTTP/1.0            200   \n\n        response_length       date  \n127004       30193824.0 1995-06-19  \n127629       30193824.0 1995-06-19  \n131615       30193824.0 1995-06-20  \n144938       30193824.0 1995-06-21  \n161552       30193824.0 1995-06-23  \n164035       30193824.0 1995-06-23  ",
      "text/html": "<div>\n<style scoped>\n    .dataframe tbody tr th:only-of-type {\n        vertical-align: middle;\n    }\n\n    .dataframe tbody tr th {\n        vertical-align: top;\n    }\n\n    .dataframe thead th {\n        text-align: right;\n    }\n</style>\n<table border=\"1\" class=\"dataframe\">\n  <thead>\n    <tr style=\"text-align: right;\">\n      <th></th>\n      <th>client</th>\n      <th>request</th>\n      <th>response_code</th>\n      <th>response_length</th>\n      <th>date</th>\n    </tr>\n  </thead>\n  <tbody>\n    <tr>\n      <th>127004</th>\n      <td>mac40199.usask.ca</td>\n      <td>GET /uofs/ivany_movie.mov HTTP/1.0</td>\n      <td>200</td>\n      <td>30193824.0</td>\n      <td>1995-06-19</td>\n    </tr>\n    <tr>\n      <th>127629</th>\n      <td>duke.usask.ca</td>\n      <td>GET /uofs/ivany_movie.mov HTTP/1.0</td>\n      <td>200</td>\n      <td>30193824.0</td>\n      <td>1995-06-19</td>\n    </tr>\n    <tr>\n      <th>131615</th>\n      <td>agora.carleton.ca</td>\n      <td>GET /uofs/ivany_movie.mov HTTP/1.0</td>\n      <td>200</td>\n      <td>30193824.0</td>\n      <td>1995-06-20</td>\n    </tr>\n    <tr>\n      <th>144938</th>\n      <td>krause.usask.ca</td>\n      <td>GET /uofs/ivany_movie.mov HTTP/1.0</td>\n      <td>200</td>\n      <td>30193824.0</td>\n      <td>1995-06-21</td>\n    </tr>\n    <tr>\n      <th>161552</th>\n      <td>grapes.usask.ca</td>\n      <td>GET /uofs/ivany_movie.mov HTTP/1.0</td>\n      <td>200</td>\n      <td>30193824.0</td>\n      <td>1995-06-23</td>\n    </tr>\n    <tr>\n      <th>164035</th>\n      <td>palona1.cns.hp.com</td>\n      <td>GET /uofs/ivany_movie.mov HTTP/1.0</td>\n      <td>200</td>\n      <td>30193824.0</td>\n      <td>1995-06-23</td>\n    </tr>\n  </tbody>\n</table>\n</div>"
     },
     "execution_count": 11,
     "metadata": {},
     "output_type": "execute_result"
    }
   ],
   "source": [
    "# schrijf hier je code\n",
    "\n",
    "web[web.response_length == web.response_length.max()]\n",
    "\n",
    "#30193824.0 bytes /uofs/ivany_movie.mov\n"
   ]
  },
  {
   "cell_type": "markdown",
   "metadata": {
    "id": "Jkw4b15RbtRz",
    "pycharm": {
     "name": "#%% md\n"
    }
   },
   "source": [
    "### Oefening 11  \n",
    "\n",
    "Selecteer alle regels waarbij response_length kleiner is dan 30 000 bytes.  Maak klassen van de response_length met klassenbreedte gelijk aan 1000 bytes, waarbij de linker-grens steeds bij de klasse hoort.  Hoeveel responses hebben een lengte kleiner dan 1000 bytes?\n"
   ]
  },
  {
   "cell_type": "code",
   "execution_count": null,
   "metadata": {
    "colab": {
     "base_uri": "https://localhost:8080/",
     "height": 392
    },
    "executionInfo": {
     "elapsed": 560,
     "status": "error",
     "timestamp": 1613689151740,
     "user": {
      "displayName": "katrien van meulder",
      "photoUrl": "",
      "userId": "07051660409659315107"
     },
     "user_tz": -60
    },
    "id": "Yy2kgkSqc5i9",
    "outputId": "b8b783da-170d-4942-b49f-c4f8b712f22f",
    "pycharm": {
     "name": "#%%\n"
    }
   },
   "outputs": [
    {
     "data": {
      "text/plain": "[0, 1000)         734949\n[1000, 2000)      569601\n[2000, 3000)      286358\n[3000, 4000)      225533\n[4000, 5000)       89180\n[5000, 6000)       75758\n[6000, 7000)       76115\n[7000, 8000)       32656\n[8000, 9000)       14880\n[9000, 10000)       7839\n[10000, 11000)      9945\n[11000, 12000)      7523\n[12000, 13000)     12391\n[13000, 14000)      4912\n[14000, 15000)      8066\n[15000, 16000)      2593\n[16000, 17000)      6911\n[17000, 18000)      3350\n[18000, 19000)      2901\n[19000, 20000)      4775\n[20000, 21000)      2444\n[21000, 22000)      3100\n[22000, 23000)     47493\n[23000, 24000)     18711\n[24000, 25000)      6111\n[25000, 26000)      9644\n[26000, 27000)      1564\n[27000, 28000)     10029\n[28000, 29000)      4534\n[29000, 30000)      2151\nName: response_length, dtype: int64"
     },
     "execution_count": 12,
     "metadata": {},
     "output_type": "execute_result"
    }
   ],
   "source": [
    "# schrijf hier je code\n",
    "web_30000 = web[web.response_length <= 30000]\n",
    "cutpoints = range(0,31000,1000)\n",
    "klassen = pd.cut(web_30000.response_length, right=False, bins=cutpoints)\n",
    "klassen.value_counts().sort_index()\n",
    "\n",
    "# 734949 hebben een response length kleiner dan 1000"
   ]
  },
  {
   "cell_type": "markdown",
   "metadata": {
    "id": "SJi-ni0NbtO_",
    "pycharm": {
     "name": "#%% md\n"
    }
   },
   "source": [
    "### Oefening 12  \n",
    "\n",
    "Hoeveel procent van de responses zijn tussen de 1000 en 2000 bytes groot?\n"
   ]
  },
  {
   "cell_type": "code",
   "execution_count": null,
   "metadata": {
    "id": "0ecUL8zYdBIT",
    "pycharm": {
     "name": "#%%\n"
    },
    "outputId": "afb88b34-9544-490d-ea45-dabc19e1b187"
   },
   "outputs": [
    {
     "data": {
      "text/plain": "[0, 1000)         32.21\n[1000, 2000)      24.96\n[2000, 3000)      12.55\n[3000, 4000)       9.88\n[4000, 5000)       3.91\n[5000, 6000)       3.32\n[6000, 7000)       3.34\n[7000, 8000)       1.43\n[8000, 9000)       0.65\n[9000, 10000)      0.34\n[10000, 11000)     0.44\n[11000, 12000)     0.33\n[12000, 13000)     0.54\n[13000, 14000)     0.22\n[14000, 15000)     0.35\n[15000, 16000)     0.11\n[16000, 17000)     0.30\n[17000, 18000)     0.15\n[18000, 19000)     0.13\n[19000, 20000)     0.21\n[20000, 21000)     0.11\n[21000, 22000)     0.14\n[22000, 23000)     2.08\n[23000, 24000)     0.82\n[24000, 25000)     0.27\n[25000, 26000)     0.42\n[26000, 27000)     0.07\n[27000, 28000)     0.44\n[28000, 29000)     0.20\n[29000, 30000)     0.09\nName: response_length, dtype: float64"
     },
     "execution_count": 13,
     "metadata": {},
     "output_type": "execute_result"
    }
   ],
   "source": [
    "# schrijf hier je code\n",
    "\n",
    "(klassen.value_counts(normalize=True)*100).round(2).sort_index()\n",
    "\n",
    "# 24.96 procent\n"
   ]
  },
  {
   "cell_type": "markdown",
   "metadata": {
    "id": "kcHPI81sbtMQ",
    "pycharm": {
     "name": "#%% md\n"
    }
   },
   "source": [
    "### Oefening 13  \n",
    "\n",
    "Hoeveel procent van de responses zijn kleiner dan 6000 bytes?\n"
   ]
  },
  {
   "cell_type": "code",
   "execution_count": null,
   "metadata": {
    "id": "udDmxb0cdMfu",
    "pycharm": {
     "name": "#%%\n"
    },
    "outputId": "e47d11cc-d5e5-4c15-ac9c-aa6a292b4204"
   },
   "outputs": [
    {
     "data": {
      "text/plain": "[0, 1000)       32.21\n[1000, 2000)    57.17\n[2000, 3000)    69.72\n[3000, 4000)    79.60\n[4000, 5000)    83.51\n[5000, 6000)    86.83\n[6000, 7000)    90.17\nName: response_length, dtype: float64"
     },
     "execution_count": 14,
     "metadata": {},
     "output_type": "execute_result"
    }
   ],
   "source": [
    "# schrijf hier je code\n",
    "\n",
    "(klassen.value_counts(normalize=True)*100).round(2).sort_index().cumsum()[0:7]\n",
    "\n",
    "# 86.89 procent"
   ]
  },
  {
   "cell_type": "markdown",
   "metadata": {
    "id": "NJorO7H-btJR",
    "pycharm": {
     "name": "#%% md\n"
    }
   },
   "source": [
    "### Oefening 14  \n",
    "\n",
    "Is een response van 5000-6000 bytes groot of klein?\n"
   ]
  },
  {
   "cell_type": "code",
   "execution_count": null,
   "metadata": {
    "id": "6LhK2gHTdVJO",
    "pycharm": {
     "name": "#%%\n"
    }
   },
   "outputs": [],
   "source": [
    "# schrijf hier je code\n",
    "\n",
    "# groot, want 83,52% van de request is kleiner dan 5000 bytes"
   ]
  },
  {
   "cell_type": "markdown",
   "metadata": {
    "id": "nasjSzRtbtF6",
    "pycharm": {
     "name": "#%% md\n"
    }
   },
   "source": [
    "### Oefening 15  \n",
    "\n",
    "Teken een barplot van de absolute frequenties\n"
   ]
  },
  {
   "cell_type": "code",
   "execution_count": null,
   "metadata": {
    "id": "6vMoSXtidYsg",
    "pycharm": {
     "name": "#%%\n"
    },
    "outputId": "3c2a360b-f50f-47a6-e8ae-730ccb209996"
   },
   "outputs": [
    {
     "data": {
      "text/plain": "<Figure size 720x576 with 1 Axes>",
      "image/png": "[encoded data removed]"
     },
     "metadata": {
      "needs_background": "light"
     },
     "output_type": "display_data"
    }
   ],
   "source": [
    "# schrijf hier je code\n",
    "\n",
    "x = klassen.value_counts().sort_index().to_numpy()\n",
    "\n",
    "l = range(0,len(x))\n",
    "fig, ax = plt.subplots(figsize=(10,8))\n",
    "\n",
    "_ = ax.bar(l,x)\n",
    "_ = ax.set_title(\"Absolute frequenties\")\n",
    "ax.grid(True)"
   ]
  },
  {
   "cell_type": "markdown",
   "metadata": {
    "id": "nvrqiPfodX9s",
    "pycharm": {
     "name": "#%% md\n"
    }
   },
   "source": [
    "### Oefening 16  \n",
    "\n",
    "Teken een frequentiepolygoon van de absolute frequenties"
   ]
  },
  {
   "cell_type": "code",
   "execution_count": null,
   "metadata": {
    "id": "_BBdNcmYdZaq",
    "pycharm": {
     "name": "#%%\n"
    },
    "outputId": "ac91a8c9-c002-4689-9719-82184161d11c"
   },
   "outputs": [
    {
     "data": {
      "text/plain": "<Figure size 576x432 with 1 Axes>",
      "image/png": "[encoded data removed]"
     },
     "metadata": {
      "needs_background": "light"
     },
     "output_type": "display_data"
    }
   ],
   "source": [
    "# schrijf hier je code\n",
    "\n",
    "x = klassen.value_counts().sort_index().to_numpy()\n",
    "fig, ax = plt.subplots(figsize=(8,6))\n",
    "_ = ax.plot(x, '-')\n",
    "_ = ax.set_title(\"Frequentiepolygoon\")\n",
    "ax.grid(True)"
   ]
  },
  {
   "cell_type": "markdown",
   "metadata": {
    "id": "m8UI1Bl9dnOu",
    "pycharm": {
     "name": "#%% md\n"
    }
   },
   "source": [
    "### Oefening 17  \n",
    "\n",
    "Teken een barplot van de cumulatieve frequenties"
   ]
  },
  {
   "cell_type": "code",
   "execution_count": null,
   "metadata": {
    "id": "s4Rby7IDdnr4",
    "pycharm": {
     "name": "#%%\n"
    },
    "outputId": "31b2abbd-b078-4cae-8fa9-1f351afcc64f"
   },
   "outputs": [
    {
     "data": {
      "text/plain": "<Figure size 864x432 with 1 Axes>",
      "image/png": "[encoded data removed]"
     },
     "metadata": {
      "needs_background": "light"
     },
     "output_type": "display_data"
    }
   ],
   "source": [
    "# schrijf hier je code\n",
    "\n",
    "x = klassen.value_counts().sort_index().cumsum().to_numpy()\n",
    "l = ['['+str(i)+','+ str(i+1)+']' for i in range(0,30,1)] \n",
    "fig, ax = plt.subplots(figsize=(12,6))\n",
    "_ = ax.bar(l,x)\n",
    "_ = ax.set_title(\"Cummulatieve frequenties\")\n",
    "ax.grid(True)\n"
   ]
  },
  {
   "cell_type": "markdown",
   "metadata": {
    "id": "-qttVstpdoPt",
    "pycharm": {
     "name": "#%% md\n"
    }
   },
   "source": [
    "### Oefening 18  \n",
    "\n",
    "Maak een staafdiagram van de absolute frequenties van de datums."
   ]
  },
  {
   "cell_type": "code",
   "execution_count": null,
   "metadata": {
    "id": "M8Q9v1Tfd057",
    "pycharm": {
     "name": "#%%\n"
    },
    "outputId": "ef8dc5b4-3028-4331-ae8a-ad47de5b1f6f"
   },
   "outputs": [
    {
     "data": {
      "text/plain": "<Figure size 864x432 with 1 Axes>",
      "image/png": "[encoded data removed]"
     },
     "metadata": {
      "needs_background": "light"
     },
     "output_type": "display_data"
    }
   ],
   "source": [
    "# schrijf hier je code\n",
    "\n",
    "x = web_30000.date.value_counts().sort_index()\n",
    "\n",
    "fig, ax = plt.subplots(figsize=(12,6))\n",
    "_ = ax.bar(x.index,x)\n",
    "_ = ax.set_title(\"Absolute frequenties van de datums\")\n",
    "ax.grid(True)\n",
    "\n"
   ]
  },
  {
   "cell_type": "markdown",
   "metadata": {
    "id": "zEmukk--d6XZ",
    "pycharm": {
     "name": "#%% md\n"
    }
   },
   "source": [
    "### Oefening 19  \n",
    "\n",
    "Wat zie je?"
   ]
  },
  {
   "cell_type": "code",
   "execution_count": null,
   "metadata": {
    "id": "TM3xI5jodoxV",
    "pycharm": {
     "name": "#%%\n"
    }
   },
   "outputs": [],
   "source": [
    "#De website wordt meer gebruikt in de week en minder in het weekend.  \n",
    "#De website is populairder geworden in november en dan weer minder\n",
    "\n",
    "\n"
   ]
  }
 ],
 "metadata": {
  "colab": {
   "provenance": []
  },
  "kernelspec": {
   "name": "pycharm-92cb2428",
   "language": "python",
   "display_name": "PyCharm (4 frequenties)"
  },
  "language_info": {
   "codemirror_mode": {
    "name": "ipython",
    "version": 3
   },
   "file_extension": ".py",
   "mimetype": "text/x-python",
   "name": "python",
   "nbconvert_exporter": "python",
   "pygments_lexer": "ipython3",
   "version": "3.8.7"
  }
 },
 "nbformat": 4,
 "nbformat_minor": 0
}
