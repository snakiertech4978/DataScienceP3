{
 "nbformat": 4,
 "nbformat_minor": 0,
 "metadata": {
  "colab": {
   "name": "1_Opgaveboek - frequentieverdelingen - oplossingen.ipynb",
   "provenance": []
  },
  "kernelspec": {
   "display_name": "Python 3",
   "language": "python",
   "name": "python3"
  },
  "language_info": {
   "codemirror_mode": {
    "name": "ipython",
    "version": 3
   },
   "file_extension": ".py",
   "mimetype": "text/x-python",
   "name": "python",
   "nbconvert_exporter": "python",
   "pygments_lexer": "ipython3",
   "version": "3.8.7"
  }
 },
 "cells": [
  {
   "cell_type": "code",
   "metadata": {
    "pycharm": {
     "name": "#%%\n",
     "is_executing": true
    },
    "id": "k06Ty_lOchQH",
    "colab": {
     "base_uri": "https://localhost:8080/"
    },
    "executionInfo": {
     "status": "ok",
     "timestamp": 1616577941953,
     "user_tz": -60,
     "elapsed": 513,
     "user": {
      "displayName": "Roeland De Meester",
      "photoUrl": "https://lh3.googleusercontent.com/a-/AOh14GgHFLlRcHRUHl0ul5JvDMiUd09ps_mERs2jpo2D=s64",
      "userId": "00580425314421673417"
     }
    },
    "outputId": "0f4ccfb5-6169-4b15-f8f9-2417b406b7cd"
   },
   "source": [
    "import numpy as np\n",
    "\n",
    "from IPython.core.interactiveshell import InteractiveShell\n",
    "InteractiveShell.ast_node_interactivity = \"all\"\n",
    "\n",
    "local = True\n",
    "\n",
    "if local:\n",
    "  datasetfolder='../datasets/'\n",
    "else :\n",
    "  from google.colab import drive\n",
    "  #vervang dit naar het pad in Google Drive waar jou datasets staan\n",
    "  !ln -s \"/content/drive/Shareddrives/Data Science 1/2020-21/Lesmateriaal/4 frequenties/oefeningen/datasets\" \"/content/datasets\"\n",
    "  !ls /content/datasets\n",
    "  drive.mount('/content/drive')\n",
    "  datasetfolder='/content/datasets/'\n",
    "\n",
    "print('de folder met datasets = ' + datasetfolder)\n"
   ],
   "execution_count": null,
   "outputs": []
  },
  {
   "cell_type": "code",
   "metadata": {
    "id": "X_01h5D6xr9e",
    "pycharm": {
     "name": "#%%\n"
    },
    "executionInfo": {
     "status": "ok",
     "timestamp": 1616577942274,
     "user_tz": -60,
     "elapsed": 823,
     "user": {
      "displayName": "Roeland De Meester",
      "photoUrl": "https://lh3.googleusercontent.com/a-/AOh14GgHFLlRcHRUHl0ul5JvDMiUd09ps_mERs2jpo2D=s64",
      "userId": "00580425314421673417"
     }
    }
   },
   "source": [
    "from IPython.display import display\n",
    "## display(dataframe) allows to  print the dataframes as tables\n",
    "## print((dataframe) print the dataframes as ascii"
   ],
   "execution_count": 8,
   "outputs": []
  },
  {
   "cell_type": "markdown",
   "metadata": {
    "id": "j8wJ8qXCxr9j",
    "pycharm": {
     "name": "#%% md\n"
    }
   },
   "source": [
    "# Frequentieverdelingen\n",
    "\n",
    "Gebruik altijd 3 beduidende cijfers voor het eindresultaat in onderstaande oefeningen.\n",
    "\n",
    "\n",
    "## Vraag 1\n",
    "\n",
    "In het onderzoek naar de gezondheid van studenten worden vragen gesteld over (gezond) eten. Een van die vragen is: Hoeveel keer per week eet je verse groenten bij het avondmaal? Als je de antwoorden van 30 leerlingen in een grafiek wil presenteren, welke grafieken kun je\n",
    "hiervoor dan gebruiken?"
   ]
  },
  {
   "cell_type": "code",
   "metadata": {
    "id": "naVhFAeLxr9k",
    "pycharm": {
     "name": "#%%\n"
    },
    "executionInfo": {
     "status": "ok",
     "timestamp": 1616578839086,
     "user_tz": -60,
     "elapsed": 778,
     "user": {
      "displayName": "Roeland De Meester",
      "photoUrl": "https://lh3.googleusercontent.com/a-/AOh14GgHFLlRcHRUHl0ul5JvDMiUd09ps_mERs2jpo2D=s64",
      "userId": "00580425314421673417"
     }
    }
   },
   "source": [
    "# Staafdiagram\n",
    "# Taartdiagram"
   ],
   "execution_count": 35,
   "outputs": []
  },
  {
   "cell_type": "markdown",
   "metadata": {
    "id": "DPm5aY-Fxr9k",
    "pycharm": {
     "name": "#%% md\n"
    }
   },
   "source": [
    "## Vraag 2\n",
    "\n",
    "In het onderzoek naar de gezondheid van leerlingen worden vragen gesteld over (gezond) eten. Een van die vragen is: Welke soort fruit heb je in de afgelopen week (7 dagen) het meest gegeten? De antwoorden van 30 leerlingen staan in de volgende tabel:\n",
    "\n",
    "| Fruit | appel | banaan | druiven | peer | meloen | kiwi\n",
    "| --- | --- | --- | --- |--- |--- |---\n",
    "| Frequentie | 17 | 5 | 3 | 1 | 2 | 2\n",
    "\n",
    "1. Maak (indien mogelijk) van deze data een **taartdiagram**. Als het niet mogelijk is om het diagram te maken, leg uit waarom."
   ]
  },
  {
   "cell_type": "code",
   "metadata": {
    "id": "GMp0fb2txr9k",
    "pycharm": {
     "name": "#%%\n",
     "is_executing": true
    },
    "colab": {
     "base_uri": "https://localhost:8080/",
     "height": 0
    },
    "executionInfo": {
     "status": "ok",
     "timestamp": 1616578839691,
     "user_tz": -60,
     "elapsed": 1360,
     "user": {
      "displayName": "Roeland De Meester",
      "photoUrl": "https://lh3.googleusercontent.com/a-/AOh14GgHFLlRcHRUHl0ul5JvDMiUd09ps_mERs2jpo2D=s64",
      "userId": "00580425314421673417"
     }
    },
    "outputId": "0ab24c0e-77f9-4092-8229-3bdfb5c2a65b"
   },
   "source": [
    "freq = [17,5,3,1,2,2]\n",
    "l = [\"appel\", \"banaan\", \"druiven\", \"peer\", \"meloen\", \"kiwi\"]\n",
    "\n",
    "import matplotlib.pyplot as plt\n",
    "fig, ax = plt.subplots(figsize=(6,6))\n",
    "ax.pie(freq, labels=l)\n",
    "_ = ax.set_title(\"Gegeten Fruit \")"
   ],
   "execution_count": null,
   "outputs": []
  },
  {
   "cell_type": "markdown",
   "metadata": {
    "id": "wy95PctDxr9l",
    "pycharm": {
     "name": "#%% md\n"
    }
   },
   "source": [
    "2. Maak (indien mogelijk) van deze data een **staafdiagram**. Als het niet mogelijk is om het diagram te maken, leg uit waarom."
   ]
  },
  {
   "cell_type": "code",
   "metadata": {
    "id": "nTRdRLOTxr9m",
    "pycharm": {
     "name": "#%%\n"
    },
    "colab": {
     "base_uri": "https://localhost:8080/",
     "height": 0
    },
    "executionInfo": {
     "status": "ok",
     "timestamp": 1616578839695,
     "user_tz": -60,
     "elapsed": 1352,
     "user": {
      "displayName": "Roeland De Meester",
      "photoUrl": "https://lh3.googleusercontent.com/a-/AOh14GgHFLlRcHRUHl0ul5JvDMiUd09ps_mERs2jpo2D=s64",
      "userId": "00580425314421673417"
     }
    },
    "outputId": "c6843414-f734-47cd-fbfa-7cdc05b0e7f2"
   },
   "source": [
    "freq = [17,5,3,1,2,2]\n",
    "l = [\"appel\", \"banaan\", \"druiven\", \"peer\", \"meloen\", \"kiwi\"]\n",
    "\n",
    "import matplotlib.pyplot as plt\n",
    "fig, ax = plt.subplots(figsize=(8,6))\n",
    "ax.bar(l, freq)\n",
    "_ = ax.set_title(\"Gegeten Fruit \")\n",
    "_ = ax.set_xlabel(\"Type Fruit\")\n",
    "_ = ax.set_ylabel(\"Aantal\")\n",
    "ax.grid(True)\n"
   ],
   "execution_count": 37,
   "outputs": [
    {
     "output_type": "execute_result",
     "data": {
      "text/plain": [
       "<BarContainer object of 6 artists>"
      ]
     },
     "metadata": {
      "tags": []
     },
     "execution_count": 37
    },
    {
     "output_type": "display_data",
     "data": {
      "image/png": "[encoded data removed]",
      "text/plain": [
       "<Figure size 576x432 with 1 Axes>"
      ]
     },
     "metadata": {
      "tags": [],
      "needs_background": "light"
     }
    }
   ]
  },
  {
   "cell_type": "markdown",
   "metadata": {
    "id": "woEM4vyCxr9m",
    "pycharm": {
     "name": "#%% md\n"
    }
   },
   "source": [
    "3. Maak (indien mogelijk) van deze data een **histogram**. Als het niet mogelijk is om het diagram te maken, leg uit waarom."
   ]
  },
  {
   "cell_type": "code",
   "metadata": {
    "id": "k4R3DKvExr9m",
    "pycharm": {
     "name": "#%%\n"
    },
    "executionInfo": {
     "status": "ok",
     "timestamp": 1616578839698,
     "user_tz": -60,
     "elapsed": 1337,
     "user": {
      "displayName": "Roeland De Meester",
      "photoUrl": "https://lh3.googleusercontent.com/a-/AOh14GgHFLlRcHRUHl0ul5JvDMiUd09ps_mERs2jpo2D=s64",
      "userId": "00580425314421673417"
     }
    }
   },
   "source": [
    "# We kunnen geen histogram maken.\n",
    "# De variabele moet minstens interval meetniveau hebben en (quasi) continu zijn."
   ],
   "execution_count": 38,
   "outputs": []
  },
  {
   "cell_type": "markdown",
   "metadata": {
    "id": "OpOrHn2yxr9n",
    "pycharm": {
     "name": "#%% md\n"
    }
   },
   "source": [
    "## Vraag 3\n",
    "\n",
    "Gegeven is volgende frequentietabel\n",
    "\n",
    "| x | 4 | 5 | 6 | 7 | 8 | 9 | 10\n",
    "| --- | --- | --- | --- |--- |---  |--- |--- \n",
    "| f | 2 | 3 | 5 | 6 | 4 | 2 | 3 \n",
    "\n",
    "1. Welke cumulatieve percentage hoort bij score 6?\n",
    "1. Welke percentielscore hoort bij score 8?"
   ]
  },
  {
   "cell_type": "code",
   "metadata": {
    "id": "FNcIsCHhxr9n",
    "pycharm": {
     "name": "#%%\n"
    },
    "colab": {
     "base_uri": "https://localhost:8080/",
     "height": 0
    },
    "executionInfo": {
     "status": "ok",
     "timestamp": 1616578839701,
     "user_tz": -60,
     "elapsed": 1317,
     "user": {
      "displayName": "Roeland De Meester",
      "photoUrl": "https://lh3.googleusercontent.com/a-/AOh14GgHFLlRcHRUHl0ul5JvDMiUd09ps_mERs2jpo2D=s64",
      "userId": "00580425314421673417"
     }
    },
    "outputId": "102384d1-69c8-4261-c550-42585160780d"
   },
   "source": [
    "import pandas as pd\n",
    "x = [4,5,6,7,8,9,10]\n",
    "f = [2,3,5,6,4,2,3]\n",
    "df = pd.DataFrame({'f':f}, columns = ['f'],index=x)\n",
    "cp = df.cumsum()/df.sum()*100\n",
    "cp.columns = ['cp']\n",
    "display(cp)\n",
    "print(\"Welke cumulatieve percentage hoort bij score 6\")\n",
    "print(cp.loc[6]['cp'],\"%\")\n",
    "print(\"Welke percentielscore hoort bij score 8 \")\n",
    "print(int(cp.loc[8]['cp']))"
   ],
   "execution_count": 39,
   "outputs": [
    {
     "output_type": "display_data",
     "data": {
      "text/html": [
       "<div>\n",
       "<style scoped>\n",
       "    .dataframe tbody tr th:only-of-type {\n",
       "        vertical-align: middle;\n",
       "    }\n",
       "\n",
       "    .dataframe tbody tr th {\n",
       "        vertical-align: top;\n",
       "    }\n",
       "\n",
       "    .dataframe thead th {\n",
       "        text-align: right;\n",
       "    }\n",
       "</style>\n",
       "<table border=\"1\" class=\"dataframe\">\n",
       "  <thead>\n",
       "    <tr style=\"text-align: right;\">\n",
       "      <th></th>\n",
       "      <th>cp</th>\n",
       "    </tr>\n",
       "  </thead>\n",
       "  <tbody>\n",
       "    <tr>\n",
       "      <th>4</th>\n",
       "      <td>8.0</td>\n",
       "    </tr>\n",
       "    <tr>\n",
       "      <th>5</th>\n",
       "      <td>20.0</td>\n",
       "    </tr>\n",
       "    <tr>\n",
       "      <th>6</th>\n",
       "      <td>40.0</td>\n",
       "    </tr>\n",
       "    <tr>\n",
       "      <th>7</th>\n",
       "      <td>64.0</td>\n",
       "    </tr>\n",
       "    <tr>\n",
       "      <th>8</th>\n",
       "      <td>80.0</td>\n",
       "    </tr>\n",
       "    <tr>\n",
       "      <th>9</th>\n",
       "      <td>88.0</td>\n",
       "    </tr>\n",
       "    <tr>\n",
       "      <th>10</th>\n",
       "      <td>100.0</td>\n",
       "    </tr>\n",
       "  </tbody>\n",
       "</table>\n",
       "</div>"
      ],
      "text/plain": [
       "       cp\n",
       "4     8.0\n",
       "5    20.0\n",
       "6    40.0\n",
       "7    64.0\n",
       "8    80.0\n",
       "9    88.0\n",
       "10  100.0"
      ]
     },
     "metadata": {
      "tags": []
     }
    },
    {
     "output_type": "stream",
     "text": [
      "Welke cumulatieve percentage hoort bij score 6\n",
      "40.0 %\n",
      "Welke percentielscore hoort bij score 8 \n",
      "80\n"
     ],
     "name": "stdout"
    }
   ]
  },
  {
   "cell_type": "markdown",
   "metadata": {
    "id": "TQYoEIG4xr9n",
    "pycharm": {
     "name": "#%% md\n"
    }
   },
   "source": [
    "## Vraag 4\n",
    "\n",
    "Een inkomensverdeling is als volgt\n",
    "\n",
    "| categorie | A | B | C | D |\n",
    "| --- | --- | --- | --- | --- |\n",
    "| inkomen | 1000 tot 2000 | 2000 tot 3000 | 3000 tot 4000 | 4000 tot 5000 |\n",
    "| frequentie | 30 | 40 | 30 | 45 |\n",
    "\n",
    "1. Vervolledig de frequentietabel met relatieve frequenties (in percent), cumulatief percentage en percentielscores."
   ]
  },
  {
   "cell_type": "code",
   "metadata": {
    "id": "1bPjJfSfxr9n",
    "pycharm": {
     "name": "#%%\n"
    },
    "colab": {
     "base_uri": "https://localhost:8080/",
     "height": 0
    },
    "executionInfo": {
     "status": "ok",
     "timestamp": 1616578839704,
     "user_tz": -60,
     "elapsed": 1297,
     "user": {
      "displayName": "Roeland De Meester",
      "photoUrl": "https://lh3.googleusercontent.com/a-/AOh14GgHFLlRcHRUHl0ul5JvDMiUd09ps_mERs2jpo2D=s64",
      "userId": "00580425314421673417"
     }
    },
    "outputId": "4c269c99-35d8-4ab5-cd9b-08ac787ffb8a"
   },
   "source": [
    "categorie=[\"A\", \"B\", \"C\", \"D\"]\n",
    "inkomen=[\"1000 tot 2000\", \"2000 tot 3000\", \"3000 tot 4000\", \"4000 tot 5000\"]\n",
    "frequentie=[30,40,30,45]\n",
    "\n",
    "df = pd.DataFrame({'inkomen':inkomen,'frequentie':frequentie}, columns = ['inkomen','frequentie'],index=categorie)\n",
    "\n",
    "df[\"rel. frequentie\"]=(df[\"frequentie\"]/df[\"frequentie\"].sum()*100).round(1)\n",
    "df[\"cum. percentage\"]=(df[\"frequentie\"].cumsum()/df[\"frequentie\"].sum()*100).round(1)\n",
    "df[\"percentielscore\"]=df[\"cum. percentage\"]\n",
    "df[\"rel. frequentie\"]=df[\"rel. frequentie\"].astype(str)+' %'\n",
    "df[\"cum. percentage\"]=df[\"cum. percentage\"].astype(str)+' %'\n",
    "\n",
    "display(df)\n",
    "\n",
    "print(\"Wat is het cumulatieve percentage van inkomenscategorie C?\")\n",
    "print(df.loc['C']['cum. percentage'])"
   ],
   "execution_count": 40,
   "outputs": [
    {
     "output_type": "display_data",
     "data": {
      "text/html": [
       "<div>\n",
       "<style scoped>\n",
       "    .dataframe tbody tr th:only-of-type {\n",
       "        vertical-align: middle;\n",
       "    }\n",
       "\n",
       "    .dataframe tbody tr th {\n",
       "        vertical-align: top;\n",
       "    }\n",
       "\n",
       "    .dataframe thead th {\n",
       "        text-align: right;\n",
       "    }\n",
       "</style>\n",
       "<table border=\"1\" class=\"dataframe\">\n",
       "  <thead>\n",
       "    <tr style=\"text-align: right;\">\n",
       "      <th></th>\n",
       "      <th>inkomen</th>\n",
       "      <th>frequentie</th>\n",
       "      <th>rel. frequentie</th>\n",
       "      <th>cum. percentage</th>\n",
       "      <th>percentielscore</th>\n",
       "    </tr>\n",
       "  </thead>\n",
       "  <tbody>\n",
       "    <tr>\n",
       "      <th>A</th>\n",
       "      <td>1000 tot 2000</td>\n",
       "      <td>30</td>\n",
       "      <td>20.7 %</td>\n",
       "      <td>20.7 %</td>\n",
       "      <td>20.7</td>\n",
       "    </tr>\n",
       "    <tr>\n",
       "      <th>B</th>\n",
       "      <td>2000 tot 3000</td>\n",
       "      <td>40</td>\n",
       "      <td>27.6 %</td>\n",
       "      <td>48.3 %</td>\n",
       "      <td>48.3</td>\n",
       "    </tr>\n",
       "    <tr>\n",
       "      <th>C</th>\n",
       "      <td>3000 tot 4000</td>\n",
       "      <td>30</td>\n",
       "      <td>20.7 %</td>\n",
       "      <td>69.0 %</td>\n",
       "      <td>69.0</td>\n",
       "    </tr>\n",
       "    <tr>\n",
       "      <th>D</th>\n",
       "      <td>4000 tot 5000</td>\n",
       "      <td>45</td>\n",
       "      <td>31.0 %</td>\n",
       "      <td>100.0 %</td>\n",
       "      <td>100.0</td>\n",
       "    </tr>\n",
       "  </tbody>\n",
       "</table>\n",
       "</div>"
      ],
      "text/plain": [
       "         inkomen  frequentie rel. frequentie cum. percentage  percentielscore\n",
       "A  1000 tot 2000          30          20.7 %          20.7 %             20.7\n",
       "B  2000 tot 3000          40          27.6 %          48.3 %             48.3\n",
       "C  3000 tot 4000          30          20.7 %          69.0 %             69.0\n",
       "D  4000 tot 5000          45          31.0 %         100.0 %            100.0"
      ]
     },
     "metadata": {
      "tags": []
     }
    },
    {
     "output_type": "stream",
     "text": [
      "Wat is het cumulatieve percentage van inkomenscategorie C?\n",
      "69.0 %\n"
     ],
     "name": "stdout"
    }
   ]
  },
  {
   "cell_type": "markdown",
   "metadata": {
    "id": "Fn7e1ha_xr9o",
    "pycharm": {
     "name": "#%% md\n"
    }
   },
   "source": [
    "## Vraag 5\n",
    "\n",
    "De scores op een rekentoets worden per basisschool omgezet in percentielscores.  Jos haalt op school A op de toets een percentielscore van 72. Brent haalt op school B op de toets een percentielscore van 74.  De leerkracht concludeert terecht dat ...\n",
    "\n",
    "1. Jos beter is in rekenen dan Brent.\n",
    "1. de gemiddelde percentielscore 73 is\n",
    "1. geen conclusie mogelijk is over wie beter is in rekenen\n",
    "1. de toets op school A gemakkelijker is dan op school B"
   ]
  },
  {
   "cell_type": "code",
   "metadata": {
    "id": "8cZNGgRaxr9o",
    "pycharm": {
     "name": "#%% python\n"
    },
    "executionInfo": {
     "status": "ok",
     "timestamp": 1616578839706,
     "user_tz": -60,
     "elapsed": 1283,
     "user": {
      "displayName": "Roeland De Meester",
      "photoUrl": "https://lh3.googleusercontent.com/a-/AOh14GgHFLlRcHRUHl0ul5JvDMiUd09ps_mERs2jpo2D=s64",
      "userId": "00580425314421673417"
     }
    }
   },
   "source": [
    "# Geen conclusie mogelijk is over wie beter is in rekenen"
   ],
   "execution_count": 41,
   "outputs": []
  },
  {
   "cell_type": "markdown",
   "metadata": {
    "id": "w7-Lpa-Hxr9o",
    "pycharm": {
     "name": "#%% md\n"
    }
   },
   "source": [
    "## Vraag 6\n",
    "\n",
    "Jonathan heeft een score van 110.  Deze score blijkt met een percentielscore van 88 te corresponderen. Jonathan en alle andere studenten krijgen een bonus van 5 punten. Wat is de nieuwe percentielscore van Jonathan?\n",
    "1. nu kleiner is dan 88\n",
    "1. weer gelijk is aan 88\n",
    "1. nu groter dan 88\n",
    "1. niet meer te bepalen"
   ]
  },
  {
   "cell_type": "code",
   "metadata": {
    "id": "4i8scE-cxr9p",
    "pycharm": {
     "name": "#%% python\n"
    },
    "executionInfo": {
     "status": "ok",
     "timestamp": 1616578839708,
     "user_tz": -60,
     "elapsed": 1270,
     "user": {
      "displayName": "Roeland De Meester",
      "photoUrl": "https://lh3.googleusercontent.com/a-/AOh14GgHFLlRcHRUHl0ul5JvDMiUd09ps_mERs2jpo2D=s64",
      "userId": "00580425314421673417"
     }
    }
   },
   "source": [
    "# weer gelijk is aan 88"
   ],
   "execution_count": 42,
   "outputs": []
  },
  {
   "cell_type": "markdown",
   "metadata": {
    "id": "ZbyO4TY3xr9p",
    "pycharm": {
     "name": "#%% md\n"
    }
   },
   "source": [
    "## Vraag 7\n",
    "\n",
    "Voor het berekenen van het percentiel die bij een bepaalde score hoort, moet je de cumulatieve frequentie berekenen die dan omgezet wordt in een percentage.  Is dit waar of onwaar?"
   ]
  },
  {
   "cell_type": "code",
   "metadata": {
    "id": "2rg67id9xr9p",
    "pycharm": {
     "name": "#%% python\n"
    },
    "executionInfo": {
     "status": "ok",
     "timestamp": 1616578839710,
     "user_tz": -60,
     "elapsed": 1255,
     "user": {
      "displayName": "Roeland De Meester",
      "photoUrl": "https://lh3.googleusercontent.com/a-/AOh14GgHFLlRcHRUHl0ul5JvDMiUd09ps_mERs2jpo2D=s64",
      "userId": "00580425314421673417"
     }
    }
   },
   "source": [
    "# Waar!"
   ],
   "execution_count": 43,
   "outputs": []
  },
  {
   "cell_type": "markdown",
   "metadata": {
    "id": "nhSrCo14xr9p",
    "pycharm": {
     "name": "#%% md\n"
    }
   },
   "source": [
    "## Vraag 8\n",
    "\n",
    "Gegeven volgende frequentietabel\n",
    "\n",
    "| score | 2 | 3 | 4 | 5 | 6 | 7 | 8 | 9 \n",
    "| --- | --- | --- | --- |--- |---  |--- |--- |--- \n",
    "| frequentie | 1 | 3 | 2 | 3 | 5 | 6 | 3 | 2 \n",
    "\n",
    "De scores van deze variabelen kunnen theoretisch gezien variëren van 1 tot 10. Maak van deze frequenties een histo\n",
    "gram met 5 klassen die het hele theoretische bereik bedekken.\n",
    "\n",
    "Welk cumulatieve percentage hoort bij score 6?"
   ]
  },
  {
   "cell_type": "code",
   "metadata": {
    "id": "m_-edNxOxr9p",
    "pycharm": {
     "name": "#%%\n"
    },
    "colab": {
     "base_uri": "https://localhost:8080/",
     "height": 1000
    },
    "executionInfo": {
     "status": "ok",
     "timestamp": 1616579970705,
     "user_tz": -60,
     "elapsed": 506,
     "user": {
      "displayName": "Roeland De Meester",
      "photoUrl": "https://lh3.googleusercontent.com/a-/AOh14GgHFLlRcHRUHl0ul5JvDMiUd09ps_mERs2jpo2D=s64",
      "userId": "00580425314421673417"
     }
    },
    "outputId": "1b172ba3-1520-4c55-f786-c318f165e372"
   },
   "source": [
    "# deze oplossing is fout: er wordt een histogram gevraagd ...\n",
    "\n",
    "# import numpy as np\n",
    "# score = range(2,10,1)\n",
    "# frequentie=[1,3,2,3,5,6,3,2]\n",
    "# df = pd.DataFrame({'frequentie':frequentie}, columns = ['frequentie'],index=score)\n",
    "# df.plot.bar(figsize=(8,6)).grid(True)\n",
    "\n",
    "# klassen = pd.cut(frequentie,bins=range(0,6,2))\n",
    "\n",
    "# oplossing - gebruik de repeat functie om een nieuwe dataset\n",
    "# te maken en daar het histogram van te tekenen\n",
    "\n",
    "# Maak van deze frequenties een **histogram** met 5 klassen die het hele theoretische bereik bedekken.\n",
    "score = np.arange(2,10,)\n",
    "f = np.array([1,3,2,3,5,6,3,2])\n",
    "df = pd.DataFrame(np.repeat(score,f), columns=['scores'])\n",
    "display(df)\n",
    "# df.value_counts().sort_index()\n",
    "\n",
    "# fig, ax = plt.subplots() # type:axes.Axes\n",
    "\n",
    "b=np.linspace(1,10,10) ##6 waarden geven 5 bins\n",
    "\n",
    "display(b)\n",
    "data = pd.cut(df.scores,bins=b)\n",
    "\n",
    "display(data)\n",
    "\n",
    "# _ = ax.hist(df.scores, bins=b, edgecolor='black', alpha=0.5)\n",
    "# _ = ax.hist(df.scores)\n",
    "# _ = ax.set_xticks(range(1,11))\n",
    "\n",
    "# # Welk cumulatieve percentage hoort bij score 6?\n",
    "df.value_counts(normalize=True).sort_index().cumsum()[6]\n"
   ],
   "execution_count": 63,
   "outputs": [
    {
     "output_type": "display_data",
     "data": {
      "text/html": [
       "<div>\n",
       "<style scoped>\n",
       "    .dataframe tbody tr th:only-of-type {\n",
       "        vertical-align: middle;\n",
       "    }\n",
       "\n",
       "    .dataframe tbody tr th {\n",
       "        vertical-align: top;\n",
       "    }\n",
       "\n",
       "    .dataframe thead th {\n",
       "        text-align: right;\n",
       "    }\n",
       "</style>\n",
       "<table border=\"1\" class=\"dataframe\">\n",
       "  <thead>\n",
       "    <tr style=\"text-align: right;\">\n",
       "      <th></th>\n",
       "      <th>scores</th>\n",
       "    </tr>\n",
       "  </thead>\n",
       "  <tbody>\n",
       "    <tr>\n",
       "      <th>0</th>\n",
       "      <td>2</td>\n",
       "    </tr>\n",
       "    <tr>\n",
       "      <th>1</th>\n",
       "      <td>3</td>\n",
       "    </tr>\n",
       "    <tr>\n",
       "      <th>2</th>\n",
       "      <td>3</td>\n",
       "    </tr>\n",
       "    <tr>\n",
       "      <th>3</th>\n",
       "      <td>3</td>\n",
       "    </tr>\n",
       "    <tr>\n",
       "      <th>4</th>\n",
       "      <td>4</td>\n",
       "    </tr>\n",
       "    <tr>\n",
       "      <th>5</th>\n",
       "      <td>4</td>\n",
       "    </tr>\n",
       "    <tr>\n",
       "      <th>6</th>\n",
       "      <td>5</td>\n",
       "    </tr>\n",
       "    <tr>\n",
       "      <th>7</th>\n",
       "      <td>5</td>\n",
       "    </tr>\n",
       "    <tr>\n",
       "      <th>8</th>\n",
       "      <td>5</td>\n",
       "    </tr>\n",
       "    <tr>\n",
       "      <th>9</th>\n",
       "      <td>6</td>\n",
       "    </tr>\n",
       "    <tr>\n",
       "      <th>10</th>\n",
       "      <td>6</td>\n",
       "    </tr>\n",
       "    <tr>\n",
       "      <th>11</th>\n",
       "      <td>6</td>\n",
       "    </tr>\n",
       "    <tr>\n",
       "      <th>12</th>\n",
       "      <td>6</td>\n",
       "    </tr>\n",
       "    <tr>\n",
       "      <th>13</th>\n",
       "      <td>6</td>\n",
       "    </tr>\n",
       "    <tr>\n",
       "      <th>14</th>\n",
       "      <td>7</td>\n",
       "    </tr>\n",
       "    <tr>\n",
       "      <th>15</th>\n",
       "      <td>7</td>\n",
       "    </tr>\n",
       "    <tr>\n",
       "      <th>16</th>\n",
       "      <td>7</td>\n",
       "    </tr>\n",
       "    <tr>\n",
       "      <th>17</th>\n",
       "      <td>7</td>\n",
       "    </tr>\n",
       "    <tr>\n",
       "      <th>18</th>\n",
       "      <td>7</td>\n",
       "    </tr>\n",
       "    <tr>\n",
       "      <th>19</th>\n",
       "      <td>7</td>\n",
       "    </tr>\n",
       "    <tr>\n",
       "      <th>20</th>\n",
       "      <td>8</td>\n",
       "    </tr>\n",
       "    <tr>\n",
       "      <th>21</th>\n",
       "      <td>8</td>\n",
       "    </tr>\n",
       "    <tr>\n",
       "      <th>22</th>\n",
       "      <td>8</td>\n",
       "    </tr>\n",
       "    <tr>\n",
       "      <th>23</th>\n",
       "      <td>9</td>\n",
       "    </tr>\n",
       "    <tr>\n",
       "      <th>24</th>\n",
       "      <td>9</td>\n",
       "    </tr>\n",
       "  </tbody>\n",
       "</table>\n",
       "</div>"
      ],
      "text/plain": [
       "    scores\n",
       "0        2\n",
       "1        3\n",
       "2        3\n",
       "3        3\n",
       "4        4\n",
       "5        4\n",
       "6        5\n",
       "7        5\n",
       "8        5\n",
       "9        6\n",
       "10       6\n",
       "11       6\n",
       "12       6\n",
       "13       6\n",
       "14       7\n",
       "15       7\n",
       "16       7\n",
       "17       7\n",
       "18       7\n",
       "19       7\n",
       "20       8\n",
       "21       8\n",
       "22       8\n",
       "23       9\n",
       "24       9"
      ]
     },
     "metadata": {
      "tags": []
     }
    },
    {
     "output_type": "display_data",
     "data": {
      "text/plain": [
       "array([ 1.,  2.,  3.,  4.,  5.,  6.,  7.,  8.,  9., 10.])"
      ]
     },
     "metadata": {
      "tags": []
     }
    },
    {
     "output_type": "display_data",
     "data": {
      "text/plain": [
       "0     (1.0, 2.0]\n",
       "1     (2.0, 3.0]\n",
       "2     (2.0, 3.0]\n",
       "3     (2.0, 3.0]\n",
       "4     (3.0, 4.0]\n",
       "5     (3.0, 4.0]\n",
       "6     (4.0, 5.0]\n",
       "7     (4.0, 5.0]\n",
       "8     (4.0, 5.0]\n",
       "9     (5.0, 6.0]\n",
       "10    (5.0, 6.0]\n",
       "11    (5.0, 6.0]\n",
       "12    (5.0, 6.0]\n",
       "13    (5.0, 6.0]\n",
       "14    (6.0, 7.0]\n",
       "15    (6.0, 7.0]\n",
       "16    (6.0, 7.0]\n",
       "17    (6.0, 7.0]\n",
       "18    (6.0, 7.0]\n",
       "19    (6.0, 7.0]\n",
       "20    (7.0, 8.0]\n",
       "21    (7.0, 8.0]\n",
       "22    (7.0, 8.0]\n",
       "23    (8.0, 9.0]\n",
       "24    (8.0, 9.0]\n",
       "Name: scores, dtype: category\n",
       "Categories (9, interval[float64]): [(1.0, 2.0] < (2.0, 3.0] < (3.0, 4.0] < (4.0, 5.0] < ... <\n",
       "                                    (6.0, 7.0] < (7.0, 8.0] < (8.0, 9.0] < (9.0, 10.0]]"
      ]
     },
     "metadata": {
      "tags": []
     }
    },
    {
     "output_type": "execute_result",
     "data": {
      "text/plain": [
       "scores\n",
       "6         0.56\n",
       "dtype: float64"
      ]
     },
     "metadata": {
      "tags": []
     },
     "execution_count": 63
    }
   ]
  },
  {
   "cell_type": "code",
   "metadata": {
    "colab": {
     "base_uri": "https://localhost:8080/",
     "height": 265
    },
    "id": "gjGNQQLensoy",
    "executionInfo": {
     "status": "ok",
     "timestamp": 1616579482762,
     "user_tz": -60,
     "elapsed": 462,
     "user": {
      "displayName": "Roeland De Meester",
      "photoUrl": "https://lh3.googleusercontent.com/a-/AOh14GgHFLlRcHRUHl0ul5JvDMiUd09ps_mERs2jpo2D=s64",
      "userId": "00580425314421673417"
     }
    },
    "outputId": "2d27f64f-ef6e-45c3-bd82-c15d8057871b",
    "pycharm": {
     "name": "#%%\n"
    }
   },
   "source": [
    "# [10:41] Hassan Mohanad\n",
    "score = range(2,40)\n",
    "ni = [1,3,2,3,5,6,3,2]\n",
    "\n",
    "fig, ax= plt.subplots()\n",
    "_ = ax.hist(np.repeat(score,ni),bins=np.linspace(1,10,6))\n",
    "\n"
   ],
   "execution_count": 62,
   "outputs": [
    {
     "output_type": "display_data",
     "data": {
      "image/png": "[encoded data removed]",
      "text/plain": [
       "<Figure size 432x288 with 1 Axes>"
      ]
     },
     "metadata": {
      "tags": [],
      "needs_background": "light"
     }
    }
   ]
  },
  {
   "cell_type": "markdown",
   "metadata": {
    "id": "bu4seqtRxr9q",
    "pycharm": {
     "name": "#%% md\n"
    }
   },
   "source": [
    "## Vraag 9\n",
    "\n",
    "gegeven volgende frequentietabel\n",
    "\n",
    "| x | 4 | 5 | 6 | 7 | 8 | 9 | 10 | 11\n",
    "| --- | --- | --- | --- |--- |---  |--- |--- |--- |\n",
    "| f | 5 | 7 | 9 | 11 | 12 | 10 | 8 | 6\n",
    "\n",
    "1. Wat is de percentielscore die hoort bij score 9?\n",
    "1. Wat is de percentielscore die hoort bij score 7.5?\n",
    "1. Wat is de score die hoort bij percentielscore 31?"
   ]
  },
  {
   "cell_type": "code",
   "metadata": {
    "id": "iD_inYlNxr9q",
    "pycharm": {
     "name": "#%%\n"
    },
    "colab": {
     "base_uri": "https://localhost:8080/",
     "height": 0
    },
    "executionInfo": {
     "status": "ok",
     "timestamp": 1616578840089,
     "user_tz": -60,
     "elapsed": 1600,
     "user": {
      "displayName": "Roeland De Meester",
      "photoUrl": "https://lh3.googleusercontent.com/a-/AOh14GgHFLlRcHRUHl0ul5JvDMiUd09ps_mERs2jpo2D=s64",
      "userId": "00580425314421673417"
     }
    },
    "outputId": "7f25c499-7299-4962-8a17-fedb482d03a9"
   },
   "source": [
    "import pandas as pd\n",
    "x=range(4,12,1)\n",
    "f=[5,7,9,11,12,10,8,6]\n",
    "\n",
    "df = pd.DataFrame({'f':f}, columns = ['f'],index=x)\n",
    "\n",
    "df[\"rel. frequentie\"]=(df[\"f\"]/df[\"f\"].sum()*100).round(1)\n",
    "df[\"cum. percentage\"]=(df[\"f\"].cumsum()/df[\"f\"].sum()*100).round(1)\n",
    "df[\"percentielscore\"]=df[\"cum. percentage\"]\n",
    "df[\"rel. frequentie\"]=df[\"rel. frequentie\"].astype(str)+'%'\n",
    "df[\"cum. percentage\"]=df[\"cum. percentage\"].astype(str)+'%'\n",
    "\n",
    "display(df)\n",
    "\n",
    "print(\"Wat is het cumulatieve percentage die hoort bij score 9?\")\n",
    "print(df.loc[9]['percentielscore'])\n",
    "print(\"Wat is het cumulatieve percentage die hoort bij score 7.5?\")\n",
    "# dit is hetzelfde als cum. percentage bij score 7\n",
    "print(df.loc[7]['percentielscore'])\n",
    "print(\"Wat is de score die hoort bij percentielscore 31?\")\n",
    "# ipv te zoeken bij welke index percentielscore=31 ligt\n",
    "# gaan we zoeken waar (percentielscore-31) zo dicht mogelijk bij 0\n",
    "# door absolute waarde te nemen, kunnen we zoeken naar de index\n",
    "# waar het minimum ligt\n",
    "print(abs(df['percentielscore'] - 31.0).idxmin())"
   ],
   "execution_count": 45,
   "outputs": [
    {
     "output_type": "display_data",
     "data": {
      "text/html": [
       "<div>\n",
       "<style scoped>\n",
       "    .dataframe tbody tr th:only-of-type {\n",
       "        vertical-align: middle;\n",
       "    }\n",
       "\n",
       "    .dataframe tbody tr th {\n",
       "        vertical-align: top;\n",
       "    }\n",
       "\n",
       "    .dataframe thead th {\n",
       "        text-align: right;\n",
       "    }\n",
       "</style>\n",
       "<table border=\"1\" class=\"dataframe\">\n",
       "  <thead>\n",
       "    <tr style=\"text-align: right;\">\n",
       "      <th></th>\n",
       "      <th>f</th>\n",
       "      <th>rel. frequentie</th>\n",
       "      <th>cum. percentage</th>\n",
       "      <th>percentielscore</th>\n",
       "    </tr>\n",
       "  </thead>\n",
       "  <tbody>\n",
       "    <tr>\n",
       "      <th>4</th>\n",
       "      <td>5</td>\n",
       "      <td>7.4%</td>\n",
       "      <td>7.4%</td>\n",
       "      <td>7.4</td>\n",
       "    </tr>\n",
       "    <tr>\n",
       "      <th>5</th>\n",
       "      <td>7</td>\n",
       "      <td>10.3%</td>\n",
       "      <td>17.6%</td>\n",
       "      <td>17.6</td>\n",
       "    </tr>\n",
       "    <tr>\n",
       "      <th>6</th>\n",
       "      <td>9</td>\n",
       "      <td>13.2%</td>\n",
       "      <td>30.9%</td>\n",
       "      <td>30.9</td>\n",
       "    </tr>\n",
       "    <tr>\n",
       "      <th>7</th>\n",
       "      <td>11</td>\n",
       "      <td>16.2%</td>\n",
       "      <td>47.1%</td>\n",
       "      <td>47.1</td>\n",
       "    </tr>\n",
       "    <tr>\n",
       "      <th>8</th>\n",
       "      <td>12</td>\n",
       "      <td>17.6%</td>\n",
       "      <td>64.7%</td>\n",
       "      <td>64.7</td>\n",
       "    </tr>\n",
       "    <tr>\n",
       "      <th>9</th>\n",
       "      <td>10</td>\n",
       "      <td>14.7%</td>\n",
       "      <td>79.4%</td>\n",
       "      <td>79.4</td>\n",
       "    </tr>\n",
       "    <tr>\n",
       "      <th>10</th>\n",
       "      <td>8</td>\n",
       "      <td>11.8%</td>\n",
       "      <td>91.2%</td>\n",
       "      <td>91.2</td>\n",
       "    </tr>\n",
       "    <tr>\n",
       "      <th>11</th>\n",
       "      <td>6</td>\n",
       "      <td>8.8%</td>\n",
       "      <td>100.0%</td>\n",
       "      <td>100.0</td>\n",
       "    </tr>\n",
       "  </tbody>\n",
       "</table>\n",
       "</div>"
      ],
      "text/plain": [
       "     f rel. frequentie cum. percentage  percentielscore\n",
       "4    5            7.4%            7.4%              7.4\n",
       "5    7           10.3%           17.6%             17.6\n",
       "6    9           13.2%           30.9%             30.9\n",
       "7   11           16.2%           47.1%             47.1\n",
       "8   12           17.6%           64.7%             64.7\n",
       "9   10           14.7%           79.4%             79.4\n",
       "10   8           11.8%           91.2%             91.2\n",
       "11   6            8.8%          100.0%            100.0"
      ]
     },
     "metadata": {
      "tags": []
     }
    },
    {
     "output_type": "stream",
     "text": [
      "Wat is het cumulatieve percentage die hoort bij score 9?\n",
      "79.4\n",
      "Wat is het cumulatieve percentage die hoort bij score 7.5?\n",
      "47.1\n",
      "Wat is de score die hoort bij percentielscore 31?\n",
      "6\n"
     ],
     "name": "stdout"
    }
   ]
  },
  {
   "cell_type": "markdown",
   "metadata": {
    "id": "6ErCNghJxr9q",
    "pycharm": {
     "name": "#%% md\n"
    }
   },
   "source": [
    "## Vraag 10\n",
    "\n",
    "Bekijk het bijgeleverde bestand: \"tevredenheid.txt\".  Hierin staan de resultaten van een tevredenheidsenqête.  De scores gaan van 1 tot 10 (1 = heel ontevreden, 10 = heel tevreden).\n",
    "\n",
    "1. laad deze gegevens\n",
    "1. maak een frequentietabel voor deze gegevens.  Bepaal de absolute frequenties, relatieve frequenties, cumulatieve frequenties en cumulatieve percentages.  Wat zie je?\n",
    "1. plot de relatieve frequenties in een diagram (welk is hier aangewezen?)\n",
    "1. hoeveel procent van de mensen was niet tevreden (score < 5)?"
   ]
  },
  {
   "cell_type": "code",
   "metadata": {
    "id": "k3LTxy3txr9r",
    "pycharm": {
     "name": "#%%\n"
    },
    "colab": {
     "base_uri": "https://localhost:8080/",
     "height": 467
    },
    "executionInfo": {
     "status": "error",
     "timestamp": 1616578840101,
     "user_tz": -60,
     "elapsed": 1602,
     "user": {
      "displayName": "Roeland De Meester",
      "photoUrl": "https://lh3.googleusercontent.com/a-/AOh14GgHFLlRcHRUHl0ul5JvDMiUd09ps_mERs2jpo2D=s64",
      "userId": "00580425314421673417"
     }
    },
    "outputId": "044c783c-67e3-452f-9a97-96542c353a50"
   },
   "source": [
    "import pandas as pd\n",
    "# 1. laad deze gegevens\n",
    "tevreden = pd.read_csv('../datasets/tevredenheid.txt',header=None,names=['values'])\n",
    "# tevreden.\n",
    "display(tevreden)\n",
    "\n",
    "# 2. maak een frequentietabel voor deze gegevens\n",
    "display(tevreden['values'].value_counts().sort_index())\n",
    "\n",
    "# 3. Plot de relatieve frequenties in een diagram\n",
    "\n",
    "fig, ax = plt.subplots(figsize=(10,8))\n",
    "freq = (tevreden['values'].value_counts(normalize=True)*100).round(2).sort_index()\n",
    "\n",
    "_ = ax.bar(freq.index, freq.values)\n",
    "#_ = ax.bar(range(1,10), freq.values)\n",
    "\n",
    "_ = ax.set_title(\"Relatieve frequenties van tevredenheid\")\n",
    "_ = ax.set_xlabel(\"Tevredenheidscore\")\n",
    "_ = ax.set_ylabel(\"Procent\")\n",
    "ax.grid(True)\n"
   ],
   "execution_count": 46,
   "outputs": [
    {
     "output_type": "error",
     "ename": "FileNotFoundError",
     "evalue": "ignored",
     "traceback": [
      "\u001B[0;31m---------------------------------------------------------------------------\u001B[0m",
      "\u001B[0;31mFileNotFoundError\u001B[0m                         Traceback (most recent call last)",
      "\u001B[0;32m<ipython-input-46-6f91de2a9280>\u001B[0m in \u001B[0;36m<module>\u001B[0;34m()\u001B[0m\n\u001B[1;32m      1\u001B[0m \u001B[0;32mimport\u001B[0m \u001B[0mpandas\u001B[0m \u001B[0;32mas\u001B[0m \u001B[0mpd\u001B[0m\u001B[0;34m\u001B[0m\u001B[0;34m\u001B[0m\u001B[0m\n\u001B[1;32m      2\u001B[0m \u001B[0;31m# 1. laad deze gegevens\u001B[0m\u001B[0;34m\u001B[0m\u001B[0;34m\u001B[0m\u001B[0;34m\u001B[0m\u001B[0m\n\u001B[0;32m----> 3\u001B[0;31m \u001B[0mtevreden\u001B[0m \u001B[0;34m=\u001B[0m \u001B[0mpd\u001B[0m\u001B[0;34m.\u001B[0m\u001B[0mread_csv\u001B[0m\u001B[0;34m(\u001B[0m\u001B[0;34m'../datasets/tevredenheid.txt'\u001B[0m\u001B[0;34m,\u001B[0m\u001B[0mheader\u001B[0m\u001B[0;34m=\u001B[0m\u001B[0;32mNone\u001B[0m\u001B[0;34m,\u001B[0m\u001B[0mnames\u001B[0m\u001B[0;34m=\u001B[0m\u001B[0;34m[\u001B[0m\u001B[0;34m'values'\u001B[0m\u001B[0;34m]\u001B[0m\u001B[0;34m)\u001B[0m\u001B[0;34m\u001B[0m\u001B[0;34m\u001B[0m\u001B[0m\n\u001B[0m\u001B[1;32m      4\u001B[0m \u001B[0;31m# tevreden.\u001B[0m\u001B[0;34m\u001B[0m\u001B[0;34m\u001B[0m\u001B[0;34m\u001B[0m\u001B[0m\n\u001B[1;32m      5\u001B[0m \u001B[0mdisplay\u001B[0m\u001B[0;34m(\u001B[0m\u001B[0mtevreden\u001B[0m\u001B[0;34m)\u001B[0m\u001B[0;34m\u001B[0m\u001B[0;34m\u001B[0m\u001B[0m\n",
      "\u001B[0;32m/usr/local/lib/python3.7/dist-packages/pandas/io/parsers.py\u001B[0m in \u001B[0;36mread_csv\u001B[0;34m(filepath_or_buffer, sep, delimiter, header, names, index_col, usecols, squeeze, prefix, mangle_dupe_cols, dtype, engine, converters, true_values, false_values, skipinitialspace, skiprows, skipfooter, nrows, na_values, keep_default_na, na_filter, verbose, skip_blank_lines, parse_dates, infer_datetime_format, keep_date_col, date_parser, dayfirst, cache_dates, iterator, chunksize, compression, thousands, decimal, lineterminator, quotechar, quoting, doublequote, escapechar, comment, encoding, dialect, error_bad_lines, warn_bad_lines, delim_whitespace, low_memory, memory_map, float_precision)\u001B[0m\n\u001B[1;32m    686\u001B[0m     )\n\u001B[1;32m    687\u001B[0m \u001B[0;34m\u001B[0m\u001B[0m\n\u001B[0;32m--> 688\u001B[0;31m     \u001B[0;32mreturn\u001B[0m \u001B[0m_read\u001B[0m\u001B[0;34m(\u001B[0m\u001B[0mfilepath_or_buffer\u001B[0m\u001B[0;34m,\u001B[0m \u001B[0mkwds\u001B[0m\u001B[0;34m)\u001B[0m\u001B[0;34m\u001B[0m\u001B[0;34m\u001B[0m\u001B[0m\n\u001B[0m\u001B[1;32m    689\u001B[0m \u001B[0;34m\u001B[0m\u001B[0m\n\u001B[1;32m    690\u001B[0m \u001B[0;34m\u001B[0m\u001B[0m\n",
      "\u001B[0;32m/usr/local/lib/python3.7/dist-packages/pandas/io/parsers.py\u001B[0m in \u001B[0;36m_read\u001B[0;34m(filepath_or_buffer, kwds)\u001B[0m\n\u001B[1;32m    452\u001B[0m \u001B[0;34m\u001B[0m\u001B[0m\n\u001B[1;32m    453\u001B[0m     \u001B[0;31m# Create the parser.\u001B[0m\u001B[0;34m\u001B[0m\u001B[0;34m\u001B[0m\u001B[0;34m\u001B[0m\u001B[0m\n\u001B[0;32m--> 454\u001B[0;31m     \u001B[0mparser\u001B[0m \u001B[0;34m=\u001B[0m \u001B[0mTextFileReader\u001B[0m\u001B[0;34m(\u001B[0m\u001B[0mfp_or_buf\u001B[0m\u001B[0;34m,\u001B[0m \u001B[0;34m**\u001B[0m\u001B[0mkwds\u001B[0m\u001B[0;34m)\u001B[0m\u001B[0;34m\u001B[0m\u001B[0;34m\u001B[0m\u001B[0m\n\u001B[0m\u001B[1;32m    455\u001B[0m \u001B[0;34m\u001B[0m\u001B[0m\n\u001B[1;32m    456\u001B[0m     \u001B[0;32mif\u001B[0m \u001B[0mchunksize\u001B[0m \u001B[0;32mor\u001B[0m \u001B[0miterator\u001B[0m\u001B[0;34m:\u001B[0m\u001B[0;34m\u001B[0m\u001B[0;34m\u001B[0m\u001B[0m\n",
      "\u001B[0;32m/usr/local/lib/python3.7/dist-packages/pandas/io/parsers.py\u001B[0m in \u001B[0;36m__init__\u001B[0;34m(self, f, engine, **kwds)\u001B[0m\n\u001B[1;32m    946\u001B[0m             \u001B[0mself\u001B[0m\u001B[0;34m.\u001B[0m\u001B[0moptions\u001B[0m\u001B[0;34m[\u001B[0m\u001B[0;34m\"has_index_names\"\u001B[0m\u001B[0;34m]\u001B[0m \u001B[0;34m=\u001B[0m \u001B[0mkwds\u001B[0m\u001B[0;34m[\u001B[0m\u001B[0;34m\"has_index_names\"\u001B[0m\u001B[0;34m]\u001B[0m\u001B[0;34m\u001B[0m\u001B[0;34m\u001B[0m\u001B[0m\n\u001B[1;32m    947\u001B[0m \u001B[0;34m\u001B[0m\u001B[0m\n\u001B[0;32m--> 948\u001B[0;31m         \u001B[0mself\u001B[0m\u001B[0;34m.\u001B[0m\u001B[0m_make_engine\u001B[0m\u001B[0;34m(\u001B[0m\u001B[0mself\u001B[0m\u001B[0;34m.\u001B[0m\u001B[0mengine\u001B[0m\u001B[0;34m)\u001B[0m\u001B[0;34m\u001B[0m\u001B[0;34m\u001B[0m\u001B[0m\n\u001B[0m\u001B[1;32m    949\u001B[0m \u001B[0;34m\u001B[0m\u001B[0m\n\u001B[1;32m    950\u001B[0m     \u001B[0;32mdef\u001B[0m \u001B[0mclose\u001B[0m\u001B[0;34m(\u001B[0m\u001B[0mself\u001B[0m\u001B[0;34m)\u001B[0m\u001B[0;34m:\u001B[0m\u001B[0;34m\u001B[0m\u001B[0;34m\u001B[0m\u001B[0m\n",
      "\u001B[0;32m/usr/local/lib/python3.7/dist-packages/pandas/io/parsers.py\u001B[0m in \u001B[0;36m_make_engine\u001B[0;34m(self, engine)\u001B[0m\n\u001B[1;32m   1178\u001B[0m     \u001B[0;32mdef\u001B[0m \u001B[0m_make_engine\u001B[0m\u001B[0;34m(\u001B[0m\u001B[0mself\u001B[0m\u001B[0;34m,\u001B[0m \u001B[0mengine\u001B[0m\u001B[0;34m=\u001B[0m\u001B[0;34m\"c\"\u001B[0m\u001B[0;34m)\u001B[0m\u001B[0;34m:\u001B[0m\u001B[0;34m\u001B[0m\u001B[0;34m\u001B[0m\u001B[0m\n\u001B[1;32m   1179\u001B[0m         \u001B[0;32mif\u001B[0m \u001B[0mengine\u001B[0m \u001B[0;34m==\u001B[0m \u001B[0;34m\"c\"\u001B[0m\u001B[0;34m:\u001B[0m\u001B[0;34m\u001B[0m\u001B[0;34m\u001B[0m\u001B[0m\n\u001B[0;32m-> 1180\u001B[0;31m             \u001B[0mself\u001B[0m\u001B[0;34m.\u001B[0m\u001B[0m_engine\u001B[0m \u001B[0;34m=\u001B[0m \u001B[0mCParserWrapper\u001B[0m\u001B[0;34m(\u001B[0m\u001B[0mself\u001B[0m\u001B[0;34m.\u001B[0m\u001B[0mf\u001B[0m\u001B[0;34m,\u001B[0m \u001B[0;34m**\u001B[0m\u001B[0mself\u001B[0m\u001B[0;34m.\u001B[0m\u001B[0moptions\u001B[0m\u001B[0;34m)\u001B[0m\u001B[0;34m\u001B[0m\u001B[0;34m\u001B[0m\u001B[0m\n\u001B[0m\u001B[1;32m   1181\u001B[0m         \u001B[0;32melse\u001B[0m\u001B[0;34m:\u001B[0m\u001B[0;34m\u001B[0m\u001B[0;34m\u001B[0m\u001B[0m\n\u001B[1;32m   1182\u001B[0m             \u001B[0;32mif\u001B[0m \u001B[0mengine\u001B[0m \u001B[0;34m==\u001B[0m \u001B[0;34m\"python\"\u001B[0m\u001B[0;34m:\u001B[0m\u001B[0;34m\u001B[0m\u001B[0;34m\u001B[0m\u001B[0m\n",
      "\u001B[0;32m/usr/local/lib/python3.7/dist-packages/pandas/io/parsers.py\u001B[0m in \u001B[0;36m__init__\u001B[0;34m(self, src, **kwds)\u001B[0m\n\u001B[1;32m   2008\u001B[0m         \u001B[0mkwds\u001B[0m\u001B[0;34m[\u001B[0m\u001B[0;34m\"usecols\"\u001B[0m\u001B[0;34m]\u001B[0m \u001B[0;34m=\u001B[0m \u001B[0mself\u001B[0m\u001B[0;34m.\u001B[0m\u001B[0musecols\u001B[0m\u001B[0;34m\u001B[0m\u001B[0;34m\u001B[0m\u001B[0m\n\u001B[1;32m   2009\u001B[0m \u001B[0;34m\u001B[0m\u001B[0m\n\u001B[0;32m-> 2010\u001B[0;31m         \u001B[0mself\u001B[0m\u001B[0;34m.\u001B[0m\u001B[0m_reader\u001B[0m \u001B[0;34m=\u001B[0m \u001B[0mparsers\u001B[0m\u001B[0;34m.\u001B[0m\u001B[0mTextReader\u001B[0m\u001B[0;34m(\u001B[0m\u001B[0msrc\u001B[0m\u001B[0;34m,\u001B[0m \u001B[0;34m**\u001B[0m\u001B[0mkwds\u001B[0m\u001B[0;34m)\u001B[0m\u001B[0;34m\u001B[0m\u001B[0;34m\u001B[0m\u001B[0m\n\u001B[0m\u001B[1;32m   2011\u001B[0m         \u001B[0mself\u001B[0m\u001B[0;34m.\u001B[0m\u001B[0munnamed_cols\u001B[0m \u001B[0;34m=\u001B[0m \u001B[0mself\u001B[0m\u001B[0;34m.\u001B[0m\u001B[0m_reader\u001B[0m\u001B[0;34m.\u001B[0m\u001B[0munnamed_cols\u001B[0m\u001B[0;34m\u001B[0m\u001B[0;34m\u001B[0m\u001B[0m\n\u001B[1;32m   2012\u001B[0m \u001B[0;34m\u001B[0m\u001B[0m\n",
      "\u001B[0;32mpandas/_libs/parsers.pyx\u001B[0m in \u001B[0;36mpandas._libs.parsers.TextReader.__cinit__\u001B[0;34m()\u001B[0m\n",
      "\u001B[0;32mpandas/_libs/parsers.pyx\u001B[0m in \u001B[0;36mpandas._libs.parsers.TextReader._setup_parser_source\u001B[0;34m()\u001B[0m\n",
      "\u001B[0;31mFileNotFoundError\u001B[0m: [Errno 2] No such file or directory: '../datasets/tevredenheid.txt'"
     ]
    }
   ]
  },
  {
   "cell_type": "code",
   "metadata": {
    "id": "bg0Z0Bclc_iA",
    "executionInfo": {
     "status": "aborted",
     "timestamp": 1616578840091,
     "user_tz": -60,
     "elapsed": 1585,
     "user": {
      "displayName": "Roeland De Meester",
      "photoUrl": "https://lh3.googleusercontent.com/a-/AOh14GgHFLlRcHRUHl0ul5JvDMiUd09ps_mERs2jpo2D=s64",
      "userId": "00580425314421673417"
     }
    },
    "pycharm": {
     "name": "#%%\n"
    }
   },
   "source": [
    "#4. hoeveel procent van de mensen was niet tevreden (score < 5)\n",
    "# Bepaal de cumulatieve relatieve frequentie\n",
    "\n",
    "(tevreden['values'].value_counts(normalize=True)*100).round(2).sort_index().cumsum()\n",
    "\n",
    "#antwoord: 6.91 % was niet tevreden (had een score <5)"
   ],
   "execution_count": null,
   "outputs": []
  },
  {
   "cell_type": "code",
   "metadata": {
    "id": "qtg0-Knrc_iA",
    "executionInfo": {
     "status": "aborted",
     "timestamp": 1616578840094,
     "user_tz": -60,
     "elapsed": 1580,
     "user": {
      "displayName": "Roeland De Meester",
      "photoUrl": "https://lh3.googleusercontent.com/a-/AOh14GgHFLlRcHRUHl0ul5JvDMiUd09ps_mERs2jpo2D=s64",
      "userId": "00580425314421673417"
     }
    },
    "pycharm": {
     "name": "#%%\n"
    }
   },
   "source": [],
   "execution_count": null,
   "outputs": []
  },
  {
   "cell_type": "code",
   "metadata": {
    "id": "NIskqfjiG5jr",
    "executionInfo": {
     "status": "aborted",
     "timestamp": 1616578840098,
     "user_tz": -60,
     "elapsed": 1573,
     "user": {
      "displayName": "Roeland De Meester",
      "photoUrl": "https://lh3.googleusercontent.com/a-/AOh14GgHFLlRcHRUHl0ul5JvDMiUd09ps_mERs2jpo2D=s64",
      "userId": "00580425314421673417"
     }
    },
    "pycharm": {
     "name": "#%%\n"
    }
   },
   "source": [],
   "execution_count": null,
   "outputs": []
  }
 ]
}
