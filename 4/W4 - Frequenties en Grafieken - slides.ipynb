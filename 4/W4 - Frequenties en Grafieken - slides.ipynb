{
 "cells": [
  {
   "attachments": {},
   "cell_type": "markdown",
   "metadata": {
    "id": "vZ78D7kp1L2J"
   },
   "source": [
    "# SETUP\n",
    "\n",
    "Een code cel output alleen de laatste regel. Om meerdere regels te laten zien,  kun je de ast_node_interactivity eigenschap op 'all' zetten. Hierdoor worden alle outputs in een cel getoond."
   ]
  },
  {
   "cell_type": "code",
   "execution_count": 2,
   "metadata": {
    "colab": {
     "base_uri": "https://localhost:8080/"
    },
    "executionInfo": {
     "elapsed": 15,
     "status": "ok",
     "timestamp": 1641834738825,
     "user": {
      "displayName": "Roeland De Meester",
      "photoUrl": "https://lh3.googleusercontent.com/a-/AOh14GgHFLlRcHRUHl0ul5JvDMiUd09ps_mERs2jpo2D=s64",
      "userId": "00580425314421673417"
     },
     "user_tz": -60
    },
    "id": "JbkBKkkM1Nkn",
    "outputId": "90148946-69e9-45ea-c686-07a8fe291700"
   },
   "outputs": [],
   "source": [
    "from IPython.core.interactiveshell import InteractiveShell\n",
    "\n",
    "InteractiveShell.ast_node_interactivity = \"all\""
   ]
  },
  {
   "cell_type": "markdown",
   "metadata": {
    "id": "wIJVoji2lTDm"
   },
   "source": [
    "# Data inladen\n",
    "\n",
    "* Pandas importeren.\n",
    "* CSV-bestand inlezen waarin de gegevens staan van verschillende laptops."
   ]
  },
  {
   "cell_type": "code",
   "execution_count": 1,
   "metadata": {
    "executionInfo": {
     "elapsed": 889,
     "status": "ok",
     "timestamp": 1615217782925,
     "user": {
      "displayName": "Maarten Heylen",
      "photoUrl": "",
      "userId": "01598807576603538646"
     },
     "user_tz": -60
    },
    "id": "iIvlzEKceAQH",
    "outputId": "74ef782b-a580-443e-9150-f2ecfea112ff",
    "pycharm": {
     "name": "#%%\n"
    }
   },
   "outputs": [
    {
     "name": "stdout",
     "output_type": "stream",
     "text": [
      "<class 'pandas.core.frame.DataFrame'>\n",
      "RangeIndex: 857 entries, 0 to 856\n",
      "Data columns (total 5 columns):\n",
      " #   Column         Non-Null Count  Dtype  \n",
      "---  ------         --------------  -----  \n",
      " 0   cpuGeneration  852 non-null    object \n",
      " 1   cpuType        853 non-null    object \n",
      " 2   RAM            855 non-null    float64\n",
      " 3   diskspace      851 non-null    float64\n",
      " 4   brand          856 non-null    object \n",
      "dtypes: float64(2), object(3)\n",
      "memory usage: 33.6+ KB\n"
     ]
    }
   ],
   "source": [
    "import pandas as pd\n",
    "\n",
    "laptops = pd.read_csv('datasets/laptops.csv', sep=';', decimal=',')\n",
    "laptops.head()\n",
    "laptops.info()"
   ]
  },
  {
   "cell_type": "code",
   "execution_count": 2,
   "metadata": {},
   "outputs": [
    {
     "data": {
      "text/html": [
       "<div>\n",
       "<style scoped>\n",
       "    .dataframe tbody tr th:only-of-type {\n",
       "        vertical-align: middle;\n",
       "    }\n",
       "\n",
       "    .dataframe tbody tr th {\n",
       "        vertical-align: top;\n",
       "    }\n",
       "\n",
       "    .dataframe thead th {\n",
       "        text-align: right;\n",
       "    }\n",
       "</style>\n",
       "<table border=\"1\" class=\"dataframe\">\n",
       "  <thead>\n",
       "    <tr style=\"text-align: right;\">\n",
       "      <th></th>\n",
       "      <th>cpuGeneration</th>\n",
       "      <th>cpuType</th>\n",
       "      <th>RAM</th>\n",
       "      <th>diskspace</th>\n",
       "      <th>brand</th>\n",
       "    </tr>\n",
       "  </thead>\n",
       "  <tbody>\n",
       "    <tr>\n",
       "      <th>0</th>\n",
       "      <td>Kabylake</td>\n",
       "      <td>i7</td>\n",
       "      <td>4.0</td>\n",
       "      <td>232.5</td>\n",
       "      <td>Toshiba</td>\n",
       "    </tr>\n",
       "    <tr>\n",
       "      <th>1</th>\n",
       "      <td>Kabylake</td>\n",
       "      <td>i5</td>\n",
       "      <td>2.0</td>\n",
       "      <td>992.5</td>\n",
       "      <td>Acer</td>\n",
       "    </tr>\n",
       "    <tr>\n",
       "      <th>2</th>\n",
       "      <td>Haswell</td>\n",
       "      <td>i7</td>\n",
       "      <td>16.0</td>\n",
       "      <td>495.6</td>\n",
       "      <td>Dell</td>\n",
       "    </tr>\n",
       "    <tr>\n",
       "      <th>3</th>\n",
       "      <td>Skylake</td>\n",
       "      <td>i7</td>\n",
       "      <td>4.0</td>\n",
       "      <td>217.2</td>\n",
       "      <td>Toshiba</td>\n",
       "    </tr>\n",
       "    <tr>\n",
       "      <th>4</th>\n",
       "      <td>Broadwell</td>\n",
       "      <td>i5</td>\n",
       "      <td>4.0</td>\n",
       "      <td>245.8</td>\n",
       "      <td>Acer</td>\n",
       "    </tr>\n",
       "    <tr>\n",
       "      <th>...</th>\n",
       "      <td>...</td>\n",
       "      <td>...</td>\n",
       "      <td>...</td>\n",
       "      <td>...</td>\n",
       "      <td>...</td>\n",
       "    </tr>\n",
       "    <tr>\n",
       "      <th>852</th>\n",
       "      <td>Broadwell</td>\n",
       "      <td>i3</td>\n",
       "      <td>4.0</td>\n",
       "      <td>NaN</td>\n",
       "      <td>Asus</td>\n",
       "    </tr>\n",
       "    <tr>\n",
       "      <th>853</th>\n",
       "      <td>Broadwell</td>\n",
       "      <td>i5</td>\n",
       "      <td>4.0</td>\n",
       "      <td>235.6</td>\n",
       "      <td>HP</td>\n",
       "    </tr>\n",
       "    <tr>\n",
       "      <th>854</th>\n",
       "      <td>Sandy Bridge</td>\n",
       "      <td>i5</td>\n",
       "      <td>4.0</td>\n",
       "      <td>226.6</td>\n",
       "      <td>Asus</td>\n",
       "    </tr>\n",
       "    <tr>\n",
       "      <th>855</th>\n",
       "      <td>Skylake</td>\n",
       "      <td>i7</td>\n",
       "      <td>8.0</td>\n",
       "      <td>221.8</td>\n",
       "      <td>Toshiba</td>\n",
       "    </tr>\n",
       "    <tr>\n",
       "      <th>856</th>\n",
       "      <td>Haswell</td>\n",
       "      <td>i3</td>\n",
       "      <td>2.0</td>\n",
       "      <td>234.0</td>\n",
       "      <td>Acer</td>\n",
       "    </tr>\n",
       "  </tbody>\n",
       "</table>\n",
       "<p>857 rows × 5 columns</p>\n",
       "</div>"
      ],
      "text/plain": [
       "    cpuGeneration cpuType   RAM  diskspace    brand\n",
       "0        Kabylake      i7   4.0      232.5  Toshiba\n",
       "1        Kabylake      i5   2.0      992.5     Acer\n",
       "2         Haswell      i7  16.0      495.6     Dell\n",
       "3         Skylake      i7   4.0      217.2  Toshiba\n",
       "4       Broadwell      i5   4.0      245.8     Acer\n",
       "..            ...     ...   ...        ...      ...\n",
       "852     Broadwell      i3   4.0        NaN     Asus\n",
       "853     Broadwell      i5   4.0      235.6       HP\n",
       "854  Sandy Bridge      i5   4.0      226.6     Asus\n",
       "855       Skylake      i7   8.0      221.8  Toshiba\n",
       "856       Haswell      i3   2.0      234.0     Acer\n",
       "\n",
       "[857 rows x 5 columns]"
      ]
     },
     "execution_count": 2,
     "metadata": {},
     "output_type": "execute_result"
    }
   ],
   "source": [
    "laptops"
   ]
  },
  {
   "cell_type": "markdown",
   "metadata": {
    "id": "BYJfyjURkMOG"
   },
   "source": [
    "Voor ordinale gegevens kunnen we de volgorde van de categorieën vastleggen"
   ]
  },
  {
   "cell_type": "code",
   "execution_count": 4,
   "metadata": {
    "executionInfo": {
     "elapsed": 1627,
     "status": "ok",
     "timestamp": 1615217783672,
     "user": {
      "displayName": "Maarten Heylen",
      "photoUrl": "",
      "userId": "01598807576603538646"
     },
     "user_tz": -60
    },
    "id": "zDSQI6J3kToa",
    "outputId": "367580f0-bcdf-4577-b147-23a4d63bf72b"
   },
   "outputs": [
    {
     "data": {
      "text/plain": [
       "cpuGeneration    category\n",
       "cpuType          category\n",
       "RAM               float64\n",
       "diskspace         float64\n",
       "brand              object\n",
       "dtype: object"
      ]
     },
     "execution_count": 4,
     "metadata": {},
     "output_type": "execute_result"
    }
   ],
   "source": [
    "cpuGenerationLevels = [\"Sandy Bridge\", \"Ivy Bridge\", \"Haswell\", \"Broadwell\", \"Skylake\", \"Kabylake\"]\n",
    "laptops.cpuGeneration = pd.Categorical(laptops.cpuGeneration, ordered=True, categories=cpuGenerationLevels)\n",
    "\n",
    "cpuTypeLevels = [\"i3\", \"i5\", \"i7\"]\n",
    "laptops.cpuType = pd.Categorical(laptops.cpuType, ordered=True, categories=cpuTypeLevels)\n",
    "laptops.dtypes"
   ]
  },
  {
   "cell_type": "code",
   "execution_count": 5,
   "metadata": {},
   "outputs": [
    {
     "data": {
      "text/html": [
       "<div>\n",
       "<style scoped>\n",
       "    .dataframe tbody tr th:only-of-type {\n",
       "        vertical-align: middle;\n",
       "    }\n",
       "\n",
       "    .dataframe tbody tr th {\n",
       "        vertical-align: top;\n",
       "    }\n",
       "\n",
       "    .dataframe thead th {\n",
       "        text-align: right;\n",
       "    }\n",
       "</style>\n",
       "<table border=\"1\" class=\"dataframe\">\n",
       "  <thead>\n",
       "    <tr style=\"text-align: right;\">\n",
       "      <th></th>\n",
       "      <th>cpuGeneration</th>\n",
       "      <th>cpuType</th>\n",
       "      <th>RAM</th>\n",
       "      <th>diskspace</th>\n",
       "      <th>brand</th>\n",
       "    </tr>\n",
       "  </thead>\n",
       "  <tbody>\n",
       "    <tr>\n",
       "      <th>0</th>\n",
       "      <td>Kabylake</td>\n",
       "      <td>i7</td>\n",
       "      <td>4.0</td>\n",
       "      <td>232.5</td>\n",
       "      <td>Toshiba</td>\n",
       "    </tr>\n",
       "    <tr>\n",
       "      <th>1</th>\n",
       "      <td>Kabylake</td>\n",
       "      <td>i5</td>\n",
       "      <td>2.0</td>\n",
       "      <td>992.5</td>\n",
       "      <td>Acer</td>\n",
       "    </tr>\n",
       "    <tr>\n",
       "      <th>2</th>\n",
       "      <td>Haswell</td>\n",
       "      <td>i7</td>\n",
       "      <td>16.0</td>\n",
       "      <td>495.6</td>\n",
       "      <td>Dell</td>\n",
       "    </tr>\n",
       "    <tr>\n",
       "      <th>3</th>\n",
       "      <td>Skylake</td>\n",
       "      <td>i7</td>\n",
       "      <td>4.0</td>\n",
       "      <td>217.2</td>\n",
       "      <td>Toshiba</td>\n",
       "    </tr>\n",
       "    <tr>\n",
       "      <th>4</th>\n",
       "      <td>Broadwell</td>\n",
       "      <td>i5</td>\n",
       "      <td>4.0</td>\n",
       "      <td>245.8</td>\n",
       "      <td>Acer</td>\n",
       "    </tr>\n",
       "    <tr>\n",
       "      <th>...</th>\n",
       "      <td>...</td>\n",
       "      <td>...</td>\n",
       "      <td>...</td>\n",
       "      <td>...</td>\n",
       "      <td>...</td>\n",
       "    </tr>\n",
       "    <tr>\n",
       "      <th>852</th>\n",
       "      <td>Broadwell</td>\n",
       "      <td>i3</td>\n",
       "      <td>4.0</td>\n",
       "      <td>NaN</td>\n",
       "      <td>Asus</td>\n",
       "    </tr>\n",
       "    <tr>\n",
       "      <th>853</th>\n",
       "      <td>Broadwell</td>\n",
       "      <td>i5</td>\n",
       "      <td>4.0</td>\n",
       "      <td>235.6</td>\n",
       "      <td>HP</td>\n",
       "    </tr>\n",
       "    <tr>\n",
       "      <th>854</th>\n",
       "      <td>Sandy Bridge</td>\n",
       "      <td>i5</td>\n",
       "      <td>4.0</td>\n",
       "      <td>226.6</td>\n",
       "      <td>Asus</td>\n",
       "    </tr>\n",
       "    <tr>\n",
       "      <th>855</th>\n",
       "      <td>Skylake</td>\n",
       "      <td>i7</td>\n",
       "      <td>8.0</td>\n",
       "      <td>221.8</td>\n",
       "      <td>Toshiba</td>\n",
       "    </tr>\n",
       "    <tr>\n",
       "      <th>856</th>\n",
       "      <td>Haswell</td>\n",
       "      <td>i3</td>\n",
       "      <td>2.0</td>\n",
       "      <td>234.0</td>\n",
       "      <td>Acer</td>\n",
       "    </tr>\n",
       "  </tbody>\n",
       "</table>\n",
       "<p>857 rows × 5 columns</p>\n",
       "</div>"
      ],
      "text/plain": [
       "    cpuGeneration cpuType   RAM  diskspace    brand\n",
       "0        Kabylake      i7   4.0      232.5  Toshiba\n",
       "1        Kabylake      i5   2.0      992.5     Acer\n",
       "2         Haswell      i7  16.0      495.6     Dell\n",
       "3         Skylake      i7   4.0      217.2  Toshiba\n",
       "4       Broadwell      i5   4.0      245.8     Acer\n",
       "..            ...     ...   ...        ...      ...\n",
       "852     Broadwell      i3   4.0        NaN     Asus\n",
       "853     Broadwell      i5   4.0      235.6       HP\n",
       "854  Sandy Bridge      i5   4.0      226.6     Asus\n",
       "855       Skylake      i7   8.0      221.8  Toshiba\n",
       "856       Haswell      i3   2.0      234.0     Acer\n",
       "\n",
       "[857 rows x 5 columns]"
      ]
     },
     "execution_count": 5,
     "metadata": {},
     "output_type": "execute_result"
    }
   ],
   "source": [
    "laptops"
   ]
  },
  {
   "cell_type": "markdown",
   "metadata": {
    "id": "l1DbFMnFlsiN"
   },
   "source": [
    "# Frequenties\n"
   ]
  },
  {
   "attachments": {},
   "cell_type": "markdown",
   "metadata": {
    "id": "3IzSkYCbWoFe"
   },
   "source": [
    "## Absolute frequenties\n",
    "Op deze manier krijg je een Pandas `Series` terug"
   ]
  },
  {
   "cell_type": "code",
   "execution_count": 5,
   "metadata": {
    "colab": {
     "base_uri": "https://localhost:8080/"
    },
    "executionInfo": {
     "elapsed": 739,
     "status": "ok",
     "timestamp": 1615217899606,
     "user": {
      "displayName": "Maarten Heylen",
      "photoUrl": "",
      "userId": "01598807576603538646"
     },
     "user_tz": -60
    },
    "id": "0AIGVLIbfSgO",
    "outputId": "604bcee6-52f5-4c73-9f7d-96307d626422"
   },
   "outputs": [
    {
     "data": {
      "text/plain": [
       "i5    556\n",
       "i3    213\n",
       "i7     84\n",
       "Name: cpuType, dtype: int64"
      ]
     },
     "execution_count": 5,
     "metadata": {},
     "output_type": "execute_result"
    }
   ],
   "source": [
    "laptops.cpuType.value_counts()"
   ]
  },
  {
   "cell_type": "code",
   "execution_count": 6,
   "metadata": {
    "id": "_blteXTul2XR"
   },
   "outputs": [],
   "source": [
    "absoluteFrequenties = laptops.cpuType.value_counts()"
   ]
  },
  {
   "cell_type": "markdown",
   "metadata": {
    "id": "hD7SXs_Xo668"
   },
   "source": [
    "We zien nu echter dat de som van deze 3 getallen kleiner is..."
   ]
  },
  {
   "cell_type": "code",
   "execution_count": 7,
   "metadata": {
    "colab": {
     "base_uri": "https://localhost:8080/"
    },
    "executionInfo": {
     "elapsed": 1619,
     "status": "ok",
     "timestamp": 1615217783674,
     "user": {
      "displayName": "Maarten Heylen",
      "photoUrl": "",
      "userId": "01598807576603538646"
     },
     "user_tz": -60
    },
    "id": "2Ds8q3iLpDxk",
    "outputId": "7c7cd647-2db8-46d6-c6c1-50a7dcd1d64b"
   },
   "outputs": [
    {
     "data": {
      "text/plain": [
       "853"
      ]
     },
     "execution_count": 7,
     "metadata": {},
     "output_type": "execute_result"
    }
   ],
   "source": [
    "absoluteFrequenties.sum()"
   ]
  },
  {
   "cell_type": "markdown",
   "metadata": {
    "id": "xS6Vfe5VpGta"
   },
   "source": [
    "...dan het aantal lijnen in onze oorspronkelijke dataframe"
   ]
  },
  {
   "cell_type": "code",
   "execution_count": 8,
   "metadata": {
    "colab": {
     "base_uri": "https://localhost:8080/"
    },
    "executionInfo": {
     "elapsed": 1614,
     "status": "ok",
     "timestamp": 1615217783675,
     "user": {
      "displayName": "Maarten Heylen",
      "photoUrl": "",
      "userId": "01598807576603538646"
     },
     "user_tz": -60
    },
    "id": "kAe9LXOepayT",
    "outputId": "8d68971e-f51f-466f-d4cd-a65e1daa2188"
   },
   "outputs": [
    {
     "data": {
      "text/plain": [
       "857"
      ]
     },
     "execution_count": 8,
     "metadata": {},
     "output_type": "execute_result"
    }
   ],
   "source": [
    "len(laptops)"
   ]
  },
  {
   "cell_type": "markdown",
   "metadata": {
    "id": "7WXMXwHDp-e7"
   },
   "source": [
    "Dit komt omdat er 4 rijen zijn waar in de kolom cpuType waar in NaN staat"
   ]
  },
  {
   "cell_type": "code",
   "execution_count": 9,
   "metadata": {
    "colab": {
     "base_uri": "https://localhost:8080/",
     "height": 175
    },
    "executionInfo": {
     "elapsed": 1606,
     "status": "ok",
     "timestamp": 1615217783677,
     "user": {
      "displayName": "Maarten Heylen",
      "photoUrl": "",
      "userId": "01598807576603538646"
     },
     "user_tz": -60
    },
    "id": "AYegK95Vqj2p",
    "outputId": "fddcbdd7-5393-43b3-d1c8-714c691d78a1"
   },
   "outputs": [
    {
     "data": {
      "text/html": [
       "<div>\n",
       "<style scoped>\n",
       "    .dataframe tbody tr th:only-of-type {\n",
       "        vertical-align: middle;\n",
       "    }\n",
       "\n",
       "    .dataframe tbody tr th {\n",
       "        vertical-align: top;\n",
       "    }\n",
       "\n",
       "    .dataframe thead th {\n",
       "        text-align: right;\n",
       "    }\n",
       "</style>\n",
       "<table border=\"1\" class=\"dataframe\">\n",
       "  <thead>\n",
       "    <tr style=\"text-align: right;\">\n",
       "      <th></th>\n",
       "      <th>cpuGeneration</th>\n",
       "      <th>cpuType</th>\n",
       "      <th>RAM</th>\n",
       "      <th>diskspace</th>\n",
       "      <th>brand</th>\n",
       "    </tr>\n",
       "  </thead>\n",
       "  <tbody>\n",
       "    <tr>\n",
       "      <th>353</th>\n",
       "      <td>Ivy Bridge</td>\n",
       "      <td>NaN</td>\n",
       "      <td>8.0</td>\n",
       "      <td>222.9</td>\n",
       "      <td>HP</td>\n",
       "    </tr>\n",
       "    <tr>\n",
       "      <th>604</th>\n",
       "      <td>Broadwell</td>\n",
       "      <td>NaN</td>\n",
       "      <td>1.0</td>\n",
       "      <td>239.1</td>\n",
       "      <td>Acer</td>\n",
       "    </tr>\n",
       "    <tr>\n",
       "      <th>611</th>\n",
       "      <td>Kabylake</td>\n",
       "      <td>NaN</td>\n",
       "      <td>4.0</td>\n",
       "      <td>502.7</td>\n",
       "      <td>HP</td>\n",
       "    </tr>\n",
       "    <tr>\n",
       "      <th>649</th>\n",
       "      <td>Skylake</td>\n",
       "      <td>NaN</td>\n",
       "      <td>4.0</td>\n",
       "      <td>482.7</td>\n",
       "      <td>HP</td>\n",
       "    </tr>\n",
       "  </tbody>\n",
       "</table>\n",
       "</div>"
      ],
      "text/plain": [
       "    cpuGeneration cpuType  RAM  diskspace brand\n",
       "353    Ivy Bridge     NaN  8.0      222.9    HP\n",
       "604     Broadwell     NaN  1.0      239.1  Acer\n",
       "611      Kabylake     NaN  4.0      502.7    HP\n",
       "649       Skylake     NaN  4.0      482.7    HP"
      ]
     },
     "execution_count": 9,
     "metadata": {},
     "output_type": "execute_result"
    }
   ],
   "source": [
    "laptops[laptops.cpuType.isnull()]"
   ]
  },
  {
   "attachments": {},
   "cell_type": "markdown",
   "metadata": {
    "id": "LIVGx4LrtEs0"
   },
   "source": [
    "Om de `NaN` toch mee te tellen"
   ]
  },
  {
   "cell_type": "code",
   "execution_count": 10,
   "metadata": {
    "colab": {
     "base_uri": "https://localhost:8080/"
    },
    "executionInfo": {
     "elapsed": 1601,
     "status": "ok",
     "timestamp": 1615217783677,
     "user": {
      "displayName": "Maarten Heylen",
      "photoUrl": "",
      "userId": "01598807576603538646"
     },
     "user_tz": -60
    },
    "id": "jQOGBtUhtEJ1",
    "outputId": "cde7156e-ed4b-41be-eeda-b033eabc1534"
   },
   "outputs": [
    {
     "data": {
      "text/plain": [
       "i5     556\n",
       "i3     213\n",
       "i7      84\n",
       "NaN      4\n",
       "Name: cpuType, dtype: int64"
      ]
     },
     "execution_count": 10,
     "metadata": {},
     "output_type": "execute_result"
    }
   ],
   "source": [
    "laptops.cpuType.value_counts(dropna=False)"
   ]
  },
  {
   "attachments": {},
   "cell_type": "markdown",
   "metadata": {
    "id": "oCks0OZyt4Uk"
   },
   "source": [
    "Sorteren gebeurt standaard op de gevonden frequentie. De `ascending` parameter kan je gebruiken om de sortering om te draaien."
   ]
  },
  {
   "cell_type": "code",
   "execution_count": 11,
   "metadata": {
    "colab": {
     "base_uri": "https://localhost:8080/"
    },
    "executionInfo": {
     "elapsed": 1596,
     "status": "ok",
     "timestamp": 1615217783678,
     "user": {
      "displayName": "Maarten Heylen",
      "photoUrl": "",
      "userId": "01598807576603538646"
     },
     "user_tz": -60
    },
    "id": "tilrOYJ7uD9K",
    "outputId": "8d006faf-720e-47a5-83fd-d7ed9134451a"
   },
   "outputs": [
    {
     "data": {
      "text/plain": [
       "i7     84\n",
       "i3    213\n",
       "i5    556\n",
       "Name: cpuType, dtype: int64"
      ]
     },
     "execution_count": 11,
     "metadata": {},
     "output_type": "execute_result"
    }
   ],
   "source": [
    "laptops.cpuType.value_counts(ascending=True)"
   ]
  },
  {
   "attachments": {},
   "cell_type": "markdown",
   "metadata": {
    "id": "fGnPvDfJuLEv"
   },
   "source": [
    "Wil je sorteren op de inhoud van de index gebruik dan `sort_index()`. Dit is nuttig bij ordinale meetniveaus"
   ]
  },
  {
   "cell_type": "code",
   "execution_count": 12,
   "metadata": {
    "colab": {
     "base_uri": "https://localhost:8080/"
    },
    "executionInfo": {
     "elapsed": 1591,
     "status": "ok",
     "timestamp": 1615217783679,
     "user": {
      "displayName": "Maarten Heylen",
      "photoUrl": "",
      "userId": "01598807576603538646"
     },
     "user_tz": -60
    },
    "id": "-TajDpcruP7K",
    "outputId": "1a44d695-b8a2-4a4b-850f-7658f2a7e89a"
   },
   "outputs": [
    {
     "data": {
      "text/plain": [
       "i3    213\n",
       "i5    556\n",
       "i7     84\n",
       "Name: cpuType, dtype: int64"
      ]
     },
     "execution_count": 12,
     "metadata": {},
     "output_type": "execute_result"
    }
   ],
   "source": [
    "laptops.cpuType.value_counts().sort_index()"
   ]
  },
  {
   "cell_type": "markdown",
   "metadata": {
    "id": "ML30Mr0muiW-"
   },
   "source": [
    "### Klassen"
   ]
  },
  {
   "attachments": {},
   "cell_type": "markdown",
   "metadata": {
    "id": "8mYRwqEVTcDX"
   },
   "source": [
    "De `diskspace` kolom bevat de opslagcapaciteit van de laptops. Deze kolom bevat echter te veel verschillende waarden om een histogram te maken.  Wanneer er te veel verschillende waarden zijn, kan het handig zijn om de waarden in klassen te verdelen. Dit kan met behulp van `cut()`"
   ]
  },
  {
   "cell_type": "code",
   "execution_count": 13,
   "metadata": {
    "colab": {
     "base_uri": "https://localhost:8080/"
    },
    "executionInfo": {
     "elapsed": 1585,
     "status": "ok",
     "timestamp": 1615217783679,
     "user": {
      "displayName": "Maarten Heylen",
      "photoUrl": "",
      "userId": "01598807576603538646"
     },
     "user_tz": -60
    },
    "id": "k75gAegQS7An",
    "outputId": "23969083-e4de-44df-ed31-9c05287f5d80"
   },
   "outputs": [
    {
     "data": {
      "text/plain": [
       "510.6     5\n",
       "488.9     4\n",
       "482.9     4\n",
       "494.1     4\n",
       "231.3     4\n",
       "         ..\n",
       "493.6     1\n",
       "996.7     1\n",
       "482.6     1\n",
       "1003.6    1\n",
       "234.0     1\n",
       "Name: diskspace, Length: 592, dtype: int64"
      ]
     },
     "execution_count": 13,
     "metadata": {},
     "output_type": "execute_result"
    }
   ],
   "source": [
    "laptops.diskspace.value_counts()"
   ]
  },
  {
   "cell_type": "markdown",
   "metadata": {
    "id": "n686QaeoVVEP"
   },
   "source": [
    "We maken bijvoorbeeld klassen aan met een range die 100 eenheden groot is en categoriseren onze waarnemingen in die klassen"
   ]
  },
  {
   "cell_type": "code",
   "execution_count": 14,
   "metadata": {
    "id": "-RgfsHC6-bNJ",
    "outputId": "b5799699-8488-42c6-da3b-07bf13e6b67b",
    "pycharm": {
     "name": "#%%\n"
    }
   },
   "outputs": [
    {
     "data": {
      "text/html": [
       "<div>\n",
       "<style scoped>\n",
       "    .dataframe tbody tr th:only-of-type {\n",
       "        vertical-align: middle;\n",
       "    }\n",
       "\n",
       "    .dataframe tbody tr th {\n",
       "        vertical-align: top;\n",
       "    }\n",
       "\n",
       "    .dataframe thead th {\n",
       "        text-align: right;\n",
       "    }\n",
       "</style>\n",
       "<table border=\"1\" class=\"dataframe\">\n",
       "  <thead>\n",
       "    <tr style=\"text-align: right;\">\n",
       "      <th></th>\n",
       "      <th>diskspace</th>\n",
       "    </tr>\n",
       "  </thead>\n",
       "  <tbody>\n",
       "    <tr>\n",
       "      <th>0</th>\n",
       "      <td>(200.0, 300.0]</td>\n",
       "    </tr>\n",
       "    <tr>\n",
       "      <th>1</th>\n",
       "      <td>(900.0, 1000.0]</td>\n",
       "    </tr>\n",
       "    <tr>\n",
       "      <th>2</th>\n",
       "      <td>(400.0, 500.0]</td>\n",
       "    </tr>\n",
       "    <tr>\n",
       "      <th>3</th>\n",
       "      <td>(200.0, 300.0]</td>\n",
       "    </tr>\n",
       "    <tr>\n",
       "      <th>4</th>\n",
       "      <td>(200.0, 300.0]</td>\n",
       "    </tr>\n",
       "    <tr>\n",
       "      <th>...</th>\n",
       "      <td>...</td>\n",
       "    </tr>\n",
       "    <tr>\n",
       "      <th>852</th>\n",
       "      <td>NaN</td>\n",
       "    </tr>\n",
       "    <tr>\n",
       "      <th>853</th>\n",
       "      <td>(200.0, 300.0]</td>\n",
       "    </tr>\n",
       "    <tr>\n",
       "      <th>854</th>\n",
       "      <td>(200.0, 300.0]</td>\n",
       "    </tr>\n",
       "    <tr>\n",
       "      <th>855</th>\n",
       "      <td>(200.0, 300.0]</td>\n",
       "    </tr>\n",
       "    <tr>\n",
       "      <th>856</th>\n",
       "      <td>(200.0, 300.0]</td>\n",
       "    </tr>\n",
       "  </tbody>\n",
       "</table>\n",
       "<p>857 rows × 1 columns</p>\n",
       "</div>"
      ],
      "text/plain": [
       "           diskspace\n",
       "0     (200.0, 300.0]\n",
       "1    (900.0, 1000.0]\n",
       "2     (400.0, 500.0]\n",
       "3     (200.0, 300.0]\n",
       "4     (200.0, 300.0]\n",
       "..               ...\n",
       "852              NaN\n",
       "853   (200.0, 300.0]\n",
       "854   (200.0, 300.0]\n",
       "855   (200.0, 300.0]\n",
       "856   (200.0, 300.0]\n",
       "\n",
       "[857 rows x 1 columns]"
      ]
     },
     "execution_count": 14,
     "metadata": {},
     "output_type": "execute_result"
    }
   ],
   "source": [
    "cutpoints = range(0, 1200, 100)\n",
    "klassen = pd.cut(laptops.diskspace, bins=cutpoints)\n",
    "pd.DataFrame(klassen)"
   ]
  },
  {
   "attachments": {},
   "cell_type": "markdown",
   "metadata": {
    "collapsed": false,
    "id": "AGXwWsYI-bNK"
   },
   "source": [
    "We kunnen nu de absolute frequenties berekenen van de voorkomens van de waarnemingen in de klassen."
   ]
  },
  {
   "cell_type": "code",
   "execution_count": 15,
   "metadata": {
    "colab": {
     "base_uri": "https://localhost:8080/"
    },
    "executionInfo": {
     "elapsed": 1578,
     "status": "ok",
     "timestamp": 1615217783680,
     "user": {
      "displayName": "Maarten Heylen",
      "photoUrl": "",
      "userId": "01598807576603538646"
     },
     "user_tz": -60
    },
    "id": "q-3rRuLbXxmc",
    "outputId": "44ef4e28-d03b-4414-9e47-a8e0eb2671b3"
   },
   "outputs": [
    {
     "data": {
      "text/plain": [
       "(0, 100]         29\n",
       "(100, 200]       52\n",
       "(200, 300]      407\n",
       "(300, 400]        0\n",
       "(400, 500]      227\n",
       "(500, 600]       96\n",
       "(600, 700]        0\n",
       "(700, 800]        0\n",
       "(800, 900]        0\n",
       "(900, 1000]      19\n",
       "(1000, 1100]     21\n",
       "Name: diskspace, dtype: int64"
      ]
     },
     "execution_count": 15,
     "metadata": {},
     "output_type": "execute_result"
    }
   ],
   "source": [
    "klassen.value_counts().sort_index()"
   ]
  },
  {
   "cell_type": "markdown",
   "metadata": {
    "id": "40oEBSGqaGa0"
   },
   "source": [
    "#### Tweaken van de klasse-intervallen\n",
    "Inclusiviteit/exclusiviteit intervallen omdraaien\n",
    "\n"
   ]
  },
  {
   "cell_type": "code",
   "execution_count": 30,
   "metadata": {
    "colab": {
     "base_uri": "https://localhost:8080/"
    },
    "executionInfo": {
     "elapsed": 1573,
     "status": "ok",
     "timestamp": 1615217783681,
     "user": {
      "displayName": "Maarten Heylen",
      "photoUrl": "",
      "userId": "01598807576603538646"
     },
     "user_tz": -60
    },
    "id": "3gDiYSjRaL6M",
    "outputId": "808044bf-dad5-466e-fbce-fbed5908ba59"
   },
   "outputs": [
    {
     "data": {
      "text/html": [
       "<div>\n",
       "<style scoped>\n",
       "    .dataframe tbody tr th:only-of-type {\n",
       "        vertical-align: middle;\n",
       "    }\n",
       "\n",
       "    .dataframe tbody tr th {\n",
       "        vertical-align: top;\n",
       "    }\n",
       "\n",
       "    .dataframe thead th {\n",
       "        text-align: right;\n",
       "    }\n",
       "</style>\n",
       "<table border=\"1\" class=\"dataframe\">\n",
       "  <thead>\n",
       "    <tr style=\"text-align: right;\">\n",
       "      <th></th>\n",
       "      <th>diskspace</th>\n",
       "    </tr>\n",
       "  </thead>\n",
       "  <tbody>\n",
       "    <tr>\n",
       "      <th>0</th>\n",
       "      <td>[200.0, 300.0)</td>\n",
       "    </tr>\n",
       "    <tr>\n",
       "      <th>1</th>\n",
       "      <td>[900.0, 1000.0)</td>\n",
       "    </tr>\n",
       "    <tr>\n",
       "      <th>2</th>\n",
       "      <td>[400.0, 500.0)</td>\n",
       "    </tr>\n",
       "    <tr>\n",
       "      <th>3</th>\n",
       "      <td>[200.0, 300.0)</td>\n",
       "    </tr>\n",
       "    <tr>\n",
       "      <th>4</th>\n",
       "      <td>[200.0, 300.0)</td>\n",
       "    </tr>\n",
       "    <tr>\n",
       "      <th>...</th>\n",
       "      <td>...</td>\n",
       "    </tr>\n",
       "    <tr>\n",
       "      <th>852</th>\n",
       "      <td>NaN</td>\n",
       "    </tr>\n",
       "    <tr>\n",
       "      <th>853</th>\n",
       "      <td>[200.0, 300.0)</td>\n",
       "    </tr>\n",
       "    <tr>\n",
       "      <th>854</th>\n",
       "      <td>[200.0, 300.0)</td>\n",
       "    </tr>\n",
       "    <tr>\n",
       "      <th>855</th>\n",
       "      <td>[200.0, 300.0)</td>\n",
       "    </tr>\n",
       "    <tr>\n",
       "      <th>856</th>\n",
       "      <td>[200.0, 300.0)</td>\n",
       "    </tr>\n",
       "  </tbody>\n",
       "</table>\n",
       "<p>857 rows × 1 columns</p>\n",
       "</div>"
      ],
      "text/plain": [
       "           diskspace\n",
       "0     [200.0, 300.0)\n",
       "1    [900.0, 1000.0)\n",
       "2     [400.0, 500.0)\n",
       "3     [200.0, 300.0)\n",
       "4     [200.0, 300.0)\n",
       "..               ...\n",
       "852              NaN\n",
       "853   [200.0, 300.0)\n",
       "854   [200.0, 300.0)\n",
       "855   [200.0, 300.0)\n",
       "856   [200.0, 300.0)\n",
       "\n",
       "[857 rows x 1 columns]"
      ]
     },
     "execution_count": 30,
     "metadata": {},
     "output_type": "execute_result"
    }
   ],
   "source": [
    "klassen = pd.cut(laptops.diskspace, bins=cutpoints, right=False)\n",
    "pd.DataFrame(klassen)"
   ]
  },
  {
   "attachments": {},
   "cell_type": "markdown",
   "metadata": {
    "id": "FWGYIqUnaLnI"
   },
   "source": [
    "#### Aantal intervallen berekenen\n",
    "*  met Sturges $k = 1 + \\log_2(n)$"
   ]
  },
  {
   "cell_type": "code",
   "execution_count": 31,
   "metadata": {
    "colab": {
     "base_uri": "https://localhost:8080/"
    },
    "executionInfo": {
     "elapsed": 2010,
     "status": "ok",
     "timestamp": 1615217784122,
     "user": {
      "displayName": "Maarten Heylen",
      "photoUrl": "",
      "userId": "01598807576603538646"
     },
     "user_tz": -60
    },
    "id": "ZMHSmRBxc0cu",
    "outputId": "6a49c6f6-80d9-4331-b5d4-31352d064da2"
   },
   "outputs": [
    {
     "data": {
      "text/plain": [
       "11"
      ]
     },
     "execution_count": 31,
     "metadata": {},
     "output_type": "execute_result"
    }
   ],
   "source": [
    "diskspace = laptops.diskspace.dropna()\n",
    "n = len(diskspace)\n",
    "import math\n",
    "\n",
    "math.ceil(1 + math.log2(n))"
   ]
  },
  {
   "attachments": {},
   "cell_type": "markdown",
   "metadata": {
    "id": "K_BYcNkSdVCv"
   },
   "source": [
    "* met Scott $k = 3.5 \\cdot \\sigma / \\sqrt[3]{n}$"
   ]
  },
  {
   "cell_type": "code",
   "execution_count": 32,
   "metadata": {
    "colab": {
     "base_uri": "https://localhost:8080/"
    },
    "executionInfo": {
     "elapsed": 2011,
     "status": "ok",
     "timestamp": 1615217784125,
     "user": {
      "displayName": "Maarten Heylen",
      "photoUrl": "",
      "userId": "01598807576603538646"
     },
     "user_tz": -60
    },
    "id": "1yBz8PHVdXXD",
    "outputId": "8998dc71-26ac-4e15-8988-617134ffc7d1"
   },
   "outputs": [
    {
     "data": {
      "text/plain": [
       "13"
      ]
     },
     "execution_count": 32,
     "metadata": {},
     "output_type": "execute_result"
    }
   ],
   "source": [
    "import statistics as stat\n",
    "\n",
    "b = 3.5 * stat.stdev(diskspace) / (n ** (1 / 3))\n",
    "math.ceil((diskspace.max() - diskspace.min()) / b)"
   ]
  },
  {
   "attachments": {},
   "cell_type": "markdown",
   "metadata": {
    "id": "RTR4H_Q-dxUt"
   },
   "source": [
    "* met Excel $k = \\lceil{\\sqrt{n}}\\rceil$"
   ]
  },
  {
   "cell_type": "code",
   "execution_count": 19,
   "metadata": {
    "colab": {
     "base_uri": "https://localhost:8080/"
    },
    "executionInfo": {
     "elapsed": 2009,
     "status": "ok",
     "timestamp": 1615217784127,
     "user": {
      "displayName": "Maarten Heylen",
      "photoUrl": "",
      "userId": "01598807576603538646"
     },
     "user_tz": -60
    },
    "id": "WDjxHjRjdzBN",
    "outputId": "4386cdfe-8aec-44f5-d31d-07e5e5d3e727"
   },
   "outputs": [
    {
     "data": {
      "text/plain": [
       "30"
      ]
     },
     "execution_count": 19,
     "metadata": {},
     "output_type": "execute_result"
    }
   ],
   "source": [
    "math.ceil(math.sqrt(n))"
   ]
  },
  {
   "cell_type": "markdown",
   "metadata": {
    "id": "_ItAjoaCe6VW"
   },
   "source": [
    "#### Intervalgrenzen automatisch laten bepalen"
   ]
  },
  {
   "cell_type": "code",
   "execution_count": 33,
   "metadata": {
    "colab": {
     "base_uri": "https://localhost:8080/"
    },
    "executionInfo": {
     "elapsed": 2008,
     "status": "ok",
     "timestamp": 1615217784130,
     "user": {
      "displayName": "Maarten Heylen",
      "photoUrl": "",
      "userId": "01598807576603538646"
     },
     "user_tz": -60
    },
    "id": "nUVBU4zye-wL",
    "outputId": "455b8ffd-bc1c-4568-c356-891402e5c6c1"
   },
   "outputs": [
    {
     "data": {
      "text/plain": [
       "(87.363, 173.345]      81\n",
       "(173.345, 258.391]    407\n",
       "(258.391, 343.436]      0\n",
       "(343.436, 428.482]      0\n",
       "(428.482, 513.527]    323\n",
       "(513.527, 598.573]      0\n",
       "(598.573, 683.618]      0\n",
       "(683.618, 768.664]      0\n",
       "(768.664, 853.709]      0\n",
       "(853.709, 938.755]      0\n",
       "(938.755, 1023.8]      40\n",
       "Name: diskspace, dtype: int64"
      ]
     },
     "execution_count": 33,
     "metadata": {},
     "output_type": "execute_result"
    }
   ],
   "source": [
    "diskspace.value_counts(bins=11).sort_index()"
   ]
  },
  {
   "attachments": {},
   "cell_type": "markdown",
   "metadata": {
    "id": "Nr7tAJwsfeTq"
   },
   "source": [
    "## Relatieve frequenties\n",
    "\n",
    "Met behulp van `value_counts()` kan je relatieve frequenties berekenen door de parameter `normalize` op `True` te zetten."
   ]
  },
  {
   "cell_type": "code",
   "execution_count": 21,
   "metadata": {
    "colab": {
     "base_uri": "https://localhost:8080/"
    },
    "executionInfo": {
     "elapsed": 2007,
     "status": "ok",
     "timestamp": 1615217784131,
     "user": {
      "displayName": "Maarten Heylen",
      "photoUrl": "",
      "userId": "01598807576603538646"
     },
     "user_tz": -60
    },
    "id": "oijCivqhfjyT",
    "outputId": "5b95ff99-9d07-48a0-c4b2-f0a8396f365d"
   },
   "outputs": [
    {
     "data": {
      "text/plain": [
       "HP         0.227804\n",
       "Dell       0.188084\n",
       "Toshiba    0.151869\n",
       "Acer       0.151869\n",
       "Lenovo     0.091121\n",
       "Asus       0.075935\n",
       "Apple      0.075935\n",
       "Medion     0.037383\n",
       "Name: brand, dtype: float64"
      ]
     },
     "execution_count": 21,
     "metadata": {},
     "output_type": "execute_result"
    }
   ],
   "source": [
    "laptops.brand.value_counts(normalize=True)"
   ]
  },
  {
   "attachments": {},
   "cell_type": "markdown",
   "metadata": {
    "id": "KA5yv7JShNI6"
   },
   "source": [
    "Wens je dit in procenten te zien, dan kan je de parameter `normalize` op `True` zetten en vermenigvuldg je het resultaat met 100. Je kan ook nog afronden met `round()`."
   ]
  },
  {
   "cell_type": "code",
   "execution_count": 22,
   "metadata": {
    "colab": {
     "base_uri": "https://localhost:8080/"
    },
    "executionInfo": {
     "elapsed": 2000,
     "status": "ok",
     "timestamp": 1615217784133,
     "user": {
      "displayName": "Maarten Heylen",
      "photoUrl": "",
      "userId": "01598807576603538646"
     },
     "user_tz": -60
    },
    "id": "Tf4nsWQAhV6J",
    "outputId": "1f3e4a94-10bf-46e0-8dee-519e46d9c4c7"
   },
   "outputs": [
    {
     "data": {
      "text/plain": [
       "HP         22.8\n",
       "Dell       18.8\n",
       "Toshiba    15.2\n",
       "Acer       15.2\n",
       "Lenovo      9.1\n",
       "Asus        7.6\n",
       "Apple       7.6\n",
       "Medion      3.7\n",
       "Name: brand, dtype: float64"
      ]
     },
     "execution_count": 22,
     "metadata": {},
     "output_type": "execute_result"
    }
   ],
   "source": [
    "(laptops.brand.value_counts(normalize=True) * 100).round(1)"
   ]
  },
  {
   "cell_type": "code",
   "execution_count": 23,
   "metadata": {
    "id": "Ip3kwX7T-bNN",
    "outputId": "f4d58d3c-2db5-4d87-8850-875e7555aa13",
    "pycharm": {
     "name": "#%%\n"
    }
   },
   "outputs": [
    {
     "data": {
      "text/plain": [
       "1.0"
      ]
     },
     "execution_count": 23,
     "metadata": {},
     "output_type": "execute_result"
    }
   ],
   "source": [
    "laptops.brand.value_counts(normalize=True).sum()"
   ]
  },
  {
   "cell_type": "code",
   "execution_count": 24,
   "metadata": {
    "colab": {
     "base_uri": "https://localhost:8080/"
    },
    "executionInfo": {
     "elapsed": 1997,
     "status": "ok",
     "timestamp": 1615217784134,
     "user": {
      "displayName": "Maarten Heylen",
      "photoUrl": "",
      "userId": "01598807576603538646"
     },
     "user_tz": -60
    },
    "id": "Ov-SerjVnZOw",
    "outputId": "0fe3840b-3a5e-44c1-a49f-7614cf7e8175"
   },
   "outputs": [
    {
     "data": {
      "text/plain": [
       "100.0"
      ]
     },
     "execution_count": 24,
     "metadata": {},
     "output_type": "execute_result"
    }
   ],
   "source": [
    "(laptops.brand.value_counts(normalize=True) * 100).round(1).sum()"
   ]
  },
  {
   "cell_type": "markdown",
   "metadata": {
    "id": "cdQf2jLXnGYQ"
   },
   "source": [
    "## Cumulatieve frequenties"
   ]
  },
  {
   "cell_type": "code",
   "execution_count": 25,
   "metadata": {
    "colab": {
     "base_uri": "https://localhost:8080/"
    },
    "executionInfo": {
     "elapsed": 1994,
     "status": "ok",
     "timestamp": 1615217784135,
     "user": {
      "displayName": "Maarten Heylen",
      "photoUrl": "",
      "userId": "01598807576603538646"
     },
     "user_tz": -60
    },
    "id": "yXKcX77qxqeV",
    "outputId": "20e6db6e-0aa2-4e81-8e8b-0c1589c2df0a"
   },
   "outputs": [
    {
     "data": {
      "text/plain": [
       "Sandy Bridge     63\n",
       "Ivy Bridge      170\n",
       "Haswell         336\n",
       "Broadwell       554\n",
       "Skylake         709\n",
       "Kabylake        852\n",
       "Name: cpuGeneration, dtype: int64"
      ]
     },
     "execution_count": 25,
     "metadata": {},
     "output_type": "execute_result"
    }
   ],
   "source": [
    "laptops.cpuGeneration.value_counts().sort_index().cumsum()"
   ]
  },
  {
   "cell_type": "markdown",
   "metadata": {
    "id": "jVhFqbNw0A9b"
   },
   "source": [
    "We kunnen op analoge manier ook berekenen hoeveel laptops een bepaalde CPU generation OF BETER heeft"
   ]
  },
  {
   "cell_type": "code",
   "execution_count": 26,
   "metadata": {
    "colab": {
     "base_uri": "https://localhost:8080/"
    },
    "executionInfo": {
     "elapsed": 1991,
     "status": "ok",
     "timestamp": 1615217784136,
     "user": {
      "displayName": "Maarten Heylen",
      "photoUrl": "",
      "userId": "01598807576603538646"
     },
     "user_tz": -60
    },
    "id": "umwoKtjZzuzL",
    "outputId": "093c2f21-3789-4646-d2d7-26219f0ef40b"
   },
   "outputs": [
    {
     "data": {
      "text/plain": [
       "Kabylake        143\n",
       "Skylake         298\n",
       "Broadwell       516\n",
       "Haswell         682\n",
       "Ivy Bridge      789\n",
       "Sandy Bridge    852\n",
       "Name: cpuGeneration, dtype: int64"
      ]
     },
     "execution_count": 26,
     "metadata": {},
     "output_type": "execute_result"
    }
   ],
   "source": [
    "laptops.cpuGeneration.value_counts().sort_index(ascending=False).cumsum()"
   ]
  },
  {
   "cell_type": "markdown",
   "metadata": {
    "id": "V0pdXvnl1KyS"
   },
   "source": [
    "## Cumulatieve percentages"
   ]
  },
  {
   "cell_type": "code",
   "execution_count": 27,
   "metadata": {
    "colab": {
     "base_uri": "https://localhost:8080/"
    },
    "executionInfo": {
     "elapsed": 2426,
     "status": "ok",
     "timestamp": 1615217784575,
     "user": {
      "displayName": "Maarten Heylen",
      "photoUrl": "",
      "userId": "01598807576603538646"
     },
     "user_tz": -60
    },
    "id": "wd0gHePc1NsT",
    "outputId": "4d3a326f-0731-49e9-aec7-19a3c000c882"
   },
   "outputs": [
    {
     "data": {
      "text/plain": [
       "Sandy Bridge      7.4\n",
       "Ivy Bridge       20.0\n",
       "Haswell          39.4\n",
       "Broadwell        65.0\n",
       "Skylake          83.2\n",
       "Kabylake        100.0\n",
       "Name: cpuGeneration, dtype: float64"
      ]
     },
     "execution_count": 27,
     "metadata": {},
     "output_type": "execute_result"
    }
   ],
   "source": [
    "(laptops.cpuGeneration.value_counts(normalize=True).sort_index().cumsum() * 100).round(1)"
   ]
  },
  {
   "cell_type": "markdown",
   "metadata": {
    "id": "_IUiBBR21bWF"
   },
   "source": [
    "Of om te bekomen welk percentage een bepaalde CPU generation heeft OF BETER"
   ]
  },
  {
   "cell_type": "code",
   "execution_count": 28,
   "metadata": {
    "colab": {
     "base_uri": "https://localhost:8080/"
    },
    "executionInfo": {
     "elapsed": 2420,
     "status": "ok",
     "timestamp": 1615217784577,
     "user": {
      "displayName": "Maarten Heylen",
      "photoUrl": "",
      "userId": "01598807576603538646"
     },
     "user_tz": -60
    },
    "id": "SwaOFMEX1gum",
    "outputId": "5e89995c-779e-45fd-9300-c1ad48a7f08a"
   },
   "outputs": [
    {
     "data": {
      "text/plain": [
       "Kabylake         16.8\n",
       "Skylake          35.0\n",
       "Broadwell        60.6\n",
       "Haswell          80.0\n",
       "Ivy Bridge       92.6\n",
       "Sandy Bridge    100.0\n",
       "Name: cpuGeneration, dtype: float64"
      ]
     },
     "execution_count": 28,
     "metadata": {},
     "output_type": "execute_result"
    }
   ],
   "source": [
    "(laptops.cpuGeneration.value_counts(normalize=True).sort_index(ascending=False).cumsum() * 100).round(1)"
   ]
  },
  {
   "attachments": {},
   "cell_type": "markdown",
   "metadata": {
    "collapsed": false,
    "id": "1wfZvMMpeAQT",
    "pycharm": {
     "name": "#%% md\n"
    }
   },
   "source": [
    "# Grafieken\n",
    "\n",
    "Om grafieken te kunnen maken, moeten we eerst een nieuwe library installeren. Dit doen we met de volgende code:\n",
    "\n",
    "```bash\n",
    "pip install matplotlib\n",
    "```\n",
    "\n",
    "Matplotlib is een zeer uitgebreide library om grafieken te maken. We zullen hier enkel de basisfuncties gebruiken.\n",
    "\n",
    "*<font color=\"red\">\n",
    "Nota: mijn Jupyter Notebooks zijn geconfigureerd om alle output in een code cel te tonen en niet alleen het laatste statement.\n",
    "Daarom moet ik soms tussentijdse resultaten \"inslikken\" met de constructie `_ = ax.` waarbij ik het resultaat stokeer in een naamloze variabele waardoor die niet geprint wordt.</font>*"
   ]
  },
  {
   "cell_type": "markdown",
   "metadata": {
    "collapsed": false,
    "id": "Zs6rHcffeAQV"
   },
   "source": [
    "## Lijngrafiek"
   ]
  },
  {
   "cell_type": "code",
   "execution_count": 34,
   "metadata": {
    "colab": {
     "base_uri": "https://localhost:8080/",
     "height": 295
    },
    "executionInfo": {
     "elapsed": 2418,
     "status": "ok",
     "timestamp": 1615217784582,
     "user": {
      "displayName": "Maarten Heylen",
      "photoUrl": "",
      "userId": "01598807576603538646"
     },
     "user_tz": -60
    },
    "id": "lrgOO8AkeAQX",
    "outputId": "e31b5ec1-cad7-4677-eb49-6459355ad4ec"
   },
   "outputs": [
    {
     "ename": "ModuleNotFoundError",
     "evalue": "No module named 'matplotlib'",
     "output_type": "error",
     "traceback": [
      "\u001B[1;31m---------------------------------------------------------------------------\u001B[0m",
      "\u001B[1;31mModuleNotFoundError\u001B[0m                       Traceback (most recent call last)",
      "Cell \u001B[1;32mIn[34], line 1\u001B[0m\n\u001B[1;32m----> 1\u001B[0m \u001B[39mimport\u001B[39;00m \u001B[39mmatplotlib\u001B[39;00m\u001B[39m.\u001B[39;00m\u001B[39mpyplot\u001B[39;00m \u001B[39mas\u001B[39;00m \u001B[39mplt\u001B[39;00m  \u001B[39m# eenmaal importeren is voldoende\u001B[39;00m\n\u001B[0;32m      3\u001B[0m fig, ax \u001B[39m=\u001B[39m plt\u001B[39m.\u001B[39msubplots()\n\u001B[0;32m      4\u001B[0m _ \u001B[39m=\u001B[39m ax\u001B[39m.\u001B[39mplot([\u001B[39m1\u001B[39m, \u001B[39m2\u001B[39m, \u001B[39m3\u001B[39m, \u001B[39m4\u001B[39m], [\u001B[39m0\u001B[39m, \u001B[39m4\u001B[39m, \u001B[39m6\u001B[39m, \u001B[39m7\u001B[39m])\n",
      "\u001B[1;31mModuleNotFoundError\u001B[0m: No module named 'matplotlib'"
     ]
    }
   ],
   "source": [
    "import matplotlib.pyplot as plt  # eenmaal importeren is voldoende\n",
    "\n",
    "fig, ax = plt.subplots()\n",
    "_ = ax.plot([1, 2, 3, 4], [0, 4, 6, 7])\n",
    "_ = ax.set_xlabel('tijd (seconden)')\n",
    "_ = ax.set_ylabel('temperatuur (Kelvin)')\n",
    "_ = ax.set_title('Temperatuurverloop')\n",
    "_ = ax.grid(linestyle='--')"
   ]
  },
  {
   "cell_type": "code",
   "execution_count": null,
   "metadata": {},
   "outputs": [],
   "source": []
  },
  {
   "cell_type": "markdown",
   "metadata": {
    "collapsed": false,
    "id": "ISaMyF1aeAQa"
   },
   "source": [
    "## Taartdiagram"
   ]
  },
  {
   "cell_type": "code",
   "execution_count": null,
   "metadata": {
    "colab": {
     "base_uri": "https://localhost:8080/",
     "height": 264
    },
    "executionInfo": {
     "elapsed": 2413,
     "status": "ok",
     "timestamp": 1615217784584,
     "user": {
      "displayName": "Maarten Heylen",
      "photoUrl": "",
      "userId": "01598807576603538646"
     },
     "user_tz": -60
    },
    "id": "FyHqftveeAQb",
    "outputId": "4883f9bd-ebc8-44d6-a82d-ff5f501e2ad7",
    "pycharm": {
     "name": "#%%\n"
    }
   },
   "outputs": [
    {
     "data": {
      "image/png": "[encoded data removed]",
      "text/plain": [
       "<Figure size 432x288 with 1 Axes>"
      ]
     },
     "metadata": {
      "tags": []
     },
     "output_type": "display_data"
    }
   ],
   "source": [
    "import matplotlib.pyplot as plt  # eenmaal importeren is voldoende\n",
    "import numpy as np\n",
    "\n",
    "x = laptops.RAM.value_counts().sort_index()\n",
    "labels = ['1GB', '2GB', '4GB', '8GB', '16GB']\n",
    "explode = np.full(len(labels), 0.05)\n",
    "\n",
    "fig, ax = plt.subplots()\n",
    "_ = ax.pie(x, labels=labels, explode=explode, shadow=True)\n",
    "_ = ax.set_title('RAM in laptops')"
   ]
  },
  {
   "cell_type": "markdown",
   "metadata": {
    "collapsed": false,
    "id": "744U7t6weAQc"
   },
   "source": [
    "## Staafdiagrammen en histogrammen"
   ]
  },
  {
   "cell_type": "markdown",
   "metadata": {
    "collapsed": false,
    "id": "_ObnWGGUeAQd"
   },
   "source": [
    "### Staafdiagram"
   ]
  },
  {
   "cell_type": "code",
   "execution_count": null,
   "metadata": {
    "colab": {
     "base_uri": "https://localhost:8080/"
    },
    "executionInfo": {
     "elapsed": 2828,
     "status": "ok",
     "timestamp": 1615217785004,
     "user": {
      "displayName": "Maarten Heylen",
      "photoUrl": "",
      "userId": "01598807576603538646"
     },
     "user_tz": -60
    },
    "id": "ub7ODkW5eAQd",
    "outputId": "b4ac5710-e8c2-44fa-f40a-fedc1098d2ae",
    "pycharm": {
     "name": "#%%\n"
    }
   },
   "outputs": [
    {
     "data": {
      "image/png": "[encoded data removed]",
      "text/plain": [
       "<Figure size 720x360 with 1 Axes>"
      ]
     },
     "metadata": {
      "needs_background": "light",
      "tags": []
     },
     "output_type": "display_data"
    }
   ],
   "source": [
    "import matplotlib.pyplot as plt  # eenmaal importeren is voldoende\n",
    "\n",
    "x = laptops.RAM.value_counts().sort_index()\n",
    "labels = ['1GB', '2GB', '4GB', '8GB', '16GB']\n",
    "\n",
    "fig, ax = plt.subplots(figsize=(10, 5))\n",
    "\n",
    "_ = ax.bar(x=labels, height=x, color='green')\n",
    "_ = ax.set_title('RAM in laptops')\n",
    "_ = ax.set_xlabel('RAM geheugen (Gb)')\n",
    "_ = ax.set_ylabel('Aantal')"
   ]
  },
  {
   "cell_type": "markdown",
   "metadata": {
    "collapsed": false,
    "id": "ZpGCXK9heAQf",
    "pycharm": {
     "name": "#%% md\n"
    }
   },
   "source": [
    "### Histogrammen"
   ]
  },
  {
   "cell_type": "markdown",
   "metadata": {
    "id": "Ad0BFdkcPAw-"
   },
   "source": [
    "Klassen automatisch laten berekenen"
   ]
  },
  {
   "cell_type": "code",
   "execution_count": null,
   "metadata": {
    "colab": {
     "base_uri": "https://localhost:8080/"
    },
    "executionInfo": {
     "elapsed": 2826,
     "status": "ok",
     "timestamp": 1615217785006,
     "user": {
      "displayName": "Maarten Heylen",
      "photoUrl": "",
      "userId": "01598807576603538646"
     },
     "user_tz": -60
    },
    "id": "QL0RV_SXO1vx",
    "outputId": "7c289fe3-33cf-4f15-dc4a-0c0023eef916"
   },
   "outputs": [
    {
     "data": {
      "image/png": "[encoded data removed]",
      "text/plain": [
       "<Figure size 432x288 with 1 Axes>"
      ]
     },
     "metadata": {
      "needs_background": "light",
      "tags": []
     },
     "output_type": "display_data"
    }
   ],
   "source": [
    "import matplotlib.pyplot as plt  # eenmaal importeren is voldoende\n",
    "\n",
    "fig, axes = plt.subplots()\n",
    "\n",
    "_ = axes.hist(laptops.diskspace, edgecolor='black', alpha=0.5, label='RAM')\n",
    "_ = axes.set_title('Schijfruimte in laptops')\n",
    "_ = axes.set_xlabel('Schijfruimte (Gb)')\n",
    "_ = axes.set_ylabel('Aantal')\n",
    "_ = axes.legend()"
   ]
  },
  {
   "cell_type": "markdown",
   "metadata": {
    "id": "YXOmfwiYPDeZ"
   },
   "source": [
    "Klassen zelf opgeven"
   ]
  },
  {
   "cell_type": "code",
   "execution_count": null,
   "metadata": {
    "colab": {
     "base_uri": "https://localhost:8080/"
    },
    "executionInfo": {
     "elapsed": 3108,
     "status": "ok",
     "timestamp": 1615217785294,
     "user": {
      "displayName": "Maarten Heylen",
      "photoUrl": "",
      "userId": "01598807576603538646"
     },
     "user_tz": -60
    },
    "id": "GP0tw9rUPFp3",
    "outputId": "93c31886-3a13-4510-f5e5-67b76c700efa"
   },
   "outputs": [
    {
     "data": {
      "image/png": "[encoded data removed]",
      "text/plain": [
       "<Figure size 432x288 with 1 Axes>"
      ]
     },
     "metadata": {
      "needs_background": "light",
      "tags": []
     },
     "output_type": "display_data"
    }
   ],
   "source": [
    "fig, axes = plt.subplots()\n",
    "cutpoints = [0, 185, 375, 750, 1100]\n",
    "\n",
    "_ = axes.hist(laptops.diskspace, bins=cutpoints, edgecolor='black', alpha=0.5, label='RAM')\n",
    "_ = axes.set_title('Schijfruimte in laptops met cutpoints')\n",
    "_ = axes.set_xlabel('Schijfruimte (Gb)')\n",
    "_ = axes.set_ylabel('Aantal')\n",
    "_ = axes.legend()"
   ]
  },
  {
   "cell_type": "markdown",
   "metadata": {
    "collapsed": false,
    "id": "aVI9ppTPeAQj"
   },
   "source": [
    "Histogrammen vertrekkende van Pandas (gebruikt Matplotlib achter de schermen)"
   ]
  },
  {
   "cell_type": "markdown",
   "metadata": {
    "id": "wVKkUgPbRsXj"
   },
   "source": []
  },
  {
   "cell_type": "code",
   "execution_count": null,
   "metadata": {
    "colab": {
     "base_uri": "https://localhost:8080/"
    },
    "executionInfo": {
     "elapsed": 3106,
     "status": "ok",
     "timestamp": 1615217785297,
     "user": {
      "displayName": "Maarten Heylen",
      "photoUrl": "",
      "userId": "01598807576603538646"
     },
     "user_tz": -60
    },
    "id": "hcmSUBFLeAQj",
    "outputId": "48a3412f-10b4-46e0-fe54-c481cd46162f",
    "pycharm": {
     "name": "#%%\n"
    }
   },
   "outputs": [
    {
     "data": {
      "image/png": "[encoded data removed]",
      "text/plain": [
       "<Figure size 432x288 with 1 Axes>"
      ]
     },
     "metadata": {
      "needs_background": "light",
      "tags": []
     },
     "output_type": "display_data"
    }
   ],
   "source": [
    "_ = laptops.diskspace.plot.hist(bins=cutpoints, edgecolor='black', alpha=0.5)\n"
   ]
  },
  {
   "cell_type": "markdown",
   "metadata": {
    "collapsed": false,
    "id": "V47a6vPNeAQk"
   },
   "source": [
    "Histogrammen vertrekkende van Pandas in Matplotlib"
   ]
  },
  {
   "cell_type": "code",
   "execution_count": null,
   "metadata": {
    "colab": {
     "base_uri": "https://localhost:8080/"
    },
    "executionInfo": {
     "elapsed": 3465,
     "status": "ok",
     "timestamp": 1615217785660,
     "user": {
      "displayName": "Maarten Heylen",
      "photoUrl": "",
      "userId": "01598807576603538646"
     },
     "user_tz": -60
    },
    "id": "gYPerM70eAQl",
    "outputId": "fead239b-d6d0-47e9-ecbd-5dbeb71ff35c",
    "pycharm": {
     "name": "#%%\n"
    }
   },
   "outputs": [
    {
     "data": {
      "image/png": "[encoded data removed]",
      "text/plain": [
       "<Figure size 360x216 with 1 Axes>"
      ]
     },
     "metadata": {
      "needs_background": "light",
      "tags": []
     },
     "output_type": "display_data"
    }
   ],
   "source": [
    "fig, ax = plt.subplots(figsize=(5, 3))\n",
    "_ = laptops.diskspace.plot.hist(bins=cutpoints, edgecolor='black', alpha=0.5, ax=ax)\n",
    "_ = ax.grid(linestyle='--', axis='y')\n"
   ]
  },
  {
   "cell_type": "markdown",
   "metadata": {
    "collapsed": false,
    "id": "reynKJlSeAQg",
    "pycharm": {
     "name": "#%% md\n"
    }
   },
   "source": [
    "## Demonstratie van meerdere subplots in één figure"
   ]
  },
  {
   "cell_type": "code",
   "execution_count": null,
   "metadata": {
    "colab": {
     "base_uri": "https://localhost:8080/",
     "height": 730
    },
    "executionInfo": {
     "elapsed": 4195,
     "status": "ok",
     "timestamp": 1615217786403,
     "user": {
      "displayName": "Maarten Heylen",
      "photoUrl": "",
      "userId": "01598807576603538646"
     },
     "user_tz": -60
    },
    "id": "JdCCvAEbeAQi",
    "outputId": "4e6bd864-46e5-4212-df82-9a8e08c4e899",
    "pycharm": {
     "name": "#%%\n"
    }
   },
   "outputs": [
    {
     "data": {
      "image/png": "[encoded data removed]",
      "text/plain": [
       "<Figure size 1080x360 with 2 Axes>"
      ]
     },
     "metadata": {
      "needs_background": "light",
      "tags": []
     },
     "output_type": "display_data"
    }
   ],
   "source": [
    "import matplotlib.pyplot as plt  # eenmaal importeren is voldoende\n",
    "\n",
    "# hier maken we twee grafieken in één plot (2 rijen en 1 kolommen).\n",
    "# axes is dan een array, maar dit kan ook een 2D-matrix zijn, bv. bij 2x3\n",
    "\n",
    "fig, axes = plt.subplots(1, 2, figsize=(15, 5))\n",
    "\n",
    "_ = axes[0].hist(laptops.diskspace, edgecolor='black', alpha=0.5, label='RAM')\n",
    "_ = axes[0].set_title('Schijfruimte in laptops')\n",
    "_ = axes[0].set_xlabel('Schijfruimte (Gb)')\n",
    "_ = axes[0].set_ylabel('Aantal')\n",
    "_ = axes[0].legend()\n",
    "\n",
    "cutpoints = [0, 185, 375, 750, 1100]\n",
    "\n",
    "_ = axes[1].hist(laptops.diskspace, bins=cutpoints, edgecolor='black', alpha=0.5, label='RAM')\n",
    "_ = axes[1].set_title('Schijfruimte in laptops met cutpoints')\n",
    "_ = axes[1].set_xlabel('Schijfruimte (Gb)')\n",
    "_ = axes[1].set_ylabel('Aantal')\n",
    "_ = axes[1].legend()"
   ]
  },
  {
   "cell_type": "markdown",
   "metadata": {
    "collapsed": false,
    "id": "gooYbEz9oq3G",
    "pycharm": {
     "name": "#%% md\n"
    }
   },
   "source": [
    "## Extra's\n",
    "\n",
    "<font color='red'>*Volgende grafieken zijn er louter informatief. Je mag ze altijd een keertje testen of gebruiken in een oefening. Sommige worden wel vaak gebruikt binnen Data Science toepassing en zijn bovendien zeer leerrijk*</font>"
   ]
  },
  {
   "cell_type": "markdown",
   "metadata": {
    "collapsed": false,
    "id": "TLjH-_7Voq3G"
   },
   "source": [
    "### Spiderplot"
   ]
  },
  {
   "cell_type": "code",
   "execution_count": null,
   "metadata": {
    "id": "JcIi6-gooq3G",
    "pycharm": {
     "name": "#%%\n"
    }
   },
   "outputs": [],
   "source": [
    "import math\n",
    "\n",
    "brand_percentages = laptops.brand.value_counts() / laptops.brand.value_counts().max()\n",
    "RAM_percentages = laptops.groupby(by='brand')['RAM'].mean() / laptops.groupby(by='brand')['RAM'].mean().max()\n",
    "\n",
    "categories = brand_percentages.index\n",
    "brand_values = brand_percentages.to_list()\n",
    "diskspace_values = RAM_percentages.to_list()\n",
    "\n",
    "N = len(categories)\n",
    "M = max(brand_values)\n",
    "# hoeken berekenen waaronder de spaken zullen staan\n",
    "angles = [n / float(N) * 2 * math.pi for n in range(N)]"
   ]
  },
  {
   "cell_type": "code",
   "execution_count": null,
   "metadata": {
    "id": "EXqQUhuuoq3G",
    "outputId": "3086f912-4985-4af1-85a4-ed3174393aa3",
    "pycharm": {
     "name": "#%%\n"
    }
   },
   "outputs": [
    {
     "data": {
      "image/png": "[encoded data removed]",
      "text/plain": [
       "<Figure size 504x504 with 1 Axes>"
      ]
     },
     "metadata": {
      "needs_background": "light",
      "tags": []
     },
     "output_type": "display_data"
    }
   ],
   "source": [
    "fig, ax = plt.subplots(figsize=(7, 7), subplot_kw={'projection': 'polar'})\n",
    "\n",
    "# spakenwiel maken\n",
    "_ = ax.set_rticks(angles)\n",
    "_ = ax.set_rlabel_position(0)\n",
    "_ = ax.set_xticks(angles)\n",
    "_ = ax.set_xticklabels(categories, size=8)\n",
    "_ = ax.set_yticks([n / 4 * M for n in range(4)])\n",
    "_ = ax.set_ylim(0, M)\n",
    "\n",
    "# radars tekenen.\n",
    "# om de plot te sluiten moeten, voegen we beginwaarden toe aan het einde.\n",
    "_ = ax.plot(angles + angles[:1], diskspace_values + diskspace_values[:1], linewidth=1.5, linestyle='solid')\n",
    "_ = ax.fill(angles, diskspace_values, color='blue', alpha=0.1, label='RAM')\n",
    "_ = ax.plot(angles + angles[:1], brand_values + brand_values[:1], color='black', linewidth=1.5, linestyle='solid')\n",
    "_ = ax.fill(angles, brand_values, color='red', alpha=0.5, label='brand')\n",
    "_ = ax.legend()"
   ]
  },
  {
   "cell_type": "markdown",
   "metadata": {
    "collapsed": false,
    "id": "cD7ArvVsoq3H"
   },
   "source": [
    "### Treemap"
   ]
  },
  {
   "cell_type": "code",
   "execution_count": null,
   "metadata": {
    "id": "fsGW0J7eoq3K",
    "outputId": "4fdb7c45-d7c1-40d0-843c-f39244eacb9b",
    "pycharm": {
     "name": "#%%\n"
    }
   },
   "outputs": [
    {
     "data": {
      "image/png": "[encoded data removed]",
      "text/plain": [
       "<Figure size 504x504 with 1 Axes>"
      ]
     },
     "metadata": {
      "needs_background": "light"
     },
     "output_type": "display_data"
    }
   ],
   "source": [
    "import squarify  # pip install squarify\n",
    "import matplotlib\n",
    "\n",
    "aantallen = laptops.RAM.value_counts()\n",
    "# kleurenmap maken.\n",
    "cmap = matplotlib.cm.Blues\n",
    "mini = min(aantallen)\n",
    "maxi = max(aantallen)\n",
    "norm = matplotlib.colors.Normalize(vmin=mini, vmax=maxi)\n",
    "colors = [cmap(norm(value)) for value in aantallen]\n",
    "\n",
    "labels = ['{}Gb\\n{}'.format(label, count) for label, count in zip(aantallen.index, aantallen)]\n",
    "\n",
    "fig, ax = plt.subplots(figsize=(7, 7))\n",
    "_ = squarify.plot(sizes=aantallen, alpha=0.8, edgecolor='white', color=colors, label=labels, ax=ax)\n",
    "_ = ax.axis('off')"
   ]
  },
  {
   "cell_type": "markdown",
   "metadata": {
    "collapsed": false,
    "id": "w-dKSuQHoq3L",
    "pycharm": {
     "name": "#%% md\n"
    }
   },
   "source": [
    "### Word Cloud"
   ]
  },
  {
   "cell_type": "code",
   "execution_count": null,
   "metadata": {
    "id": "Yum7DZdboq3L",
    "outputId": "f48774e6-5b1c-4680-8f26-e2cadb4a0f4e",
    "pycharm": {
     "name": "#%%\n"
    }
   },
   "outputs": [
    {
     "data": {
      "image/png": "[encoded data removed]",
      "text/plain": [
       "<Figure size 432x288 with 1 Axes>"
      ]
     },
     "metadata": {
      "needs_background": "light"
     },
     "output_type": "display_data"
    }
   ],
   "source": [
    "import wordcloud as wc\n",
    "\n",
    "tekst = '''\n",
    "Imagine there's no heaven\n",
    "It's easy if you try\n",
    "No hell below us\n",
    "Above us only sky\n",
    "Imagine all the people living for today\n",
    "Imagine there's no countries\n",
    "It isn't hard to do\n",
    "Nothing to kill or die for\n",
    "And no religion too\n",
    "Imagine all the people living life in peace, you\n",
    "You may say I'm a dreamer\n",
    "But I'm not the only one\n",
    "I hope some day you'll join us\n",
    "And the world will be as one\n",
    "Imagine no possessions\n",
    "I wonder if you can\n",
    "No need for greed or hunger\n",
    "A brotherhood of man\n",
    "Imagine all the people sharing all the world, you\n",
    "You may say I'm a dreamer\n",
    "But I'm not the only one\n",
    "I hope some day you'll join us\n",
    "And the world will be as one\n",
    "'''\n",
    "cloud = wc.WordCloud(max_font_size=70, max_words=20, background_color='white').generate(tekst)\n",
    "fig, ax = plt.subplots()\n",
    "_ = ax.imshow(cloud, interpolation='bilinear')\n",
    "_ = ax.axis('off')\n"
   ]
  }
 ],
 "metadata": {
  "colab": {
   "name": "W4 - Frequenties en Grafieken - slides.ipynb",
   "provenance": []
  },
  "kernelspec": {
   "display_name": "Python 3",
   "language": "python",
   "name": "python3"
  },
  "language_info": {
   "codemirror_mode": {
    "name": "ipython",
    "version": 3
   },
   "file_extension": ".py",
   "mimetype": "text/x-python",
   "name": "python",
   "nbconvert_exporter": "python",
   "pygments_lexer": "ipython3",
   "version": "3.11.2"
  }
 },
 "nbformat": 4,
 "nbformat_minor": 0
}
