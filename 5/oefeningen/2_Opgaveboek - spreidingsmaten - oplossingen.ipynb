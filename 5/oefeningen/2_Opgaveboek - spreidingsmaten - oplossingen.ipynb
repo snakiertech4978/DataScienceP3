{
 "nbformat": 4,
 "nbformat_minor": 0,
 "metadata": {
  "kernelspec": {
   "display_name": "Python 3",
   "language": "python",
   "name": "python3"
  },
  "language_info": {
   "codemirror_mode": {
    "name": "ipython",
    "version": 3
   },
   "file_extension": ".py",
   "mimetype": "text/x-python",
   "name": "python",
   "nbconvert_exporter": "python",
   "pygments_lexer": "ipython3",
   "version": "3.7.4"
  },
  "colab": {
   "name": "2_Opgaveboek - spreidingsmaten - oplossingen.ipynb",
   "provenance": [],
   "collapsed_sections": []
  }
 },
 "cells": [
  {
   "cell_type": "markdown",
   "metadata": {
    "id": "0F-YcBgV62mD"
   },
   "source": [
    "Setup"
   ]
  },
  {
   "cell_type": "code",
   "metadata": {
    "colab": {
     "base_uri": "https://localhost:8080/"
    },
    "id": "Cc1xCEATUgBU",
    "executionInfo": {
     "status": "ok",
     "timestamp": 1616511286853,
     "user_tz": -60,
     "elapsed": 157310,
     "user": {
      "displayName": "Rony Baekeland",
      "photoUrl": "",
      "userId": "01731985152349302060"
     }
    },
    "outputId": "1258e805-3a75-4af9-ac0c-0daf4d4aa533",
    "pycharm": {
     "name": "#%% #keep\n"
    }
   },
   "source": [
    "import numpy as np\n",
    "import pandas as pd\n",
    "from IPython.core.interactiveshell import InteractiveShell\n",
    "\n",
    "InteractiveShell.ast_node_interactivity = \"all\""
   ],
   "execution_count": 1,
   "outputs": []
  },
  {
   "cell_type": "markdown",
   "metadata": {
    "id": "LZnY8F-IFfYZ"
   },
   "source": [
    "## Spreidingsmaten\n",
    "\n",
    "### Redeneervragen"
   ]
  },
  {
   "cell_type": "markdown",
   "source": [
    "#### Vraag 1\n",
    "\n",
    "Bij de test over centrummaten werden volgende resultaten in de frequentietabel genoteerd:\n",
    "\n",
    "| score | 17  | 18  | 19  | 20  | 21  | 22  | 23  | 24  |\n",
    "|-------|-----|-----|-----|-----|-----|-----|-----|-----|\n",
    "| f     | 5   | 6   | 17  | 23  | 32  | 10  | 10  | 7   |"
   ],
   "metadata": {
    "collapsed": false
   }
  },
  {
   "cell_type": "markdown",
   "source": [
    "- Zet de frequentietabel om naar de originele gegevens m.b.v. Numpy en een Pandas Series."
   ],
   "metadata": {
    "collapsed": false
   }
  },
  {
   "cell_type": "code",
   "execution_count": 2,
   "outputs": [],
   "source": [
    "# originele data herstellen\n",
    "data = pd.Series(np.repeat(range(17, 25), [5, 6, 17, 23, 32, 10, 10, 7]))"
   ],
   "metadata": {
    "collapsed": false
   }
  },
  {
   "cell_type": "markdown",
   "source": [
    "- Wat is het bereik van deze test?"
   ],
   "metadata": {
    "collapsed": false
   }
  },
  {
   "cell_type": "code",
   "source": [
    "bereik = data.max() - data.min()\n",
    "bereik"
   ],
   "metadata": {
    "collapsed": false
   },
   "execution_count": 3,
   "outputs": [
    {
     "data": {
      "text/plain": "7"
     },
     "execution_count": 3,
     "metadata": {},
     "output_type": "execute_result"
    }
   ]
  },
  {
   "cell_type": "markdown",
   "source": [
    "- Wat is de waarde van de interkwartielafstand?"
   ],
   "metadata": {
    "collapsed": false
   }
  },
  {
   "cell_type": "code",
   "source": [
    "iqr = data.quantile([0.25, 0.75]).diff()\n",
    "iqr"
   ],
   "metadata": {
    "collapsed": false
   },
   "execution_count": 4,
   "outputs": [
    {
     "data": {
      "text/plain": "0.25     NaN\n0.75    1.75\ndtype: float64"
     },
     "execution_count": 4,
     "metadata": {},
     "output_type": "execute_result"
    }
   ]
  },
  {
   "cell_type": "markdown",
   "source": [
    "- Wat betekent deze interkwartielafstand?"
   ],
   "metadata": {
    "collapsed": false
   }
  },
  {
   "cell_type": "code",
   "source": [
    "# als je de 25% laagste waarden en de 25% hoogste waarden weg laat, dan is het bereik gelijk aan 1,75"
   ],
   "metadata": {
    "collapsed": false
   },
   "execution_count": 17,
   "outputs": []
  },
  {
   "cell_type": "markdown",
   "source": [
    "- Teken een boxplot"
   ],
   "metadata": {
    "collapsed": false
   }
  },
  {
   "cell_type": "code",
   "execution_count": 5,
   "outputs": [
    {
     "data": {
      "text/plain": "<Figure size 640x480 with 1 Axes>",
      "image/png": "[encoded data removed]"
     },
     "metadata": {},
     "output_type": "display_data"
    }
   ],
   "source": [
    "# boxplot\n",
    "import matplotlib.pyplot as plt\n",
    "\n",
    "fig, ax = plt.subplots()\n",
    "_ = ax.boxplot(data)"
   ],
   "metadata": {
    "collapsed": false
   }
  },
  {
   "cell_type": "markdown",
   "source": [
    "- Wat is er speciaal aan deze boxplot?  Hoe komt dit?"
   ],
   "metadata": {
    "collapsed": false
   }
  },
  {
   "cell_type": "code",
   "execution_count": 6,
   "outputs": [
    {
     "data": {
      "text/plain": "21.0"
     },
     "execution_count": 6,
     "metadata": {},
     "output_type": "execute_result"
    },
    {
     "data": {
      "text/plain": "21.0"
     },
     "execution_count": 6,
     "metadata": {},
     "output_type": "execute_result"
    }
   ],
   "source": [
    "# Speciaal: we zien dat de Mediaan en Q3 samenvallen, dus we zien geen middenstreep\n",
    "# we zien dat de whiskers 17 en 23 zijn i.p.v. 16,625 en 23,625 omdat de whisker de waarneming is die respectievelijk groter en kleiner is dan deze grenswaarden\n",
    "\n",
    "data.quantile(0.75)\n",
    "data.median()\n"
   ],
   "metadata": {
    "collapsed": false
   }
  },
  {
   "cell_type": "markdown",
   "source": [
    "- Wat is de standaardafwijking (4 beduidende cijfers, gebruik de `signif` functie uit `hulpfuncties.py`)?"
   ],
   "metadata": {
    "collapsed": false
   }
  },
  {
   "cell_type": "code",
   "metadata": {
    "id": "3_GNlnZcF9Jx",
    "colab": {
     "base_uri": "https://localhost:8080/",
     "height": 567
    },
    "executionInfo": {
     "status": "ok",
     "timestamp": 1616515746014,
     "user_tz": -60,
     "elapsed": 1059,
     "user": {
      "displayName": "Rony Baekeland",
      "photoUrl": "",
      "userId": "01731985152349302060"
     }
    },
    "outputId": "dab2bfa6-7436-42fe-88cf-1871ed041e09"
   },
   "source": [
    "from hulpfuncties import *\n",
    "\n",
    "signif(data.std(), 4)"
   ],
   "execution_count": 7,
   "outputs": [
    {
     "data": {
      "text/plain": "1.714"
     },
     "execution_count": 7,
     "metadata": {},
     "output_type": "execute_result"
    }
   ]
  },
  {
   "cell_type": "markdown",
   "metadata": {
    "id": "aP9F365jFfYn"
   },
   "source": [
    "#### Vraag 2\n",
    "\n",
    "Uit een studenten enquete halen we:\n",
    "\n",
    "|'vrije tijdsbesteding' |Gamen|Jeugdbeweging|Internet, Sociale Media|Film en TV series|Muziek|Sport|Lezen|Andere|Dansen|\n",
    "|------|---|---|---|---|---|---|---|---|---|\n",
    "|frequentie                                |25    |7            |5                       |7               |10     |23|1|5|1\n",
    "\n",
    "\n",
    "|'belangrijkheid om informaticus te worden' |extreem|zeer groot|groot|matig|\n",
    "|------|---|---|---|---|\n",
    "|frequentie  |17|  25|44 |11   |"
   ]
  },
  {
   "cell_type": "markdown",
   "source": [
    "Op welke meetschaal zijn de deze gegevens gemeten?"
   ],
   "metadata": {
    "collapsed": false
   }
  },
  {
   "cell_type": "code",
   "execution_count": 21,
   "outputs": [],
   "source": [
    "# nominaal\n",
    "# ordinaal"
   ],
   "metadata": {
    "collapsed": false
   }
  },
  {
   "cell_type": "markdown",
   "source": [
    "Zet deze gegevens eerst om naar twee Pandas Categoricals. Hou rekening met de meetschaal."
   ],
   "metadata": {
    "collapsed": false
   }
  },
  {
   "cell_type": "code",
   "execution_count": 9,
   "outputs": [],
   "source": [
    "data = np.repeat(\n",
    "    ['Gamen', 'Jeugdbeweging', 'Internet/Social Media', 'Film en TV-series', 'Muziek', 'Sport', 'Lezen', 'Andere',\n",
    "     'Dansen'],\n",
    "    [25, 7, 5, 5, 10, 23, 1, 5, 1])\n",
    "\n",
    "vrije_tijd = pd.Categorical(data, categories=['Gamen', 'Jeugdbeweging', 'Internet/Social Media', 'Film en TV-series',\n",
    "                                              'Muziek', 'Sport', 'Lezen', 'Andere', 'Dansen'])\n",
    "\n",
    "data = np.repeat(\n",
    "    ['extreem', 'zeer groot', 'groot', 'matig'],\n",
    "    [17, 25, 44, 11])\n",
    "\n",
    "informaticus = pd.Categorical(data, categories=['matig', 'groot', 'zeer groot', 'extreem'], ordered=True)"
   ],
   "metadata": {
    "collapsed": false
   }
  },
  {
   "cell_type": "markdown",
   "source": [
    "Welke van de volgende waarden kun je berekenen (leg uit) voor de variabele 'vrije tijdsbesteding' en voor de variabele 'belangrijkheid om informaticus te worden' wat is hun waarde?\n",
    "\n",
    "- Gemiddelde\n",
    "- Standaardafwijking\n",
    "- Mediaan\n",
    "- Interkwantielafstand\n",
    "- Bereik\n",
    "- Modus"
   ],
   "metadata": {
    "collapsed": false
   }
  },
  {
   "cell_type": "code",
   "metadata": {
    "id": "jS7g_1HmFfYo"
   },
   "source": [
    "# hier komt jouw oplossing\n",
    "# - Gemiddelde: NEE\n",
    "# - Standaardafwijking: NEE\n",
    "# - Mediaan:\n",
    "#       vrije_tijd: NEE\n",
    "#       informaticus: JA\n",
    "\n",
    "median(informaticus)\n",
    "\n",
    "# - Interkwantielafstand:\n",
    "#       vrije_tijd: NEE\n",
    "#       informaticus: JA, maar eigenlijk is dit niet echt correct, want de categorieën gelijkstellen aan getallen is fout.\n",
    "#                     De IQR moeten in dat geval ook anders bekijken dan voor intervalvariabelen waarvoor Q3-Q1=1, want het\n",
    "#                     heeft hier geen echte betekenis. Eerder kunnen we zeggen IQR=['groot','zeer groot'] (van 'groot' tot 'zeer groot')\n",
    "\n",
    "# Ter illustratie hoe het toch zou kunnen in Python.\n",
    "Q = pd.Series(informaticus.codes).quantile([0.25, 0.75]).astype(int)\n",
    "informaticus.categories[Q[0.25]]\n",
    "informaticus.categories[Q[0.75]]\n",
    "\n",
    "# - Bereik:\n",
    "# - Modus: JA\n",
    "vrije_tijd.value_counts().mode()\n",
    "informaticus.value_counts().mode()"
   ],
   "execution_count": 14,
   "outputs": [
    {
     "data": {
      "text/plain": "'groot'"
     },
     "execution_count": 14,
     "metadata": {},
     "output_type": "execute_result"
    },
    {
     "data": {
      "text/plain": "'groot'"
     },
     "execution_count": 14,
     "metadata": {},
     "output_type": "execute_result"
    },
    {
     "data": {
      "text/plain": "'zeer groot'"
     },
     "execution_count": 14,
     "metadata": {},
     "output_type": "execute_result"
    },
    {
     "data": {
      "text/plain": "0    5\ndtype: int64"
     },
     "execution_count": 14,
     "metadata": {},
     "output_type": "execute_result"
    },
    {
     "data": {
      "text/plain": "0    11\n1    17\n2    25\n3    44\ndtype: int64"
     },
     "execution_count": 14,
     "metadata": {},
     "output_type": "execute_result"
    }
   ]
  },
  {
   "cell_type": "code",
   "execution_count": null,
   "outputs": [],
   "source": [
    "# gemiddelde 7 en standaardafwijking 2,3 als een 6 een 5 moet worden dan zal het gemiddelde dalen, dit heeft dan een impact op alle waarden\n",
    "# men kan via lange analyse aantonen dat nieuwe standaardafwijking groter zal zijn\n",
    "# HINT vervang de laatste waarde x_n=6 door 5. Toon aan dat nieuwe gemiddelde gelijk is aan 7n-1/n, \n",
    "# want som van alle waarnemingen is n7 en we hebben van 1 waarneming een waarde die 1 kleiner is dus is nu de som van alle waarnemingen 7n-1\n",
    "# gemiddelde is dus (7n-1)/n\n",
    "# HINT gebruik var(x)= 1/n𝞢x_i^2 - gemiddelde^2 hieruit kan men afleiden dat \n",
    "# var_nieuw-var_oud=(3n-1)/n^2 dit is steeds positief voor n>1 dus is standaardafwijking ook groter dan 2.3\n",
    "# OPMERKING het gegeven std=2.3 heeft men eigenlijk niet nodig!"
   ],
   "metadata": {
    "collapsed": false
   }
  },
  {
   "cell_type": "markdown",
   "metadata": {
    "id": "JA-e37JKFfYw"
   },
   "source": [
    "#### Vraag 3\n",
    "\n",
    "Van een variabele (X) is het gemiddelde 20, de mediaan 18, de variantie 6 en de interkwartielafstand 4. Bij alle scores wordt 10 opgeteld.\n",
    "\n",
    "Wat is het nieuwe gemiddelde?\n",
    "Wat is de nieuwe mediaan?\n",
    "Wat is de nieuwe variantie?\n",
    "Wat is de nieuwe interkwartielafstand?"
   ]
  },
  {
   "cell_type": "markdown",
   "source": [
    "$M_1 = \\frac{1}{n}\\sum{x_i}$\n",
    "\n",
    "$M_2 = \\frac{1}{n}\\sum{x_i + 10} = \\frac{1}{n} (10 \\cdot n + \\sum {x_i}) = 10 + \\frac{1}{n}\\sum{x_i} = 10 + M_1$\n",
    "\n",
    "De mediaan sorteert al getallen van klein naar groot en neemt dan de middelste waarde. Wanneer al deze waarden verhoogd worden met 10 zal ook de mediaan verhoogd worden met 10: $Me_2 = 10 + Me_1$. Idem voor de modus: $Mo_2 = 10 + Mo_1$\n",
    "\n",
    "De variantie verandert niet, want het verschil tussen elke nieuwe $x_i$ en het nieuwe gemiddelde $M_2$ is niet veranderd. Beide zijn verhoogd met 10, maar het verschil ertussen dus niet, en ook het kwadraat daarvan niet.\n",
    "\n",
    "De IQR verandert niet, want de kwartielen zijn beide verhoogd met 10 maar het **verschil** ertussen blijft hetzelfde."
   ],
   "metadata": {
    "collapsed": false
   }
  },
  {
   "cell_type": "markdown",
   "metadata": {
    "id": "FQrTXIRiFfYy"
   },
   "source": [
    "#### Vraag 4\n",
    "\n",
    "Van een frequentieverdeling worden alle scores door 4 gedeeld. Wat weten we van de standaardafwijking van deze nieuwe scores?\n",
    "\n",
    "- gelijk aan die van de oorspronkelijke score\n",
    "- 2x zo klein als die van de oorspronkelijke score\n",
    "- 4x zo klein als die van de oorspronkelijke score\n",
    "- 16x zo klein als die van de oorspronkelijke score\n"
   ]
  },
  {
   "cell_type": "markdown",
   "metadata": {
    "id": "--yK3N-zFfYz"
   },
   "source": [
    "4x zo klein als die van de oorspronkelijke score, want\n",
    "\n",
    "$M_2 = \\frac{1}{n}\\sum{\\frac{x_i}{4}} = \\frac{1}{4} \\cdot \\frac{1}{n}\\sum{x_i} = \\frac{1}{4} \\cdot M_1$\n",
    "\n",
    "$var_1 = \\frac{1}{n}\\sum{(x_i - M_1)^2}$ en\n",
    "\n",
    "$var_2 = \\frac{1}{n}\\sum{(\\frac{x_i}{4} - \\frac{M_1}{4})^2} = \\frac{1}{n}\\sum{\\frac{1}{16}(x_1 - M_1)^2} = \\frac{1}{16} \\cdot var_1$\n",
    "\n",
    "$std_2 = \\sqrt{\\frac{1}{16} \\cdot var_1} = \\frac{1}{4} \\cdot std_1$"
   ]
  },
  {
   "cell_type": "markdown",
   "metadata": {
    "id": "DDZjY0CtFfY0"
   },
   "source": [
    "#### Vraag 5\n",
    "\n",
    "De gemiddelde leeftijd van deze klas is 20 met een standaardafwijking van 2. Binnen 20 jaar is er een reunie.  Iedereen leeft nog en is aanwezig.\n",
    "Hoe groot is het gemiddelde en de standaardafwijking over 20 jaar?\n",
    "\n",
    "* 40 en 2 jaar\n",
    "* 40 en 4 jaar\n",
    "* 40 en 1 jaar\n",
    "* niet te bepalen, er zijn te weinig gegevens"
   ]
  },
  {
   "cell_type": "code",
   "metadata": {
    "id": "I_bqPMv2FfY0"
   },
   "source": [
    "# 40 en 2 jaar, want het gemiddelde is + 20 gedaan, maar de onderlinge afstanden tussen de leeftijden is niet veranderd."
   ],
   "execution_count": 25,
   "outputs": []
  },
  {
   "cell_type": "markdown",
   "metadata": {
    "id": "thg-ElohFfY3"
   },
   "source": [
    "#### Vraag 6\n",
    "\n",
    "De verdeling van scores heeft een gemiddelde van 8 met een standaarddeviatie van 2. We willen de scores zodanig transformeren dat het gemiddelde gelijk wordt aan 10 en de standaarddeviatie gelijk aan 4. Wat moeten we dan met alle scores doen?\n",
    "\n",
    "* met 2 vermenigvuldigen\n",
    "* met 2 vermeerderen\n",
    "* met 2 vermenigvuldigen en dan met 2 vermeerderen\n",
    "* met 2 vermeerderen en dan 2 vermenigvuldigen\n",
    "* met 2 vermenigvuldigen en dan met 6 verminderen\n"
   ]
  },
  {
   "cell_type": "code",
   "metadata": {
    "id": "fBTOF5KVFfY3"
   },
   "source": [
    "# met 2 vermenigvuldigen en dan met 6 verminderen,\n",
    "# want x2 doen heeft impact op:\n",
    "# standaardafwijking: std2 = 2 x std1 = 4\n",
    "# gemiddelde: Me2' = 2 x Me = 16\n",
    "# MAAR gemiddelde moet 10 zijn en geen 16 dus alle getallen nog verminderen met 6 heeft alleen impact op:\n",
    "# gemiddelde: Me2 = Me2' - 6 = 10\n"
   ],
   "execution_count": 26,
   "outputs": []
  },
  {
   "cell_type": "markdown",
   "source": [
    "#### Vraag 7 (*) (wiskundig)\n",
    "\n",
    "*Deze oefening is wat moeilijker en ze kan eventueel overgeslagen worden, maar je kan natuurlijk wel altijd eens proberen.*\n",
    "\n",
    "Van een frequentieverdeling (populatie) is het gemiddelde $M$ gelijk aan 7 en de standaardafwijking gelijk aan 2.3.\n",
    "\n",
    "Er blijkt echter een invoerfout bij de scores gemaakt te zijn: één score van 6 had een 5 moeten zijn. Na herstel\n",
    "berekenen we opnieuw.\n",
    "\n",
    "- Hoe groot is dan het nieuwe gemiddelde?\n",
    "- Stel een formule op in functie van n, het aantal waarnemingen om het verschil (nieuwe variantie -  oude variantie ) te berekenen.\n",
    "\n",
    "HINT:  $var(X)=\\frac{1}{n}\\sum\\limits_{i=1}^n x_i^2 - M^2$\n",
    "\n",
    "- Wat weten we van de standaardafwijking?\n",
    "  * kleiner dan 2.3\n",
    "  * gelijk aan 2.3\n",
    "  * groter dan 2.3\n",
    "  * dit kunnen we niet weten"
   ],
   "metadata": {
    "collapsed": false
   }
  },
  {
   "cell_type": "markdown",
   "source": [
    "Stel $X_1$ is de reeks getallen met de 6 erin en $X_2$ diezelfde getallen met de 6 vervangen door een 5.\n",
    "\n",
    "Voor de correctie door gevoerd wordt, is het gemiddelde $M_1 = \\frac{1}{n}\\sum\\limits_{i=1}^{n}x_i = 7$.\n",
    "\n",
    "We weten echter dat één van deze $x_i$ een 6 is en dit een 5 had moeten zijn. We schrijven $M_1$ daarom als volgt:\n",
    "\n",
    "$M_1 = \\frac{1}{n} (6 + \\sum\\limits_{i=1}^{n-1}x_i) = 7$.\n",
    "\n",
    "Hieruit kunnen we de term $\\sum\\limits_{i=1}^{n-1}x_i$ halen als volgt:\n",
    "\n",
    "$\\frac{1}{n} (6 + \\sum\\limits_{i=1}^{n-1}x_i) = 7 \\Leftrightarrow 6 + \\sum\\limits_{i=1}^{n-1}x_i = 7 \\cdot n$\\\n",
    "$\\phantom{\\frac{1}{n} (6 + \\sum\\limits_{i=1}^{n-1}x_i) = 7}\\Leftrightarrow \\sum\\limits_{i=1}^{n-1}x_i = 7 \\cdot n - 6$\n",
    "\n",
    "Het gemiddelde $M_2$ is gelijk aan (6 vervangen door 5):\n",
    "\n",
    "$M_2 = \\frac{1}{n} (5 + \\sum\\limits_{i=1}^{n-1}x_i) = \\frac{1}{n} (5 + 7 \\cdot n - 6) $\n",
    "\n",
    "$\\phantom{M_2 = \\frac{1}{n} (5 + \\sum\\limits_{i=1}^{n-1}x_i)} = \\frac{1}{n} (7 \\cdot n - 1) $\\\n",
    "$\\phantom{M_2 = \\frac{1}{n} (5 + \\sum\\limits_{i=1}^{n-1}x_i)} = 7 - \\frac{1}{n} $\\\n",
    "$\\phantom{M_2 = \\frac{1}{n} (5 + \\sum\\limits_{i=1}^{n-1}x_i)} = M_1 - \\frac{1}{n} $\\\n",
    "We maken nu het verschil tussen de varianties:\n",
    "\n",
    "$var(X_2) - var(X_1) = \\frac{1}{n}\\sum\\limits_{i=1}^n x_i^2 - M_2^2 - (\\frac{1}{n}\\sum\\limits_{i=1}^n x_i^2 - M_1^2)$\n",
    "\n",
    "$\\phantom{var(X_2) - var(X_1)} = \\frac{1}{n}(5^2 + \\sum\\limits_{i=1}^{n-1} x_i^2) - (M_1 - \\frac{1}{n})^2 - \\frac{1}{n}(6^2 + \\sum\\limits_{i=1}^{n-1} x_i^2) + M_1^2 $\\\n",
    "$\\phantom{var(X_2) - var(X_1)} = \\frac{25}{n} - (M_1 - \\frac{1}{n})^2 - \\frac{36}{n} + M_1^2$\\\n",
    "$\\phantom{var(X_2) - var(X_1)} = \\frac{25}{n} - M_1^2 - \\frac{1}{n^2} + \\frac{2}{n} \\cdot M_1 - \\frac{36}{n} + M_1^2$\\\n",
    "$\\phantom{var(X_2) - var(X_1)} = \\frac{25}{n} - \\frac{36}{n} - \\frac{1}{n^2} + \\frac{2}{n} \\cdot 7 $\\\n",
    "$\\phantom{var(X_2) - var(X_1)} = \\frac{3}{n} - \\frac{1}{n^2} = \\frac{3 \\cdot n - 1}{n^2}$\\\n",
    "Voor alle $n > 1$ is deze breuk positief, en is dus de variantie van $X2$ groter dan die van $X1$ en dus is standaardafwijking ook groter dan 2.3\n"
   ],
   "metadata": {
    "collapsed": false
   }
  },
  {
   "cell_type": "markdown",
   "metadata": {
    "id": "q3xfn7psFfY4"
   },
   "source": [
    "#### Vraag 8\n",
    "\n",
    "Laad het bestand “UofS_access_log” in terug in (zie oefeningen over frequenties).  "
   ]
  },
  {
   "cell_type": "code",
   "metadata": {
    "id": "6ChhpXIez9Py",
    "pycharm": {
     "is_executing": true
    }
   },
   "source": [
    "import pandas as pd\n",
    "\n",
    "web = pd.read_csv('../datasets/UofS_access_log', header=None, sep=\" \", on_bad_lines='skip', encoding='latin')\n",
    "timestamp = pd.Series(pd.to_datetime(web[[3, 4]].apply(''.join, axis=1), format='[%d/%b/%Y:%H:%M:%S%z]'),\n",
    "                      name='timestamp')\n",
    "web = web.drop(columns=[1, 2, 3, 4])\n",
    "web.columns = ['domain', 'request', 'response_code', 'response_length']\n",
    "web['timestamp'] = timestamp\n",
    "del timestamp\n",
    "web.response_length = pd.to_numeric(web.response_length, errors='coerce')\n",
    "\n",
    "web.head()\n",
    "web.info()"
   ],
   "execution_count": null,
   "outputs": []
  },
  {
   "cell_type": "markdown",
   "metadata": {
    "collapsed": false,
    "id": "_Tiom8QGz9P2"
   },
   "source": [
    "a. Maak een histogram van het aantal bytes die er verstuurd zijn, met een klassebreedte van 1000 bytes.  Wat zie je?  Hoe komt dit?"
   ]
  },
  {
   "cell_type": "code",
   "metadata": {
    "id": "Mg-zBNxAz9P2",
    "colab": {
     "base_uri": "https://localhost:8080/"
    },
    "executionInfo": {
     "status": "ok",
     "timestamp": 1616333333286,
     "user_tz": -60,
     "elapsed": 482,
     "user": {
      "displayName": "Rony Baekeland",
      "photoUrl": "",
      "userId": "01731985152349302060"
     }
    },
    "outputId": "42df166f-7938-44f3-d25f-3c8dc2c11e81"
   },
   "source": [
    "# eerst bins aanmaken\n",
    "import numpy as np\n",
    "\n",
    "grenzen = np.arange(start=web.response_length.min(), stop=web.response_length.max(), step=1000, dtype=int)\n",
    "# plot proberen te maken\n",
    "_ = web.response_length.plot.hist(bins=grenzen)\n",
    "# Niet erg informatief.\n",
    "# Klassenbreedte is te klein --> niets te zien."
   ],
   "execution_count": 43,
   "outputs": [
    {
     "data": {
      "text/plain": "<Figure size 432x288 with 1 Axes>",
      "image/png": "[encoded data removed]"
     },
     "metadata": {
      "needs_background": "light"
     },
     "output_type": "display_data"
    }
   ]
  },
  {
   "cell_type": "markdown",
   "metadata": {
    "collapsed": false,
    "id": "WiewM7z7z9P4"
   },
   "source": [
    "b. Maak een nieuw histogram met alle berichten tot 13000 bytes lang (zelfde klassebreedte).  Zorg dat de linkergrens altijd tot het interval behoort."
   ]
  },
  {
   "cell_type": "code",
   "metadata": {
    "id": "BfCL-ckNz9P5",
    "colab": {
     "base_uri": "https://localhost:8080/",
     "height": 282
    },
    "executionInfo": {
     "status": "ok",
     "timestamp": 1616333338315,
     "user_tz": -60,
     "elapsed": 979,
     "user": {
      "displayName": "Rony Baekeland",
      "photoUrl": "",
      "userId": "01731985152349302060"
     }
    },
    "outputId": "1a48be3a-e405-42e7-91f7-32e563bf2e39"
   },
   "source": [
    "web_small = web[web.response_length <= 13000]\n",
    "grenzen = np.arange(start=web_small.response_length.min(), stop=web_small.response_length.max(), step=1000, dtype=int)\n",
    "_ = web_small.response_length.plot.hist(bins=grenzen, edgecolor='black', alpha=0.4)"
   ],
   "execution_count": 42,
   "outputs": [
    {
     "data": {
      "text/plain": "<Figure size 432x288 with 1 Axes>",
      "image/png": "[encoded data removed]"
     },
     "metadata": {
      "needs_background": "light"
     },
     "output_type": "display_data"
    }
   ]
  },
  {
   "cell_type": "markdown",
   "metadata": {
    "collapsed": false,
    "id": "4U_LD6XVz9P5"
   },
   "source": [
    "c. Wat is de modus hiervan?"
   ]
  },
  {
   "cell_type": "code",
   "metadata": {
    "id": "gb_V58D8z9P6",
    "colab": {
     "base_uri": "https://localhost:8080/"
    },
    "executionInfo": {
     "status": "ok",
     "timestamp": 1616333340282,
     "user_tz": -60,
     "elapsed": 589,
     "user": {
      "displayName": "Rony Baekeland",
      "photoUrl": "",
      "userId": "01731985152349302060"
     }
    },
    "outputId": "d436a8bd-1e2c-46e6-8c02-62f05d4c7620"
   },
   "source": [
    "klassen = pd.cut(web_small.response_length, bins=grenzen)\n",
    "klassen.mode()"
   ],
   "execution_count": 32,
   "outputs": [
    {
     "data": {
      "text/plain": "0    (1000, 2000]\nName: response_length, dtype: category\nCategories (12, interval[int64]): [(0, 1000] < (1000, 2000] < (2000, 3000] < (3000, 4000] ... (8000, 9000] < (9000, 10000] < (10000, 11000] < (11000, 12000]]"
     },
     "execution_count": 32,
     "metadata": {},
     "output_type": "execute_result"
    }
   ]
  },
  {
   "cell_type": "markdown",
   "metadata": {
    "collapsed": false,
    "id": "hLGr4kZPz9P6"
   },
   "source": [
    "d. Wat is het gemiddeld aantal verstuurde bytes (4 beduidende cijfers)?"
   ]
  },
  {
   "cell_type": "code",
   "metadata": {
    "id": "w0e9K3ghz9P7",
    "colab": {
     "base_uri": "https://localhost:8080/"
    },
    "executionInfo": {
     "status": "ok",
     "timestamp": 1616332903338,
     "user_tz": -60,
     "elapsed": 556,
     "user": {
      "displayName": "Rony Baekeland",
      "photoUrl": "",
      "userId": "01731985152349302060"
     }
    },
    "outputId": "8f3aec32-8d5b-4c38-fad2-0303111a24b4"
   },
   "source": [
    "web.response_length.mean()\n",
    "web_small.response_length.mean()"
   ],
   "execution_count": 33,
   "outputs": [
    {
     "data": {
      "text/plain": "5479.282453046476"
     },
     "execution_count": 33,
     "metadata": {},
     "output_type": "execute_result"
    },
    {
     "data": {
      "text/plain": "2165.6212659749626"
     },
     "execution_count": 33,
     "metadata": {},
     "output_type": "execute_result"
    }
   ]
  },
  {
   "cell_type": "markdown",
   "metadata": {
    "collapsed": false,
    "id": "8PioZEZnz9P8"
   },
   "source": [
    "e. Wat is de standaardafwijking van het aantal verstuurde bytes?  (4 beduidende cijfers)  Wat wil dit zeggen?"
   ]
  },
  {
   "cell_type": "code",
   "metadata": {
    "id": "-ELA0UvQz9P8"
   },
   "source": [
    "web_small.response_length.std()\n",
    "# dit is een maat voor de spreiding rond het gemiddelde"
   ],
   "execution_count": 34,
   "outputs": [
    {
     "data": {
      "text/plain": "2226.7778468222086"
     },
     "execution_count": 34,
     "metadata": {},
     "output_type": "execute_result"
    }
   ]
  },
  {
   "cell_type": "markdown",
   "metadata": {
    "collapsed": false,
    "id": "4iNoe5mZz9P8"
   },
   "source": [
    "f. Wat zijn de kwartielen van het aantal verstuurde bytes?"
   ]
  },
  {
   "cell_type": "code",
   "metadata": {
    "id": "gGAcCeJoz9P8",
    "colab": {
     "base_uri": "https://localhost:8080/",
     "height": 195
    },
    "executionInfo": {
     "status": "ok",
     "timestamp": 1616333344477,
     "user_tz": -60,
     "elapsed": 492,
     "user": {
      "displayName": "Rony Baekeland",
      "photoUrl": "",
      "userId": "01731985152349302060"
     }
    },
    "outputId": "6183eedc-a212-496a-bb1f-4766faed9546"
   },
   "source": [
    "web_small.quantile([0, 0.25, 0.5, 0.75, 1])"
   ],
   "execution_count": 35,
   "outputs": [
    {
     "data": {
      "text/plain": "      response_code  response_length\n0.00          200.0              0.0\n0.25          200.0            388.0\n0.50          200.0           1630.0\n0.75          200.0           3272.0\n1.00          500.0          12997.0",
      "text/html": "<div>\n<style scoped>\n    .dataframe tbody tr th:only-of-type {\n        vertical-align: middle;\n    }\n\n    .dataframe tbody tr th {\n        vertical-align: top;\n    }\n\n    .dataframe thead th {\n        text-align: right;\n    }\n</style>\n<table border=\"1\" class=\"dataframe\">\n  <thead>\n    <tr style=\"text-align: right;\">\n      <th></th>\n      <th>response_code</th>\n      <th>response_length</th>\n    </tr>\n  </thead>\n  <tbody>\n    <tr>\n      <th>0.00</th>\n      <td>200.0</td>\n      <td>0.0</td>\n    </tr>\n    <tr>\n      <th>0.25</th>\n      <td>200.0</td>\n      <td>388.0</td>\n    </tr>\n    <tr>\n      <th>0.50</th>\n      <td>200.0</td>\n      <td>1630.0</td>\n    </tr>\n    <tr>\n      <th>0.75</th>\n      <td>200.0</td>\n      <td>3272.0</td>\n    </tr>\n    <tr>\n      <th>1.00</th>\n      <td>500.0</td>\n      <td>12997.0</td>\n    </tr>\n  </tbody>\n</table>\n</div>"
     },
     "execution_count": 35,
     "metadata": {},
     "output_type": "execute_result"
    }
   ]
  },
  {
   "cell_type": "markdown",
   "metadata": {
    "collapsed": false,
    "id": "bUuQroSkz9P9"
   },
   "source": [
    "g. Wat is de betekenis van het derde kwartiel?"
   ]
  },
  {
   "cell_type": "code",
   "metadata": {
    "id": "xxdZmn8kz9P9"
   },
   "source": [
    "# 75% van de requests heeft een kleiner aantal verstuurde bytes"
   ],
   "execution_count": 36,
   "outputs": []
  },
  {
   "cell_type": "markdown",
   "metadata": {
    "collapsed": false,
    "id": "FsRN0LI4z9P-"
   },
   "source": [
    "h. Wat is de interkwartielafstand van het aantal verstuurde bytes?  Wat betekent dit?"
   ]
  },
  {
   "cell_type": "code",
   "metadata": {
    "id": "v0VNhFfsz9P-",
    "colab": {
     "base_uri": "https://localhost:8080/"
    },
    "executionInfo": {
     "status": "ok",
     "timestamp": 1616332912669,
     "user_tz": -60,
     "elapsed": 537,
     "user": {
      "displayName": "Rony Baekeland",
      "photoUrl": "",
      "userId": "01731985152349302060"
     }
    },
    "outputId": "b6e91a68-0e25-4ddf-d669-34aa8958fe4b"
   },
   "source": [
    "iqr = web_small.response_length.quantile([0.25, 0.75]).diff()\n",
    "iqr"
   ],
   "execution_count": 37,
   "outputs": [
    {
     "data": {
      "text/plain": "0.25       NaN\n0.75    2884.0\nName: response_length, dtype: float64"
     },
     "execution_count": 37,
     "metadata": {},
     "output_type": "execute_result"
    }
   ]
  },
  {
   "cell_type": "markdown",
   "metadata": {
    "collapsed": false,
    "id": "zLmAfk2mz9QA"
   },
   "source": [
    "i. Maak een boxplot van het aantal verstuurde bytes.  Hoe interpreteer je deze grafiek?"
   ]
  },
  {
   "cell_type": "code",
   "metadata": {
    "id": "5iMApLJAz9QA",
    "colab": {
     "base_uri": "https://localhost:8080/",
     "height": 266
    },
    "executionInfo": {
     "status": "ok",
     "timestamp": 1616333348509,
     "user_tz": -60,
     "elapsed": 706,
     "user": {
      "displayName": "Rony Baekeland",
      "photoUrl": "",
      "userId": "01731985152349302060"
     }
    },
    "outputId": "b6c62e69-dde6-4c48-fcbe-d8a08dd561a0"
   },
   "source": [
    "_ = web_small.boxplot('response_length')\n",
    "# er zijn heel veel outliers"
   ],
   "execution_count": 38,
   "outputs": [
    {
     "data": {
      "text/plain": "<Figure size 432x288 with 1 Axes>",
      "image/png": "[encoded data removed]"
     },
     "metadata": {
      "needs_background": "light"
     },
     "output_type": "display_data"
    }
   ]
  },
  {
   "cell_type": "markdown",
   "metadata": {
    "collapsed": false,
    "id": "6As_bQfKz9QA"
   },
   "source": [
    "j. Hoeveel uitschieters zijn er?  Wat is het minimum van deze uitschieters?"
   ]
  },
  {
   "cell_type": "code",
   "metadata": {
    "id": "GS4ZQXR9z9QA",
    "colab": {
     "base_uri": "https://localhost:8080/"
    },
    "executionInfo": {
     "status": "ok",
     "timestamp": 1616333372040,
     "user_tz": -60,
     "elapsed": 506,
     "user": {
      "displayName": "Rony Baekeland",
      "photoUrl": "",
      "userId": "01731985152349302060"
     }
    },
    "outputId": "4233ea9a-6606-43d0-ab61-9a9e6cd5972a"
   },
   "source": [
    "# het zoeken van uitschieters is een veel voorkomende activiteit\n",
    "# vandaar dat hiervoor een aparte functie is gemaakt in een apart bestand\n",
    "# zodanig dat we dit voor eender project kunnen hergebruiken\n",
    "\n",
    "#deze import verondersteld dat het bestand uitschieters.py een functie 'outliers' definieert\n",
    "from hulpfuncties import *\n",
    "\n",
    "web_small.response_length[uitschieters(web_small.response_length)]"
   ],
   "execution_count": 39,
   "outputs": [
    {
     "data": {
      "text/plain": "14          9651.0\n70          9651.0\n78          9651.0\n156         9651.0\n167         9651.0\n            ...   \n2408439    11337.0\n2408448     9225.0\n2408484    11337.0\n2408489    10753.0\n2408501    11337.0\nName: response_length, Length: 71079, dtype: float64"
     },
     "execution_count": 39,
     "metadata": {},
     "output_type": "execute_result"
    }
   ]
  },
  {
   "cell_type": "markdown",
   "metadata": {
    "collapsed": false,
    "id": "qqaAIv88z9QB"
   },
   "source": [
    "k. Verwijder de uitschieters en maak terug een boxplot (er ontstaan hier weer outliers, maar zoek een optie bij boxplot om deze niet te tekenen)"
   ]
  },
  {
   "cell_type": "code",
   "metadata": {
    "id": "hQ5EA5cSz9QB"
   },
   "source": [
    "web_small_no_outliers = web_small[~uitschieters(web_small.response_length)]"
   ],
   "execution_count": 40,
   "outputs": []
  },
  {
   "cell_type": "code",
   "metadata": {
    "colab": {
     "base_uri": "https://localhost:8080/",
     "height": 266
    },
    "id": "N-lHEY0i6UYP",
    "executionInfo": {
     "status": "ok",
     "timestamp": 1616333419836,
     "user_tz": -60,
     "elapsed": 842,
     "user": {
      "displayName": "Rony Baekeland",
      "photoUrl": "",
      "userId": "01731985152349302060"
     }
    },
    "outputId": "42c26213-d58c-4a3f-8a85-f215f9c78e9e"
   },
   "source": [
    "_ = web_small_no_outliers.boxplot('response_length', showfliers=False)"
   ],
   "execution_count": 41,
   "outputs": [
    {
     "data": {
      "text/plain": "<Figure size 432x288 with 1 Axes>",
      "image/png": "[encoded data removed]"
     },
     "metadata": {
      "needs_background": "light"
     },
     "output_type": "display_data"
    }
   ]
  }
 ]
}
