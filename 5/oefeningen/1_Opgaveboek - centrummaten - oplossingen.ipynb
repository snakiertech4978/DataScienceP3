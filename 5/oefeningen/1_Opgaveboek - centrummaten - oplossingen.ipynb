{
 "nbformat": 4,
 "nbformat_minor": 0,
 "metadata": {
  "kernelspec": {
   "display_name": "Python 3",
   "language": "python",
   "name": "python3"
  },
  "colab": {
   "name": "1_Opgaveboek - centrummaten - oplossingen.ipynb",
   "provenance": [],
   "collapsed_sections": [],
   "toc_visible": true
  }
 },
 "cells": [
  {
   "cell_type": "markdown",
   "source": [
    "Setup"
   ],
   "metadata": {
    "collapsed": false
   }
  },
  {
   "cell_type": "code",
   "metadata": {
    "colab": {
     "base_uri": "https://localhost:8080/"
    },
    "id": "Cc1xCEATUgBU",
    "executionInfo": {
     "status": "ok",
     "timestamp": 1616333827436,
     "user_tz": -60,
     "elapsed": 27898,
     "user": {
      "displayName": "Rony Baekeland",
      "photoUrl": "",
      "userId": "01731985152349302060"
     }
    },
    "outputId": "4ff98b08-0491-490b-9209-dfe618093424"
   },
   "source": [
    "# keep\n",
    "import pandas as pd\n",
    "from IPython.core.display import Markdown\n",
    "from IPython.core.interactiveshell import InteractiveShell\n",
    "\n",
    "InteractiveShell.ast_node_interactivity = \"all\"\n",
    "dataset_folder = '../datasets/'\n",
    "Markdown(f'De folder met datasets = **{dataset_folder}**')"
   ],
   "execution_count": 52,
   "outputs": [
    {
     "data": {
      "text/plain": "<IPython.core.display.Markdown object>",
      "text/markdown": "De folder met datasets = **../datasets/**"
     },
     "execution_count": 52,
     "metadata": {},
     "output_type": "execute_result"
    }
   ]
  },
  {
   "cell_type": "markdown",
   "metadata": {
    "id": "U4PnvexQCrLT"
   },
   "source": [
    "# Centrummaten"
   ]
  },
  {
   "cell_type": "markdown",
   "metadata": {
    "id": "AdlK3yifCrLZ"
   },
   "source": [
    "## Vraag 1\n",
    "\n",
    "Breedbandopgave"
   ]
  },
  {
   "cell_type": "markdown",
   "metadata": {
    "id": "zT3uv_SxCrLa"
   },
   "source": [
    "a. Gebruik het bestand **breedbandopgave.csv**. Het bestand heeft NA-waarden 'Onbekend', 'Niet gekend' en 'Unknown'. De eerste regel van bestand is een commentaar regel en die moet je overslaan. Verder worden decimale getallen genoteerd met een ','.\n",
    "Lees dit bestand in, maar hou daarbij rekening met bovenstaande opmerkingen."
   ]
  },
  {
   "cell_type": "code",
   "metadata": {
    "colab": {
     "base_uri": "https://localhost:8080/"
    },
    "id": "kZSwBvDrCrLa",
    "executionInfo": {
     "status": "ok",
     "timestamp": 1616333858587,
     "user_tz": -60,
     "elapsed": 989,
     "user": {
      "displayName": "Rony Baekeland",
      "photoUrl": "",
      "userId": "01731985152349302060"
     }
    },
    "outputId": "8a92873e-d592-4839-ca51-376db843c4fc"
   },
   "source": [
    "data = pd.read_csv(dataset_folder + 'breedbandopgave.csv',\n",
    "                   skiprows=1, decimal=',', delimiter=',',\n",
    "                   na_values=['Unknown', 'Niet gekend', 'Onbekend'])\n",
    "data.info()"
   ],
   "execution_count": 13,
   "outputs": [
    {
     "name": "stdout",
     "output_type": "stream",
     "text": [
      "<class 'pandas.core.frame.DataFrame'>\n",
      "RangeIndex: 200 entries, 0 to 199\n",
      "Data columns (total 5 columns):\n",
      " #   Column                                          Non-Null Count  Dtype  \n",
      "---  ------                                          --------------  -----  \n",
      " 0   streek                                          200 non-null    object \n",
      " 1   gem sync speed                                  197 non-null    float64\n",
      " 2   percentage huizen broadband minder dan 2Mbit/s  198 non-null    float64\n",
      " 3   percentage supersnel internet (>24Mbit/s)       199 non-null    float64\n",
      " 4   percentage dat broadband heeft tov huizen       199 non-null    float64\n",
      "dtypes: float64(4), object(1)\n",
      "memory usage: 7.9+ KB\n"
     ]
    }
   ]
  },
  {
   "cell_type": "markdown",
   "metadata": {
    "id": "VoGu-4tbCrLc"
   },
   "source": [
    "b. Voeg een extra kolom genaamd `sync_speed` toe met daarin de afrondingen van de sync speed (afronden op 0 decimalen). Gebruik de methode `.round()`"
   ]
  },
  {
   "cell_type": "code",
   "metadata": {
    "id": "KnWo5NhJCrLd",
    "colab": {
     "base_uri": "https://localhost:8080/"
    },
    "executionInfo": {
     "status": "ok",
     "timestamp": 1616333873050,
     "user_tz": -60,
     "elapsed": 1041,
     "user": {
      "displayName": "Rony Baekeland",
      "photoUrl": "",
      "userId": "01731985152349302060"
     }
    },
    "outputId": "4622daee-cf9a-4fe3-d374-736f55ab9720"
   },
   "source": [
    "data['sync_speed'] = data['gem sync speed'].dropna().round(0)"
   ],
   "execution_count": 14,
   "outputs": []
  },
  {
   "cell_type": "markdown",
   "metadata": {
    "id": "tOabAMt7CrLi"
   },
   "source": [
    "c. Wat is de modus?"
   ]
  },
  {
   "cell_type": "code",
   "metadata": {
    "id": "MFxH78wvCrLi",
    "colab": {
     "base_uri": "https://localhost:8080/"
    },
    "executionInfo": {
     "status": "ok",
     "timestamp": 1616333893954,
     "user_tz": -60,
     "elapsed": 512,
     "user": {
      "displayName": "Rony Baekeland",
      "photoUrl": "",
      "userId": "01731985152349302060"
     }
    },
    "outputId": "355ea69b-22e7-40e0-8041-c5dccd04599f"
   },
   "source": [
    "data.sync_speed.mode()"
   ],
   "execution_count": 15,
   "outputs": [
    {
     "data": {
      "text/plain": "0    6.0\nName: sync_speed, dtype: float64"
     },
     "execution_count": 15,
     "metadata": {},
     "output_type": "execute_result"
    }
   ]
  },
  {
   "cell_type": "markdown",
   "metadata": {
    "id": "BygsMrl6CrLj"
   },
   "source": [
    "d. Bepaal de mediaan."
   ]
  },
  {
   "cell_type": "code",
   "metadata": {
    "id": "SZl8XgA5CrLj",
    "colab": {
     "base_uri": "https://localhost:8080/"
    },
    "executionInfo": {
     "status": "ok",
     "timestamp": 1616333896301,
     "user_tz": -60,
     "elapsed": 457,
     "user": {
      "displayName": "Rony Baekeland",
      "photoUrl": "",
      "userId": "01731985152349302060"
     }
    },
    "outputId": "4c686117-58aa-464d-b3e3-361c0e4b6a51"
   },
   "source": [
    "data.sync_speed.median()"
   ],
   "execution_count": 16,
   "outputs": [
    {
     "data": {
      "text/plain": "7.0"
     },
     "execution_count": 16,
     "metadata": {},
     "output_type": "execute_result"
    }
   ]
  },
  {
   "cell_type": "markdown",
   "metadata": {
    "id": "Hj1J0SfACrLk"
   },
   "source": [
    "e. Bepaal het gemiddelde."
   ]
  },
  {
   "cell_type": "code",
   "metadata": {
    "id": "5fwamAmtCrLk",
    "colab": {
     "base_uri": "https://localhost:8080/"
    },
    "executionInfo": {
     "status": "ok",
     "timestamp": 1616333898473,
     "user_tz": -60,
     "elapsed": 433,
     "user": {
      "displayName": "Rony Baekeland",
      "photoUrl": "",
      "userId": "01731985152349302060"
     }
    },
    "outputId": "b2a1163e-d901-450a-99ed-eee49a7cda17"
   },
   "source": [
    "data.sync_speed.mean()"
   ],
   "execution_count": 17,
   "outputs": [
    {
     "data": {
      "text/plain": "8.152284263959391"
     },
     "execution_count": 17,
     "metadata": {},
     "output_type": "execute_result"
    }
   ]
  },
  {
   "cell_type": "markdown",
   "metadata": {
    "collapsed": false,
    "id": "jdZDOWLATJdK"
   },
   "source": [
    "f. Importeer de functies uit hulpfuncties.py en gebruik de functie `uitschieters` om de uitschieters te identificeren en te verwijderen uit de gegevens. Sla het resultaat op in een nieuw Pandas Series."
   ]
  },
  {
   "cell_type": "code",
   "metadata": {
    "id": "KlJMgfGnTJdK",
    "colab": {
     "base_uri": "https://localhost:8080/"
    },
    "executionInfo": {
     "status": "ok",
     "timestamp": 1616333900165,
     "user_tz": -60,
     "elapsed": 421,
     "user": {
      "displayName": "Rony Baekeland",
      "photoUrl": "",
      "userId": "01731985152349302060"
     }
    },
    "outputId": "eba9aa4f-a77f-4175-cd75-3ebf0d8f09b3"
   },
   "source": [
    "from hulpfuncties import uitschieters\n",
    "\n",
    "# index bevat de elementen die al dan niet een uitschieter zijn\n",
    "index = uitschieters(data.sync_speed)\n",
    "\n",
    "sync_speed_zonder_extremen = data.sync_speed[~index]"
   ],
   "execution_count": 20,
   "outputs": []
  },
  {
   "cell_type": "markdown",
   "metadata": {
    "collapsed": false,
    "id": "uOG3w-nsTJdK"
   },
   "source": [
    "g. Bereken gemiddelde, median en modus opnieuw op de gegevens zonder uitschieters. Wat merk je op?"
   ]
  },
  {
   "cell_type": "code",
   "metadata": {
    "id": "UJIeMn8GCrLl",
    "colab": {
     "base_uri": "https://localhost:8080/"
    },
    "executionInfo": {
     "status": "ok",
     "timestamp": 1616333903366,
     "user_tz": -60,
     "elapsed": 430,
     "user": {
      "displayName": "Rony Baekeland",
      "photoUrl": "",
      "userId": "01731985152349302060"
     }
    },
    "outputId": "bef405a7-8ca2-4247-ef14-cbddefd114c2"
   },
   "source": [
    "# We herhalen de mean, mode en median eventueel kunnen we een functie definiëren\n",
    "def mean_median_mode(series: pd.Series):\n",
    "    \"\"\"\n",
    "     Geeft gemiddelde, modus en mediaan van een pandas. Series object input is een rij van float of int\n",
    "    :param series:\n",
    "    \"\"\"\n",
    "    print(f\"Het gemiddelde is:{series.mean()}\")\n",
    "    print(f\"De mediaan is:{series.median()}\")\n",
    "    print(f\"De modus is:{series.value_counts().idxmax()}\")\n",
    "\n",
    "\n",
    "mean_median_mode(sync_speed_zonder_extremen)\n",
    "\n",
    "# Zoals te verwachten is enkel het gemiddelde veel gewijzigd"
   ],
   "execution_count": 22,
   "outputs": [
    {
     "name": "stdout",
     "output_type": "stream",
     "text": [
      "Het gemiddelde is:7.082474226804123\n",
      "De mediaan is:7.0\n",
      "De modus is:6.0\n"
     ]
    }
   ]
  },
  {
   "cell_type": "markdown",
   "metadata": {
    "id": "AYlZH8v3CrLm"
   },
   "source": [
    "## Vraag 2"
   ]
  },
  {
   "cell_type": "markdown",
   "source": [
    "1. Wat is het gemiddelde percentage van aantal gezinnen met een breedband van minder dan 2Mbit (ga ervan uit dat elke streek evenveel inwoners telt)"
   ],
   "metadata": {
    "collapsed": false
   }
  },
  {
   "cell_type": "code",
   "source": [
    "percentage_2mbit = data['percentage huizen broadband minder dan 2Mbit/s']\n",
    "percentage_2mbit.mean()"
   ],
   "metadata": {
    "collapsed": false
   },
   "execution_count": 23,
   "outputs": [
    {
     "data": {
      "text/plain": "16.296464646464646"
     },
     "execution_count": 23,
     "metadata": {},
     "output_type": "execute_result"
    }
   ]
  },
  {
   "cell_type": "markdown",
   "source": [
    "2. Wat is de mediaan van deze groep?"
   ],
   "metadata": {
    "collapsed": false
   }
  },
  {
   "cell_type": "code",
   "execution_count": 24,
   "outputs": [
    {
     "data": {
      "text/plain": "15.6"
     },
     "execution_count": 24,
     "metadata": {},
     "output_type": "execute_result"
    }
   ],
   "source": [
    "percentage_2mbit.median()"
   ],
   "metadata": {
    "collapsed": false
   }
  },
  {
   "cell_type": "markdown",
   "source": [
    "3. Wat is de modus?  Maak hierbij klassen met de formule van Sturges $m = \\lceil 1 + log_2(n)\\rceil$ waarbij $m$ het aantal klassen is dat je zal moeten gebruiken."
   ],
   "metadata": {
    "collapsed": false
   }
  },
  {
   "cell_type": "code",
   "metadata": {
    "id": "em40rlq3CrLm",
    "colab": {
     "base_uri": "https://localhost:8080/"
    },
    "executionInfo": {
     "status": "ok",
     "timestamp": 1616333908101,
     "user_tz": -60,
     "elapsed": 423,
     "user": {
      "displayName": "Rony Baekeland",
      "photoUrl": "",
      "userId": "01731985152349302060"
     }
    },
    "outputId": "c7ff8fad-8c93-4d0d-ace0-7ccc103f77b9"
   },
   "source": [
    "#Sturges: m = [1 + log2(n)]\n",
    "import math\n",
    "import numpy as np\n",
    "\n",
    "nSturges = math.ceil(1 + math.log2(len(percentage_2mbit)))\n",
    "\n",
    "Markdown(f'Het aantal klassen volgens <font color=\"blue\">**Sturges**</font> is {nSturges}')\n",
    "\n",
    "min, max = percentage_2mbit.agg(['min', 'max'])\n",
    "klassen = np.linspace(start=min, stop=max, num=nSturges + 1).round(1)\n",
    "pd.cut(percentage_2mbit, bins=klassen).value_counts().sort_index().to_frame()\n",
    "pd.cut(percentage_2mbit, bins=klassen).mode().to_frame()\n",
    "\n",
    "# pd.cut(data['percentage huizen broadband minder dan 2Mbit/s'], bins=nSturges).value_counts()\n",
    "# gemiddelde is gemiddelde van de percentages aangezien de streken even groot zijn"
   ],
   "execution_count": 37,
   "outputs": [
    {
     "data": {
      "text/plain": "<IPython.core.display.Markdown object>",
      "text/markdown": "Het aantal klassen volgens <font color=\"blue\">**Sturges**</font> is 9"
     },
     "execution_count": 37,
     "metadata": {},
     "output_type": "execute_result"
    },
    {
     "data": {
      "text/plain": "              percentage huizen broadband minder dan 2Mbit/s\n(4.5, 8.0]                                                15\n(8.0, 11.5]                                               32\n(11.5, 15.0]                                              44\n(15.0, 18.5]                                              44\n(18.5, 21.9]                                              28\n(21.9, 25.4]                                              14\n(25.4, 28.9]                                              11\n(28.9, 32.4]                                               5\n(32.4, 35.9]                                               3",
      "text/html": "<div>\n<style scoped>\n    .dataframe tbody tr th:only-of-type {\n        vertical-align: middle;\n    }\n\n    .dataframe tbody tr th {\n        vertical-align: top;\n    }\n\n    .dataframe thead th {\n        text-align: right;\n    }\n</style>\n<table border=\"1\" class=\"dataframe\">\n  <thead>\n    <tr style=\"text-align: right;\">\n      <th></th>\n      <th>percentage huizen broadband minder dan 2Mbit/s</th>\n    </tr>\n  </thead>\n  <tbody>\n    <tr>\n      <th>(4.5, 8.0]</th>\n      <td>15</td>\n    </tr>\n    <tr>\n      <th>(8.0, 11.5]</th>\n      <td>32</td>\n    </tr>\n    <tr>\n      <th>(11.5, 15.0]</th>\n      <td>44</td>\n    </tr>\n    <tr>\n      <th>(15.0, 18.5]</th>\n      <td>44</td>\n    </tr>\n    <tr>\n      <th>(18.5, 21.9]</th>\n      <td>28</td>\n    </tr>\n    <tr>\n      <th>(21.9, 25.4]</th>\n      <td>14</td>\n    </tr>\n    <tr>\n      <th>(25.4, 28.9]</th>\n      <td>11</td>\n    </tr>\n    <tr>\n      <th>(28.9, 32.4]</th>\n      <td>5</td>\n    </tr>\n    <tr>\n      <th>(32.4, 35.9]</th>\n      <td>3</td>\n    </tr>\n  </tbody>\n</table>\n</div>"
     },
     "execution_count": 37,
     "metadata": {},
     "output_type": "execute_result"
    },
    {
     "data": {
      "text/plain": "  percentage huizen broadband minder dan 2Mbit/s\n0                                   (11.5, 15.0]\n1                                   (15.0, 18.5]",
      "text/html": "<div>\n<style scoped>\n    .dataframe tbody tr th:only-of-type {\n        vertical-align: middle;\n    }\n\n    .dataframe tbody tr th {\n        vertical-align: top;\n    }\n\n    .dataframe thead th {\n        text-align: right;\n    }\n</style>\n<table border=\"1\" class=\"dataframe\">\n  <thead>\n    <tr style=\"text-align: right;\">\n      <th></th>\n      <th>percentage huizen broadband minder dan 2Mbit/s</th>\n    </tr>\n  </thead>\n  <tbody>\n    <tr>\n      <th>0</th>\n      <td>(11.5, 15.0]</td>\n    </tr>\n    <tr>\n      <th>1</th>\n      <td>(15.0, 18.5]</td>\n    </tr>\n  </tbody>\n</table>\n</div>"
     },
     "execution_count": 37,
     "metadata": {},
     "output_type": "execute_result"
    }
   ]
  },
  {
   "cell_type": "markdown",
   "metadata": {
    "id": "5nTyR8YKCrLq"
   },
   "source": [
    "## Vraag 3\n",
    "\n",
    "In een onderzoek meten we in hoeverre kinderen een taalachterstand bezitten. Op de gegevens kunnen zowel het gemiddelde als de mediaan berekend worden. Welk meetniveau is hier gehanteerd?\n",
    "1. nominale schaal\n",
    "2. ordinale schaal\n",
    "3. intervalschaal\n",
    "4. er is te weinig informatie om dit te bepalen"
   ]
  },
  {
   "cell_type": "code",
   "metadata": {
    "id": "XvuRSCjaCrLq"
   },
   "source": [
    "# Intervalschaal, want voor mediaan en gemiddelde moet je op de gegevens enkele <,=,>,+,- toepassen.\n",
    "# De deling door n pas je niet toe op de gegevens, maar enkel op het resultaat van de '+'"
   ],
   "execution_count": null,
   "outputs": []
  },
  {
   "cell_type": "markdown",
   "metadata": {
    "id": "VVWFeu03CrLq"
   },
   "source": [
    "## Vraag 4\n",
    "\n",
    "Bij het inlezen van een serie scores is een fout gemaakt. De laagste waarde moet 21 zijn in plaats van 11. \n",
    "Na correctie is dit nog steeds de laagste waarde. Welke centrummaat is door de correctie altijd veranderd?\n",
    "1. modus\n",
    "2. mediaan\n",
    "3. gemiddelde\n",
    "4. mediaan en gemiddelde"
   ]
  },
  {
   "cell_type": "code",
   "metadata": {
    "id": "lwdLm9d9CrLq"
   },
   "source": [
    "# Enkel het gemiddelde echt altijd.\n",
    "# De modus misschien indien deze het meeste voorkomt. Als er slechts 2 gegevens zijn ingelezen in totaal kan ook de mediaan wijzigen, als n groter is dan 3 dan zal mediaan niet wijzigen."
   ],
   "execution_count": null,
   "outputs": []
  },
  {
   "cell_type": "markdown",
   "metadata": {
    "id": "PilQOmJCCrLr"
   },
   "source": [
    "### Vraag 5\n",
    "\n",
    "We hebben de volgende scores: 3, 6, 9, 22, 9, 5, 8, 21, 9, 5, 3, 8, 9. Aan welke centrummaat is de score 9 gelijk?\n",
    "\n",
    "1. het gemiddelde\n",
    "2. de mediaan\n",
    "3. de modus\n",
    "4. het gemiddelde en de modus\n",
    "5. het gemiddelde, de mediaan en de modus"
   ]
  },
  {
   "cell_type": "code",
   "metadata": {
    "id": "BwN4CL47CrLr",
    "colab": {
     "base_uri": "https://localhost:8080/"
    },
    "executionInfo": {
     "status": "ok",
     "timestamp": 1616333946387,
     "user_tz": -60,
     "elapsed": 416,
     "user": {
      "displayName": "Rony Baekeland",
      "photoUrl": "",
      "userId": "01731985152349302060"
     }
    },
    "outputId": "27d3512d-9405-4a44-e900-eea2e900c4f9"
   },
   "source": [
    "# We gebruiken onze functie:\n",
    "mean_median_mode(pd.Series([3, 6, 9, 22, 9, 5, 8, 21, 9, 5, 3, 8, 9]))\n",
    "# Antwoord is optie 4: het gemiddelde en de modus."
   ],
   "execution_count": 38,
   "outputs": [
    {
     "name": "stdout",
     "output_type": "stream",
     "text": [
      "Het gemiddelde is:9.0\n",
      "De mediaan is:8.0\n",
      "De modus is:9\n"
     ]
    }
   ]
  },
  {
   "cell_type": "markdown",
   "metadata": {
    "id": "ZC5cEF3yCrLr"
   },
   "source": [
    "### Vraag 6\n",
    "\n",
    "De gemiddelde leeftijd van de mannelijke werknemers is 37,7. Voor de vrouwelijke is dit 31,4. \n",
    "De totale groep werknemers bestaat uit 27% vrouwen. Wat is de gemiddelde leeftijd van alle werknemers? \n",
    "(3 beduidende cijfers)"
   ]
  },
  {
   "cell_type": "code",
   "metadata": {
    "id": "cBqgh2aACrLs",
    "colab": {
     "base_uri": "https://localhost:8080/"
    },
    "executionInfo": {
     "status": "ok",
     "timestamp": 1616333949252,
     "user_tz": -60,
     "elapsed": 508,
     "user": {
      "displayName": "Rony Baekeland",
      "photoUrl": "",
      "userId": "01731985152349302060"
     }
    },
    "outputId": "02dbe3c1-8551-4f14-89bd-3d1d3a2d574b"
   },
   "source": [
    "# we nemen hier het gewogen gemiddelde\n",
    "Markdown(f\"Het gemiddelde van alle werknemers is {37.7 * (1 - 00.27) + 31.4 * 0.27}\")\n",
    "\n",
    "# je kan dit ook oplossen met Numpy\n",
    "leeftijden = [37.7, 31.4]\n",
    "percentages = [1 - 0.27, 0.27]\n",
    "\n",
    "Markdown(f\"Het gemiddelde van alle werknemers met Numpy average is {np.average(leeftijden, weights=percentages)}\")\n"
   ],
   "execution_count": 43,
   "outputs": [
    {
     "data": {
      "text/plain": "<IPython.core.display.Markdown object>",
      "text/markdown": "Het gemiddelde van alle werknemers is 35.999"
     },
     "execution_count": 43,
     "metadata": {},
     "output_type": "execute_result"
    },
    {
     "data": {
      "text/plain": "<IPython.core.display.Markdown object>",
      "text/markdown": "Het gemiddelde van alle werknemers met Numpy average is 35.999"
     },
     "execution_count": 43,
     "metadata": {},
     "output_type": "execute_result"
    }
   ]
  },
  {
   "cell_type": "markdown",
   "metadata": {
    "id": "MY_DSvUACrLs"
   },
   "source": [
    "### Vraag 7\n",
    "\n",
    "In de groep zijn er 10 jongens die gemiddeld 3u per dag tv kijken. Er zijn 30 meisjes die gemiddeld 2u per dag tv kijken.\n",
    "Hoeveel u per dag kijken deze jongeren gemiddeld tv? (3 beduidende cijfers)\n"
   ]
  },
  {
   "cell_type": "code",
   "metadata": {
    "id": "omcdYsTfCrLs",
    "colab": {
     "base_uri": "https://localhost:8080/"
    },
    "executionInfo": {
     "status": "ok",
     "timestamp": 1616333951637,
     "user_tz": -60,
     "elapsed": 423,
     "user": {
      "displayName": "Rony Baekeland",
      "photoUrl": "",
      "userId": "01731985152349302060"
     }
    },
    "outputId": "a78862c3-64da-454d-b725-58440e4c40af"
   },
   "source": [
    "# we nemen hier het gewogen gemiddelde\n",
    "Markdown(f\"Het gemiddelde voor alle jongeren is {(3 * 10 + 2 * 30) / 40}\")"
   ],
   "execution_count": 47,
   "outputs": [
    {
     "data": {
      "text/plain": "<IPython.core.display.Markdown object>",
      "text/markdown": "Het gemiddelde voor alle jongeren is 2.25"
     },
     "execution_count": 47,
     "metadata": {},
     "output_type": "execute_result"
    }
   ]
  },
  {
   "cell_type": "markdown",
   "metadata": {
    "id": "bw49Cyd8CrLs"
   },
   "source": [
    "### Vraag 8\n",
    "\n",
    "In de sportclub is de gemiddelde leeftijd van de driehonderd sporters 25 jaar.\n",
    "De 10 bestuursleden zijn gemiddeld 60 jaar en de 500 supporters zijn gemiddeld 45 jaar.\n",
    "Wat is de gemiddelde leeftijd van al deze mensen? (4 beduidende cijfers)"
   ]
  },
  {
   "cell_type": "code",
   "metadata": {
    "id": "pR4WWkuRCrLt",
    "colab": {
     "base_uri": "https://localhost:8080/"
    },
    "executionInfo": {
     "status": "ok",
     "timestamp": 1616333953695,
     "user_tz": -60,
     "elapsed": 520,
     "user": {
      "displayName": "Rony Baekeland",
      "photoUrl": "",
      "userId": "01731985152349302060"
     }
    },
    "outputId": "7786eee8-2516-44b5-8ece-e03bd4a870c9"
   },
   "source": [
    "leeftijd = [25, 60, 45]\n",
    "gewicht = pd.Series([300, 10, 500])\n",
    "gewgem = sum(gewicht * leeftijd) / sum(gewicht)\n",
    "Markdown(f\"Het gemiddelde gewicht van de ganse groep is: {gewgem:.2f}\")\n",
    "\n",
    "# je kan dit ook oplossen met Numpy\n",
    "leeftijden = [25, 60, 45]\n",
    "aantallen = [300, 10, 500]\n",
    "Markdown(\n",
    "    f\"Het gemiddelde gewicht van de ganse groep met Numpy average is: {np.average(leeftijden, weights=aantallen):.2f}\")"
   ],
   "execution_count": 50,
   "outputs": [
    {
     "data": {
      "text/plain": "<IPython.core.display.Markdown object>",
      "text/markdown": "Het gemiddelde gewicht van de ganse groep is: 37.78"
     },
     "execution_count": 50,
     "metadata": {},
     "output_type": "execute_result"
    },
    {
     "data": {
      "text/plain": "<IPython.core.display.Markdown object>",
      "text/markdown": "Het gemiddelde gewicht van de ganse groep met Numpy average is: 37.78"
     },
     "execution_count": 50,
     "metadata": {},
     "output_type": "execute_result"
    }
   ]
  }
 ]
}
