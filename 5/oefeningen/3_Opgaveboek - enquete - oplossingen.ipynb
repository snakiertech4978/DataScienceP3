{
 "nbformat": 4,
 "nbformat_minor": 0,
 "metadata": {
  "kernelspec": {
   "display_name": "Python 3",
   "language": "python",
   "name": "python3"
  },
  "language_info": {
   "codemirror_mode": {
    "name": "ipython",
    "version": 2
   },
   "file_extension": ".py",
   "mimetype": "text/x-python",
   "name": "python",
   "nbconvert_exporter": "python",
   "pygments_lexer": "ipython2",
   "version": "2.7.6"
  },
  "colab": {
   "name": "3_Opgaveboek - enquete - oplossingen.ipynb",
   "provenance": [],
   "toc_visible": true
  }
 },
 "cells": [
  {
   "cell_type": "markdown",
   "metadata": {
    "collapsed": false,
    "id": "r5bxDlpZtpc3",
    "pycharm": {
     "name": "#%% md\n"
    }
   },
   "source": [
    "# Enquete"
   ]
  },
  {
   "cell_type": "markdown",
   "source": [
    "Setup"
   ],
   "metadata": {
    "collapsed": false,
    "pycharm": {
     "name": "#%% md\n"
    }
   }
  },
  {
   "cell_type": "code",
   "metadata": {
    "pycharm": {
     "name": "#%%\n"
    },
    "id": "JruFRbS9tpdA"
   },
   "source": [
    "import pandas as pd\n",
    "import numpy as np\n",
    "import matplotlib.pyplot as plt\n",
    "from scipy import stats\n",
    "\n",
    "from IPython.core.display import display\n",
    "from IPython.core.interactiveshell import InteractiveShell\n",
    "InteractiveShell.ast_node_interactivity = \"all\"\n",
    "\n",
    "local = True\n",
    "\n",
    "\n",
    "if local:\n",
    "  oefenFolder='../'\n",
    "# else :\n",
    "#   from google.colab import drive\n",
    "#   drive.mount('/content/drive')\n",
    "#\n",
    "#   #vervang dit naar het pad in Google Drive waar jou datasets staan\n",
    "#   !rm /content/oefeningen\n",
    "#   !ln -s \"/content/drive/Shareddrives/Data Science 1/2020-21/Lesmateriaal/5 centrum en spreiding/oefeningen\" \"/content/oefeningen\"\n",
    "#   !ls -la /content/oefeningen\n",
    "#   oefenFolder='/content/oefeningen/'\n",
    "#\n",
    "#   #we moeten ook het script uitschieters.py kunnen importeren.\n",
    "#   #daarom moeten we dit script in de folder \"/content\" copieren.\n",
    "#   !cp \"/content/drive/Shareddrives/Data Science 1/2020-21/Lesmateriaal/5 centrum en spreiding/oefeningen/oplossingen/uitschieters.py\" /content/\n",
    "#\n",
    "# print('de folder met datasets = ' + oefenFolder + 'datasets/')"
   ],
   "execution_count": 12,
   "outputs": []
  },
  {
   "cell_type": "markdown",
   "metadata": {
    "collapsed": false,
    "id": "uTJs59xktpdD",
    "pycharm": {
     "name": "#%% md\n"
    }
   },
   "source": [
    "Importeer opnieuw de enquête dataset die je tijdens 'Data management' al gebruikt hebt"
   ]
  },
  {
   "cell_type": "code",
   "metadata": {
    "pycharm": {
     "name": "#%% keep\n"
    },
    "id": "hcKUHNCWtpdD",
    "outputId": "b751824e-3d85-410c-badd-cf61b293bd94"
   },
   "source": [
    "# importeer - Pas aan naar je eigen bestand\n",
    "enquete_df = pd.read_csv(oefenFolder +'datasets/enquete/enquete202021.csv')\n",
    "\n",
    "# Herhalen van opkuis-actie uit Datamanagement\n",
    "\n",
    "vragen_df = pd.DataFrame(enquete_df.columns.to_numpy(), columns=['vraag'])\n",
    "vragen_df.index = vragen_df.vraag.replace('(\\\\d{1,2}[a-z]?).*','v\\\\1', regex=True)\n",
    "vragen_df = vragen_df\\\n",
    "    .replace('(\\\\d{1,2}[a-z]?)(.*)','\\\\2', regex=True)\\\n",
    "    .replace('[.]',' ', regex=True)\\\n",
    "    .replace('(^  )|( $)',' ',regex=True)\n",
    "vragen_df\n",
    "enquete_df.columns = vragen_df.index\n",
    "enquete_df.drop(labels=['v28'], axis=1, inplace=True)\n",
    "vragen_df.drop(labels=['v28'], inplace=True)\n",
    "\n",
    "vragen_df.join(pd.DataFrame(enquete_df.dtypes, columns=['dtype']))\n",
    "vragen_df.query('vraag.str.contains(\"letter\")', engine='python')\n",
    "\n",
    "enquete_df.v1b = enquete_df.v1b.str.upper()                       # alles omzetten naar uppercase\n",
    "enquete_df.loc[~enquete_df.v1b.str.isalpha(),['v1b']] = pd.NA     # niet alfanumerieke inhoud omzetten naar NA-waarde\n",
    "\n",
    "vragen_df.query('vraag.str.contains(\"bloedgroep\")', engine='python')\n",
    "enquete_df.v7a = enquete_df.v7a.astype(pd.CategoricalDtype(categories=enquete_df.v7a.unique()))\n",
    "\n",
    "\n",
    "from datetime import timedelta\n",
    "\n",
    "# omzetten naar nominale meetschaal\n",
    "for column in ['v1b', 'v2', 'v3', 'v4', 'v7a', 'v7b', 'v10', 'v11', 'v21', 'v22', 'v25', 'v26']:\n",
    "    enquete_df[column] = enquete_df[column].astype(\n",
    "        pd.CategoricalDtype(categories=enquete_df[column].dropna().unique()))\n",
    "\n",
    "# omzetten naar ordinale meetschaal\n",
    "enquete_df.v13 = enquete_df.v13.astype(\n",
    "    pd.CategoricalDtype(categories=['Niet', 'Weinig', 'Matig', 'Groot', 'Zeer Groot', 'Extreem'], ordered=True))\n",
    "\n",
    "# timestamp parsen als datetime object\n",
    "enquete_df.Timestamp = enquete_df.Timestamp.apply(pd.to_datetime, format='%Y/%m/%d %I:%M:%S %p %Z')\n",
    "\n",
    "# v14: aantal uren gewerkt voor school parsen als timedelta object\n",
    "enquete_df.v14 = enquete_df.v14.apply(\n",
    "    lambda row: timedelta(hours=int(row.split(':')[0]), minutes=int(row.split(':')[1])))\n",
    "\n",
    "# v17: opening horeca parsen als datetime (vb. 2021-06-30)\n",
    "enquete_df.v17 = enquete_df.v17.apply(pd.to_datetime, format='%Y-%m-%d')\n",
    "\n",
    "# v1a : scores op GapMinder omzetten naar floats\n",
    "v1a = enquete_df.v1a.copy()  # kopie maken om SettingWithCopyWarning te vermijden\n",
    "\n",
    "# v1a.name = 'v1a_bis'                  # nodig indien je wil joinen met origineel\n",
    "# breuken 1/x en 1 op x omzetten naar percentages\n",
    "breuken1 = ['{}/{}'.format(i, '\\d\\d') for i in np.arange(0, 14)]\n",
    "breuken2 = ['{}\\s?op\\s?{}'.format(i, '\\d\\d') for i in np.arange(0, 14)]\n",
    "percentages = ['{:.0f}%'.format(i) for i in np.round(np.arange(0, 14) / np.full(14, 13) * 100, 0)]\n",
    "\n",
    "# vervang breuknotaties door percentagenotaties\n",
    "v1a = v1a.replace(breuken1, percentages, regex=True).replace(breuken2, percentages, regex=True)\n",
    "\n",
    "# zet alle percentages om naar floats of NaN\n",
    "enquete_df.v1a = v1a.replace('(\\d?\\d)%.*', '\\\\1', regex=True).apply(pd.to_numeric, errors='coerce')\n",
    "\n",
    "# v18 zakgeld omzetten naar floats\n",
    "enquete_df.v18 = enquete_df.v18.str.extract('(\\d+.?\\d?)').apply(pd.to_numeric, errors='coerce')\n",
    "enquete_df.v19 = enquete_df.v19.str.extract('(\\d+.?\\d?)').apply(pd.to_numeric, errors='coerce')\n",
    "\n",
    "# v27 studiepunten omzetten naar gemiddelden\n",
    "enquete_df.v27 = enquete_df.v27.replace('(\\D*)(\\d+)(-\\d+)?.*', '\\\\2\\\\3', regex=True).str.split('-').apply(\n",
    "    pd.to_numeric).apply(np.mean)"
   ],
   "execution_count": 13,
   "outputs": [
    {
     "data": {
      "text/plain": "                                                       vraag\nvraag                                                       \nTimestamp                                          Timestamp\nv1a         Wat was je score op de GapMinder test? Je hoe...\nv1b         Wat is de eerste letter van de voornaam van j...\nv2                                In welke klasgroep zit je?\nv3                               Met welke hand schrijf je ?\nv4                                       Wat is je geslacht?\nv5                                     Wat is je schoenmaat?\nv6a                        Wat is je lichaamslengte (in cm)?\nv6b                               Wat is je gewicht (in kg)?\nv7a                               Wat is je bloedgroep: AB0?\nv7b                               Ga je je laten vaccineren?\nv8                             Hoeveel broers/zussen heb je?\nv9                    In hoeveel complottheorieën geloof je?\nv10               Welke afstudeerrichting denk je te kiezen?\nv11                 Wat is je favoriete vrijetijdsbesteding?\nv12         Hoeveel uren wiskunde had je in het laatste j...\nv13         Hoe belangrijk is het voor jou om informaticu...\nv14         Hoeveel uur werk je gemiddelde per week voor ...\nv15         Wat is de afstand van thuis/kot naar de KdG c...\nv16                                  Hoe kom je naar school?\nv17         Wanneer gaat volgens jou de horeca terug open...\nv18          Hoeveel zakgeld krijg je of verdien je zelf ...\nv19            Hoeveel stukken/porties fruit eet je per dag?\nv20         Rangschik volgende fruitsoorten in volgorde v...\nv21            Welk besturingssysteem gebruik je het liefst?\nv22         Stel dat je maar één app op je smartphone moc...\nv23a        Als je jezelf op politieke spectrum zou plaat...\nv23b        Als je jezelf op politieke spectrum zou plaat...\nv24         Welk zoogdier zou jij als klasmascotte verkie...\nv25         Wat is volgens jou het zwaarste vak uit het e...\nv26         Welke vak uit het eerste jaar TI vind je het ...\nv27         In het hoger onderwijs wordt 1 studiepunt gel...\nv28         De laatste vraag is de makkelijkste  Je hoeft...",
      "text/html": "<div>\n<style scoped>\n    .dataframe tbody tr th:only-of-type {\n        vertical-align: middle;\n    }\n\n    .dataframe tbody tr th {\n        vertical-align: top;\n    }\n\n    .dataframe thead th {\n        text-align: right;\n    }\n</style>\n<table border=\"1\" class=\"dataframe\">\n  <thead>\n    <tr style=\"text-align: right;\">\n      <th></th>\n      <th>vraag</th>\n    </tr>\n    <tr>\n      <th>vraag</th>\n      <th></th>\n    </tr>\n  </thead>\n  <tbody>\n    <tr>\n      <th>Timestamp</th>\n      <td>Timestamp</td>\n    </tr>\n    <tr>\n      <th>v1a</th>\n      <td>Wat was je score op de GapMinder test? Je hoe...</td>\n    </tr>\n    <tr>\n      <th>v1b</th>\n      <td>Wat is de eerste letter van de voornaam van j...</td>\n    </tr>\n    <tr>\n      <th>v2</th>\n      <td>In welke klasgroep zit je?</td>\n    </tr>\n    <tr>\n      <th>v3</th>\n      <td>Met welke hand schrijf je ?</td>\n    </tr>\n    <tr>\n      <th>v4</th>\n      <td>Wat is je geslacht?</td>\n    </tr>\n    <tr>\n      <th>v5</th>\n      <td>Wat is je schoenmaat?</td>\n    </tr>\n    <tr>\n      <th>v6a</th>\n      <td>Wat is je lichaamslengte (in cm)?</td>\n    </tr>\n    <tr>\n      <th>v6b</th>\n      <td>Wat is je gewicht (in kg)?</td>\n    </tr>\n    <tr>\n      <th>v7a</th>\n      <td>Wat is je bloedgroep: AB0?</td>\n    </tr>\n    <tr>\n      <th>v7b</th>\n      <td>Ga je je laten vaccineren?</td>\n    </tr>\n    <tr>\n      <th>v8</th>\n      <td>Hoeveel broers/zussen heb je?</td>\n    </tr>\n    <tr>\n      <th>v9</th>\n      <td>In hoeveel complottheorieën geloof je?</td>\n    </tr>\n    <tr>\n      <th>v10</th>\n      <td>Welke afstudeerrichting denk je te kiezen?</td>\n    </tr>\n    <tr>\n      <th>v11</th>\n      <td>Wat is je favoriete vrijetijdsbesteding?</td>\n    </tr>\n    <tr>\n      <th>v12</th>\n      <td>Hoeveel uren wiskunde had je in het laatste j...</td>\n    </tr>\n    <tr>\n      <th>v13</th>\n      <td>Hoe belangrijk is het voor jou om informaticu...</td>\n    </tr>\n    <tr>\n      <th>v14</th>\n      <td>Hoeveel uur werk je gemiddelde per week voor ...</td>\n    </tr>\n    <tr>\n      <th>v15</th>\n      <td>Wat is de afstand van thuis/kot naar de KdG c...</td>\n    </tr>\n    <tr>\n      <th>v16</th>\n      <td>Hoe kom je naar school?</td>\n    </tr>\n    <tr>\n      <th>v17</th>\n      <td>Wanneer gaat volgens jou de horeca terug open...</td>\n    </tr>\n    <tr>\n      <th>v18</th>\n      <td>Hoeveel zakgeld krijg je of verdien je zelf ...</td>\n    </tr>\n    <tr>\n      <th>v19</th>\n      <td>Hoeveel stukken/porties fruit eet je per dag?</td>\n    </tr>\n    <tr>\n      <th>v20</th>\n      <td>Rangschik volgende fruitsoorten in volgorde v...</td>\n    </tr>\n    <tr>\n      <th>v21</th>\n      <td>Welk besturingssysteem gebruik je het liefst?</td>\n    </tr>\n    <tr>\n      <th>v22</th>\n      <td>Stel dat je maar één app op je smartphone moc...</td>\n    </tr>\n    <tr>\n      <th>v23a</th>\n      <td>Als je jezelf op politieke spectrum zou plaat...</td>\n    </tr>\n    <tr>\n      <th>v23b</th>\n      <td>Als je jezelf op politieke spectrum zou plaat...</td>\n    </tr>\n    <tr>\n      <th>v24</th>\n      <td>Welk zoogdier zou jij als klasmascotte verkie...</td>\n    </tr>\n    <tr>\n      <th>v25</th>\n      <td>Wat is volgens jou het zwaarste vak uit het e...</td>\n    </tr>\n    <tr>\n      <th>v26</th>\n      <td>Welke vak uit het eerste jaar TI vind je het ...</td>\n    </tr>\n    <tr>\n      <th>v27</th>\n      <td>In het hoger onderwijs wordt 1 studiepunt gel...</td>\n    </tr>\n    <tr>\n      <th>v28</th>\n      <td>De laatste vraag is de makkelijkste  Je hoeft...</td>\n    </tr>\n  </tbody>\n</table>\n</div>"
     },
     "execution_count": 13,
     "metadata": {},
     "output_type": "execute_result"
    },
    {
     "data": {
      "text/plain": "                                                       vraag    dtype\nvraag                                                                \nTimestamp                                          Timestamp   object\nv1a         Wat was je score op de GapMinder test? Je hoe...   object\nv1b         Wat is de eerste letter van de voornaam van j...   object\nv2                                In welke klasgroep zit je?   object\nv3                               Met welke hand schrijf je ?   object\nv4                                       Wat is je geslacht?   object\nv5                                     Wat is je schoenmaat?  float64\nv6a                        Wat is je lichaamslengte (in cm)?    int64\nv6b                               Wat is je gewicht (in kg)?  float64\nv7a                               Wat is je bloedgroep: AB0?   object\nv7b                               Ga je je laten vaccineren?   object\nv8                             Hoeveel broers/zussen heb je?    int64\nv9                    In hoeveel complottheorieën geloof je?    int64\nv10               Welke afstudeerrichting denk je te kiezen?   object\nv11                 Wat is je favoriete vrijetijdsbesteding?   object\nv12         Hoeveel uren wiskunde had je in het laatste j...    int64\nv13         Hoe belangrijk is het voor jou om informaticu...   object\nv14         Hoeveel uur werk je gemiddelde per week voor ...   object\nv15         Wat is de afstand van thuis/kot naar de KdG c...  float64\nv16                                  Hoe kom je naar school?   object\nv17         Wanneer gaat volgens jou de horeca terug open...   object\nv18          Hoeveel zakgeld krijg je of verdien je zelf ...   object\nv19            Hoeveel stukken/porties fruit eet je per dag?   object\nv20         Rangschik volgende fruitsoorten in volgorde v...   object\nv21            Welk besturingssysteem gebruik je het liefst?   object\nv22         Stel dat je maar één app op je smartphone moc...   object\nv23a        Als je jezelf op politieke spectrum zou plaat...  float64\nv23b        Als je jezelf op politieke spectrum zou plaat...  float64\nv24         Welk zoogdier zou jij als klasmascotte verkie...   object\nv25         Wat is volgens jou het zwaarste vak uit het e...   object\nv26         Welke vak uit het eerste jaar TI vind je het ...   object\nv27         In het hoger onderwijs wordt 1 studiepunt gel...   object",
      "text/html": "<div>\n<style scoped>\n    .dataframe tbody tr th:only-of-type {\n        vertical-align: middle;\n    }\n\n    .dataframe tbody tr th {\n        vertical-align: top;\n    }\n\n    .dataframe thead th {\n        text-align: right;\n    }\n</style>\n<table border=\"1\" class=\"dataframe\">\n  <thead>\n    <tr style=\"text-align: right;\">\n      <th></th>\n      <th>vraag</th>\n      <th>dtype</th>\n    </tr>\n    <tr>\n      <th>vraag</th>\n      <th></th>\n      <th></th>\n    </tr>\n  </thead>\n  <tbody>\n    <tr>\n      <th>Timestamp</th>\n      <td>Timestamp</td>\n      <td>object</td>\n    </tr>\n    <tr>\n      <th>v1a</th>\n      <td>Wat was je score op de GapMinder test? Je hoe...</td>\n      <td>object</td>\n    </tr>\n    <tr>\n      <th>v1b</th>\n      <td>Wat is de eerste letter van de voornaam van j...</td>\n      <td>object</td>\n    </tr>\n    <tr>\n      <th>v2</th>\n      <td>In welke klasgroep zit je?</td>\n      <td>object</td>\n    </tr>\n    <tr>\n      <th>v3</th>\n      <td>Met welke hand schrijf je ?</td>\n      <td>object</td>\n    </tr>\n    <tr>\n      <th>v4</th>\n      <td>Wat is je geslacht?</td>\n      <td>object</td>\n    </tr>\n    <tr>\n      <th>v5</th>\n      <td>Wat is je schoenmaat?</td>\n      <td>float64</td>\n    </tr>\n    <tr>\n      <th>v6a</th>\n      <td>Wat is je lichaamslengte (in cm)?</td>\n      <td>int64</td>\n    </tr>\n    <tr>\n      <th>v6b</th>\n      <td>Wat is je gewicht (in kg)?</td>\n      <td>float64</td>\n    </tr>\n    <tr>\n      <th>v7a</th>\n      <td>Wat is je bloedgroep: AB0?</td>\n      <td>object</td>\n    </tr>\n    <tr>\n      <th>v7b</th>\n      <td>Ga je je laten vaccineren?</td>\n      <td>object</td>\n    </tr>\n    <tr>\n      <th>v8</th>\n      <td>Hoeveel broers/zussen heb je?</td>\n      <td>int64</td>\n    </tr>\n    <tr>\n      <th>v9</th>\n      <td>In hoeveel complottheorieën geloof je?</td>\n      <td>int64</td>\n    </tr>\n    <tr>\n      <th>v10</th>\n      <td>Welke afstudeerrichting denk je te kiezen?</td>\n      <td>object</td>\n    </tr>\n    <tr>\n      <th>v11</th>\n      <td>Wat is je favoriete vrijetijdsbesteding?</td>\n      <td>object</td>\n    </tr>\n    <tr>\n      <th>v12</th>\n      <td>Hoeveel uren wiskunde had je in het laatste j...</td>\n      <td>int64</td>\n    </tr>\n    <tr>\n      <th>v13</th>\n      <td>Hoe belangrijk is het voor jou om informaticu...</td>\n      <td>object</td>\n    </tr>\n    <tr>\n      <th>v14</th>\n      <td>Hoeveel uur werk je gemiddelde per week voor ...</td>\n      <td>object</td>\n    </tr>\n    <tr>\n      <th>v15</th>\n      <td>Wat is de afstand van thuis/kot naar de KdG c...</td>\n      <td>float64</td>\n    </tr>\n    <tr>\n      <th>v16</th>\n      <td>Hoe kom je naar school?</td>\n      <td>object</td>\n    </tr>\n    <tr>\n      <th>v17</th>\n      <td>Wanneer gaat volgens jou de horeca terug open...</td>\n      <td>object</td>\n    </tr>\n    <tr>\n      <th>v18</th>\n      <td>Hoeveel zakgeld krijg je of verdien je zelf ...</td>\n      <td>object</td>\n    </tr>\n    <tr>\n      <th>v19</th>\n      <td>Hoeveel stukken/porties fruit eet je per dag?</td>\n      <td>object</td>\n    </tr>\n    <tr>\n      <th>v20</th>\n      <td>Rangschik volgende fruitsoorten in volgorde v...</td>\n      <td>object</td>\n    </tr>\n    <tr>\n      <th>v21</th>\n      <td>Welk besturingssysteem gebruik je het liefst?</td>\n      <td>object</td>\n    </tr>\n    <tr>\n      <th>v22</th>\n      <td>Stel dat je maar één app op je smartphone moc...</td>\n      <td>object</td>\n    </tr>\n    <tr>\n      <th>v23a</th>\n      <td>Als je jezelf op politieke spectrum zou plaat...</td>\n      <td>float64</td>\n    </tr>\n    <tr>\n      <th>v23b</th>\n      <td>Als je jezelf op politieke spectrum zou plaat...</td>\n      <td>float64</td>\n    </tr>\n    <tr>\n      <th>v24</th>\n      <td>Welk zoogdier zou jij als klasmascotte verkie...</td>\n      <td>object</td>\n    </tr>\n    <tr>\n      <th>v25</th>\n      <td>Wat is volgens jou het zwaarste vak uit het e...</td>\n      <td>object</td>\n    </tr>\n    <tr>\n      <th>v26</th>\n      <td>Welke vak uit het eerste jaar TI vind je het ...</td>\n      <td>object</td>\n    </tr>\n    <tr>\n      <th>v27</th>\n      <td>In het hoger onderwijs wordt 1 studiepunt gel...</td>\n      <td>object</td>\n    </tr>\n  </tbody>\n</table>\n</div>"
     },
     "execution_count": 13,
     "metadata": {},
     "output_type": "execute_result"
    },
    {
     "data": {
      "text/plain": "                                                   vraag\nvraag                                                   \nv1b     Wat is de eerste letter van de voornaam van j...",
      "text/html": "<div>\n<style scoped>\n    .dataframe tbody tr th:only-of-type {\n        vertical-align: middle;\n    }\n\n    .dataframe tbody tr th {\n        vertical-align: top;\n    }\n\n    .dataframe thead th {\n        text-align: right;\n    }\n</style>\n<table border=\"1\" class=\"dataframe\">\n  <thead>\n    <tr style=\"text-align: right;\">\n      <th></th>\n      <th>vraag</th>\n    </tr>\n    <tr>\n      <th>vraag</th>\n      <th></th>\n    </tr>\n  </thead>\n  <tbody>\n    <tr>\n      <th>v1b</th>\n      <td>Wat is de eerste letter van de voornaam van j...</td>\n    </tr>\n  </tbody>\n</table>\n</div>"
     },
     "execution_count": 13,
     "metadata": {},
     "output_type": "execute_result"
    },
    {
     "data": {
      "text/plain": "                             vraag\nvraag                             \nv7a     Wat is je bloedgroep: AB0?",
      "text/html": "<div>\n<style scoped>\n    .dataframe tbody tr th:only-of-type {\n        vertical-align: middle;\n    }\n\n    .dataframe tbody tr th {\n        vertical-align: top;\n    }\n\n    .dataframe thead th {\n        text-align: right;\n    }\n</style>\n<table border=\"1\" class=\"dataframe\">\n  <thead>\n    <tr style=\"text-align: right;\">\n      <th></th>\n      <th>vraag</th>\n    </tr>\n    <tr>\n      <th>vraag</th>\n      <th></th>\n    </tr>\n  </thead>\n  <tbody>\n    <tr>\n      <th>v7a</th>\n      <td>Wat is je bloedgroep: AB0?</td>\n    </tr>\n  </tbody>\n</table>\n</div>"
     },
     "execution_count": 13,
     "metadata": {},
     "output_type": "execute_result"
    }
   ]
  },
  {
   "cell_type": "markdown",
   "metadata": {
    "collapsed": false,
    "id": "CjgKHmrktpdF",
    "pycharm": {
     "name": "#%% md\n"
    }
   },
   "source": [
    "1. Welke schoenmaat komt het meest voor?\n"
   ]
  },
  {
   "cell_type": "code",
   "metadata": {
    "pycharm": {
     "name": "#%%\n"
    },
    "id": "MH6yEtTMtpdF",
    "outputId": "fb1643f6-15e5-49ec-b005-16d5ae4452fe"
   },
   "source": [
    "vraag=vragen_df.query('vraag.str.contains(\"schoen\")', engine='python')\n",
    "enquete_df.v5.value_counts().sort_index()\n",
    "enquete_df.v5.mode()"
   ],
   "execution_count": 14,
   "outputs": [
    {
     "data": {
      "text/plain": "34.0     2\n36.0     1\n37.0     1\n39.0     2\n39.5     1\n40.0     2\n41.0     7\n42.0    17\n42.5     2\n43.0    19\n43.5     1\n44.0    21\n44.5     1\n45.0    15\n46.0     8\n46.5     1\n47.0     2\nName: v5, dtype: int64"
     },
     "execution_count": 14,
     "metadata": {},
     "output_type": "execute_result"
    },
    {
     "data": {
      "text/plain": "0    44.0\ndtype: float64"
     },
     "execution_count": 14,
     "metadata": {},
     "output_type": "execute_result"
    }
   ]
  },
  {
   "cell_type": "markdown",
   "metadata": {
    "collapsed": false,
    "pycharm": {
     "name": "#%% md\n"
    },
    "id": "Rj65gj64tpdG"
   },
   "source": [
    "2. Welke vorm heeft de verdeling van schoenmaat?"
   ]
  },
  {
   "cell_type": "code",
   "metadata": {
    "pycharm": {
     "name": "#%%\n"
    },
    "id": "052JNN4btpdG",
    "outputId": "c9457c2e-a68a-469c-a362-0ad332917f2f"
   },
   "source": [
    "enquete_df.v5.mean()\n",
    "enquete_df.v5.median()\n",
    "enquete_df.v5.mode().to_numpy()[0]\n",
    "_= enquete_df.v5.hist()\n",
    "# Mean, median en modus liggen erg dicht bij elkaar\n",
    "# Maar de modus is wel groter dan mean en median.\n",
    "# Ook uit histogram blijkt dat de staart links uitloopt\n",
    "# Dus => Links scheef"
   ],
   "execution_count": 15,
   "outputs": [
    {
     "data": {
      "text/plain": "43.077669902912625"
     },
     "execution_count": 15,
     "metadata": {},
     "output_type": "execute_result"
    },
    {
     "data": {
      "text/plain": "43.0"
     },
     "execution_count": 15,
     "metadata": {},
     "output_type": "execute_result"
    },
    {
     "data": {
      "text/plain": "44.0"
     },
     "execution_count": 15,
     "metadata": {},
     "output_type": "execute_result"
    },
    {
     "data": {
      "text/plain": "<Figure size 432x288 with 1 Axes>",
      "image/png": "[encoded data removed]"
     },
     "metadata": {
      "needs_background": "light"
     },
     "output_type": "display_data"
    }
   ]
  },
  {
   "cell_type": "markdown",
   "metadata": {
    "collapsed": false,
    "pycharm": {
     "name": "#%% md\n"
    },
    "id": "S_3KGjdqtpdG"
   },
   "source": [
    "3. Zijn er uitschieters en of extreme uitschieters in de data mbt de schoenmaat?"
   ]
  },
  {
   "cell_type": "code",
   "metadata": {
    "pycharm": {
     "name": "#%%\n"
    },
    "id": "LHkkptI_tpdH",
    "outputId": "696d3fef-b204-4562-de83-0f7775e3baee"
   },
   "source": [
    "# we gebruiken opnieuw de functie outliers\n",
    "from oefeningen.hulpfuncties import uitschieters\n",
    "normal_outliers= enquete_df.v5[uitschieters(enquete_df.v5,mode='normaal')]\n",
    "display(normal_outliers)\n",
    "uitschieters(enquete_df.v5,output='grenzen')\n",
    "#Er zijn 4 uitschieters onder de ondergrens van 37.875\n",
    "\n",
    "extreme_outliers=enquete_df.v5[uitschieters(enquete_df.v5,mode='extreem')]\n",
    "extreme_outliers.size\n",
    "#Maar geen extreme uitschieters\n",
    "fig,ax = plt.subplots()\n",
    "_= enquete_df.boxplot(ax=ax,column=['v5'])\n",
    "_ = ax.set_title('Schoenmaten van studenten')\n",
    "_ = ax.set_ylabel('Schoenmaat')"
   ],
   "execution_count": 16,
   "outputs": [
    {
     "data": {
      "text/plain": "42    37.0\n46    34.0\n57    36.0\n70    34.0\nName: v5, dtype: float64"
     },
     "metadata": {},
     "output_type": "display_data"
    },
    {
     "data": {
      "text/plain": "(37.875, 48.875)"
     },
     "execution_count": 16,
     "metadata": {},
     "output_type": "execute_result"
    },
    {
     "data": {
      "text/plain": "0"
     },
     "execution_count": 16,
     "metadata": {},
     "output_type": "execute_result"
    },
    {
     "data": {
      "text/plain": "<Figure size 432x288 with 1 Axes>",
      "image/png": "[encoded data removed]"
     },
     "metadata": {
      "needs_background": "light"
     },
     "output_type": "display_data"
    }
   ]
  },
  {
   "cell_type": "markdown",
   "metadata": {
    "collapsed": false,
    "id": "53sKjT_AtpdH",
    "pycharm": {
     "name": "#%% md\n"
    }
   },
   "source": [
    "4. Zijn er (evenveel) uitschieters in de data mbt de lengte?"
   ]
  },
  {
   "cell_type": "code",
   "metadata": {
    "pycharm": {
     "name": "#%%\n"
    },
    "id": "aWdQDRM4tpdI",
    "outputId": "aec02dd1-6660-41ae-cb98-3c76e57eeb08"
   },
   "source": [
    "vragen_df.query('vraag.str.contains(\"lengte\")', engine='python')\n",
    "_ = enquete_df.v6a.hist()\n",
    "\n",
    "from oefeningen.hulpfuncties import uitschieters\n",
    "normal_outliers= enquete_df.v6a[uitschieters(enquete_df.v6a,mode='normaal')]\n",
    "display(normal_outliers)\n",
    "uitschieters(enquete_df.v6a,output='grenzen')\n",
    "#Er is 1 uitschieter onder de ondergrens van 160\n",
    "\n",
    "extreme_outliers=enquete_df.v6a[uitschieters(enquete_df.v6a,mode='extreem')]\n",
    "extreme_outliers.size\n",
    "#Maar geen extreme uitschieters\n",
    "fig,ax = plt.subplots()\n",
    "_= enquete_df.boxplot(ax=ax,column=['v6a'])\n",
    "_ = ax.set_title('Schoenmaten van studenten')\n",
    "_ = ax.set_ylabel('Schoenmaat')\n"
   ],
   "execution_count": 17,
   "outputs": [
    {
     "data": {
      "text/plain": "                                    vraag\nvraag                                    \nv6a     Wat is je lichaamslengte (in cm)?",
      "text/html": "<div>\n<style scoped>\n    .dataframe tbody tr th:only-of-type {\n        vertical-align: middle;\n    }\n\n    .dataframe tbody tr th {\n        vertical-align: top;\n    }\n\n    .dataframe thead th {\n        text-align: right;\n    }\n</style>\n<table border=\"1\" class=\"dataframe\">\n  <thead>\n    <tr style=\"text-align: right;\">\n      <th></th>\n      <th>vraag</th>\n    </tr>\n    <tr>\n      <th>vraag</th>\n      <th></th>\n    </tr>\n  </thead>\n  <tbody>\n    <tr>\n      <th>v6a</th>\n      <td>Wat is je lichaamslengte (in cm)?</td>\n    </tr>\n  </tbody>\n</table>\n</div>"
     },
     "execution_count": 17,
     "metadata": {},
     "output_type": "execute_result"
    },
    {
     "data": {
      "text/plain": "46    146\nName: v6a, dtype: int64"
     },
     "metadata": {},
     "output_type": "display_data"
    },
    {
     "data": {
      "text/plain": "(160.0, 200.0)"
     },
     "execution_count": 17,
     "metadata": {},
     "output_type": "execute_result"
    },
    {
     "data": {
      "text/plain": "0"
     },
     "execution_count": 17,
     "metadata": {},
     "output_type": "execute_result"
    },
    {
     "data": {
      "text/plain": "<Figure size 432x288 with 1 Axes>",
      "image/png": "[encoded data removed]"
     },
     "metadata": {
      "needs_background": "light"
     },
     "output_type": "display_data"
    },
    {
     "data": {
      "text/plain": "<Figure size 432x288 with 1 Axes>",
      "image/png": "[encoded data removed]"
     },
     "metadata": {
      "needs_background": "light"
     },
     "output_type": "display_data"
    }
   ]
  },
  {
   "cell_type": "markdown",
   "metadata": {
    "collapsed": false,
    "pycharm": {
     "name": "#%% md\n"
    },
    "id": "C8MLnPw2tpdI"
   },
   "source": [
    "5. Een student heeft als schoenmaat 44 en als lengte 175. Heeft deze student relatief (tov van de groep) gezien grotere voeten of een grotere lengte ?\n"
   ]
  },
  {
   "cell_type": "code",
   "metadata": {
    "pycharm": {
     "name": "#%%\n"
    },
    "id": "Q4PalP6ztpdJ",
    "outputId": "bc6cb18b-19d8-45f5-e721-d6b24853000b"
   },
   "source": [
    "#bereken de z-score\n",
    "(175-enquete_df.v6a.mean()) / enquete_df.v6a.std()\n",
    "(44-enquete_df.v5.mean()) / enquete_df.v5.std()\n",
    "# beiden zijn een kleiner dan 1\n",
    "# hun afwijking tov. het gemiddelde KLEINER is dat de standaard afwijking\n",
    "# Dus => weinig afwijkend\n",
    "# De lengte is een beetje lager dan het gemiddelde\n",
    "# De schoenmaat is een beetje groter dan het gemiddelde"
   ],
   "execution_count": 18,
   "outputs": [
    {
     "data": {
      "text/plain": "-0.6084767284312081"
     },
     "execution_count": 18,
     "metadata": {},
     "output_type": "execute_result"
    },
    {
     "data": {
      "text/plain": "0.39580306921789254"
     },
     "execution_count": 18,
     "metadata": {},
     "output_type": "execute_result"
    }
   ]
  }
 ]
}
