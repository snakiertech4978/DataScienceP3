{
 "nbformat": 4,
 "nbformat_minor": 0,
 "metadata": {
  "kernelspec": {
   "display_name": "Python 3",
   "language": "python",
   "name": "python3"
  },
  "language_info": {
   "codemirror_mode": {
    "name": "ipython",
    "version": 3
   },
   "file_extension": ".py",
   "mimetype": "text/x-python",
   "name": "python",
   "nbconvert_exporter": "python",
   "pygments_lexer": "ipython3",
   "version": "3.8.7"
  },
  "toc": {
   "base_numbering": 1,
   "nav_menu": {},
   "number_sections": true,
   "sideBar": true,
   "skip_h1_title": false,
   "title_cell": "Table of Contents",
   "title_sidebar": "Contents",
   "toc_cell": false,
   "toc_position": {},
   "toc_section_display": true,
   "toc_window_display": true
  },
  "varInspector": {
   "cols": {
    "lenName": 16,
    "lenType": 16,
    "lenVar": 40
   },
   "kernels_config": {
    "python": {
     "delete_cmd_postfix": "",
     "delete_cmd_prefix": "del ",
     "library": "var_list.py",
     "varRefreshCmd": "print(var_dic_list())"
    },
    "r": {
     "delete_cmd_postfix": ") ",
     "delete_cmd_prefix": "rm(",
     "library": "var_list.r",
     "varRefreshCmd": "cat(var_dic_list()) "
    }
   },
   "types_to_exclude": [
    "module",
    "function",
    "builtin_function_or_method",
    "instance",
    "_Feature"
   ],
   "window_display": false
  },
  "colab": {
   "name": "P3W5 - Centrum en Spreidingsmaten - Slides.ipynb",
   "provenance": [],
   "collapsed_sections": [
    "sOYqJ7SN2cfy"
   ],
   "toc_visible": true
  }
 },
 "cells": [
  {
   "cell_type": "markdown",
   "metadata": {
    "id": "Sg6my1JV6CW6"
   },
   "source": [
    "# Setup"
   ]
  },
  {
   "cell_type": "code",
   "metadata": {
    "colab": {
     "base_uri": "https://localhost:8080/"
    },
    "id": "os1WmiPW2cfj",
    "executionInfo": {
     "status": "ok",
     "timestamp": 1615902849858,
     "user_tz": -60,
     "elapsed": 28329,
     "user": {
      "displayName": "Roeland De Meester",
      "photoUrl": "https://lh3.googleusercontent.com/a-/AOh14GgHFLlRcHRUHl0ul5JvDMiUd09ps_mERs2jpo2D=s64",
      "userId": "00580425314421673417"
     }
    },
    "outputId": "a627a55a-dc8b-4740-d7a7-d2af9f80b62c"
   },
   "source": [
    "from IPython import InteractiveShell\n",
    "import matplotlib.pyplot as plt\n",
    "import numpy as np\n",
    "import pandas as pd\n",
    "\n",
    "# zorg dat alle output getoond wordt\n",
    "InteractiveShell.ast_node_interactivity = \"all\""
   ],
   "execution_count": 36,
   "outputs": []
  },
  {
   "cell_type": "markdown",
   "metadata": {
    "collapsed": false,
    "id": "Z4nuX8rf2cfp"
   },
   "source": [
    "# Centrummaten\n",
    "\n",
    "## Voorbereiding"
   ]
  },
  {
   "cell_type": "code",
   "metadata": {
    "colab": {
     "base_uri": "https://localhost:8080/",
     "height": 419
    },
    "id": "i3PAWvFU2cfp",
    "executionInfo": {
     "status": "ok",
     "timestamp": 1615902856433,
     "user_tz": -60,
     "elapsed": 4683,
     "user": {
      "displayName": "Roeland De Meester",
      "photoUrl": "https://lh3.googleusercontent.com/a-/AOh14GgHFLlRcHRUHl0ul5JvDMiUd09ps_mERs2jpo2D=s64",
      "userId": "00580425314421673417"
     }
    },
    "outputId": "74b14acb-50c5-43ec-8185-735304a913f3"
   },
   "source": [
    "# Zoek en download de file 'laptops.csv' en plaats deze ergens in je pycharm/colab project\n",
    "# lees de data in\n",
    "laptops = pd.read_csv('datasets/laptops.csv', sep=';', decimal=',')\n",
    "\n",
    "# pas de levels aan van de gegevens op ordinale meetschaal\n",
    "laptops.cpuGeneration = pd.Categorical(laptops.cpuGeneration, ordered=True,\n",
    "                                       categories=['Sandy Bridge', 'Ivy Bridge', 'Haswell', 'Broadwell', 'Skylake',\n",
    "                                                   'Kabylake'])\n",
    "laptops.cpuType = pd.Categorical(laptops.cpuType, ordered=True, categories=['i3', 'i5', 'i7'])\n",
    "\n",
    "# nominaal meetniveau\n",
    "laptops.brand = pd.Categorical(laptops.brand)\n",
    "\n",
    "laptops.head()"
   ],
   "execution_count": 37,
   "outputs": [
    {
     "data": {
      "text/plain": "  cpuGeneration cpuType   RAM  diskspace    brand\n0      Kabylake      i7   4.0      232.5  Toshiba\n1      Kabylake      i5   2.0      992.5     Acer\n2       Haswell      i7  16.0      495.6     Dell\n3       Skylake      i7   4.0      217.2  Toshiba\n4     Broadwell      i5   4.0      245.8     Acer",
      "text/html": "<div>\n<style scoped>\n    .dataframe tbody tr th:only-of-type {\n        vertical-align: middle;\n    }\n\n    .dataframe tbody tr th {\n        vertical-align: top;\n    }\n\n    .dataframe thead th {\n        text-align: right;\n    }\n</style>\n<table border=\"1\" class=\"dataframe\">\n  <thead>\n    <tr style=\"text-align: right;\">\n      <th></th>\n      <th>cpuGeneration</th>\n      <th>cpuType</th>\n      <th>RAM</th>\n      <th>diskspace</th>\n      <th>brand</th>\n    </tr>\n  </thead>\n  <tbody>\n    <tr>\n      <th>0</th>\n      <td>Kabylake</td>\n      <td>i7</td>\n      <td>4.0</td>\n      <td>232.5</td>\n      <td>Toshiba</td>\n    </tr>\n    <tr>\n      <th>1</th>\n      <td>Kabylake</td>\n      <td>i5</td>\n      <td>2.0</td>\n      <td>992.5</td>\n      <td>Acer</td>\n    </tr>\n    <tr>\n      <th>2</th>\n      <td>Haswell</td>\n      <td>i7</td>\n      <td>16.0</td>\n      <td>495.6</td>\n      <td>Dell</td>\n    </tr>\n    <tr>\n      <th>3</th>\n      <td>Skylake</td>\n      <td>i7</td>\n      <td>4.0</td>\n      <td>217.2</td>\n      <td>Toshiba</td>\n    </tr>\n    <tr>\n      <th>4</th>\n      <td>Broadwell</td>\n      <td>i5</td>\n      <td>4.0</td>\n      <td>245.8</td>\n      <td>Acer</td>\n    </tr>\n  </tbody>\n</table>\n</div>"
     },
     "execution_count": 37,
     "metadata": {},
     "output_type": "execute_result"
    }
   ]
  },
  {
   "cell_type": "markdown",
   "metadata": {
    "collapsed": false,
    "id": "5eQiJSi12cfq"
   },
   "source": [
    "## De modus berekenen"
   ]
  },
  {
   "cell_type": "code",
   "metadata": {
    "colab": {
     "base_uri": "https://localhost:8080/"
    },
    "id": "6GjNKCo72cfq",
    "executionInfo": {
     "status": "ok",
     "timestamp": 1615823551998,
     "user_tz": -60,
     "elapsed": 432,
     "user": {
      "displayName": "Roeland De Meester",
      "photoUrl": "https://lh3.googleusercontent.com/a-/AOh14GgHFLlRcHRUHl0ul5JvDMiUd09ps_mERs2jpo2D=s64",
      "userId": "00580425314421673417"
     }
    },
    "outputId": "3d8848b4-c7ba-4d5f-d3f3-9673529a9776"
   },
   "source": [
    "# welke waarde komt het meest voor - gebruik de mode() functie\n",
    "\n",
    "print(f'Modus = {laptops.cpuGeneration.mode()[0]}')\n",
    "\n",
    "# check: value_counts toon het aantal per category\n",
    "laptops.cpuGeneration.value_counts().to_frame()\n",
    "\n",
    "# een ander voorbeeld\n",
    "print(f'Modus = {laptops.cpuType.mode()[0]}')\n",
    "laptops.cpuType.value_counts()"
   ],
   "execution_count": 38,
   "outputs": [
    {
     "name": "stdout",
     "output_type": "stream",
     "text": [
      "Modus = Broadwell\n"
     ]
    },
    {
     "data": {
      "text/plain": "              cpuGeneration\nBroadwell               218\nHaswell                 166\nSkylake                 155\nKabylake                143\nIvy Bridge              107\nSandy Bridge             63",
      "text/html": "<div>\n<style scoped>\n    .dataframe tbody tr th:only-of-type {\n        vertical-align: middle;\n    }\n\n    .dataframe tbody tr th {\n        vertical-align: top;\n    }\n\n    .dataframe thead th {\n        text-align: right;\n    }\n</style>\n<table border=\"1\" class=\"dataframe\">\n  <thead>\n    <tr style=\"text-align: right;\">\n      <th></th>\n      <th>cpuGeneration</th>\n    </tr>\n  </thead>\n  <tbody>\n    <tr>\n      <th>Broadwell</th>\n      <td>218</td>\n    </tr>\n    <tr>\n      <th>Haswell</th>\n      <td>166</td>\n    </tr>\n    <tr>\n      <th>Skylake</th>\n      <td>155</td>\n    </tr>\n    <tr>\n      <th>Kabylake</th>\n      <td>143</td>\n    </tr>\n    <tr>\n      <th>Ivy Bridge</th>\n      <td>107</td>\n    </tr>\n    <tr>\n      <th>Sandy Bridge</th>\n      <td>63</td>\n    </tr>\n  </tbody>\n</table>\n</div>"
     },
     "execution_count": 38,
     "metadata": {},
     "output_type": "execute_result"
    },
    {
     "name": "stdout",
     "output_type": "stream",
     "text": [
      "Modus = i5\n"
     ]
    },
    {
     "data": {
      "text/plain": "i5    556\ni3    213\ni7     84\nName: cpuType, dtype: int64"
     },
     "execution_count": 38,
     "metadata": {},
     "output_type": "execute_result"
    }
   ]
  },
  {
   "cell_type": "markdown",
   "metadata": {
    "collapsed": false,
    "id": "18qxzmfl2cfq"
   },
   "source": [
    "## De mediaan berekenen"
   ]
  },
  {
   "cell_type": "code",
   "metadata": {
    "colab": {
     "base_uri": "https://localhost:8080/",
     "height": 438
    },
    "id": "k0kbe3B22cfr",
    "executionInfo": {
     "status": "error",
     "timestamp": 1615823736481,
     "user_tz": -60,
     "elapsed": 387,
     "user": {
      "displayName": "Roeland De Meester",
      "photoUrl": "https://lh3.googleusercontent.com/a-/AOh14GgHFLlRcHRUHl0ul5JvDMiUd09ps_mERs2jpo2D=s64",
      "userId": "00580425314421673417"
     }
    },
    "outputId": "9a2b105c-f302-492e-a9f9-c62b538772f8"
   },
   "source": [
    "# gebruik de median() functie\n",
    "laptops.RAM.median()\n",
    "laptops.diskspace.median()\n",
    "\n",
    "# median werkt niet op categorical data\n",
    "# print(laptops.cpuGeneration.median())\n",
    "\n",
    "# Dit moet volgende  error geven : \n",
    "# TypeError: Categorical cannot perform the operation median\n",
    "\n",
    "# werkt wel met de quantile() functie (zie verder)\n",
    "laptops.cpuGeneration.quantile(0.5)"
   ],
   "execution_count": 42,
   "outputs": [
    {
     "data": {
      "text/plain": "4.0"
     },
     "execution_count": 42,
     "metadata": {},
     "output_type": "execute_result"
    },
    {
     "data": {
      "text/plain": "249.8"
     },
     "execution_count": 42,
     "metadata": {},
     "output_type": "execute_result"
    },
    {
     "data": {
      "text/plain": "'Broadwell'"
     },
     "execution_count": 42,
     "metadata": {},
     "output_type": "execute_result"
    }
   ]
  },
  {
   "cell_type": "markdown",
   "metadata": {
    "collapsed": false,
    "id": "IGpQ2ht62cfr"
   },
   "source": [
    "## Zelf median berekenen voor categorical data"
   ]
  },
  {
   "cell_type": "code",
   "metadata": {
    "colab": {
     "base_uri": "https://localhost:8080/"
    },
    "id": "6mh5qsJ-2cfr",
    "executionInfo": {
     "status": "ok",
     "timestamp": 1615308861774,
     "user_tz": -60,
     "elapsed": 543,
     "user": {
      "displayName": "Roeland De Meester",
      "photoUrl": "https://lh3.googleusercontent.com/a-/AOh14GgHFLlRcHRUHl0ul5JvDMiUd09ps_mERs2jpo2D=s64",
      "userId": "00580425314421673417"
     }
    },
    "outputId": "8c369a70-f396-4e81-e43a-33099f1fa466"
   },
   "source": [
    "# print(laptops.cpuGeneration.median())\n",
    "def median_categorical(data):\n",
    "    import math\n",
    "    d = data.dropna()\n",
    "    n = len(d)\n",
    "    middle = math.floor(n / 2)\n",
    "    return d.sort_values().reset_index(drop=True)[middle]\n",
    "\n",
    "\n",
    "# check of het werkt voor\n",
    "median_categorical(laptops.RAM)\n",
    "median_categorical(laptops.cpuGeneration)\n",
    "median_categorical(laptops.cpuType)"
   ],
   "execution_count": 43,
   "outputs": [
    {
     "data": {
      "text/plain": "4.0"
     },
     "execution_count": 43,
     "metadata": {},
     "output_type": "execute_result"
    },
    {
     "data": {
      "text/plain": "'Broadwell'"
     },
     "execution_count": 43,
     "metadata": {},
     "output_type": "execute_result"
    },
    {
     "data": {
      "text/plain": "'i5'"
     },
     "execution_count": 43,
     "metadata": {},
     "output_type": "execute_result"
    }
   ]
  },
  {
   "cell_type": "markdown",
   "metadata": {
    "collapsed": false,
    "id": "Vi7ut4_82cfs"
   },
   "source": [
    "## Het gemiddelde berekenen"
   ]
  },
  {
   "cell_type": "code",
   "metadata": {
    "colab": {
     "base_uri": "https://localhost:8080/",
     "height": 408
    },
    "id": "x8LZgbQB2cfs",
    "executionInfo": {
     "status": "error",
     "timestamp": 1615308414238,
     "user_tz": -60,
     "elapsed": 541,
     "user": {
      "displayName": "Roeland De Meester",
      "photoUrl": "https://lh3.googleusercontent.com/a-/AOh14GgHFLlRcHRUHl0ul5JvDMiUd09ps_mERs2jpo2D=s64",
      "userId": "00580425314421673417"
     }
    },
    "outputId": "4c23fcc8-42e7-46f6-bb8c-e784aed9ea38"
   },
   "source": [
    "# gebruik de mean() functie\n",
    "print(f'Gemiddelde = {laptops.RAM.mean():.2f}')\n",
    "print(f'Gemiddelde = {laptops.diskspace.mean():.2f}')\n",
    "\n",
    "# MEAN werkt niet op categorical data\n",
    "print(f'Gemiddelde = {laptops.cpuGeneration.mean()}')\n",
    "# geen work-around mogelijk deze keer\n",
    "\n",
    "# Dit moet volgende  error geven : \n",
    "# TypeError: Categorical cannot perform the operation median"
   ],
   "execution_count": 6,
   "outputs": [
    {
     "name": "stdout",
     "output_type": "stream",
     "text": [
      "Gemiddelde = 6.13\n",
      "Gemiddelde = 356.76\n"
     ]
    },
    {
     "ename": "TypeError",
     "evalue": "'Categorical' with dtype category does not support reduction 'mean'",
     "output_type": "error",
     "traceback": [
      "\u001B[1;31m---------------------------------------------------------------------------\u001B[0m",
      "\u001B[1;31mTypeError\u001B[0m                                 Traceback (most recent call last)",
      "Cell \u001B[1;32mIn[6], line 6\u001B[0m\n\u001B[0;32m      3\u001B[0m \u001B[38;5;28mprint\u001B[39m(\u001B[38;5;124mf\u001B[39m\u001B[38;5;124m'\u001B[39m\u001B[38;5;124mGemiddelde = \u001B[39m\u001B[38;5;132;01m{\u001B[39;00mlaptops\u001B[38;5;241m.\u001B[39mdiskspace\u001B[38;5;241m.\u001B[39mmean()\u001B[38;5;132;01m:\u001B[39;00m\u001B[38;5;124m.2f\u001B[39m\u001B[38;5;132;01m}\u001B[39;00m\u001B[38;5;124m'\u001B[39m)\n\u001B[0;32m      5\u001B[0m \u001B[38;5;66;03m# MEAN werkt niet op categorical data\u001B[39;00m\n\u001B[1;32m----> 6\u001B[0m \u001B[38;5;28mprint\u001B[39m(\u001B[38;5;124mf\u001B[39m\u001B[38;5;124m'\u001B[39m\u001B[38;5;124mGemiddelde = \u001B[39m\u001B[38;5;132;01m{\u001B[39;00m\u001B[43mlaptops\u001B[49m\u001B[38;5;241;43m.\u001B[39;49m\u001B[43mcpuGeneration\u001B[49m\u001B[38;5;241;43m.\u001B[39;49m\u001B[43mmean\u001B[49m\u001B[43m(\u001B[49m\u001B[43m)\u001B[49m\u001B[38;5;132;01m}\u001B[39;00m\u001B[38;5;124m'\u001B[39m)\n\u001B[0;32m      7\u001B[0m \u001B[38;5;66;03m# geen work-around mogelijk deze keer\u001B[39;00m\n\u001B[0;32m      8\u001B[0m \n\u001B[0;32m      9\u001B[0m \u001B[38;5;66;03m# Dit moet volgende  error geven : \u001B[39;00m\n\u001B[0;32m     10\u001B[0m \u001B[38;5;66;03m# TypeError: Categorical cannot perform the operation median\u001B[39;00m\n",
      "File \u001B[1;32m~\\.virtualenvs\\ds-python311\\Lib\\site-packages\\pandas\\core\\generic.py:11847\u001B[0m, in \u001B[0;36mNDFrame._add_numeric_operations.<locals>.mean\u001B[1;34m(self, axis, skipna, level, numeric_only, **kwargs)\u001B[0m\n\u001B[0;32m  11829\u001B[0m \u001B[38;5;129m@doc\u001B[39m(\n\u001B[0;32m  11830\u001B[0m     _num_doc,\n\u001B[0;32m  11831\u001B[0m     desc\u001B[38;5;241m=\u001B[39m\u001B[38;5;124m\"\u001B[39m\u001B[38;5;124mReturn the mean of the values over the requested axis.\u001B[39m\u001B[38;5;124m\"\u001B[39m,\n\u001B[1;32m   (...)\u001B[0m\n\u001B[0;32m  11845\u001B[0m     \u001B[38;5;241m*\u001B[39m\u001B[38;5;241m*\u001B[39mkwargs,\n\u001B[0;32m  11846\u001B[0m ):\n\u001B[1;32m> 11847\u001B[0m     \u001B[38;5;28;01mreturn\u001B[39;00m \u001B[43mNDFrame\u001B[49m\u001B[38;5;241;43m.\u001B[39;49m\u001B[43mmean\u001B[49m\u001B[43m(\u001B[49m\u001B[38;5;28;43mself\u001B[39;49m\u001B[43m,\u001B[49m\u001B[43m \u001B[49m\u001B[43maxis\u001B[49m\u001B[43m,\u001B[49m\u001B[43m \u001B[49m\u001B[43mskipna\u001B[49m\u001B[43m,\u001B[49m\u001B[43m \u001B[49m\u001B[43mlevel\u001B[49m\u001B[43m,\u001B[49m\u001B[43m \u001B[49m\u001B[43mnumeric_only\u001B[49m\u001B[43m,\u001B[49m\u001B[43m \u001B[49m\u001B[38;5;241;43m*\u001B[39;49m\u001B[38;5;241;43m*\u001B[39;49m\u001B[43mkwargs\u001B[49m\u001B[43m)\u001B[49m\n",
      "File \u001B[1;32m~\\.virtualenvs\\ds-python311\\Lib\\site-packages\\pandas\\core\\generic.py:11401\u001B[0m, in \u001B[0;36mNDFrame.mean\u001B[1;34m(self, axis, skipna, level, numeric_only, **kwargs)\u001B[0m\n\u001B[0;32m  11393\u001B[0m \u001B[38;5;28;01mdef\u001B[39;00m \u001B[38;5;21mmean\u001B[39m(\n\u001B[0;32m  11394\u001B[0m     \u001B[38;5;28mself\u001B[39m,\n\u001B[0;32m  11395\u001B[0m     axis: Axis \u001B[38;5;241m|\u001B[39m \u001B[38;5;28;01mNone\u001B[39;00m \u001B[38;5;241m|\u001B[39m lib\u001B[38;5;241m.\u001B[39mNoDefault \u001B[38;5;241m=\u001B[39m lib\u001B[38;5;241m.\u001B[39mno_default,\n\u001B[1;32m   (...)\u001B[0m\n\u001B[0;32m  11399\u001B[0m     \u001B[38;5;241m*\u001B[39m\u001B[38;5;241m*\u001B[39mkwargs,\n\u001B[0;32m  11400\u001B[0m ) \u001B[38;5;241m-\u001B[39m\u001B[38;5;241m>\u001B[39m Series \u001B[38;5;241m|\u001B[39m \u001B[38;5;28mfloat\u001B[39m:\n\u001B[1;32m> 11401\u001B[0m     \u001B[38;5;28;01mreturn\u001B[39;00m \u001B[38;5;28;43mself\u001B[39;49m\u001B[38;5;241;43m.\u001B[39;49m\u001B[43m_stat_function\u001B[49m\u001B[43m(\u001B[49m\n\u001B[0;32m  11402\u001B[0m \u001B[43m        \u001B[49m\u001B[38;5;124;43m\"\u001B[39;49m\u001B[38;5;124;43mmean\u001B[39;49m\u001B[38;5;124;43m\"\u001B[39;49m\u001B[43m,\u001B[49m\u001B[43m \u001B[49m\u001B[43mnanops\u001B[49m\u001B[38;5;241;43m.\u001B[39;49m\u001B[43mnanmean\u001B[49m\u001B[43m,\u001B[49m\u001B[43m \u001B[49m\u001B[43maxis\u001B[49m\u001B[43m,\u001B[49m\u001B[43m \u001B[49m\u001B[43mskipna\u001B[49m\u001B[43m,\u001B[49m\u001B[43m \u001B[49m\u001B[43mlevel\u001B[49m\u001B[43m,\u001B[49m\u001B[43m \u001B[49m\u001B[43mnumeric_only\u001B[49m\u001B[43m,\u001B[49m\u001B[43m \u001B[49m\u001B[38;5;241;43m*\u001B[39;49m\u001B[38;5;241;43m*\u001B[39;49m\u001B[43mkwargs\u001B[49m\n\u001B[0;32m  11403\u001B[0m \u001B[43m    \u001B[49m\u001B[43m)\u001B[49m\n",
      "File \u001B[1;32m~\\.virtualenvs\\ds-python311\\Lib\\site-packages\\pandas\\core\\generic.py:11353\u001B[0m, in \u001B[0;36mNDFrame._stat_function\u001B[1;34m(self, name, func, axis, skipna, level, numeric_only, **kwargs)\u001B[0m\n\u001B[0;32m  11343\u001B[0m     warnings\u001B[38;5;241m.\u001B[39mwarn(\n\u001B[0;32m  11344\u001B[0m         \u001B[38;5;124m\"\u001B[39m\u001B[38;5;124mUsing the level keyword in DataFrame and Series aggregations is \u001B[39m\u001B[38;5;124m\"\u001B[39m\n\u001B[0;32m  11345\u001B[0m         \u001B[38;5;124m\"\u001B[39m\u001B[38;5;124mdeprecated and will be removed in a future version. Use groupby \u001B[39m\u001B[38;5;124m\"\u001B[39m\n\u001B[1;32m   (...)\u001B[0m\n\u001B[0;32m  11348\u001B[0m         stacklevel\u001B[38;5;241m=\u001B[39mfind_stack_level(),\n\u001B[0;32m  11349\u001B[0m     )\n\u001B[0;32m  11350\u001B[0m     \u001B[38;5;28;01mreturn\u001B[39;00m \u001B[38;5;28mself\u001B[39m\u001B[38;5;241m.\u001B[39m_agg_by_level(\n\u001B[0;32m  11351\u001B[0m         name, axis\u001B[38;5;241m=\u001B[39maxis, level\u001B[38;5;241m=\u001B[39mlevel, skipna\u001B[38;5;241m=\u001B[39mskipna, numeric_only\u001B[38;5;241m=\u001B[39mnumeric_only\n\u001B[0;32m  11352\u001B[0m     )\n\u001B[1;32m> 11353\u001B[0m \u001B[38;5;28;01mreturn\u001B[39;00m \u001B[38;5;28;43mself\u001B[39;49m\u001B[38;5;241;43m.\u001B[39;49m\u001B[43m_reduce\u001B[49m\u001B[43m(\u001B[49m\n\u001B[0;32m  11354\u001B[0m \u001B[43m    \u001B[49m\u001B[43mfunc\u001B[49m\u001B[43m,\u001B[49m\u001B[43m \u001B[49m\u001B[43mname\u001B[49m\u001B[38;5;241;43m=\u001B[39;49m\u001B[43mname\u001B[49m\u001B[43m,\u001B[49m\u001B[43m \u001B[49m\u001B[43maxis\u001B[49m\u001B[38;5;241;43m=\u001B[39;49m\u001B[43maxis\u001B[49m\u001B[43m,\u001B[49m\u001B[43m \u001B[49m\u001B[43mskipna\u001B[49m\u001B[38;5;241;43m=\u001B[39;49m\u001B[43mskipna\u001B[49m\u001B[43m,\u001B[49m\u001B[43m \u001B[49m\u001B[43mnumeric_only\u001B[49m\u001B[38;5;241;43m=\u001B[39;49m\u001B[43mnumeric_only\u001B[49m\n\u001B[0;32m  11355\u001B[0m \u001B[43m\u001B[49m\u001B[43m)\u001B[49m\n",
      "File \u001B[1;32m~\\.virtualenvs\\ds-python311\\Lib\\site-packages\\pandas\\core\\series.py:4797\u001B[0m, in \u001B[0;36mSeries._reduce\u001B[1;34m(self, op, name, axis, skipna, numeric_only, filter_type, **kwds)\u001B[0m\n\u001B[0;32m   4793\u001B[0m     \u001B[38;5;28mself\u001B[39m\u001B[38;5;241m.\u001B[39m_get_axis_number(axis)\n\u001B[0;32m   4795\u001B[0m \u001B[38;5;28;01mif\u001B[39;00m \u001B[38;5;28misinstance\u001B[39m(delegate, ExtensionArray):\n\u001B[0;32m   4796\u001B[0m     \u001B[38;5;66;03m# dispatch to ExtensionArray interface\u001B[39;00m\n\u001B[1;32m-> 4797\u001B[0m     \u001B[38;5;28;01mreturn\u001B[39;00m \u001B[43mdelegate\u001B[49m\u001B[38;5;241;43m.\u001B[39;49m\u001B[43m_reduce\u001B[49m\u001B[43m(\u001B[49m\u001B[43mname\u001B[49m\u001B[43m,\u001B[49m\u001B[43m \u001B[49m\u001B[43mskipna\u001B[49m\u001B[38;5;241;43m=\u001B[39;49m\u001B[43mskipna\u001B[49m\u001B[43m,\u001B[49m\u001B[43m \u001B[49m\u001B[38;5;241;43m*\u001B[39;49m\u001B[38;5;241;43m*\u001B[39;49m\u001B[43mkwds\u001B[49m\u001B[43m)\u001B[49m\n\u001B[0;32m   4799\u001B[0m \u001B[38;5;28;01melse\u001B[39;00m:\n\u001B[0;32m   4800\u001B[0m     \u001B[38;5;66;03m# dispatch to numpy arrays\u001B[39;00m\n\u001B[0;32m   4801\u001B[0m     \u001B[38;5;28;01mif\u001B[39;00m numeric_only \u001B[38;5;129;01mand\u001B[39;00m \u001B[38;5;129;01mnot\u001B[39;00m is_numeric_dtype(\u001B[38;5;28mself\u001B[39m\u001B[38;5;241m.\u001B[39mdtype):\n",
      "File \u001B[1;32m~\\.virtualenvs\\ds-python311\\Lib\\site-packages\\pandas\\core\\arrays\\base.py:1435\u001B[0m, in \u001B[0;36mExtensionArray._reduce\u001B[1;34m(self, name, skipna, **kwargs)\u001B[0m\n\u001B[0;32m   1433\u001B[0m meth \u001B[38;5;241m=\u001B[39m \u001B[38;5;28mgetattr\u001B[39m(\u001B[38;5;28mself\u001B[39m, name, \u001B[38;5;28;01mNone\u001B[39;00m)\n\u001B[0;32m   1434\u001B[0m \u001B[38;5;28;01mif\u001B[39;00m meth \u001B[38;5;129;01mis\u001B[39;00m \u001B[38;5;28;01mNone\u001B[39;00m:\n\u001B[1;32m-> 1435\u001B[0m     \u001B[38;5;28;01mraise\u001B[39;00m \u001B[38;5;167;01mTypeError\u001B[39;00m(\n\u001B[0;32m   1436\u001B[0m         \u001B[38;5;124mf\u001B[39m\u001B[38;5;124m\"\u001B[39m\u001B[38;5;124m'\u001B[39m\u001B[38;5;132;01m{\u001B[39;00m\u001B[38;5;28mtype\u001B[39m(\u001B[38;5;28mself\u001B[39m)\u001B[38;5;241m.\u001B[39m\u001B[38;5;18m__name__\u001B[39m\u001B[38;5;132;01m}\u001B[39;00m\u001B[38;5;124m'\u001B[39m\u001B[38;5;124m with dtype \u001B[39m\u001B[38;5;132;01m{\u001B[39;00m\u001B[38;5;28mself\u001B[39m\u001B[38;5;241m.\u001B[39mdtype\u001B[38;5;132;01m}\u001B[39;00m\u001B[38;5;124m \u001B[39m\u001B[38;5;124m\"\u001B[39m\n\u001B[0;32m   1437\u001B[0m         \u001B[38;5;124mf\u001B[39m\u001B[38;5;124m\"\u001B[39m\u001B[38;5;124mdoes not support reduction \u001B[39m\u001B[38;5;124m'\u001B[39m\u001B[38;5;132;01m{\u001B[39;00mname\u001B[38;5;132;01m}\u001B[39;00m\u001B[38;5;124m'\u001B[39m\u001B[38;5;124m\"\u001B[39m\n\u001B[0;32m   1438\u001B[0m     )\n\u001B[0;32m   1439\u001B[0m \u001B[38;5;28;01mreturn\u001B[39;00m meth(skipna\u001B[38;5;241m=\u001B[39mskipna, \u001B[38;5;241m*\u001B[39m\u001B[38;5;241m*\u001B[39mkwargs)\n",
      "\u001B[1;31mTypeError\u001B[0m: 'Categorical' with dtype category does not support reduction 'mean'"
     ]
    }
   ]
  },
  {
   "cell_type": "code",
   "execution_count": 44,
   "outputs": [
    {
     "data": {
      "text/plain": "6.130994152046783"
     },
     "execution_count": 44,
     "metadata": {},
     "output_type": "execute_result"
    }
   ],
   "source": [
    "abs_freq = laptops.RAM.value_counts()\n",
    "pd.Series(np.repeat(abs_freq.index, abs_freq)).mean()"
   ],
   "metadata": {
    "collapsed": false
   }
  },
  {
   "cell_type": "markdown",
   "metadata": {
    "collapsed": false,
    "id": "Z6BORu0q2cfs"
   },
   "source": [
    "## De mediaan berekenen bij gegeven frequenties"
   ]
  },
  {
   "cell_type": "code",
   "metadata": {
    "colab": {
     "base_uri": "https://localhost:8080/"
    },
    "id": "o1Wqck8j2cfs",
    "executionInfo": {
     "status": "ok",
     "timestamp": 1615824144734,
     "user_tz": -60,
     "elapsed": 389,
     "user": {
      "displayName": "Roeland De Meester",
      "photoUrl": "https://lh3.googleusercontent.com/a-/AOh14GgHFLlRcHRUHl0ul5JvDMiUd09ps_mERs2jpo2D=s64",
      "userId": "00580425314421673417"
     }
    },
    "outputId": "d9c194fd-3e6a-4daf-b55b-0ee8e7a61c35"
   },
   "source": [
    "from IPython.core.display import Markdown\n",
    "\n",
    "# value_counts(normalize=True) geeft relatieve frequentie per category\n",
    "rel_freq = laptops.cpuGeneration.value_counts(normalize=True).sort_index()\n",
    "rel_freq.to_frame()\n",
    "\n",
    "# omzetten naar cumulatieve frequenties per category\n",
    "cum_freq = rel_freq.cumsum() * 100\n",
    "cum_freq.to_frame()\n",
    "\n",
    "Markdown('### Enkel cumulatieve freq > 50')\n",
    "cum_freq[cum_freq > 50].to_frame()\n",
    "\n",
    "Markdown('### Median is eerste die cum freq > 50 heeft')\n",
    "cum_freq[cum_freq > 50].index[0]\n",
    "cum_freq[cum_freq > 50][0]"
   ],
   "execution_count": 51,
   "outputs": [
    {
     "data": {
      "text/plain": "              cpuGeneration\nSandy Bridge       0.073944\nIvy Bridge         0.125587\nHaswell            0.194836\nBroadwell          0.255869\nSkylake            0.181925\nKabylake           0.167840",
      "text/html": "<div>\n<style scoped>\n    .dataframe tbody tr th:only-of-type {\n        vertical-align: middle;\n    }\n\n    .dataframe tbody tr th {\n        vertical-align: top;\n    }\n\n    .dataframe thead th {\n        text-align: right;\n    }\n</style>\n<table border=\"1\" class=\"dataframe\">\n  <thead>\n    <tr style=\"text-align: right;\">\n      <th></th>\n      <th>cpuGeneration</th>\n    </tr>\n  </thead>\n  <tbody>\n    <tr>\n      <th>Sandy Bridge</th>\n      <td>0.073944</td>\n    </tr>\n    <tr>\n      <th>Ivy Bridge</th>\n      <td>0.125587</td>\n    </tr>\n    <tr>\n      <th>Haswell</th>\n      <td>0.194836</td>\n    </tr>\n    <tr>\n      <th>Broadwell</th>\n      <td>0.255869</td>\n    </tr>\n    <tr>\n      <th>Skylake</th>\n      <td>0.181925</td>\n    </tr>\n    <tr>\n      <th>Kabylake</th>\n      <td>0.167840</td>\n    </tr>\n  </tbody>\n</table>\n</div>"
     },
     "execution_count": 51,
     "metadata": {},
     "output_type": "execute_result"
    },
    {
     "data": {
      "text/plain": "              cpuGeneration\nSandy Bridge       7.394366\nIvy Bridge        19.953052\nHaswell           39.436620\nBroadwell         65.023474\nSkylake           83.215962\nKabylake         100.000000",
      "text/html": "<div>\n<style scoped>\n    .dataframe tbody tr th:only-of-type {\n        vertical-align: middle;\n    }\n\n    .dataframe tbody tr th {\n        vertical-align: top;\n    }\n\n    .dataframe thead th {\n        text-align: right;\n    }\n</style>\n<table border=\"1\" class=\"dataframe\">\n  <thead>\n    <tr style=\"text-align: right;\">\n      <th></th>\n      <th>cpuGeneration</th>\n    </tr>\n  </thead>\n  <tbody>\n    <tr>\n      <th>Sandy Bridge</th>\n      <td>7.394366</td>\n    </tr>\n    <tr>\n      <th>Ivy Bridge</th>\n      <td>19.953052</td>\n    </tr>\n    <tr>\n      <th>Haswell</th>\n      <td>39.436620</td>\n    </tr>\n    <tr>\n      <th>Broadwell</th>\n      <td>65.023474</td>\n    </tr>\n    <tr>\n      <th>Skylake</th>\n      <td>83.215962</td>\n    </tr>\n    <tr>\n      <th>Kabylake</th>\n      <td>100.000000</td>\n    </tr>\n  </tbody>\n</table>\n</div>"
     },
     "execution_count": 51,
     "metadata": {},
     "output_type": "execute_result"
    },
    {
     "data": {
      "text/plain": "<IPython.core.display.Markdown object>",
      "text/markdown": "### Enkel cumulatieve freq > 50"
     },
     "execution_count": 51,
     "metadata": {},
     "output_type": "execute_result"
    },
    {
     "data": {
      "text/plain": "           cpuGeneration\nBroadwell      65.023474\nSkylake        83.215962\nKabylake      100.000000",
      "text/html": "<div>\n<style scoped>\n    .dataframe tbody tr th:only-of-type {\n        vertical-align: middle;\n    }\n\n    .dataframe tbody tr th {\n        vertical-align: top;\n    }\n\n    .dataframe thead th {\n        text-align: right;\n    }\n</style>\n<table border=\"1\" class=\"dataframe\">\n  <thead>\n    <tr style=\"text-align: right;\">\n      <th></th>\n      <th>cpuGeneration</th>\n    </tr>\n  </thead>\n  <tbody>\n    <tr>\n      <th>Broadwell</th>\n      <td>65.023474</td>\n    </tr>\n    <tr>\n      <th>Skylake</th>\n      <td>83.215962</td>\n    </tr>\n    <tr>\n      <th>Kabylake</th>\n      <td>100.000000</td>\n    </tr>\n  </tbody>\n</table>\n</div>"
     },
     "execution_count": 51,
     "metadata": {},
     "output_type": "execute_result"
    },
    {
     "data": {
      "text/plain": "<IPython.core.display.Markdown object>",
      "text/markdown": "### Median is eerste die cum freq > 50 heeft"
     },
     "execution_count": 51,
     "metadata": {},
     "output_type": "execute_result"
    },
    {
     "data": {
      "text/plain": "'Broadwell'"
     },
     "execution_count": 51,
     "metadata": {},
     "output_type": "execute_result"
    },
    {
     "data": {
      "text/plain": "65.02347417840375"
     },
     "execution_count": 51,
     "metadata": {},
     "output_type": "execute_result"
    }
   ]
  },
  {
   "cell_type": "markdown",
   "metadata": {
    "collapsed": false,
    "id": "xx7JNOeG2cft"
   },
   "source": [
    "## Het gewogen gemiddelde berekenen"
   ]
  },
  {
   "cell_type": "code",
   "metadata": {
    "colab": {
     "base_uri": "https://localhost:8080/"
    },
    "id": "lEJ601mk2cft",
    "executionInfo": {
     "status": "ok",
     "timestamp": 1615824431612,
     "user_tz": -60,
     "elapsed": 425,
     "user": {
      "displayName": "Roeland De Meester",
      "photoUrl": "https://lh3.googleusercontent.com/a-/AOh14GgHFLlRcHRUHl0ul5JvDMiUd09ps_mERs2jpo2D=s64",
      "userId": "00580425314421673417"
     }
    },
    "outputId": "1c68f1c8-dabd-44f3-be36-880a6fe0f1ac"
   },
   "source": [
    "studiepunten = pd.Series([6, 11, 5, 3, 3, 7, 4, 7, 7, 3, 4])\n",
    "scores = pd.Series([18, 15, 12, 10, 18, 13, 17, 15, 13, 12, 12])\n",
    "gewogen = sum(studiepunten * scores) / sum(studiepunten)\n",
    "gewogen"
   ],
   "execution_count": 52,
   "outputs": [
    {
     "data": {
      "text/plain": "14.266666666666667"
     },
     "execution_count": 52,
     "metadata": {},
     "output_type": "execute_result"
    }
   ]
  },
  {
   "cell_type": "code",
   "execution_count": 10,
   "outputs": [
    {
     "data": {
      "text/plain": "14.266666666666667"
     },
     "execution_count": 10,
     "metadata": {},
     "output_type": "execute_result"
    }
   ],
   "source": [
    "f = studiepunten / sum(studiepunten)\n",
    "\n",
    "sum(f * scores)"
   ],
   "metadata": {
    "collapsed": false
   }
  },
  {
   "cell_type": "markdown",
   "source": [
    "Kan ook met de numpy functie `average`. Deze functie heeft een parameter `weights` waar je de gewichten kan meegeven."
   ],
   "metadata": {
    "collapsed": false
   }
  },
  {
   "cell_type": "code",
   "execution_count": 11,
   "outputs": [
    {
     "data": {
      "text/plain": "14.266666666666667"
     },
     "execution_count": 11,
     "metadata": {},
     "output_type": "execute_result"
    }
   ],
   "source": [
    "np.average(scores, weights=studiepunten)"
   ],
   "metadata": {
    "collapsed": false
   }
  },
  {
   "cell_type": "markdown",
   "metadata": {
    "collapsed": false,
    "id": "14Ay1HZS2cft"
   },
   "source": [
    "## Het meetkundig gemiddelde berekenen\n"
   ]
  },
  {
   "cell_type": "code",
   "metadata": {
    "colab": {
     "base_uri": "https://localhost:8080/"
    },
    "id": "WHGxlqBH2cfu",
    "executionInfo": {
     "status": "ok",
     "timestamp": 1615308493097,
     "user_tz": -60,
     "elapsed": 500,
     "user": {
      "displayName": "Roeland De Meester",
      "photoUrl": "https://lh3.googleusercontent.com/a-/AOh14GgHFLlRcHRUHl0ul5JvDMiUd09ps_mERs2jpo2D=s64",
      "userId": "00580425314421673417"
     }
    },
    "outputId": "448e4adb-42c4-47c2-ded0-06a258ee38cb"
   },
   "source": [
    "from scipy.stats import gmean\n",
    "\n",
    "koers = pd.Series([5, 3, -2])\n",
    "koers = koers / 100 + 1\n",
    "Markdown('Berekende meetkundig gemiddelde voor koers')\n",
    "(np.exp(np.mean(np.log(koers))) - 1) * 100\n",
    "\n",
    "Markdown('Gebruik \\' gmean \\'  als meetkundig gemiddelde voor koers')\n",
    "(gmean(koers) - 1) * 100\n",
    "# ter info : GMean staat voor 'Geometric Mean'\n",
    "\n",
    "# alternatieve berekeningswijze\n",
    "Markdown('Nog een alternatieve berekeningswijze')\n",
    "(np.prod(koers) ** (1 / len(koers)) - 1) * 100"
   ],
   "execution_count": 55,
   "outputs": [
    {
     "data": {
      "text/plain": "<IPython.core.display.Markdown object>",
      "text/markdown": "Berekende meetkundig gemiddelde voor koers"
     },
     "execution_count": 55,
     "metadata": {},
     "output_type": "execute_result"
    },
    {
     "data": {
      "text/plain": "1.9571138432914026"
     },
     "execution_count": 55,
     "metadata": {},
     "output_type": "execute_result"
    },
    {
     "data": {
      "text/plain": "<IPython.core.display.Markdown object>",
      "text/markdown": "Gebruik ' gmean '  als meetkundig gemiddelde voor koers"
     },
     "execution_count": 55,
     "metadata": {},
     "output_type": "execute_result"
    },
    {
     "data": {
      "text/plain": "1.9571138432914026"
     },
     "execution_count": 55,
     "metadata": {},
     "output_type": "execute_result"
    },
    {
     "data": {
      "text/plain": "<IPython.core.display.Markdown object>",
      "text/markdown": "Nog een alternatieve berekeningswijze"
     },
     "execution_count": 55,
     "metadata": {},
     "output_type": "execute_result"
    },
    {
     "data": {
      "text/plain": "1.9571138432914026"
     },
     "execution_count": 55,
     "metadata": {},
     "output_type": "execute_result"
    }
   ]
  },
  {
   "cell_type": "markdown",
   "metadata": {
    "collapsed": false,
    "id": "pLQ4vTza2cfu"
   },
   "source": [
    "## Het harmonisch gemiddelde berekenen"
   ]
  },
  {
   "cell_type": "code",
   "metadata": {
    "colab": {
     "base_uri": "https://localhost:8080/"
    },
    "id": "R8ShJZB92cfu",
    "executionInfo": {
     "status": "ok",
     "timestamp": 1615308499739,
     "user_tz": -60,
     "elapsed": 409,
     "user": {
      "displayName": "Roeland De Meester",
      "photoUrl": "https://lh3.googleusercontent.com/a-/AOh14GgHFLlRcHRUHl0ul5JvDMiUd09ps_mERs2jpo2D=s64",
      "userId": "00580425314421673417"
     }
    },
    "outputId": "d6558e8c-6434-4a18-97b4-47bd893f5387"
   },
   "source": [
    "snelheid = pd.Series([120, 100])\n",
    "Markdown('Berekende harmonisch gemiddelde voor snelheid')\n",
    "1 / np.mean(1 / snelheid)\n",
    "from scipy import stats\n",
    "\n",
    "Markdown('Gebruik \\'hmean\\'  als harmonisch gemiddelde voor snelheid')\n",
    "stats.hmean(snelheid)\n",
    "# ter info : HMean staat voor 'Harmonic Mean'"
   ],
   "execution_count": 56,
   "outputs": [
    {
     "data": {
      "text/plain": "<IPython.core.display.Markdown object>",
      "text/markdown": "Berekende harmonisch gemiddelde voor snelheid"
     },
     "execution_count": 56,
     "metadata": {},
     "output_type": "execute_result"
    },
    {
     "data": {
      "text/plain": "109.0909090909091"
     },
     "execution_count": 56,
     "metadata": {},
     "output_type": "execute_result"
    },
    {
     "data": {
      "text/plain": "<IPython.core.display.Markdown object>",
      "text/markdown": "Gebruik 'hmean'  als harmonisch gemiddelde voor snelheid"
     },
     "execution_count": 56,
     "metadata": {},
     "output_type": "execute_result"
    },
    {
     "data": {
      "text/plain": "109.0909090909091"
     },
     "execution_count": 56,
     "metadata": {},
     "output_type": "execute_result"
    }
   ]
  },
  {
   "cell_type": "markdown",
   "metadata": {
    "collapsed": false,
    "id": "Uo10fCF-2cfu"
   },
   "source": [
    "# Spreidingsmaten\n",
    "\n",
    "## Kwantielen berekenen"
   ]
  },
  {
   "cell_type": "code",
   "metadata": {
    "colab": {
     "base_uri": "https://localhost:8080/"
    },
    "id": "Mtt_DHSi2cfv",
    "executionInfo": {
     "status": "ok",
     "timestamp": 1615308521191,
     "user_tz": -60,
     "elapsed": 527,
     "user": {
      "displayName": "Roeland De Meester",
      "photoUrl": "https://lh3.googleusercontent.com/a-/AOh14GgHFLlRcHRUHl0ul5JvDMiUd09ps_mERs2jpo2D=s64",
      "userId": "00580425314421673417"
     }
    },
    "outputId": "1366fdfd-2719-41d9-b1f3-d86b151a6285"
   },
   "source": [
    "# We zijn alleen geïnteresseerd in HD's kleiner dan 100 GB\n",
    "laptops_small = laptops[laptops.diskspace < 100]\n",
    "\n",
    "# Gebruik voor kwartielen, decielen en percentielen de functie quantile\n",
    "Markdown('Bereken kwantiel voor laptops diskspaces')\n",
    "laptops_small.diskspace.quantile(q=[0.25, 0.5, 0.75])\n",
    "\n",
    "# Gebruik voor de interkwartielafstand de functie IQR:\n",
    "Markdown('Bereken interkwartielafstand voor laptops')\n",
    "stats.iqr(laptops_small.diskspace.dropna())"
   ],
   "execution_count": 59,
   "outputs": [
    {
     "data": {
      "text/plain": "<IPython.core.display.Markdown object>",
      "text/markdown": "Bereken kwantiel voor laptops diskspaces"
     },
     "execution_count": 59,
     "metadata": {},
     "output_type": "execute_result"
    },
    {
     "data": {
      "text/plain": "0.25    90.4\n0.50    93.8\n0.75    96.5\nName: diskspace, dtype: float64"
     },
     "execution_count": 59,
     "metadata": {},
     "output_type": "execute_result"
    },
    {
     "data": {
      "text/plain": "<IPython.core.display.Markdown object>",
      "text/markdown": "Bereken interkwartielafstand voor laptops"
     },
     "execution_count": 59,
     "metadata": {},
     "output_type": "execute_result"
    },
    {
     "data": {
      "text/plain": "6.099999999999994"
     },
     "execution_count": 59,
     "metadata": {},
     "output_type": "execute_result"
    }
   ]
  },
  {
   "cell_type": "code",
   "execution_count": 31,
   "outputs": [
    {
     "data": {
      "text/plain": "     cpuGeneration cpuType   RAM  diskspace    brand\n0.25       Haswell      i5   4.0     227.80     Asus\n0.50     Broadwell      i5   4.0     249.80       HP\n0.75       Skylake      i5   8.0     489.85   Lenovo\n1.00      Kabylake      i7  16.0    1023.80  Toshiba",
      "text/html": "<div>\n<style scoped>\n    .dataframe tbody tr th:only-of-type {\n        vertical-align: middle;\n    }\n\n    .dataframe tbody tr th {\n        vertical-align: top;\n    }\n\n    .dataframe thead th {\n        text-align: right;\n    }\n</style>\n<table border=\"1\" class=\"dataframe\">\n  <thead>\n    <tr style=\"text-align: right;\">\n      <th></th>\n      <th>cpuGeneration</th>\n      <th>cpuType</th>\n      <th>RAM</th>\n      <th>diskspace</th>\n      <th>brand</th>\n    </tr>\n  </thead>\n  <tbody>\n    <tr>\n      <th>0.25</th>\n      <td>Haswell</td>\n      <td>i5</td>\n      <td>4.0</td>\n      <td>227.80</td>\n      <td>Asus</td>\n    </tr>\n    <tr>\n      <th>0.50</th>\n      <td>Broadwell</td>\n      <td>i5</td>\n      <td>4.0</td>\n      <td>249.80</td>\n      <td>HP</td>\n    </tr>\n    <tr>\n      <th>0.75</th>\n      <td>Skylake</td>\n      <td>i5</td>\n      <td>8.0</td>\n      <td>489.85</td>\n      <td>Lenovo</td>\n    </tr>\n    <tr>\n      <th>1.00</th>\n      <td>Kabylake</td>\n      <td>i7</td>\n      <td>16.0</td>\n      <td>1023.80</td>\n      <td>Toshiba</td>\n    </tr>\n  </tbody>\n</table>\n</div>"
     },
     "execution_count": 31,
     "metadata": {},
     "output_type": "execute_result"
    }
   ],
   "source": [
    "laptops.quantile(q=np.repeat(1 / 4, 4).cumsum(), numeric_only=False)"
   ],
   "metadata": {
    "collapsed": false
   }
  },
  {
   "cell_type": "markdown",
   "metadata": {
    "collapsed": false,
    "id": "1nifNP-w2cfv"
   },
   "source": [
    "## Boxplot\n",
    "Aangezien de dataset van de harde schijven bevat rond 4 soorten HD's.\n",
    "(1T, 500Mb, 250Mb en 100Mb) dat zie je goed in de scatterplot hieronder."
   ]
  },
  {
   "cell_type": "code",
   "metadata": {
    "colab": {
     "base_uri": "https://localhost:8080/",
     "height": 1000
    },
    "id": "ZvAX4b9W2cfw",
    "executionInfo": {
     "status": "ok",
     "timestamp": 1615826204991,
     "user_tz": -60,
     "elapsed": 1016,
     "user": {
      "displayName": "Roeland De Meester",
      "photoUrl": "https://lh3.googleusercontent.com/a-/AOh14GgHFLlRcHRUHl0ul5JvDMiUd09ps_mERs2jpo2D=s64",
      "userId": "00580425314421673417"
     }
    },
    "outputId": "01098ce3-bef1-45d7-9068-adeeafe1e7b5"
   },
   "source": [
    "fig, ax = plt.subplots()\n",
    "_ = plt.scatter(x=laptops.index, y=laptops.diskspace, facecolors='none', edgecolors='b')"
   ],
   "execution_count": 81,
   "outputs": [
    {
     "data": {
      "text/plain": "<Figure size 640x480 with 1 Axes>",
      "image/png": "[encoded data removed]"
     },
     "metadata": {},
     "output_type": "display_data"
    }
   ]
  },
  {
   "cell_type": "markdown",
   "source": [
    "We gaan dus alleen kijken naar HD's die kleiner zijn dan 100 GB zodat we slechts 1 median, 1 mean en 1 modus hebben om ons zorgen over te maken.\n",
    "\n",
    "Om de demonstratie wat relevanter te maken worden er ook eerst enkele uitschieters toegevoegd."
   ],
   "metadata": {
    "collapsed": false
   }
  },
  {
   "cell_type": "code",
   "execution_count": 84,
   "outputs": [],
   "source": [
    "laptops_small = laptops[laptops.diskspace < 100]\n",
    "# We voegen zelf een paar outliers toe\n",
    "laptops_small.at[8, 'diskspace'] = 110\n",
    "laptops_small.at[22, 'diskspace'] = 135\n",
    "laptops_small.at[124, 'diskspace'] = 30\n",
    "laptops_small.at[447, 'diskspace'] = 75"
   ],
   "metadata": {
    "collapsed": false
   }
  },
  {
   "cell_type": "markdown",
   "source": [
    "## Boxplot"
   ],
   "metadata": {
    "collapsed": false
   }
  },
  {
   "cell_type": "code",
   "execution_count": 89,
   "outputs": [
    {
     "data": {
      "text/plain": "    cpuGeneration cpuType   RAM  diskspace    brand\n8         Skylake      i5   8.0      110.0   Medion\n22       Kabylake      i5   4.0      135.0  Toshiba\n26        Haswell      i5   4.0       96.1       HP\n60      Broadwell      i5  16.0       88.9       HP\n73      Broadwell      i5   4.0       95.5     Dell\n120       Haswell      i7   4.0       98.3  Toshiba\n121       Haswell      i7   4.0       90.4     Acer\n124     Broadwell      i3   2.0       30.0    Apple\n142       Haswell      i5   1.0       94.5     Acer\n205       Haswell      i3   4.0       93.9       HP\n212       Haswell      i5   2.0       96.5       HP\n227    Ivy Bridge      i5   4.0       95.6   Lenovo\n231    Ivy Bridge      i5   2.0       88.3     Dell\n244      Kabylake      i5   1.0       99.1   Lenovo\n304     Broadwell      i5   4.0       89.0     Dell\n364       Haswell      i5   2.0       90.7    Apple\n391      Kabylake      i5   2.0       89.1     Dell\n396     Broadwell      i5   4.0       90.7     Acer\n443     Broadwell      i5   1.0       93.8  Toshiba\n447      Kabylake      i5   8.0       75.0     Dell\n468    Ivy Bridge      i7  16.0       95.2    Apple\n502     Broadwell      i5   4.0       92.3  Toshiba\n527       Haswell      i5   1.0       99.0    Apple\n532       Haswell      i5   2.0       89.8     Asus\n562  Sandy Bridge      i5   2.0       90.9  Toshiba\n592      Kabylake      i5   2.0       89.1     Acer\n632      Kabylake      i3   8.0       97.9     Dell\n735     Broadwell      i3   4.0       90.2  Toshiba\n816  Sandy Bridge      i3   2.0       92.4   Lenovo",
      "text/html": "<div>\n<style scoped>\n    .dataframe tbody tr th:only-of-type {\n        vertical-align: middle;\n    }\n\n    .dataframe tbody tr th {\n        vertical-align: top;\n    }\n\n    .dataframe thead th {\n        text-align: right;\n    }\n</style>\n<table border=\"1\" class=\"dataframe\">\n  <thead>\n    <tr style=\"text-align: right;\">\n      <th></th>\n      <th>cpuGeneration</th>\n      <th>cpuType</th>\n      <th>RAM</th>\n      <th>diskspace</th>\n      <th>brand</th>\n    </tr>\n  </thead>\n  <tbody>\n    <tr>\n      <th>8</th>\n      <td>Skylake</td>\n      <td>i5</td>\n      <td>8.0</td>\n      <td>110.0</td>\n      <td>Medion</td>\n    </tr>\n    <tr>\n      <th>22</th>\n      <td>Kabylake</td>\n      <td>i5</td>\n      <td>4.0</td>\n      <td>135.0</td>\n      <td>Toshiba</td>\n    </tr>\n    <tr>\n      <th>26</th>\n      <td>Haswell</td>\n      <td>i5</td>\n      <td>4.0</td>\n      <td>96.1</td>\n      <td>HP</td>\n    </tr>\n    <tr>\n      <th>60</th>\n      <td>Broadwell</td>\n      <td>i5</td>\n      <td>16.0</td>\n      <td>88.9</td>\n      <td>HP</td>\n    </tr>\n    <tr>\n      <th>73</th>\n      <td>Broadwell</td>\n      <td>i5</td>\n      <td>4.0</td>\n      <td>95.5</td>\n      <td>Dell</td>\n    </tr>\n    <tr>\n      <th>120</th>\n      <td>Haswell</td>\n      <td>i7</td>\n      <td>4.0</td>\n      <td>98.3</td>\n      <td>Toshiba</td>\n    </tr>\n    <tr>\n      <th>121</th>\n      <td>Haswell</td>\n      <td>i7</td>\n      <td>4.0</td>\n      <td>90.4</td>\n      <td>Acer</td>\n    </tr>\n    <tr>\n      <th>124</th>\n      <td>Broadwell</td>\n      <td>i3</td>\n      <td>2.0</td>\n      <td>30.0</td>\n      <td>Apple</td>\n    </tr>\n    <tr>\n      <th>142</th>\n      <td>Haswell</td>\n      <td>i5</td>\n      <td>1.0</td>\n      <td>94.5</td>\n      <td>Acer</td>\n    </tr>\n    <tr>\n      <th>205</th>\n      <td>Haswell</td>\n      <td>i3</td>\n      <td>4.0</td>\n      <td>93.9</td>\n      <td>HP</td>\n    </tr>\n    <tr>\n      <th>212</th>\n      <td>Haswell</td>\n      <td>i5</td>\n      <td>2.0</td>\n      <td>96.5</td>\n      <td>HP</td>\n    </tr>\n    <tr>\n      <th>227</th>\n      <td>Ivy Bridge</td>\n      <td>i5</td>\n      <td>4.0</td>\n      <td>95.6</td>\n      <td>Lenovo</td>\n    </tr>\n    <tr>\n      <th>231</th>\n      <td>Ivy Bridge</td>\n      <td>i5</td>\n      <td>2.0</td>\n      <td>88.3</td>\n      <td>Dell</td>\n    </tr>\n    <tr>\n      <th>244</th>\n      <td>Kabylake</td>\n      <td>i5</td>\n      <td>1.0</td>\n      <td>99.1</td>\n      <td>Lenovo</td>\n    </tr>\n    <tr>\n      <th>304</th>\n      <td>Broadwell</td>\n      <td>i5</td>\n      <td>4.0</td>\n      <td>89.0</td>\n      <td>Dell</td>\n    </tr>\n    <tr>\n      <th>364</th>\n      <td>Haswell</td>\n      <td>i5</td>\n      <td>2.0</td>\n      <td>90.7</td>\n      <td>Apple</td>\n    </tr>\n    <tr>\n      <th>391</th>\n      <td>Kabylake</td>\n      <td>i5</td>\n      <td>2.0</td>\n      <td>89.1</td>\n      <td>Dell</td>\n    </tr>\n    <tr>\n      <th>396</th>\n      <td>Broadwell</td>\n      <td>i5</td>\n      <td>4.0</td>\n      <td>90.7</td>\n      <td>Acer</td>\n    </tr>\n    <tr>\n      <th>443</th>\n      <td>Broadwell</td>\n      <td>i5</td>\n      <td>1.0</td>\n      <td>93.8</td>\n      <td>Toshiba</td>\n    </tr>\n    <tr>\n      <th>447</th>\n      <td>Kabylake</td>\n      <td>i5</td>\n      <td>8.0</td>\n      <td>75.0</td>\n      <td>Dell</td>\n    </tr>\n    <tr>\n      <th>468</th>\n      <td>Ivy Bridge</td>\n      <td>i7</td>\n      <td>16.0</td>\n      <td>95.2</td>\n      <td>Apple</td>\n    </tr>\n    <tr>\n      <th>502</th>\n      <td>Broadwell</td>\n      <td>i5</td>\n      <td>4.0</td>\n      <td>92.3</td>\n      <td>Toshiba</td>\n    </tr>\n    <tr>\n      <th>527</th>\n      <td>Haswell</td>\n      <td>i5</td>\n      <td>1.0</td>\n      <td>99.0</td>\n      <td>Apple</td>\n    </tr>\n    <tr>\n      <th>532</th>\n      <td>Haswell</td>\n      <td>i5</td>\n      <td>2.0</td>\n      <td>89.8</td>\n      <td>Asus</td>\n    </tr>\n    <tr>\n      <th>562</th>\n      <td>Sandy Bridge</td>\n      <td>i5</td>\n      <td>2.0</td>\n      <td>90.9</td>\n      <td>Toshiba</td>\n    </tr>\n    <tr>\n      <th>592</th>\n      <td>Kabylake</td>\n      <td>i5</td>\n      <td>2.0</td>\n      <td>89.1</td>\n      <td>Acer</td>\n    </tr>\n    <tr>\n      <th>632</th>\n      <td>Kabylake</td>\n      <td>i3</td>\n      <td>8.0</td>\n      <td>97.9</td>\n      <td>Dell</td>\n    </tr>\n    <tr>\n      <th>735</th>\n      <td>Broadwell</td>\n      <td>i3</td>\n      <td>4.0</td>\n      <td>90.2</td>\n      <td>Toshiba</td>\n    </tr>\n    <tr>\n      <th>816</th>\n      <td>Sandy Bridge</td>\n      <td>i3</td>\n      <td>2.0</td>\n      <td>92.4</td>\n      <td>Lenovo</td>\n    </tr>\n  </tbody>\n</table>\n</div>"
     },
     "execution_count": 89,
     "metadata": {},
     "output_type": "execute_result"
    },
    {
     "data": {
      "text/plain": "<Figure size 640x480 with 1 Axes>",
      "image/png": "[encoded data removed]"
     },
     "metadata": {},
     "output_type": "display_data"
    }
   ],
   "source": [
    "fig, ax = plt.subplots()\n",
    "laptops_small\n",
    "_ = laptops_small.boxplot(ax=ax, column=['diskspace'])\n",
    "_ = ax.set_title('Schrijfruimte in laptops')\n",
    "_ = ax.set_ylabel('Schrijfruimte (GB)')"
   ],
   "metadata": {
    "collapsed": false
   }
  },
  {
   "cell_type": "markdown",
   "source": [
    "Je kan ook meerdere kolommen plotten.\n",
    "\n",
    "<font color='red'>*Volgende grafiek is informatief.*</font>"
   ],
   "metadata": {
    "collapsed": false
   }
  },
  {
   "cell_type": "code",
   "execution_count": 91,
   "outputs": [
    {
     "data": {
      "text/plain": "<Figure size 1000x700 with 1 Axes>",
      "image/png": "[encoded data removed]"
     },
     "metadata": {},
     "output_type": "display_data"
    }
   ],
   "source": [
    "fig, ax = plt.subplots(figsize=(10, 7))\n",
    "_ = laptops_small.boxplot(ax=ax, by='RAM', column=['diskspace'])\n",
    "_ = ax.set_title('Schrijfruimte in laptops per RAM')\n",
    "_ = ax.set_ylabel('Schrijfruimte (GB)')\n",
    "_ = fig.suptitle('')"
   ],
   "metadata": {
    "collapsed": false
   }
  },
  {
   "cell_type": "markdown",
   "metadata": {
    "collapsed": false,
    "id": "-npqwsOa2cfw"
   },
   "source": [
    "## IQR gebruiken om outliers te vinden"
   ]
  },
  {
   "cell_type": "code",
   "metadata": {
    "id": "gsMkpv2a2cfw",
    "colab": {
     "base_uri": "https://localhost:8080/"
    },
    "executionInfo": {
     "status": "ok",
     "timestamp": 1615309439810,
     "user_tz": -60,
     "elapsed": 555,
     "user": {
      "displayName": "Roeland De Meester",
      "photoUrl": "https://lh3.googleusercontent.com/a-/AOh14GgHFLlRcHRUHl0ul5JvDMiUd09ps_mERs2jpo2D=s64",
      "userId": "00580425314421673417"
     }
    },
    "outputId": "aa1a3ae0-4a16-4df2-b1eb-3a8389b57b0a"
   },
   "source": [
    "Q1 = laptops_small.diskspace.quantile(0.25)\n",
    "Q3 = laptops_small.diskspace.quantile(0.75)\n",
    "IQR = Q3 - Q1\n",
    "print('IQR : ', IQR)\n",
    "\n",
    "# We gebruiken hier ~  als NOT operator.\n",
    "# m.a.w.. de outliers zijn alle gegevens die NIET tussen de 2 extreme waarden liggen\n",
    "\n",
    "outliers = laptops_small.diskspace[~laptops_small.diskspace.between(Q1 - 1.5 * IQR, Q3 + 1.5 * IQR)]\n",
    "extreme_outliers = laptops_small.diskspace[~laptops_small.diskspace.between(Q1 - 3 * IQR, Q3 + 3 * IQR)]\n",
    "\n",
    "print('\\noutliers:')\n",
    "print(outliers)\n",
    "print('\\nextreme outliers:')\n",
    "print(extreme_outliers)"
   ],
   "execution_count": 20,
   "outputs": [
    {
     "name": "stdout",
     "output_type": "stream",
     "text": [
      "IQR :  6.299999999999997\n",
      "\n",
      "outliers:\n",
      "8      110.0\n",
      "22     135.0\n",
      "124     30.0\n",
      "447     75.0\n",
      "Name: diskspace, dtype: float64\n",
      "\n",
      "extreme outliers:\n",
      "22     135.0\n",
      "124     30.0\n",
      "Name: diskspace, dtype: float64\n"
     ]
    }
   ]
  },
  {
   "cell_type": "code",
   "execution_count": 110,
   "outputs": [
    {
     "data": {
      "text/plain": "1003.3174999999999"
     },
     "execution_count": 110,
     "metadata": {},
     "output_type": "execute_result"
    }
   ],
   "source": [
    "IQR = (Q3 := laptops.diskspace.quantile(0.75)) - (Q1 := laptops.diskspace.quantile(0.25))\n",
    "outliers = ~laptops.diskspace.between(Q1 - 1.5 * IQR, Q3 + 1.5 * IQR)\n",
    "laptops[outliers]"
   ],
   "metadata": {
    "collapsed": false
   }
  },
  {
   "cell_type": "markdown",
   "metadata": {
    "id": "pfxeg1eO6YGw"
   },
   "source": [
    "## Extra : Plot Afwijkingen\n",
    "<font color='red'>*Volgende grafiek is louter informatief.*</font>"
   ]
  },
  {
   "cell_type": "code",
   "metadata": {
    "colab": {
     "base_uri": "https://localhost:8080/",
     "height": 350
    },
    "id": "fAU7plzJ7mUB",
    "executionInfo": {
     "status": "ok",
     "timestamp": 1615309445053,
     "user_tz": -60,
     "elapsed": 723,
     "user": {
      "displayName": "Roeland De Meester",
      "photoUrl": "https://lh3.googleusercontent.com/a-/AOh14GgHFLlRcHRUHl0ul5JvDMiUd09ps_mERs2jpo2D=s64",
      "userId": "00580425314421673417"
     }
    },
    "outputId": "7e7483dd-fcf7-467d-d560-37f4bfc4c8f5"
   },
   "source": [
    "# Maak van het gemiddelde een Series met de functie repeat\n",
    "means = laptops_small.diskspace.mean().repeat(laptops_small.diskspace.size)\n",
    "\n",
    "# we gaan verticale streepjes maken op de grafiek\n",
    "# de x-waarden zijn 2 keer hetzelfde, de y waarden zijn gemiddelde en diskspace\n",
    "x = (laptops_small.index, laptops_small.index)\n",
    "y = (means, laptops_small.diskspace)\n",
    "# list(zip(*x, *y))\n",
    "\n",
    "fig, ax = plt.subplots(figsize=(10, 5))\n",
    "# de meetpunten (diskspace) plotten we met scatterplot\n",
    "_ = ax.scatter(x=laptops_small.index, y=laptops_small.diskspace, label='diskspace (MB)', color='red', marker='x')\n",
    "\n",
    "# Het gemiddelde plotten we met een horizontale lijn\n",
    "_ = ax.axhline(laptops_small.diskspace.mean(), color='black', linestyle='--', label='mean')\n",
    "\n",
    "# De afwijkingen t.o.v. het gemiddelde plotten we met een verticale lijn\n",
    "_ = ax.plot(x, y, color='red', linestyle='--', linewidth=0.7)\n",
    "_ = ax.set_xlabel('index')\n",
    "_ = ax.set_ylabel('diskspace (MB)')\n",
    "_ = ax.set_title('Afwijking t.o.v. gemiddelde voor laptops met HD < 100GB')\n",
    "_ = ax.legend()"
   ],
   "execution_count": 128,
   "outputs": [
    {
     "data": {
      "text/plain": "<Figure size 1000x500 with 1 Axes>",
      "image/png": "[encoded data removed]"
     },
     "metadata": {},
     "output_type": "display_data"
    }
   ]
  },
  {
   "cell_type": "markdown",
   "metadata": {
    "collapsed": false,
    "id": "wLBSO82n2cfx"
   },
   "source": [
    "## Absoluut Gemiddelde Afwijking"
   ]
  },
  {
   "cell_type": "code",
   "metadata": {
    "colab": {
     "base_uri": "https://localhost:8080/"
    },
    "id": "NRbLE5Ok2cfx",
    "executionInfo": {
     "status": "ok",
     "timestamp": 1615309492099,
     "user_tz": -60,
     "elapsed": 523,
     "user": {
      "displayName": "Roeland De Meester",
      "photoUrl": "https://lh3.googleusercontent.com/a-/AOh14GgHFLlRcHRUHl0ul5JvDMiUd09ps_mERs2jpo2D=s64",
      "userId": "00580425314421673417"
     }
    },
    "outputId": "3f71e571-4a35-4106-c835-9f8568f8aff1"
   },
   "source": [
    "mean = laptops_small.diskspace.mean()\n",
    "mad = laptops_small.diskspace.mad()\n",
    "print('MAD : ', mad)\n",
    "\n",
    "print('\\noutliers:')\n",
    "laptops_small.diskspace[~laptops_small.diskspace.between(mean - mad, mean + mad)]"
   ],
   "execution_count": 112,
   "outputs": [
    {
     "name": "stdout",
     "output_type": "stream",
     "text": [
      "MAD :  7.451129607609989\n",
      "\n",
      "outliers:\n"
     ]
    },
    {
     "name": "stderr",
     "output_type": "stream",
     "text": [
      "C:\\Users\\deketelw\\AppData\\Local\\Temp\\ipykernel_8080\\1215330369.py:2: FutureWarning: The 'mad' method is deprecated and will be removed in a future version. To compute the same result, you may do `(df - df.mean()).abs().mean()`.\n",
      "  mad = laptops_small.diskspace.mad()\n"
     ]
    },
    {
     "data": {
      "text/plain": "8      110.0\n22     135.0\n124     30.0\n447     75.0\nName: diskspace, dtype: float64"
     },
     "execution_count": 112,
     "metadata": {},
     "output_type": "execute_result"
    }
   ]
  },
  {
   "cell_type": "markdown",
   "metadata": {
    "collapsed": false,
    "id": "Jyw78hbC2cfx"
   },
   "source": [
    "## Variantie en Standaardafwijking"
   ]
  },
  {
   "cell_type": "code",
   "metadata": {
    "id": "BucVqota2cfx",
    "colab": {
     "base_uri": "https://localhost:8080/"
    },
    "executionInfo": {
     "status": "ok",
     "timestamp": 1615309509022,
     "user_tz": -60,
     "elapsed": 434,
     "user": {
      "displayName": "Roeland De Meester",
      "photoUrl": "https://lh3.googleusercontent.com/a-/AOh14GgHFLlRcHRUHl0ul5JvDMiUd09ps_mERs2jpo2D=s64",
      "userId": "00580425314421673417"
     }
    },
    "outputId": "69faebd8-e95e-46b5-e1c4-9063f6cc45f6"
   },
   "source": [
    "# We berekenen de variantie met Dataframe.var\n",
    "print('variantie  : ')\n",
    "laptops_small.var()\n",
    "# We berekenen de standaard afwijking met Dataframe.std\n",
    "print('\\nstandaard afwijking  : ')\n",
    "laptops_small.std()\n",
    "# We checken even of de berekening correct is  ie. std = sqrt(var)\n",
    "print('\\n[check]berekende standaard afwijking : ')\n",
    "laptops_small.var().apply(np.sqrt)\n"
   ],
   "execution_count": 1,
   "outputs": [
    {
     "name": "stdout",
     "output_type": "stream",
     "text": [
      "variantie  : \n"
     ]
    },
    {
     "ename": "NameError",
     "evalue": "name 'laptops_small' is not defined",
     "output_type": "error",
     "traceback": [
      "\u001B[1;31m---------------------------------------------------------------------------\u001B[0m",
      "\u001B[1;31mNameError\u001B[0m                                 Traceback (most recent call last)",
      "Cell \u001B[1;32mIn[1], line 3\u001B[0m\n\u001B[0;32m      1\u001B[0m \u001B[38;5;66;03m# We berekenen de variantie met Dataframe.var\u001B[39;00m\n\u001B[0;32m      2\u001B[0m \u001B[38;5;28mprint\u001B[39m(\u001B[38;5;124m'\u001B[39m\u001B[38;5;124mvariantie  : \u001B[39m\u001B[38;5;124m'\u001B[39m)\n\u001B[1;32m----> 3\u001B[0m \u001B[43mlaptops_small\u001B[49m\u001B[38;5;241m.\u001B[39mvar()\n\u001B[0;32m      4\u001B[0m \u001B[38;5;66;03m# We berekenen de standaard afwijking met Dataframe.std\u001B[39;00m\n\u001B[0;32m      5\u001B[0m \u001B[38;5;28mprint\u001B[39m(\u001B[38;5;124m'\u001B[39m\u001B[38;5;130;01m\\n\u001B[39;00m\u001B[38;5;124mstandaard afwijking  : \u001B[39m\u001B[38;5;124m'\u001B[39m)\n",
      "\u001B[1;31mNameError\u001B[0m: name 'laptops_small' is not defined"
     ]
    }
   ]
  },
  {
   "cell_type": "markdown",
   "metadata": {
    "collapsed": false,
    "id": "sOYqJ7SN2cfy"
   },
   "source": [
    "## Extra : variantie steekproef vs. variantie populatie\n",
    "\n",
    "<font color='red'>*Volgende sectie is louter informatief.*</font>\n"
   ]
  },
  {
   "cell_type": "code",
   "metadata": {
    "id": "wefCyJBD2cfy",
    "outputId": "03a082ab-994c-475a-f527-c41748e469d4"
   },
   "source": [
    "#We definieren een kleine dataset met marks\n",
    "info = {\n",
    "    'Name': ['Parker', 'Smith', 'John', 'William'],\n",
    "    'sub1_Marks': [52, 38, 42, 37],\n",
    "    'sub2_Marks': [41, 35, 29, 36]}\n",
    "data = pd.DataFrame(info)\n",
    "\n",
    "#We berekenen zelf de som van kwadraat van verschillen tov. gemiddelde\n",
    "data.sub1_Marks.mean()\n",
    "diffs = data.sub1_Marks - data.sub1_Marks.mean()\n",
    "sq_diffs = diffs.pow(2)\n",
    "sq_sum = sq_diffs.sum()\n",
    "\n",
    "#We berekenen zelf de variantie door te delen door het aantal marks (ie. 4)\n",
    "print('bereken zelf de variantie en std. afwijking ')\n",
    "var = sq_sum / 4\n",
    "print(var)\n",
    "print(np.sqrt(var))\n",
    "\n",
    "print('\\ngebruik nu de python functies var en std')\n",
    "print(data.sub1_Marks.var())\n",
    "print(data.sub1_Marks.std())\n",
    "print(' .. die zijn niet gelijk!')\n",
    "\n",
    "print('\\nWaarom?')\n",
    "print('We mogen niet door N delen maar N-1.')\n",
    "#check de specs : https://pandas.pydata.org/pandas-docs/stable/reference/api/pandas.DataFrame.var.html\n",
    "var = sq_sum / 3\n",
    "print(var)\n",
    "print(np.sqrt(var))\n",
    "print(' .. dan hebben we de correcte afwijking!')"
   ],
   "execution_count": 24,
   "outputs": [
    {
     "name": "stdout",
     "output_type": "stream",
     "text": [
      "bereken zelf de variantie en std. afwijking \n",
      "35.1875\n",
      "5.931905258852336\n",
      "\n",
      "gebruik nu de python functies var en std\n",
      "46.916666666666664\n",
      "6.849574196011505\n",
      " .. die zijn niet gelijk!\n",
      "\n",
      "Waarom?\n",
      "We mogen niet door N delen maar N-1.\n",
      "46.916666666666664\n",
      "6.849574196011505\n",
      " .. dan hebben we de correcte afwijking!\n"
     ]
    }
   ]
  },
  {
   "cell_type": "markdown",
   "metadata": {
    "collapsed": false,
    "id": "sErL2Wld2cfy"
   },
   "source": [
    "## Extra : Z-scores gebruiken\n",
    "\n",
    "\n",
    "<font color='red'>*Volgende sectie is louter informatief.*</font>"
   ]
  },
  {
   "cell_type": "code",
   "metadata": {
    "id": "Mnc-Cw5e2cfy",
    "outputId": "20ad7b46-a0d9-4ddb-888d-2dfa437ccdde"
   },
   "source": [
    "from scipy import stats\n",
    "\n",
    "zscores = stats.zscore(laptops_small.diskspace)\n",
    "\n",
    "fig, ax = plt.subplots(figsize=(5, 10))\n",
    "_ = ax.scatter(laptops_small.diskspace.index, zscores)\n",
    "_ = ax.set_xlabel('index')\n",
    "_ = ax.set_ylabel('Z-score')\n",
    "_ = ax.set_title('Standaardscore voor laptops met HD < 100GB')\n",
    "plt.show()\n"
   ],
   "execution_count": 25,
   "outputs": [
    {
     "data": {
      "text/plain": "<Figure size 500x1000 with 1 Axes>",
      "image/png": "[encoded data removed]"
     },
     "metadata": {},
     "output_type": "display_data"
    }
   ]
  }
 ]
}
